{
 "cells": [
  {
   "cell_type": "markdown",
   "id": "91725ada-cdaa-44e9-939e-ee0027aa7061",
   "metadata": {},
   "source": [
    "# PROYECTO FINAL DE MODELOS COMPUTACIONALES II CON PYTHON\n",
    "## Por: Oswaldo Natanael Rojano Castro"
   ]
  },
  {
   "cell_type": "markdown",
   "id": "25670b18-b2bf-4ee0-968f-2c4c1bac5102",
   "metadata": {},
   "source": [
    "### El objetivo del proyecto en general es aplicar nuestros conocimientos adquiridos a lo largo de todo el semestre en base al análisis y procesamiento de diferentes tipos de datos, principalmente para probemas de clasificación llamese supervisada o no supervisada. Dicho lo anterior, en base al dataset que usted (profe Fer, especifico porque no sé si Oswaldo también lo vaya a revisar xd) nos proporcionó realicé lo que considero un buen análisis de dichos datos, primero empecé por un análisis exploratorio y pues lo más destacable es que son imágenes de 4 diferentes tipos de clases y son poco más de 7k, desde ese momento pensé, por mi bien mental y el de mi computadora no usaré CNN dado la enorme demanda que significa para mi pobre equipo de cómputo, entonces ¿qué decidí hacer?, pues bueno, como anteriormente haíamos usado PCA para analisar otro tipo de imágenes con el profe Oswaldo, creí pertinente extraer 11 característcas de las imágenes y hacerles PCA para poder crear un CSV con dichos PC más representativos de cada imagen y usar modelos de clasificación supervisada que me permitieran obtener la mayor Precisión psobile. Dado este preámbulo procederé a demostrar qué hice para lograrlo."
   ]
  },
  {
   "cell_type": "code",
   "execution_count": 9,
   "id": "0b763335-916f-418c-be5f-96d44875c049",
   "metadata": {},
   "outputs": [],
   "source": [
    "import os\n",
    "import cv2\n",
    "import numpy as np\n",
    "import pandas as pd\n",
    "from skimage.feature import graycomatrix, graycoprops\n",
    "from skimage import img_as_ubyte\n",
    "from scipy.stats import entropy, skew, kurtosis\n",
    "from sklearn.model_selection import train_test_split\n",
    "from sklearn.decomposition import PCA\n",
    "\n",
    "import tensorflow as tf\n",
    "from tensorflow import keras\n",
    "from sklearn.preprocessing import LabelEncoder\n",
    "from sklearn.metrics import accuracy_score\n",
    "\n",
    "from sklearn.svm import SVC\n",
    "\n",
    "import xgboost as xgb\n",
    "\n",
    "from sklearn.metrics import accuracy_score, f1_score, recall_score, precision_score, confusion_matrix\n",
    "import matplotlib.pyplot as plt\n",
    "import seaborn as sns\n"
   ]
  },
  {
   "cell_type": "markdown",
   "id": "0aea4497-40d5-41c4-8da7-ad8f4c081e64",
   "metadata": {},
   "source": [
    "### Hacer los CSV de los PCA para usarlos en mis modelos"
   ]
  },
  {
   "cell_type": "code",
   "execution_count": null,
   "id": "47517e8f-76c8-44ba-8e92-b91616184ff8",
   "metadata": {},
   "outputs": [],
   "source": [
    "\n",
    "base_path = r'C:\\Users\\oswal\\OneDrive\\Documentos\\GitHub\\Neurociencias-2025-2\\S06_proyecto\\dataset'\n",
    "\n",
    "data = []\n",
    "\n",
    "# Iterar sobre cada conjunto (Training y Testing)\n",
    "for set_name in ['Training', 'Testing']:\n",
    "    set_path = os.path.join(base_path, set_name)\n",
    "    \n",
    "    for class_name in ['glioma', 'meningioma', 'notumor', 'pituitary']:\n",
    "        class_path = os.path.join(set_path, class_name)\n",
    "        \n",
    "        for filename in os.listdir(class_path):\n",
    "            img_path = os.path.join(class_path, filename)\n",
    "            img = cv2.imread(img_path, cv2.IMREAD_GRAYSCALE)\n",
    "\n",
    "            if img is None:\n",
    "                continue\n",
    "\n",
    "            # Calcular estadísticas básicas\n",
    "            mean_val = np.mean(img)\n",
    "            std_val = np.std(img)\n",
    "            entropy_val = entropy(img.ravel())\n",
    "            skewness_val = skew(img.ravel())\n",
    "            kurtosis_val = kurtosis(img.ravel())\n",
    "            contrast_val = np.max(img) - np.min(img)\n",
    "            \n",
    "        \n",
    "            glcm = graycomatrix(img_as_ubyte(img), distances=[1], angles=[0], symmetric=True, normed=True)\n",
    "            energy_val = graycoprops(glcm, 'energy')[0, 0]\n",
    "            asm_val = energy_val ** 2\n",
    "            homogeneity_val = graycoprops(glcm, 'homogeneity')[0, 0]\n",
    "            correlation_val = graycoprops(glcm, 'correlation')[0, 0]\n",
    "            dissimilarity_val = np.mean(np.abs(img - np.mean(img)))\n",
    "\n",
    "          \n",
    "            data.append([filename, set_name, class_name, mean_val, std_val, entropy_val, skewness_val, kurtosis_val,\n",
    "                         contrast_val, energy_val, asm_val, homogeneity_val, dissimilarity_val, correlation_val])\n",
    "\n",
    "# Crear un DataFrame con los resultados\n",
    "df = pd.DataFrame(data, columns=['NombreImagen', 'Set', 'Clase', 'Mean', 'SD', 'Entropia', 'Skewness', 'Kurtosis',\n",
    "                                 'Contrast', 'Energy', 'ASM', 'Homogeneidad', 'Dissimilitud', 'Correlacion'])\n",
    "\n",
    "# Separar características y etiquetas\n",
    "X = df.iloc[:, 3:]  # Todas las columnas excepto NombreImagen, Set y Clase\n",
    "y = df['Clase']      # Etiquetas de clasificación\n",
    "\n",
    "# Dividir en conjunto de entrenamiento y prueba\n",
    "X_train, X_test, y_train, y_test = train_test_split(X, y, test_size=0.2, random_state=42, stratify=y)\n",
    "\n",
    "# Aplicar PCA para reducir la dimensionalidad\n",
    "pca = PCA(n_components=5)  # Número de componentes principales\n",
    "X_train_pca = pca.fit_transform(X_train)\n",
    "X_test_pca = pca.transform(X_test)\n",
    "\n",
    "# Crear DataFrames con los datos transformados\n",
    "df_train_pca = pd.DataFrame(X_train_pca, columns=[f'PC{i+1}' for i in range(5)])\n",
    "df_test_pca = pd.DataFrame(X_test_pca, columns=[f'PC{i+1}' for i in range(5)])\n",
    "\n",
    "# Agregar las etiquetas al dataset transformado\n",
    "df_train_pca['Clase'] = y_train.values\n",
    "df_test_pca['Clase'] = y_test.values\n",
    "\n",
    "# Guardar los nuevos datasets en CSV\n",
    "df_train_pca.to_csv('dataset_train_pca.csv', index=False)\n",
    "df_test_pca.to_csv('dataset_test_pca.csv', index=False)\n",
    "\n",
    "print(\"Dataset de entrenamiento y prueba con PCA guardados exitosamente.\")\n"
   ]
  },
  {
   "cell_type": "markdown",
   "id": "23c72ef2-d90a-4a08-a7d5-2d66dc69c326",
   "metadata": {},
   "source": [
    "### Una vez teniendo mis CSV lo que hice fue usar una RNA de dos capas (una con 64 y otra de 32) ya que pensé por la expeeriencia que había tenido con este modelo que sería la mejor opción teniendo ya variables categóricas de mis datos, la sorpresa fue que nel, realmente la precisión que me daba era bastante baja unu."
   ]
  },
  {
   "cell_type": "code",
   "execution_count": 5,
   "id": "f3add26b-2b51-4a67-bdf2-4b4e8ad5b58c",
   "metadata": {},
   "outputs": [
    {
     "name": "stdout",
     "output_type": "stream",
     "text": [
      "Epoch 1/50\n",
      "352/352 [==============================] - 2s 4ms/step - loss: 0.8696 - accuracy: 0.6502 - val_loss: 0.7926 - val_accuracy: 0.6747\n",
      "Epoch 2/50\n",
      "352/352 [==============================] - 1s 4ms/step - loss: 0.7500 - accuracy: 0.6995 - val_loss: 0.7117 - val_accuracy: 0.7196\n",
      "Epoch 3/50\n",
      "352/352 [==============================] - 2s 5ms/step - loss: 0.7101 - accuracy: 0.7193 - val_loss: 0.6916 - val_accuracy: 0.7203\n",
      "Epoch 4/50\n",
      "352/352 [==============================] - 1s 4ms/step - loss: 0.6912 - accuracy: 0.7321 - val_loss: 0.6830 - val_accuracy: 0.7224\n",
      "Epoch 5/50\n",
      "352/352 [==============================] - 1s 4ms/step - loss: 0.6788 - accuracy: 0.7332 - val_loss: 0.6630 - val_accuracy: 0.7395\n",
      "Epoch 6/50\n",
      "352/352 [==============================] - 2s 4ms/step - loss: 0.6616 - accuracy: 0.7423 - val_loss: 0.6496 - val_accuracy: 0.7345\n",
      "Epoch 7/50\n",
      "352/352 [==============================] - 1s 3ms/step - loss: 0.6461 - accuracy: 0.7399 - val_loss: 0.6576 - val_accuracy: 0.7473\n",
      "Epoch 8/50\n",
      "352/352 [==============================] - 1s 3ms/step - loss: 0.6448 - accuracy: 0.7453 - val_loss: 0.6412 - val_accuracy: 0.7509\n",
      "Epoch 9/50\n",
      "352/352 [==============================] - 1s 3ms/step - loss: 0.6379 - accuracy: 0.7460 - val_loss: 0.6337 - val_accuracy: 0.7423\n",
      "Epoch 10/50\n",
      "352/352 [==============================] - 2s 5ms/step - loss: 0.6281 - accuracy: 0.7492 - val_loss: 0.6443 - val_accuracy: 0.7431\n",
      "Epoch 11/50\n",
      "352/352 [==============================] - 1s 3ms/step - loss: 0.6251 - accuracy: 0.7551 - val_loss: 0.6333 - val_accuracy: 0.7438\n",
      "Epoch 12/50\n",
      "352/352 [==============================] - 1s 4ms/step - loss: 0.6174 - accuracy: 0.7558 - val_loss: 0.6293 - val_accuracy: 0.7466\n",
      "Epoch 13/50\n",
      "352/352 [==============================] - 1s 3ms/step - loss: 0.6133 - accuracy: 0.7579 - val_loss: 0.6295 - val_accuracy: 0.7445\n",
      "Epoch 14/50\n",
      "352/352 [==============================] - 1s 3ms/step - loss: 0.6071 - accuracy: 0.7553 - val_loss: 0.6242 - val_accuracy: 0.7459\n",
      "Epoch 15/50\n",
      "352/352 [==============================] - 1s 3ms/step - loss: 0.5977 - accuracy: 0.7634 - val_loss: 0.6420 - val_accuracy: 0.7409\n",
      "Epoch 16/50\n",
      "352/352 [==============================] - 1s 3ms/step - loss: 0.5997 - accuracy: 0.7570 - val_loss: 0.6265 - val_accuracy: 0.7438\n",
      "Epoch 17/50\n",
      "352/352 [==============================] - 1s 3ms/step - loss: 0.5978 - accuracy: 0.7615 - val_loss: 0.6334 - val_accuracy: 0.7452\n",
      "Epoch 18/50\n",
      "352/352 [==============================] - 1s 3ms/step - loss: 0.5882 - accuracy: 0.7629 - val_loss: 0.6203 - val_accuracy: 0.7509\n",
      "Epoch 19/50\n",
      "352/352 [==============================] - 1s 3ms/step - loss: 0.5885 - accuracy: 0.7629 - val_loss: 0.6117 - val_accuracy: 0.7502\n",
      "Epoch 20/50\n",
      "352/352 [==============================] - 1s 3ms/step - loss: 0.5840 - accuracy: 0.7670 - val_loss: 0.6118 - val_accuracy: 0.7495\n",
      "Epoch 21/50\n",
      "352/352 [==============================] - 1s 3ms/step - loss: 0.5777 - accuracy: 0.7700 - val_loss: 0.6225 - val_accuracy: 0.7480\n",
      "Epoch 22/50\n",
      "352/352 [==============================] - 1s 3ms/step - loss: 0.5758 - accuracy: 0.7672 - val_loss: 0.6240 - val_accuracy: 0.7402\n",
      "Epoch 23/50\n",
      "352/352 [==============================] - 1s 3ms/step - loss: 0.5738 - accuracy: 0.7645 - val_loss: 0.6376 - val_accuracy: 0.7438\n",
      "Epoch 24/50\n",
      "352/352 [==============================] - 2s 5ms/step - loss: 0.5721 - accuracy: 0.7743 - val_loss: 0.6104 - val_accuracy: 0.7459\n",
      "Epoch 25/50\n",
      "352/352 [==============================] - 1s 4ms/step - loss: 0.5627 - accuracy: 0.7803 - val_loss: 0.6213 - val_accuracy: 0.7459\n",
      "Epoch 26/50\n",
      "352/352 [==============================] - 2s 5ms/step - loss: 0.5692 - accuracy: 0.7666 - val_loss: 0.6253 - val_accuracy: 0.7530\n",
      "Epoch 27/50\n",
      "352/352 [==============================] - 2s 6ms/step - loss: 0.5641 - accuracy: 0.7706 - val_loss: 0.6172 - val_accuracy: 0.7452\n",
      "Epoch 28/50\n",
      "352/352 [==============================] - 2s 5ms/step - loss: 0.5652 - accuracy: 0.7706 - val_loss: 0.6124 - val_accuracy: 0.7480\n",
      "Epoch 29/50\n",
      "352/352 [==============================] - 1s 4ms/step - loss: 0.5565 - accuracy: 0.7738 - val_loss: 0.6415 - val_accuracy: 0.7431\n",
      "Epoch 30/50\n",
      "352/352 [==============================] - 3s 7ms/step - loss: 0.5578 - accuracy: 0.7775 - val_loss: 0.6100 - val_accuracy: 0.7566\n",
      "Epoch 31/50\n",
      "352/352 [==============================] - 2s 5ms/step - loss: 0.5529 - accuracy: 0.7773 - val_loss: 0.6066 - val_accuracy: 0.7566\n",
      "Epoch 32/50\n",
      "352/352 [==============================] - 2s 6ms/step - loss: 0.5488 - accuracy: 0.7770 - val_loss: 0.6276 - val_accuracy: 0.7544\n",
      "Epoch 33/50\n",
      "352/352 [==============================] - 1s 4ms/step - loss: 0.5532 - accuracy: 0.7766 - val_loss: 0.6149 - val_accuracy: 0.7544\n",
      "Epoch 34/50\n",
      "352/352 [==============================] - 2s 4ms/step - loss: 0.5475 - accuracy: 0.7805 - val_loss: 0.6117 - val_accuracy: 0.7523\n",
      "Epoch 35/50\n",
      "352/352 [==============================] - 2s 5ms/step - loss: 0.5477 - accuracy: 0.7812 - val_loss: 0.6069 - val_accuracy: 0.7630\n",
      "Epoch 36/50\n",
      "352/352 [==============================] - 2s 4ms/step - loss: 0.5470 - accuracy: 0.7811 - val_loss: 0.6203 - val_accuracy: 0.7566\n",
      "Epoch 37/50\n",
      "352/352 [==============================] - 2s 5ms/step - loss: 0.5436 - accuracy: 0.7802 - val_loss: 0.6092 - val_accuracy: 0.7537\n",
      "Epoch 38/50\n",
      "352/352 [==============================] - 2s 5ms/step - loss: 0.5420 - accuracy: 0.7816 - val_loss: 0.6097 - val_accuracy: 0.7573\n",
      "Epoch 39/50\n",
      "352/352 [==============================] - 1s 4ms/step - loss: 0.5367 - accuracy: 0.7830 - val_loss: 0.6336 - val_accuracy: 0.7459\n",
      "Epoch 40/50\n",
      "352/352 [==============================] - 1s 4ms/step - loss: 0.5396 - accuracy: 0.7793 - val_loss: 0.6040 - val_accuracy: 0.7587\n",
      "Epoch 41/50\n",
      "352/352 [==============================] - 2s 5ms/step - loss: 0.5377 - accuracy: 0.7828 - val_loss: 0.6203 - val_accuracy: 0.7445\n",
      "Epoch 42/50\n",
      "352/352 [==============================] - 2s 5ms/step - loss: 0.5321 - accuracy: 0.7850 - val_loss: 0.6068 - val_accuracy: 0.7573\n",
      "Epoch 43/50\n",
      "352/352 [==============================] - 1s 4ms/step - loss: 0.5329 - accuracy: 0.7820 - val_loss: 0.5899 - val_accuracy: 0.7665\n",
      "Epoch 44/50\n",
      "352/352 [==============================] - 2s 4ms/step - loss: 0.5314 - accuracy: 0.7832 - val_loss: 0.6116 - val_accuracy: 0.7523\n",
      "Epoch 45/50\n",
      "352/352 [==============================] - 1s 4ms/step - loss: 0.5297 - accuracy: 0.7862 - val_loss: 0.5964 - val_accuracy: 0.7687\n",
      "Epoch 46/50\n",
      "352/352 [==============================] - 1s 4ms/step - loss: 0.5290 - accuracy: 0.7852 - val_loss: 0.6265 - val_accuracy: 0.7559\n",
      "Epoch 47/50\n",
      "352/352 [==============================] - 2s 5ms/step - loss: 0.5293 - accuracy: 0.7868 - val_loss: 0.6051 - val_accuracy: 0.7601\n",
      "Epoch 48/50\n",
      "352/352 [==============================] - 2s 4ms/step - loss: 0.5226 - accuracy: 0.7896 - val_loss: 0.5912 - val_accuracy: 0.7644\n",
      "Epoch 49/50\n",
      "352/352 [==============================] - 2s 4ms/step - loss: 0.5210 - accuracy: 0.7949 - val_loss: 0.6355 - val_accuracy: 0.7509\n",
      "Epoch 50/50\n",
      "352/352 [==============================] - 1s 4ms/step - loss: 0.5227 - accuracy: 0.7876 - val_loss: 0.5979 - val_accuracy: 0.7566\n",
      "44/44 [==============================] - 0s 3ms/step\n",
      "Precisión en test: 0.76\n"
     ]
    }
   ],
   "source": [
    "\n",
    "# 🔹 Cargar los datasets\n",
    "df_train = pd.read_csv('dataset_train_pca.csv')\n",
    "df_test = pd.read_csv('dataset_test_pca.csv')\n",
    "\n",
    "# 🔹 Separar características (X) y etiquetas (y)\n",
    "X_train = df_train.iloc[:, :-1]  # Todas las columnas excepto la última (Clase)\n",
    "y_train = df_train.iloc[:, -1]   # Última columna (Clase)\n",
    "\n",
    "X_test = df_test.iloc[:, :-1]\n",
    "y_test = df_test.iloc[:, -1]\n",
    "\n",
    "# 🔹 Convertir etiquetas a valores numéricos\n",
    "encoder = LabelEncoder()\n",
    "y_train = encoder.fit_transform(y_train)\n",
    "y_test = encoder.transform(y_test)\n",
    "\n",
    "# 🔹 Definir la Red Neuronal\n",
    "model = keras.Sequential([\n",
    "    keras.layers.Dense(64, activation='relu', input_shape=(X_train.shape[1],)),  # Capa oculta 1\n",
    "    keras.layers.Dense(32, activation='relu'),  # Capa oculta 2\n",
    "    keras.layers.Dense(len(np.unique(y_train)), activation='softmax')  # Capa de salida (Clasificación)\n",
    "])\n",
    "\n",
    "# 🔹 Compilar el modelo\n",
    "model.compile(optimizer='adam', loss='sparse_categorical_crossentropy', metrics=['accuracy'])\n",
    "\n",
    "# 🔹 Entrenar el modelo\n",
    "model.fit(X_train, y_train, epochs=50, batch_size=16, validation_data=(X_test, y_test))\n",
    "\n",
    "# 🔹 Evaluar rendimiento\n",
    "y_pred = np.argmax(model.predict(X_test), axis=1)\n",
    "accuracy = accuracy_score(y_test, y_pred)\n",
    "print(f'Precisión en test: {accuracy:.2f}')\n"
   ]
  },
  {
   "cell_type": "markdown",
   "id": "67fcadc8-0909-4984-a1be-ff7796a62f41",
   "metadata": {},
   "source": [
    "### Como salió muy baja la precisión, opté por cambiar algunos parámetros para ver si podría mejorar mi modelo, principalmente aumenté el número de épocas "
   ]
  },
  {
   "cell_type": "code",
   "execution_count": null,
   "id": "fbb22d73-94f0-48f7-80ee-52782971e680",
   "metadata": {},
   "outputs": [],
   "source": [
    "\n",
    "# 🔹 Cargar los datasets\n",
    "df_train = pd.read_csv('dataset_train_pca.csv')\n",
    "df_test = pd.read_csv('dataset_test_pca.csv')\n",
    "\n",
    "# 🔹 Separar características (X) y etiquetas (y)\n",
    "X_train = df_train.iloc[:, :-1]\n",
    "y_train = df_train.iloc[:, -1]\n",
    "\n",
    "X_test = df_test.iloc[:, :-1]\n",
    "y_test = df_test.iloc[:, -1]\n",
    "\n",
    "# 🔹 Convertir etiquetas a valores numéricos\n",
    "encoder = LabelEncoder()\n",
    "y_train = encoder.fit_transform(y_train)\n",
    "y_test = encoder.transform(y_test)\n",
    "\n",
    "# 🔹 Definir la Red Neuronal mejorada con más ajustes\n",
    "model = keras.Sequential([\n",
    "    keras.layers.Dense(128),\n",
    "    keras.layers.LeakyReLU(alpha=0.01),  # Usé Leaky ReLU en vez de ReLU\n",
    "    keras.layers.BatchNormalization(),  # Batch Normalization para estabilizar el aprendizaje\n",
    "    keras.layers.Dropout(0.3),\n",
    "    \n",
    "    keras.layers.Dense(64),\n",
    "    keras.layers.LeakyReLU(alpha=0.01),\n",
    "    keras.layers.BatchNormalization(),\n",
    "    keras.layers.Dropout(0.3),\n",
    "    \n",
    "    keras.layers.Dense(32),\n",
    "    keras.layers.LeakyReLU(alpha=0.01),\n",
    "    \n",
    "    keras.layers.Dense(len(np.unique(y_train)), activation='softmax')  # Capa de salida\n",
    "])\n",
    "\n",
    "# 🔹 Ajustar el optimizador con una tasa de aprendizaje baja\n",
    "optimizer = keras.optimizers.Adam(learning_rate=0.0003)  \n",
    "model.compile(optimizer=optimizer, loss='sparse_categorical_crossentropy', metrics=['accuracy'])\n",
    "\n",
    "# 🔹 Entrenar con más épocas y un batch size más grande\n",
    "model.fit(X_train, y_train, epochs=150, batch_size=32, validation_data=(X_test, y_test))\n",
    "\n",
    "# 🔹 Evaluar rendimiento\n",
    "y_pred = np.argmax(model.predict(X_test), axis=1)\n",
    "accuracy = accuracy_score(y_test, y_pred)\n",
    "print(f'Precisión mejorada en test: {accuracy:.2f}')\n"
   ]
  },
  {
   "cell_type": "markdown",
   "id": "d169ff14-413e-49d7-8c22-19e41408c49c",
   "metadata": {},
   "source": [
    "### Al ver que nomás no mejoraba la cosa, decidí mejor cambiar de modelo por SVM ya que como los datos ya han sido reducidos con PCA, SVM podría encontrar fronteras óptimas entre clases, enos dependiente de hiperparámetros, y a diferencia de RNA, donde hay que afinar neuronas y capas, SVM optimiza automáticamente el margen entre clases."
   ]
  },
  {
   "cell_type": "code",
   "execution_count": 6,
   "id": "7d942543-f5e3-46ed-9c87-cbedf8e4cb5a",
   "metadata": {},
   "outputs": [
    {
     "name": "stdout",
     "output_type": "stream",
     "text": [
      "Precisión del modelo SVM en test: 0.72\n"
     ]
    }
   ],
   "source": [
    "\n",
    "# 🔹 Cargar los datasets PCA\n",
    "df_train = pd.read_csv('dataset_train_pca.csv')\n",
    "df_test = pd.read_csv('dataset_test_pca.csv')\n",
    "\n",
    "# 🔹 Separar características (X) y etiquetas (y)\n",
    "X_train = df_train.iloc[:, :-1]\n",
    "y_train = df_train.iloc[:, -1]\n",
    "\n",
    "X_test = df_test.iloc[:, :-1]\n",
    "y_test = df_test.iloc[:, -1]\n",
    "\n",
    "# 🔹 Convertir etiquetas a valores numéricos\n",
    "encoder = LabelEncoder()\n",
    "y_train = encoder.fit_transform(y_train)\n",
    "y_test = encoder.transform(y_test)\n",
    "\n",
    "# 🔹 Definir y entrenar el modelo SVM\n",
    "svm_model = SVC(kernel='rbf', C=1.0, gamma='scale')  # Kernel RBF para mejor separación de clases\n",
    "svm_model.fit(X_train, y_train)\n",
    "\n",
    "# 🔹 Hacer predicciones\n",
    "y_pred = svm_model.predict(X_test)\n",
    "\n",
    "# 🔹 Evaluar rendimiento\n",
    "accuracy = accuracy_score(y_test, y_pred)\n",
    "print(f'Precisión del modelo SVM en test: {accuracy:.2f}')\n"
   ]
  },
  {
   "cell_type": "markdown",
   "id": "6dda8c7c-a9d1-4762-8a19-63b6e21a595a",
   "metadata": {},
   "source": [
    "### La cosa no está funcionando bien, así que obté por cambiar una vez más mi modelo a uno que me llamó la atención y que no había visto antes, el XGBoost, ya que maneja bien datasets grandes y medianos (como este xd), optimiza cada árbol con boosting y corrige errores de modelos anteriores. Incluso puede tener un mejor manejo de outliers y ruido en los datos uwu."
   ]
  },
  {
   "cell_type": "code",
   "execution_count": 7,
   "id": "08a5f076-02c1-4218-b8d2-7e0912692a69",
   "metadata": {},
   "outputs": [
    {
     "name": "stdout",
     "output_type": "stream",
     "text": [
      "Precisión del modelo XGBoost en test: 0.80\n"
     ]
    }
   ],
   "source": [
    "\n",
    "# 🔹 Cargar los datasets PCA\n",
    "df_train = pd.read_csv('dataset_train_pca.csv')\n",
    "df_test = pd.read_csv('dataset_test_pca.csv')\n",
    "\n",
    "# 🔹 Separar características (X) y etiquetas (y)\n",
    "X_train = df_train.iloc[:, :-1]\n",
    "y_train = df_train.iloc[:, -1]\n",
    "\n",
    "X_test = df_test.iloc[:, :-1]\n",
    "y_test = df_test.iloc[:, -1]\n",
    "\n",
    "# 🔹 Convertir etiquetas a valores numéricos\n",
    "encoder = LabelEncoder()\n",
    "y_train = encoder.fit_transform(y_train)\n",
    "y_test = encoder.transform(y_test)\n",
    "\n",
    "# 🔹 Definir y entrenar el modelo XGBoost\n",
    "xgb_model = xgb.XGBClassifier(n_estimators=100, learning_rate=0.1, max_depth=6, random_state=42)\n",
    "xgb_model.fit(X_train, y_train)\n",
    "\n",
    "# 🔹 Hacer predicciones\n",
    "y_pred = xgb_model.predict(X_test)\n",
    "\n",
    "# 🔹 Evaluar rendimiento\n",
    "accuracy = accuracy_score(y_test, y_pred)\n",
    "print(f'Precisión del modelo XGBoost en test: {accuracy:.2f}')\n"
   ]
  },
  {
   "cell_type": "markdown",
   "id": "3aba50cf-4898-4a1d-a4a2-62855de914f4",
   "metadata": {},
   "source": [
    "### Misma situación mejorar parámtetros para ver si podemos mejorar el modelo unu."
   ]
  },
  {
   "cell_type": "code",
   "execution_count": 8,
   "id": "41997810-a13c-4919-ae11-d51c9c45b19d",
   "metadata": {},
   "outputs": [
    {
     "name": "stdout",
     "output_type": "stream",
     "text": [
      "Precisión optimizada del modelo XGBoost en test: 0.83\n"
     ]
    }
   ],
   "source": [
    "\n",
    "# 🔹 Cargar los datasets PCA\n",
    "df_train = pd.read_csv('dataset_train_pca.csv')\n",
    "df_test = pd.read_csv('dataset_test_pca.csv')\n",
    "\n",
    "# 🔹 Separar características (X) y etiquetas (y)\n",
    "X_train = df_train.iloc[:, :-1]\n",
    "y_train = df_train.iloc[:, -1]\n",
    "\n",
    "X_test = df_test.iloc[:, :-1]\n",
    "y_test = df_test.iloc[:, -1]\n",
    "\n",
    "# 🔹 Convertir etiquetas a valores numéricos\n",
    "encoder = LabelEncoder()\n",
    "y_train = encoder.fit_transform(y_train)\n",
    "y_test = encoder.transform(y_test)\n",
    "\n",
    "# 🔹 Definir y entrenar el modelo XGBoost optimizado\n",
    "xgb_model = xgb.XGBClassifier(\n",
    "    n_estimators=200,        # Más árboles\n",
    "    learning_rate=0.05,      # Tasa de aprendizaje más baja\n",
    "    max_depth=8,             # Mayor profundidad\n",
    "    subsample=0.8,           # Usa solo 80% de los datos en cada árbol\n",
    "    colsample_bytree=0.8,    # Usa 80% de las características en cada árbol\n",
    "    random_state=42\n",
    ")\n",
    "\n",
    "xgb_model.fit(X_train, y_train)\n",
    "\n",
    "# 🔹 Hacer predicciones\n",
    "y_pred = xgb_model.predict(X_test)\n",
    "\n",
    "# 🔹 Evaluar rendimiento\n",
    "accuracy = accuracy_score(y_test, y_pred)\n",
    "print(f'Precisión optimizada del modelo XGBoost en test: {accuracy:.2f}')\n"
   ]
  },
  {
   "cell_type": "markdown",
   "id": "406c8074-88fd-4736-b8da-b1292b97a2e0",
   "metadata": {},
   "source": [
    "### En efecto, sí mejoró, y no considero que un 0.83 de precisión sea mala considerando que quizás el PCA pudiera no haber sido la mejor manera de empezar mi análisis de los datos, pero en vista de las limitaciones técnicas para realizar una CNN me doy por bien servido con este modelo de clasificación."
   ]
  },
  {
   "cell_type": "code",
   "execution_count": 16,
   "id": "c0ffb287-3d1e-441e-a59b-909b67b00792",
   "metadata": {},
   "outputs": [
    {
     "name": "stdout",
     "output_type": "stream",
     "text": [
      "44/44 [==============================] - 0s 3ms/step\n",
      "\n",
      "Métricas de RNA (150 épocas):\n",
      "Accuracy: 0.76\n",
      "F1-score: 0.75\n",
      "Recall: 0.76\n",
      "Precisión: 0.75\n",
      "\n",
      "Métricas de SVM:\n",
      "Accuracy: 0.72\n",
      "F1-score: 0.72\n",
      "Recall: 0.72\n",
      "Precisión: 0.73\n",
      "\n",
      "Métricas de XGBoost mejorado:\n",
      "Accuracy: 0.83\n",
      "F1-score: 0.83\n",
      "Recall: 0.83\n",
      "Precisión: 0.83\n"
     ]
    },
    {
     "data": {
      "image/png": "[encoded data removed]",
      "text/plain": [
       "<Figure size 1500x500 with 6 Axes>"
      ]
     },
     "metadata": {},
     "output_type": "display_data"
    }
   ],
   "source": [
    "\n",
    "# 🔹 Predicciones RNA\n",
    "y_pred_rna = model.predict(X_test)\n",
    "y_pred_rna = np.argmax(y_pred_rna, axis=1)  # Convertimos predicciones en clases\n",
    "\n",
    "# 🔹 Predicciones SVM\n",
    "y_pred_svm = svm_model.predict(X_test)\n",
    "\n",
    "# 🔹 Predicciones XGBoost\n",
    "y_pred_xgb = xgb_model.predict(X_test)\n",
    "\n",
    "# 🔹 Cálculo de métricas\n",
    "models = {\n",
    "    \"RNA (150 épocas)\": y_pred_rna,\n",
    "    \"SVM\": y_pred_svm,\n",
    "    \"XGBoost mejorado\": y_pred_xgb\n",
    "}\n",
    "\n",
    "metrics = {}\n",
    "\n",
    "for model_name, y_pred in models.items():\n",
    "    metrics[model_name] = {\n",
    "        \"Accuracy\": accuracy_score(y_test, y_pred),\n",
    "        \"F1-score\": f1_score(y_test, y_pred, average=\"weighted\"),\n",
    "        \"Recall\": recall_score(y_test, y_pred, average=\"weighted\"),\n",
    "        \"Precisión\": precision_score(y_test, y_pred, average=\"weighted\")\n",
    "    }\n",
    "\n",
    "# 🔹 Mostrar métricas\n",
    "for model_name, values in metrics.items():\n",
    "    print(f\"\\nMétricas de {model_name}:\")\n",
    "    for metric, value in values.items():\n",
    "        print(f\"{metric}: {value:.2f}\")\n",
    "\n",
    "# 🔹 Matrices de confusión\n",
    "fig, axes = plt.subplots(1, 3, figsize=(15, 5))\n",
    "\n",
    "for i, (model_name, y_pred) in enumerate(models.items()):\n",
    "    conf_matrix = confusion_matrix(y_test, y_pred)\n",
    "    ax = axes[i]\n",
    "    sns.heatmap(conf_matrix, annot=True, fmt='d', cmap='rocket', ax=ax)\n",
    "    ax.set_title(f'Matriz de Confusión - {model_name}')\n",
    "    ax.set_xlabel('Predicción')\n",
    "    ax.set_ylabel('Real')\n",
    "\n",
    "plt.show()\n"
   ]
  },
  {
   "cell_type": "code",
   "execution_count": 13,
   "id": "59d672e3-6fe2-435a-a702-d6bad7446ccb",
   "metadata": {},
   "outputs": [
    {
     "name": "stdout",
     "output_type": "stream",
     "text": [
      "['glioma' 'meningioma' 'notumor' 'pituitary']\n"
     ]
    }
   ],
   "source": [
    "print(encoder.classes_)  # Estoe es el orden de las clases en la matriz de confusión. XD"
   ]
  },
  {
   "cell_type": "markdown",
   "id": "5ec2e156-ebd6-4fd0-ba9a-2b7a6f4bad4b",
   "metadata": {},
   "source": [
    "# CONCLUSIÓN"
   ]
  },
  {
   "cell_type": "markdown",
   "id": "bafb6bbc-483b-45d1-8fbf-20a0d92b8934",
   "metadata": {},
   "source": [
    "### Con todo esto, lo que puedo concluir de mi análisis es que, al menos para este dataset en particular el partir de PCA (con las métricas que saqué) puede no ser lo mejor y meter quizás uan CNN pudiera mejorar muchísimo la clasificación, esto mismo por la naturaleza de los datos (pues son imágenes), pero a pesar de haber manejado poca o mucha información que me pudieran dar los PC considero que me fue bastante bien para no haber usado la totalidad de la información de cada imagen."
   ]
  },
  {
   "cell_type": "code",
   "execution_count": null,
   "id": "d3876569-0b7b-460a-a966-9a59dbdfd87b",
   "metadata": {},
   "outputs": [],
   "source": []
  }
 ],
 "metadata": {
  "kernelspec": {
   "display_name": "Python (dl_env)",
   "language": "python",
   "name": "dl_env"
  },
  "language_info": {
   "codemirror_mode": {
    "name": "ipython",
    "version": 3
   },
   "file_extension": ".py",
   "mimetype": "text/x-python",
   "name": "python",
   "nbconvert_exporter": "python",
   "pygments_lexer": "ipython3",
   "version": "3.10.4"
  }
 },
 "nbformat": 4,
 "nbformat_minor": 5
}
