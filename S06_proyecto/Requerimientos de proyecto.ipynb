{
 "cells": [
  {
   "attachments": {},
   "cell_type": "markdown",
   "id": "dc77763a-0416-444d-b170-253c72cbfbff",
   "metadata": {},
   "source": [
    "El proyecto debe desarrollar las habilidades aprendidas a lo largo del semestre:\n",
    "- Análisis de dataset (AED)\n",
    "- Identificación del tipo de problema (clasificación o regresión)\n",
    "- Creación de propuestas de modelos (qué modelo supervisados utilizar, cómo crear la ANN o CNN a utilizar)\n",
    "- Evaluación de resultados acorde al problema (clasificación: accuracy, precision, recall, f1; regresión: mse, rmse, r^2, etc. )\n",
    "- Análisis de resultados (determinar el mejor resultado posible y justificar por qué es el mejor resultado posible)\n",
    "- El resultado debe ser interpretable\n",
    "\n",
    "Clasificación: El dataset debe contener lo siguiente:\n",
    "- Al menos 4 variables de entrada\n",
    "- El tamaño del dataset debe ser de al menos 2k datos\n",
    "- Debe ser un dataset que provenga de una fuente real (kaggle, artículo científico, lugar de prácticas/servicio)\n",
    "\n",
    "    "
   ]
  },
  {
   "cell_type": "code",
   "execution_count": null,
   "id": "264171ee-0271-47a8-ad19-ae446bad7ed2",
   "metadata": {},
   "outputs": [],
   "source": []
  }
 ],
 "metadata": {
  "kernelspec": {
   "display_name": "Python 3 (ipykernel)",
   "language": "python",
   "name": "python3"
  },
  "language_info": {
   "codemirror_mode": {
    "name": "ipython",
    "version": 3
   },
   "file_extension": ".py",
   "mimetype": "text/x-python",
   "name": "python",
   "nbconvert_exporter": "python",
   "pygments_lexer": "ipython3",
   "version": "3.10.4"
  }
 },
 "nbformat": 4,
 "nbformat_minor": 5
}
