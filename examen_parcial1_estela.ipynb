{
 "cells": [
  {
   "cell_type": "markdown",
   "id": "986f1799-61be-4e15-849d-0071a23fc042",
   "metadata": {},
   "source": [
    "## EXAMEN PRIMER PARCIAL - MODELOS COMPUTACIONALES II\n",
    "### Estela Gil"
   ]
  },
  {
   "cell_type": "code",
   "execution_count": 1,
   "id": "d41ee5ac-7b2d-48ce-92a6-a2de31734c9a",
   "metadata": {},
   "outputs": [],
   "source": [
    "import os\n",
    "import pandas as pd\n",
    "import numpy as np\n",
    "import matplotlib.pyplot as plt\n",
    "from sklearn.decomposition import PCA\n",
    "from sklearn.preprocessing import StandardScaler\n",
    "from mpl_toolkits.mplot3d import Axes3D"
   ]
  },
  {
   "cell_type": "markdown",
   "id": "2db2bdb6-417b-4810-981f-22d59db65655",
   "metadata": {},
   "source": [
    "## Parte I"
   ]
  },
  {
   "cell_type": "code",
   "execution_count": null,
   "id": "46b76e00-239c-4f0c-b00c-21a5b529d42e",
   "metadata": {},
   "outputs": [],
   "source": []
  }
 ],
 "metadata": {
  "kernelspec": {
   "display_name": "Python 3 (ipykernel)",
   "language": "python",
   "name": "python3"
  },
  "language_info": {
   "codemirror_mode": {
    "name": "ipython",
    "version": 3
   },
   "file_extension": ".py",
   "mimetype": "text/x-python",
   "name": "python",
   "nbconvert_exporter": "python",
   "pygments_lexer": "ipython3",
   "version": "3.12.4"
  }
 },
 "nbformat": 4,
 "nbformat_minor": 5
}
