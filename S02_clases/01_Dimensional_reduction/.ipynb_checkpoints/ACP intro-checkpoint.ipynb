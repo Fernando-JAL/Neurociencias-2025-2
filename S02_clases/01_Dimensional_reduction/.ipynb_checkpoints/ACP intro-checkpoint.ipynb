{
 "cells": [
  {
   "cell_type": "code",
   "execution_count": 1,
   "id": "082a8ffa",
   "metadata": {},
   "outputs": [],
   "source": [
    "import matplotlib.pyplot as plt\n",
    "import numpy as np"
   ]
  },
  {
   "cell_type": "code",
   "execution_count": 2,
   "id": "1ffc6f1a",
   "metadata": {},
   "outputs": [],
   "source": [
    "import matplotlib.pyplot as plt"
   ]
  },
  {
   "cell_type": "code",
   "execution_count": 3,
   "id": "618d5863",
   "metadata": {},
   "outputs": [],
   "source": [
    "size = 500\n",
    "x = np.random.normal(loc=0.0, scale=8, size=size)\n",
    "y = np.random.normal(loc=0.0, scale=2, size=size)"
   ]
  },
  {
   "cell_type": "code",
   "execution_count": 4,
   "id": "35ba76a2",
   "metadata": {},
   "outputs": [
    {
     "data": {
      "text/plain": [
       "(-24.332873280821968, 24.72837641483143, -5.79740117050547, 6.490356180342943)"
      ]
     },
     "execution_count": 4,
     "metadata": {},
     "output_type": "execute_result"
    },
    {
     "data": {
      "image/png": "[encoded data removed]",
      "text/plain": [
       "<Figure size 432x288 with 1 Axes>"
      ]
     },
     "metadata": {
      "needs_background": "light"
     },
     "output_type": "display_data"
    }
   ],
   "source": [
    "plt.scatter(x, y)\n",
    "plt.grid()\n",
    "plt.axis('equal')"
   ]
  },
  {
   "cell_type": "code",
   "execution_count": 5,
   "id": "c368aa27",
   "metadata": {},
   "outputs": [],
   "source": [
    "mean = [0, 0]\n",
    "cov = [[3, 3], [3, 4]]\n",
    "X = np.random.multivariate_normal(mean=mean, cov=cov, size=size)"
   ]
  },
  {
   "cell_type": "code",
   "execution_count": 6,
   "id": "f8306fb6",
   "metadata": {},
   "outputs": [
    {
     "data": {
      "text/plain": [
       "<matplotlib.collections.PathCollection at 0x274cbbb6340>"
      ]
     },
     "execution_count": 6,
     "metadata": {},
     "output_type": "execute_result"
    },
    {
     "data": {
      "image/png": "[encoded data removed]",
      "text/plain": [
       "<Figure size 432x288 with 1 Axes>"
      ]
     },
     "metadata": {
      "needs_background": "light"
     },
     "output_type": "display_data"
    }
   ],
   "source": [
    "plt.scatter(X[:, 0], X[:, 1])"
   ]
  },
  {
   "cell_type": "markdown",
   "id": "49b9de35",
   "metadata": {},
   "source": [
    "### 1- Calculamos la descomposición de valores y vectores propios\n",
    "##### a) Usando la Matriz de Covarianzas"
   ]
  },
  {
   "cell_type": "code",
   "execution_count": 7,
   "id": "0a32181a",
   "metadata": {},
   "outputs": [],
   "source": [
    "from IPython.display import display, Math, Latex"
   ]
  },
  {
   "cell_type": "code",
   "execution_count": 8,
   "id": "ac1ecfcb",
   "metadata": {},
   "outputs": [
    {
     "data": {
      "text/latex": [
       "$\\displaystyle \\sigma_{jk} = \\frac{1}{n-1}\\sum_{i=1}^m (x_{ij} - \\overline{x_j})(x_{ik} - \\overline{x_k})$"
      ],
      "text/plain": [
       "<IPython.core.display.Math object>"
      ]
     },
     "metadata": {},
     "output_type": "display_data"
    }
   ],
   "source": [
    "display(Math(r'\\sigma_{jk} = \\frac{1}{n-1}\\sum_{i=1}^m (x_{ij} - \\overline{x_j})(x_{ik} - \\overline{x_k})'))"
   ]
  },
  {
   "cell_type": "code",
   "execution_count": 9,
   "id": "4dbeb661",
   "metadata": {},
   "outputs": [
    {
     "data": {
      "text/latex": [
       "$\\displaystyle \\Sigma = \\frac{1}{n-1}((X-\\overline{x})^T(X-\\overline{x}))$"
      ],
      "text/plain": [
       "<IPython.core.display.Math object>"
      ]
     },
     "metadata": {},
     "output_type": "display_data"
    }
   ],
   "source": [
    "display(Math(r'\\Sigma = \\frac{1}{n-1}((X-\\overline{x})^T(X-\\overline{x}))'))"
   ]
  },
  {
   "cell_type": "code",
   "execution_count": 10,
   "id": "50b3ce2b",
   "metadata": {},
   "outputs": [
    {
     "data": {
      "text/latex": [
       "$\\displaystyle \\overline{x} = \\frac{1}{n}\\sum_{i=1}^n x_i\\in \\mathbb R^m$"
      ],
      "text/plain": [
       "<IPython.core.display.Math object>"
      ]
     },
     "metadata": {},
     "output_type": "display_data"
    }
   ],
   "source": [
    "display(Math(r'\\overline{x} = \\frac{1}{n}\\sum_{i=1}^n x_i\\in \\mathbb R^m'))"
   ]
  },
  {
   "cell_type": "code",
   "execution_count": 15,
   "id": "ceff5228",
   "metadata": {},
   "outputs": [],
   "source": [
    "X_std = (X - X.mean())/X.std(axis=0)"
   ]
  },
  {
   "cell_type": "code",
   "execution_count": 17,
   "id": "ed01e59d",
   "metadata": {},
   "outputs": [
    {
     "data": {
      "text/plain": [
       "array([ 0.00689048, -0.00581551])"
      ]
     },
     "execution_count": 17,
     "metadata": {},
     "output_type": "execute_result"
    }
   ],
   "source": [
    "mean_vect = X_std.mean(axis=0)\n",
    "mean_vect"
   ]
  },
  {
   "cell_type": "code",
   "execution_count": 18,
   "id": "65efef69",
   "metadata": {},
   "outputs": [
    {
     "name": "stdout",
     "output_type": "stream",
     "text": [
      "La matriz de covarianzas es \n",
      "[[1.00200401 0.8634712 ]\n",
      " [0.8634712  1.00200401]]\n"
     ]
    }
   ],
   "source": [
    "cov_matrix = (X_std - mean_vect).T.dot((X_std - mean_vect))/(X_std.shape[0]-1)\n",
    "print(\"La matriz de covarianzas es \\n%s\"%cov_matrix)"
   ]
  },
  {
   "cell_type": "code",
   "execution_count": 19,
   "id": "e8f026d0",
   "metadata": {},
   "outputs": [
    {
     "data": {
      "text/plain": [
       "array([[1.00200401, 0.8634712 ],\n",
       "       [0.8634712 , 1.00200401]])"
      ]
     },
     "execution_count": 19,
     "metadata": {},
     "output_type": "execute_result"
    }
   ],
   "source": [
    "np.cov(X_std.T)"
   ]
  },
  {
   "cell_type": "code",
   "execution_count": 28,
   "id": "09c71ddb",
   "metadata": {},
   "outputs": [
    {
     "name": "stdout",
     "output_type": "stream",
     "text": [
      "Valores propios \n",
      "[0.13853281 1.8654752 ]\n",
      "Vectores propios \n",
      "[[-0.70710678 -0.70710678]\n",
      " [ 0.70710678 -0.70710678]]\n"
     ]
    }
   ],
   "source": [
    "eig_vals, eig_vectors = np.linalg.eig(cov_matrix)\n",
    "print(\"Valores propios \\n%s\"%eig_vals)\n",
    "print(\"Vectores propios \\n%s\"%eig_vectors)"
   ]
  },
  {
   "cell_type": "markdown",
   "id": "266169c9",
   "metadata": {},
   "source": [
    "##### b) Usando la Matriz de Correlaciones"
   ]
  },
  {
   "cell_type": "code",
   "execution_count": 22,
   "id": "0857de97",
   "metadata": {},
   "outputs": [
    {
     "data": {
      "text/plain": [
       "array([[1.        , 0.86174425],\n",
       "       [0.86174425, 1.        ]])"
      ]
     },
     "execution_count": 22,
     "metadata": {},
     "output_type": "execute_result"
    }
   ],
   "source": [
    "corr_matrix = np.corrcoef(X_std.T)\n",
    "corr_matrix"
   ]
  },
  {
   "cell_type": "code",
   "execution_count": 23,
   "id": "9b34be4a",
   "metadata": {},
   "outputs": [
    {
     "name": "stdout",
     "output_type": "stream",
     "text": [
      "Valores propios \n",
      "[1.86174425 0.13825575]\n",
      "Vectores propios \n",
      "[[ 0.70710678 -0.70710678]\n",
      " [ 0.70710678  0.70710678]]\n"
     ]
    }
   ],
   "source": [
    "eig_vals_corr, eig_vectors_corr = np.linalg.eig(corr_matrix)\n",
    "print(\"Valores propios \\n%s\"%eig_vals_corr)\n",
    "print(\"Vectores propios \\n%s\"%eig_vectors_corr)"
   ]
  },
  {
   "cell_type": "markdown",
   "id": "adcb94cf",
   "metadata": {},
   "source": [
    "##### c) Singular Value Decomposition"
   ]
  },
  {
   "cell_type": "code",
   "execution_count": 25,
   "id": "cefb8342",
   "metadata": {},
   "outputs": [
    {
     "data": {
      "text/plain": [
       "array([[-0.70710958, -0.70710398],\n",
       "       [-0.70710398,  0.70710958]])"
      ]
     },
     "execution_count": 25,
     "metadata": {},
     "output_type": "execute_result"
    }
   ],
   "source": [
    "u,s,v = np.linalg.svd(X_std.T)\n",
    "u"
   ]
  },
  {
   "cell_type": "code",
   "execution_count": 26,
   "id": "a0cb2752",
   "metadata": {},
   "outputs": [
    {
     "data": {
      "text/plain": [
       "array([30.51020183,  8.31674418])"
      ]
     },
     "execution_count": 26,
     "metadata": {},
     "output_type": "execute_result"
    }
   ],
   "source": [
    "s"
   ]
  },
  {
   "cell_type": "markdown",
   "id": "173dc051",
   "metadata": {},
   "source": [
    "# Análisis de vectores propios"
   ]
  },
  {
   "cell_type": "code",
   "execution_count": 29,
   "id": "f5327a5f",
   "metadata": {},
   "outputs": [
    {
     "data": {
      "text/plain": [
       "[(0.13853281221300362, array([-0.70710678,  0.70710678])),\n",
       " (1.865475203819061, array([-0.70710678, -0.70710678]))]"
      ]
     },
     "execution_count": 29,
     "metadata": {},
     "output_type": "execute_result"
    }
   ],
   "source": [
    "eigen_pairs = [(np.abs(eig_vals[i]), eig_vectors[:,i]) for i in range(len(eig_vals))]\n",
    "eigen_pairs"
   ]
  },
  {
   "cell_type": "code",
   "execution_count": 30,
   "id": "22c28a88",
   "metadata": {},
   "outputs": [
    {
     "data": {
      "text/plain": [
       "[(1.865475203819061, array([-0.70710678, -0.70710678])),\n",
       " (0.13853281221300362, array([-0.70710678,  0.70710678]))]"
      ]
     },
     "execution_count": 30,
     "metadata": {},
     "output_type": "execute_result"
    }
   ],
   "source": [
    "# Ordenamos de mayor a menor\n",
    "eigen_pairs.sort(reverse=True)\n",
    "eigen_pairs"
   ]
  },
  {
   "cell_type": "code",
   "execution_count": 31,
   "id": "31399c9e",
   "metadata": {},
   "outputs": [],
   "source": [
    "total_sum = sum(eig_vals)\n",
    "var_exp = [(i/total_sum)*100 for i in sorted(eig_vals, reverse=True)]\n",
    "cum_var_exp = np.cumsum(var_exp)"
   ]
  },
  {
   "cell_type": "code",
   "execution_count": 32,
   "id": "1e877558",
   "metadata": {},
   "outputs": [
    {
     "name": "stdout",
     "output_type": "stream",
     "text": [
      "El porcentaje de información que cada valor propio aporta es:\n"
     ]
    },
    {
     "data": {
      "text/plain": [
       "[93.08721267057113, 6.9127873294288795]"
      ]
     },
     "execution_count": 32,
     "metadata": {},
     "output_type": "execute_result"
    }
   ],
   "source": [
    "print('El porcentaje de información que cada valor propio aporta es:')\n",
    "var_exp"
   ]
  },
  {
   "cell_type": "code",
   "execution_count": 35,
   "id": "8fbc5159",
   "metadata": {},
   "outputs": [
    {
     "data": {
      "text/plain": [
       "array([ 93.08721267, 100.        ])"
      ]
     },
     "execution_count": 35,
     "metadata": {},
     "output_type": "execute_result"
    }
   ],
   "source": [
    "cum_var_exp"
   ]
  },
  {
   "cell_type": "code",
   "execution_count": 37,
   "id": "b4216b9a",
   "metadata": {
    "scrolled": false
   },
   "outputs": [
    {
     "data": {
      "text/plain": [
       "<matplotlib.legend.Legend at 0x274d0817940>"
      ]
     },
     "execution_count": 37,
     "metadata": {},
     "output_type": "execute_result"
    },
    {
     "data": {
      "image/png": "[encoded data removed]",
      "text/plain": [
       "<Figure size 360x360 with 1 Axes>"
      ]
     },
     "metadata": {
      "needs_background": "light"
     },
     "output_type": "display_data"
    }
   ],
   "source": [
    "plt.figure(figsize=(5, 5))\n",
    "\n",
    "x=[\"CP %s\"%i for i in range(len(var_exp))]\n",
    "\n",
    "plt.bar(x, var_exp)\n",
    "plt.plot(x, cum_var_exp, '.-', label=\"% de Varianza Explicada Acumulada\", c='orange', linewidth=5, markersize=20)\n",
    "\n",
    "plt.xlabel(\"Componentes principales\", fontsize=11)\n",
    "plt.ylabel(\"Porcentaje de varianza explicada\", fontsize=11)\n",
    "plt.title(\"Porcentaje de variabilidad explicada por cada componente principal\", fontsize=15)\n",
    "plt.xticks(fontsize=11)\n",
    "plt.yticks(fontsize=11)\n",
    "\n",
    "plt.legend(loc='best', fontsize=11)"
   ]
  },
  {
   "cell_type": "code",
   "execution_count": null,
   "id": "4cb0f545",
   "metadata": {},
   "outputs": [],
   "source": []
  },
  {
   "cell_type": "code",
   "execution_count": null,
   "id": "3d4f3192",
   "metadata": {},
   "outputs": [],
   "source": []
  },
  {
   "cell_type": "code",
   "execution_count": null,
   "id": "ce265471",
   "metadata": {},
   "outputs": [],
   "source": []
  },
  {
   "cell_type": "code",
   "execution_count": null,
   "id": "23ea1411",
   "metadata": {},
   "outputs": [],
   "source": []
  },
  {
   "cell_type": "code",
   "execution_count": null,
   "id": "9942cd8e",
   "metadata": {},
   "outputs": [],
   "source": [
    "from sklearn.decomposition import PCA\n",
    "pca = PCA(n_components=2).fit(X)"
   ]
  },
  {
   "cell_type": "code",
   "execution_count": null,
   "id": "28503b7f",
   "metadata": {},
   "outputs": [],
   "source": [
    "pca.components_, pca.explained_variance_"
   ]
  },
  {
   "cell_type": "code",
   "execution_count": null,
   "id": "0c86200b",
   "metadata": {},
   "outputs": [],
   "source": [
    "plt.scatter(X[:, 0], X[:, 1], alpha=0.3, label=\"samples\")\n",
    "for i, (comp, var) in enumerate(zip(pca.components_, pca.explained_variance_)):\n",
    "    comp = comp * var  # scale component by its variance explanation power\n",
    "    plt.plot(\n",
    "        [0, comp[0]],\n",
    "        [0, comp[1]],\n",
    "        label=f\"Component {i}\",\n",
    "        linewidth=5,\n",
    "        color=f\"C{i + 2}\",\n",
    "    )\n",
    "plt.gca().set(\n",
    "    aspect=\"equal\",\n",
    "    title=\"2-dimensional dataset with principal components\",\n",
    "    xlabel=\"first feature\",\n",
    "    ylabel=\"second feature\",\n",
    ")\n",
    "plt.legend()\n",
    "plt.show()"
   ]
  },
  {
   "cell_type": "code",
   "execution_count": null,
   "id": "c1761862",
   "metadata": {},
   "outputs": [],
   "source": []
  }
 ],
 "metadata": {
  "kernelspec": {
   "display_name": "Python 3 (ipykernel)",
   "language": "python",
   "name": "python3"
  },
  "language_info": {
   "codemirror_mode": {
    "name": "ipython",
    "version": 3
   },
   "file_extension": ".py",
   "mimetype": "text/x-python",
   "name": "python",
   "nbconvert_exporter": "python",
   "pygments_lexer": "ipython3",
   "version": "3.9.7"
  }
 },
 "nbformat": 4,
 "nbformat_minor": 5
}
