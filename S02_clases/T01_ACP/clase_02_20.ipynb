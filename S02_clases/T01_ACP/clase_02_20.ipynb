{
 "cells": [
  {
   "cell_type": "code",
   "execution_count": 45,
   "id": "6e3db0f4",
   "metadata": {},
   "outputs": [],
   "source": [
    "import numpy as np\n",
    "import matplotlib.pyplot as plt"
   ]
  },
  {
   "cell_type": "code",
   "execution_count": 46,
   "id": "a61dae3d",
   "metadata": {},
   "outputs": [],
   "source": [
    "size = 1000\n",
    "x = np.random.normal(loc=0, scale=8, size=size)\n",
    "y = np.random.normal(loc=0, scale=2, size=size)"
   ]
  },
  {
   "cell_type": "code",
   "execution_count": 47,
   "id": "40bdec99",
   "metadata": {},
   "outputs": [
    {
     "data": {
      "image/png": "[encoded data removed]",
      "text/plain": [
       "<Figure size 432x288 with 1 Axes>"
      ]
     },
     "metadata": {
      "needs_background": "light"
     },
     "output_type": "display_data"
    }
   ],
   "source": [
    "plt.scatter(x, y)\n",
    "plt.axis('equal')\n",
    "plt.show()"
   ]
  },
  {
   "cell_type": "code",
   "execution_count": 48,
   "id": "2e511952",
   "metadata": {},
   "outputs": [],
   "source": [
    "mean = [0, 0]\n",
    "cov = [[3, 3], [3, 4]]\n",
    "size = 500\n",
    "X = np.random.multivariate_normal(mean=mean, cov=cov, size=size)"
   ]
  },
  {
   "cell_type": "code",
   "execution_count": 49,
   "id": "e31ee3a5",
   "metadata": {},
   "outputs": [
    {
     "data": {
      "image/png": "[encoded data removed]",
      "text/plain": [
       "<Figure size 432x288 with 1 Axes>"
      ]
     },
     "metadata": {
      "needs_background": "light"
     },
     "output_type": "display_data"
    }
   ],
   "source": [
    "plt.scatter(X[:, 0], X[:, 1])\n",
    "plt.axis('equal')\n",
    "plt.show()"
   ]
  },
  {
   "cell_type": "code",
   "execution_count": 50,
   "id": "130b5e9d",
   "metadata": {},
   "outputs": [
    {
     "data": {
      "text/plain": [
       "array([[ 1.68530270e+00,  1.87399966e+00],\n",
       "       [-1.30234809e+00, -2.81441821e+00],\n",
       "       [ 8.14655831e-01,  1.44237100e+00],\n",
       "       [-1.84273685e-01,  1.24880224e+00],\n",
       "       [ 1.28038904e+00, -1.06843432e-01],\n",
       "       [ 4.28202052e+00,  3.53867830e+00],\n",
       "       [-2.97724459e+00, -3.14458864e+00],\n",
       "       [-1.36323954e+00, -7.80025801e-01],\n",
       "       [-2.73416194e+00, -1.14474781e+00],\n",
       "       [ 1.38367950e+00,  6.72369916e-01],\n",
       "       [-2.39662638e+00, -1.76848633e+00],\n",
       "       [ 2.71717975e+00,  3.24343631e+00],\n",
       "       [-1.84139863e+00, -2.01932071e+00],\n",
       "       [-1.34409974e+00, -1.60860087e+00],\n",
       "       [ 1.57736241e+00,  2.36105886e+00],\n",
       "       [-5.54122565e-02,  6.72098281e-01],\n",
       "       [-2.94972826e+00, -3.21675547e+00],\n",
       "       [ 1.31870274e+00,  3.00276027e+00],\n",
       "       [-2.51436488e-01,  1.16379936e+00],\n",
       "       [ 2.87760365e-01, -7.14313716e-01],\n",
       "       [ 2.34211834e+00,  2.40706715e+00],\n",
       "       [-2.41490800e+00, -1.88174652e+00],\n",
       "       [-2.78232485e+00, -2.43557248e+00],\n",
       "       [-2.65452683e-01, -2.14020996e-01],\n",
       "       [ 2.68323898e+00,  3.96866126e+00],\n",
       "       [ 1.85107421e+00,  3.17160805e+00],\n",
       "       [-6.36058977e-01, -8.63431136e-01],\n",
       "       [ 1.86740384e+00,  2.30755883e+00],\n",
       "       [-8.41102993e-02, -7.89513149e-01],\n",
       "       [-7.54909921e-01, -1.81943609e-01],\n",
       "       [ 5.24310650e-01, -2.42907416e-01],\n",
       "       [ 9.31567738e-01, -1.06209265e+00],\n",
       "       [ 8.52298450e-01,  8.68805345e-01],\n",
       "       [-2.73163372e-01, -9.71813832e-01],\n",
       "       [-1.80022661e+00, -1.92167332e+00],\n",
       "       [-1.47981210e+00, -2.55049324e+00],\n",
       "       [-1.92524056e+00, -2.72726293e+00],\n",
       "       [ 3.90466827e-01,  1.50735740e+00],\n",
       "       [ 1.95780631e+00,  2.29604150e+00],\n",
       "       [-8.79229484e-01, -1.40234783e+00],\n",
       "       [ 3.40720908e-01,  1.57988362e+00],\n",
       "       [ 2.00601603e+00,  1.26645614e+00],\n",
       "       [ 7.62594217e-01,  8.30817487e-01],\n",
       "       [ 7.54074168e-01, -2.87606383e-01],\n",
       "       [ 7.97933890e-01, -8.38499925e-01],\n",
       "       [ 1.86577553e+00,  3.36339535e+00],\n",
       "       [ 1.88329387e-01,  2.10619574e+00],\n",
       "       [-5.41803014e-02,  1.19987403e-01],\n",
       "       [ 5.06953448e-01,  2.29402738e-01],\n",
       "       [-9.31641366e-01, -1.08533861e+00],\n",
       "       [-7.97401885e-01, -3.94790837e-01],\n",
       "       [ 1.72108095e+00,  1.34620629e+00],\n",
       "       [ 1.43703566e+00,  2.13729723e-01],\n",
       "       [ 4.55393004e-02,  3.64888021e-02],\n",
       "       [-2.62732420e+00, -1.94418037e+00],\n",
       "       [-3.84054877e-01,  8.67086459e-02],\n",
       "       [-1.14969008e-01,  3.10144635e-01],\n",
       "       [ 2.05861065e+00,  2.61110404e+00],\n",
       "       [ 1.58879351e+00,  3.78200228e-01],\n",
       "       [-1.32361742e+00, -1.47345388e+00],\n",
       "       [-5.31544700e-01, -5.87501387e-01],\n",
       "       [ 6.39463762e-01, -9.67089762e-01],\n",
       "       [ 1.10855347e+00,  5.19779881e-01],\n",
       "       [-8.31922575e-01, -1.84612987e+00],\n",
       "       [-1.25532837e+00, -2.50415722e+00],\n",
       "       [-1.87592028e+00, -1.07044641e+00],\n",
       "       [-1.35456236e-01,  1.34683401e+00],\n",
       "       [ 5.50102017e-01,  1.49988442e+00],\n",
       "       [ 4.24752818e-01,  2.34420002e+00],\n",
       "       [ 7.81826934e-01,  1.51934766e+00],\n",
       "       [-1.17524310e+00,  2.53362915e-01],\n",
       "       [ 4.29158130e-01,  1.13567119e+00],\n",
       "       [-2.11347960e+00, -2.75618519e+00],\n",
       "       [-1.74984716e+00, -1.84270212e+00],\n",
       "       [ 1.70000988e+00,  1.58395808e+00],\n",
       "       [ 2.13172368e+00,  2.49590220e+00],\n",
       "       [-1.46301359e+00, -8.57907594e-02],\n",
       "       [-1.74113697e+00, -3.19848009e+00],\n",
       "       [ 4.77053045e-01,  8.41658564e-01],\n",
       "       [ 1.38114107e-01, -7.86795431e-02],\n",
       "       [-4.37574074e+00, -5.11995941e+00],\n",
       "       [-8.07975562e-01, -1.47049589e+00],\n",
       "       [ 2.82217046e-01,  6.09649357e-01],\n",
       "       [ 1.32820397e+00,  1.01636962e+00],\n",
       "       [-1.24769952e+00, -2.20610264e+00],\n",
       "       [-1.57772381e+00, -4.13799256e+00],\n",
       "       [ 1.48265305e+00,  5.61896009e-01],\n",
       "       [-9.73754479e-01,  2.31985454e-01],\n",
       "       [ 2.30814987e+00,  3.28497119e+00],\n",
       "       [-7.06206705e-01,  4.55759048e-01],\n",
       "       [-1.19113420e+00, -2.16775715e-01],\n",
       "       [ 8.82012100e-01,  1.11524393e+00],\n",
       "       [ 1.83420183e+00,  2.17303658e+00],\n",
       "       [ 4.05446238e+00,  4.11894279e+00],\n",
       "       [ 1.38491120e+00,  1.67133209e+00],\n",
       "       [-2.02749696e+00, -7.04950271e-01],\n",
       "       [-2.26041541e+00, -1.18876064e+00],\n",
       "       [-8.58598953e-01, -1.97309420e+00],\n",
       "       [-3.45130950e-01, -2.05368826e+00],\n",
       "       [ 1.58632574e+00,  1.52462660e+00],\n",
       "       [ 8.70283316e-02,  8.03280654e-01],\n",
       "       [-3.31352563e+00, -2.59772268e+00],\n",
       "       [ 1.86167077e+00,  1.18688999e+00],\n",
       "       [-4.82378537e-01, -4.21516342e-01],\n",
       "       [ 2.05101587e+00,  2.22194949e+00],\n",
       "       [ 6.64388644e-01,  4.03271337e-02],\n",
       "       [-1.58370997e+00, -1.75617551e+00],\n",
       "       [-1.49582564e+00, -1.30231492e+00],\n",
       "       [-1.27541252e+00, -1.87688520e+00],\n",
       "       [-1.10306445e+00, -2.50224420e+00],\n",
       "       [ 8.64386227e-01,  1.68896173e-01],\n",
       "       [ 2.15245099e-02,  8.17554077e-01],\n",
       "       [ 5.57970954e-01,  1.90903506e-01],\n",
       "       [ 2.30700591e-01,  1.92822927e+00],\n",
       "       [-3.95601385e-01, -3.86464595e-01],\n",
       "       [-4.70805548e+00, -4.59485579e+00],\n",
       "       [ 2.38374173e+00,  2.32899876e+00],\n",
       "       [-1.06486648e+00, -6.85145052e-01],\n",
       "       [-2.11255977e+00, -2.49973134e+00],\n",
       "       [ 9.92453823e-01,  4.71198344e-01],\n",
       "       [ 3.73903348e+00,  4.00637699e+00],\n",
       "       [-1.77666008e+00, -1.07963757e+00],\n",
       "       [-7.13296229e-01, -2.02576189e+00],\n",
       "       [-1.56432629e+00, -1.43976657e+00],\n",
       "       [ 1.73895067e-01, -1.08992674e+00],\n",
       "       [ 1.46923479e-01,  3.72067680e-02],\n",
       "       [-6.12661393e-01, -3.44983013e-01],\n",
       "       [ 2.20418796e-01, -7.37871452e-01],\n",
       "       [ 1.56276852e+00,  3.53670267e+00],\n",
       "       [ 1.11928912e+00,  2.72764066e-01],\n",
       "       [ 4.69342030e-01,  1.06395127e+00],\n",
       "       [-1.26526816e+00, -2.70058214e+00],\n",
       "       [ 2.10386153e+00,  1.85491042e+00],\n",
       "       [ 1.48130574e+00,  2.86556886e+00],\n",
       "       [-1.38125359e+00, -1.87022126e+00],\n",
       "       [ 6.21703480e-01,  8.71746511e-01],\n",
       "       [ 2.50501411e+00,  3.61312019e+00],\n",
       "       [ 1.23380988e+00,  7.20086696e-01],\n",
       "       [-1.49057940e-01, -1.68019847e+00],\n",
       "       [-1.62037525e+00, -3.11487527e+00],\n",
       "       [ 7.56401157e-01,  1.61708191e+00],\n",
       "       [ 9.47889040e-01, -2.71774815e-01],\n",
       "       [-6.10294351e-01, -3.89471024e-01],\n",
       "       [-7.20851672e-01,  2.70304287e-02],\n",
       "       [ 3.27929359e-01,  2.35439928e-01],\n",
       "       [ 4.40763910e-01,  9.66125340e-01],\n",
       "       [-1.52546821e+00, -1.95409543e+00],\n",
       "       [-9.61881222e-01, -1.12038963e+00],\n",
       "       [-9.53092933e-01,  1.66057881e+00],\n",
       "       [ 8.66881571e-01,  1.00959421e+00],\n",
       "       [-2.53280056e+00, -3.34652777e+00],\n",
       "       [-6.02291236e-01, -4.95332772e-01],\n",
       "       [-1.27137959e+00, -1.34494188e+00],\n",
       "       [ 1.15984757e+00,  2.84477389e+00],\n",
       "       [ 5.37266176e-01,  6.82409781e-01],\n",
       "       [ 1.60857668e+00,  6.07037784e-02],\n",
       "       [ 4.17391906e-01, -1.64835232e-03],\n",
       "       [-6.01427955e-02,  1.95349138e+00],\n",
       "       [ 2.47575015e+00,  1.73393537e+00],\n",
       "       [ 2.31714510e+00,  3.09726782e+00],\n",
       "       [ 1.33027406e+00,  6.23243360e-01],\n",
       "       [ 2.37516735e+00,  2.57975700e+00],\n",
       "       [ 4.39151391e-01,  6.48729694e-01],\n",
       "       [ 8.73789217e-01,  4.27115748e-01],\n",
       "       [-8.71256183e-01, -1.58304540e+00],\n",
       "       [-1.80408070e+00, -7.33984361e-01],\n",
       "       [ 2.27251578e+00,  3.16131514e+00],\n",
       "       [-5.93362199e-01, -6.74246301e-01],\n",
       "       [ 8.46330756e-01, -3.63363303e-01],\n",
       "       [ 1.48132917e+00,  1.32053510e+00],\n",
       "       [-2.44451706e+00, -2.59298515e+00],\n",
       "       [ 1.37980912e-01, -1.73895713e+00],\n",
       "       [-1.41635538e-01,  1.03073520e+00],\n",
       "       [-3.30156957e+00, -3.16569224e+00],\n",
       "       [ 8.54537234e-01,  9.87518416e-01],\n",
       "       [ 2.09101657e-01, -1.26931305e+00],\n",
       "       [ 3.24740525e-01,  4.46863119e-01],\n",
       "       [ 2.13438869e+00,  2.58427870e+00],\n",
       "       [ 5.31107763e-01,  1.39763519e+00],\n",
       "       [ 2.77165095e+00,  2.95684200e+00],\n",
       "       [ 1.68864237e+00,  2.95771933e+00],\n",
       "       [-2.53960690e+00, -1.30552993e+00],\n",
       "       [ 7.31082212e-01, -2.55251534e-02],\n",
       "       [ 1.73884578e-01,  2.63139556e-01],\n",
       "       [ 1.15598850e+00,  1.70798589e+00],\n",
       "       [ 4.18811494e+00,  4.66163167e+00],\n",
       "       [ 1.28046261e+00,  1.16339472e+00],\n",
       "       [-2.03528987e+00, -2.50935697e+00],\n",
       "       [-1.68864371e+00, -2.14004234e+00],\n",
       "       [-3.16930296e-01, -2.98454252e-01],\n",
       "       [ 2.32266434e-01, -7.48236840e-01],\n",
       "       [-1.66465142e+00, -3.78426901e+00],\n",
       "       [ 5.58295681e-01,  2.19382469e+00],\n",
       "       [ 1.37676448e+00,  1.46576819e+00],\n",
       "       [ 3.28175398e+00,  3.33178181e+00],\n",
       "       [ 1.17591999e+00,  2.83559471e+00],\n",
       "       [-5.78184058e-01,  1.72345661e-01],\n",
       "       [ 1.56920661e+00,  1.47752624e+00],\n",
       "       [ 3.68237516e+00,  3.84534388e+00],\n",
       "       [-1.65824902e+00, -1.36675523e+00],\n",
       "       [ 1.42785328e+00,  1.53092692e+00],\n",
       "       [ 9.08308085e-01, -1.48449143e+00],\n",
       "       [-8.67382116e-01, -2.42846218e+00],\n",
       "       [ 1.00422409e+00,  1.89025336e+00],\n",
       "       [ 1.42676788e-01,  1.74239292e+00],\n",
       "       [ 4.58719751e-01, -2.89292320e-01],\n",
       "       [-3.01385593e-02,  3.15157178e-01],\n",
       "       [-2.73546538e+00, -2.80685663e+00],\n",
       "       [ 2.20926434e+00,  2.71905017e+00],\n",
       "       [-9.13203564e-01, -2.87864130e+00],\n",
       "       [-2.46601720e+00, -1.87097088e+00],\n",
       "       [-1.04699374e+00, -1.63775846e+00],\n",
       "       [ 8.72846786e-01,  6.47778235e-01],\n",
       "       [ 1.96517709e+00,  2.41853246e+00],\n",
       "       [-7.62977910e-01, -4.25338906e-01],\n",
       "       [-2.45784046e+00, -1.04129197e+00],\n",
       "       [-5.95249826e-01,  6.26809903e-03],\n",
       "       [-1.57829747e+00, -2.06152640e+00],\n",
       "       [-2.37947831e+00,  6.03973459e-01],\n",
       "       [ 3.64288484e+00,  3.61317624e+00],\n",
       "       [ 2.30054115e+00, -1.15823598e-01],\n",
       "       [-1.96636009e+00, -2.50156797e+00],\n",
       "       [ 2.01678065e+00,  2.19167697e+00],\n",
       "       [ 6.70738957e-01,  8.19474588e-01],\n",
       "       [-4.27435977e+00, -3.11927333e+00],\n",
       "       [ 6.11184598e-01,  5.28624305e-01],\n",
       "       [ 2.74729013e+00,  1.93872743e+00],\n",
       "       [-1.08216262e+00, -3.57707230e+00],\n",
       "       [ 6.56479574e-01, -3.84218505e-01],\n",
       "       [-5.38177118e-01,  4.55809491e-02],\n",
       "       [-1.51340767e+00, -1.94511067e+00],\n",
       "       [-8.46303566e-01, -1.40746812e+00],\n",
       "       [ 5.63588739e-01,  3.70734593e-01],\n",
       "       [ 2.96383496e+00,  2.26522265e+00],\n",
       "       [-1.91636755e+00, -3.73741635e+00],\n",
       "       [-1.09209412e+00, -1.31751929e+00],\n",
       "       [ 7.63599349e-01, -9.09163991e-01],\n",
       "       [-1.25712793e+00, -2.49507622e+00],\n",
       "       [-2.84670834e-01, -1.65065580e+00],\n",
       "       [ 1.67427534e+00,  5.96010294e-01],\n",
       "       [ 1.33699788e+00,  1.86305122e+00],\n",
       "       [-7.55431970e-01, -6.94893355e-01],\n",
       "       [-1.23344034e+00, -4.04019433e-01],\n",
       "       [ 1.57419774e+00,  3.46892715e-01],\n",
       "       [-1.36281850e+00,  6.29033185e-01],\n",
       "       [ 2.33061552e+00,  3.89288617e+00],\n",
       "       [ 2.45821732e-01,  1.21539106e+00],\n",
       "       [-1.62365768e+00, -3.18866747e+00],\n",
       "       [ 2.08635804e+00,  2.52831992e-01],\n",
       "       [ 2.60301766e-01,  9.17144032e-01],\n",
       "       [-1.19472752e+00,  7.64777784e-02],\n",
       "       [-2.75453372e-01, -1.27822760e+00],\n",
       "       [ 1.38659670e+00,  1.02155427e+00],\n",
       "       [ 1.02311808e+00, -9.51903728e-02],\n",
       "       [-2.40175262e+00, -2.69868283e+00],\n",
       "       [ 1.57101349e+00,  9.27638956e-01],\n",
       "       [-1.63260792e+00, -1.06462562e+00],\n",
       "       [ 4.72842493e-01,  9.50832282e-01],\n",
       "       [-1.99493851e+00, -1.86227124e+00],\n",
       "       [-1.10729590e+00, -7.66044669e-01],\n",
       "       [ 4.73221844e-01, -6.57546867e-01],\n",
       "       [ 2.01331183e+00,  1.24719232e+00],\n",
       "       [ 1.76771336e+00,  8.28058085e-01],\n",
       "       [-2.81263623e+00, -2.29628985e+00],\n",
       "       [-4.82573542e-01, -1.53612506e+00],\n",
       "       [-5.58829580e-02, -1.99618569e-01],\n",
       "       [-1.13130909e+00,  5.57240480e-01],\n",
       "       [-3.09438699e-01, -1.90896015e+00],\n",
       "       [-3.01608186e+00, -2.71222897e+00],\n",
       "       [-5.76016403e-01, -2.14929306e+00],\n",
       "       [ 1.48023833e+00, -1.96049932e-01],\n",
       "       [ 8.06973263e-01,  1.32996904e+00],\n",
       "       [ 8.87345607e-01, -5.17003102e-01],\n",
       "       [ 1.95932076e+00,  1.55981756e+00],\n",
       "       [ 1.08095882e+00,  9.56865540e-01],\n",
       "       [ 3.14486401e-01, -2.41806037e+00],\n",
       "       [-1.13670464e+00,  1.49841491e+00],\n",
       "       [-9.79321537e-01, -1.24820560e+00],\n",
       "       [ 1.73704243e-01,  9.16745903e-01],\n",
       "       [ 1.29361932e-01,  5.07400009e-01],\n",
       "       [-1.50128260e+00, -8.94076929e-01],\n",
       "       [-1.11181216e+00,  1.13267150e-01],\n",
       "       [-2.20429344e+00, -1.92270653e+00],\n",
       "       [ 1.74755379e+00,  1.93366651e+00],\n",
       "       [-1.29993053e+00, -2.06554618e+00],\n",
       "       [ 2.20799328e+00,  2.32773394e+00],\n",
       "       [-7.23452179e-01,  4.03197651e-01],\n",
       "       [ 6.53667208e-01,  1.64502444e+00],\n",
       "       [ 2.08795786e+00,  1.94854794e+00],\n",
       "       [ 4.28398443e+00,  4.65376808e+00],\n",
       "       [-3.28541897e+00, -2.97688597e+00],\n",
       "       [-4.26476336e+00, -4.48622483e+00],\n",
       "       [ 9.43664018e-01,  1.43088919e+00],\n",
       "       [ 5.08944876e-01, -4.75692937e-01],\n",
       "       [ 1.38115105e+00,  8.43331566e-01],\n",
       "       [ 5.65807329e-01,  1.23566485e+00],\n",
       "       [-5.92927263e-01, -1.81320797e+00],\n",
       "       [-6.77162565e-01,  1.11387095e+00],\n",
       "       [-1.83694363e-01, -2.09115499e+00],\n",
       "       [-1.71520825e+00, -1.51040633e+00],\n",
       "       [ 2.05517402e+00,  3.00939518e+00],\n",
       "       [-3.45436495e-02,  4.33404337e-01],\n",
       "       [-1.08794119e+00, -1.05338138e+00],\n",
       "       [ 1.66000356e+00,  1.76188403e+00],\n",
       "       [ 6.61636288e-01,  9.07101966e-01],\n",
       "       [ 1.70321326e-01,  2.54461150e-01],\n",
       "       [-4.97239047e-01, -9.95219609e-01],\n",
       "       [-9.41259797e-01, -1.22075280e+00],\n",
       "       [ 4.18030889e+00,  4.22134853e+00],\n",
       "       [ 7.89972224e-01,  1.16217051e+00],\n",
       "       [-1.57087438e+00, -1.63167554e+00],\n",
       "       [ 7.04946270e-01,  8.47736363e-02],\n",
       "       [ 3.49255262e+00,  3.36072324e+00],\n",
       "       [-2.98231478e+00, -2.02975950e+00],\n",
       "       [-2.62141640e+00, -3.01496545e+00],\n",
       "       [ 1.16213427e+00, -1.03756277e+00],\n",
       "       [-5.73071100e-02, -1.01231714e+00],\n",
       "       [-2.50683413e+00, -1.51787610e-01],\n",
       "       [-1.55009902e+00,  5.01310523e-01],\n",
       "       [ 1.56273823e+00,  2.59555734e+00],\n",
       "       [-1.91446431e+00, -2.67097663e+00],\n",
       "       [ 1.25640259e+00,  1.76020392e+00],\n",
       "       [ 1.35573623e+00,  1.12673555e+00],\n",
       "       [-8.29036297e-01, -1.13877219e+00],\n",
       "       [ 2.90371785e-01,  9.76756607e-01],\n",
       "       [-1.08814607e+00, -6.41954854e-01],\n",
       "       [-1.16131415e-01,  1.96883251e+00],\n",
       "       [-9.20429488e-01, -5.45107627e-01],\n",
       "       [-3.76678760e+00, -5.19093383e+00],\n",
       "       [ 7.75916714e-01,  9.14372834e-01],\n",
       "       [-1.23669099e+00, -1.72805210e+00],\n",
       "       [-1.85375623e+00, -2.48600248e+00],\n",
       "       [-9.79770215e-01, -8.18651806e-01],\n",
       "       [-3.32174270e+00, -2.34152808e+00],\n",
       "       [ 2.00313997e+00,  3.43861165e+00],\n",
       "       [-2.55863230e+00, -2.72848600e+00],\n",
       "       [ 3.10196208e+00,  3.42350083e+00],\n",
       "       [ 2.06110601e+00,  3.80738986e-01],\n",
       "       [-1.27692659e+00, -1.93908529e+00],\n",
       "       [ 8.69747384e-01,  1.52128482e+00],\n",
       "       [ 1.55236918e-01,  2.37103269e+00],\n",
       "       [-6.28091426e-01, -1.28641680e+00],\n",
       "       [ 1.19805669e-01,  8.67552508e-01],\n",
       "       [ 6.98269065e-01,  2.18357458e+00],\n",
       "       [-1.04840839e+00, -2.60384423e+00],\n",
       "       [ 9.63784927e-01,  2.37763650e-01],\n",
       "       [-1.24843035e+00, -3.16625935e-01],\n",
       "       [ 1.18800580e+00,  2.74831367e+00],\n",
       "       [-1.72235939e+00, -2.15226556e-01],\n",
       "       [ 1.80484621e+00,  6.46919552e-02],\n",
       "       [ 1.07312140e+00,  2.02322055e+00],\n",
       "       [ 2.08479716e-01, -8.80533119e-01],\n",
       "       [-3.21681459e+00, -4.04700973e+00],\n",
       "       [ 3.05237374e-01, -2.50469255e-01],\n",
       "       [-1.55977286e+00, -1.00190372e+00],\n",
       "       [ 1.04091916e+00,  6.98289542e-01],\n",
       "       [ 3.78768930e+00,  3.35733523e+00],\n",
       "       [-2.53830427e+00, -3.59383985e+00],\n",
       "       [-1.66607477e+00, -8.86244485e-01],\n",
       "       [-9.61893994e-01, -6.21347521e-01],\n",
       "       [-6.47767974e-01, -2.06302604e+00],\n",
       "       [-7.57068861e-01,  1.71298275e-01],\n",
       "       [ 2.53586320e+00,  2.72247614e+00],\n",
       "       [ 4.42825484e+00,  5.25208210e+00],\n",
       "       [-5.53417416e-01,  2.60900854e-01],\n",
       "       [-1.73203412e+00,  4.28740297e-01],\n",
       "       [-1.79348942e+00, -2.04809396e+00],\n",
       "       [-1.32444699e+00, -1.62197129e+00],\n",
       "       [ 3.34869904e-01, -2.10664739e-01],\n",
       "       [ 8.09812307e-02, -1.15516836e+00],\n",
       "       [-1.54826050e+00, -1.18466538e+00],\n",
       "       [-3.00214786e+00, -4.31185993e+00],\n",
       "       [-1.16940954e+00, -1.82597716e+00],\n",
       "       [ 3.06960346e+00,  1.30480888e+00],\n",
       "       [-1.00920018e+00, -1.78135744e+00],\n",
       "       [ 1.72415810e+00, -6.07332896e-01],\n",
       "       [ 5.25705886e-01,  4.38595335e-01],\n",
       "       [-4.05134934e+00, -3.19389915e+00],\n",
       "       [-7.04117436e-01, -7.99206453e-01],\n",
       "       [ 2.01890845e+00,  1.48570613e+00],\n",
       "       [-3.07347741e-01, -6.83853056e-03],\n",
       "       [-1.76987112e+00, -2.41516020e+00],\n",
       "       [ 4.91209911e+00,  5.79303679e+00],\n",
       "       [ 2.95166602e+00,  2.28030272e+00],\n",
       "       [-1.73744353e+00, -2.30015882e+00],\n",
       "       [-4.96576644e-01, -1.89152180e+00],\n",
       "       [-9.98066794e-01, -2.31854728e+00],\n",
       "       [ 1.89405599e+00,  2.70304828e+00],\n",
       "       [ 1.12815200e+00,  2.81572634e+00],\n",
       "       [-2.82072812e+00, -3.64494567e+00],\n",
       "       [-7.96115696e-01, -6.86727522e-01],\n",
       "       [-6.09812286e-01, -3.23742237e+00],\n",
       "       [-5.67848739e-01,  1.46446165e-01],\n",
       "       [-2.00261282e+00, -4.34975010e+00],\n",
       "       [ 1.41931426e-01,  3.49053057e-01],\n",
       "       [-2.68741661e-01, -2.25144007e+00],\n",
       "       [-2.34645443e+00, -3.05686656e+00],\n",
       "       [ 1.78097587e+00,  6.74517198e-01],\n",
       "       [-2.82893887e+00, -2.99233367e+00],\n",
       "       [-2.48379464e+00, -3.24083196e+00],\n",
       "       [ 1.58389953e+00,  3.08276562e+00],\n",
       "       [-3.97468421e-01, -1.13039560e+00],\n",
       "       [ 1.99132429e-01,  7.95639149e-01],\n",
       "       [ 7.12657330e-01, -2.13662497e-01],\n",
       "       [-5.77087485e-01, -1.46621159e+00],\n",
       "       [ 9.49658119e-01,  6.25166147e-01],\n",
       "       [ 3.03493991e-01,  5.45163829e-01],\n",
       "       [-6.12500996e-01,  2.09226829e-01],\n",
       "       [ 1.06038660e+00, -5.36236965e-01],\n",
       "       [-1.74618982e-01,  1.58082640e+00],\n",
       "       [ 7.73608541e-01, -8.90500812e-02],\n",
       "       [-6.20698317e-01, -4.67384625e-01],\n",
       "       [-1.72153707e+00, -1.22831134e+00],\n",
       "       [ 1.87144231e+00, -2.64068757e-01],\n",
       "       [-1.51277512e+00, -2.07619690e+00],\n",
       "       [ 4.56939847e-01, -8.02511714e-01],\n",
       "       [-3.78708439e-01, -7.89530648e-01],\n",
       "       [ 1.39591019e+00,  1.53033571e+00],\n",
       "       [ 1.69575905e-01,  8.53475534e-01],\n",
       "       [ 1.39469704e+00,  1.19553640e+00],\n",
       "       [-9.42593588e-01,  1.04888382e-01],\n",
       "       [-2.80331355e+00, -3.47473082e+00],\n",
       "       [-1.77320218e+00, -3.24844524e+00],\n",
       "       [ 4.34940417e+00,  5.21487706e+00],\n",
       "       [-2.75411604e-01, -1.45242360e+00],\n",
       "       [-2.71272003e+00, -4.84174013e+00],\n",
       "       [ 4.37904089e-01,  1.05157433e+00],\n",
       "       [ 9.10510149e-01,  1.54805538e+00],\n",
       "       [-2.06976590e+00, -2.39031803e+00],\n",
       "       [ 3.41191869e+00,  3.54996476e+00],\n",
       "       [-1.75532099e-02, -3.00610373e-01],\n",
       "       [-5.28216004e-01, -1.50669164e+00],\n",
       "       [-1.75879058e+00, -8.88931498e-01],\n",
       "       [ 1.63468775e+00,  2.23008640e+00],\n",
       "       [-4.14159030e+00, -5.90429286e+00],\n",
       "       [-1.09247032e+00, -7.64022996e-01],\n",
       "       [ 3.97013356e-01,  1.91677266e+00],\n",
       "       [-8.53843697e-01, -1.41826838e+00],\n",
       "       [ 5.86898481e-01, -1.31444805e+00],\n",
       "       [-8.70443237e-01, -9.64984523e-01],\n",
       "       [ 1.90572609e+00,  6.57340636e-01],\n",
       "       [-5.06622721e-01, -3.76143526e-01],\n",
       "       [-1.66916117e+00, -3.07916888e+00],\n",
       "       [ 2.10950293e+00,  3.41860593e+00],\n",
       "       [-6.65067786e-01,  7.20781240e-01],\n",
       "       [ 2.57207783e+00,  2.81684995e+00],\n",
       "       [ 3.72619331e-01, -1.45198973e+00],\n",
       "       [-1.39431283e+00, -1.14309126e+00],\n",
       "       [-1.56906417e+00, -2.13810072e+00],\n",
       "       [-3.64191120e-01, -2.63620822e-01],\n",
       "       [-3.46813737e-01, -1.65656748e+00],\n",
       "       [-8.71217452e-01, -2.79570982e+00],\n",
       "       [ 8.27124070e-01,  1.39647705e+00],\n",
       "       [ 7.40596261e-01,  5.89677857e-01],\n",
       "       [-5.76232091e-01, -4.02186738e-01],\n",
       "       [-2.88983899e+00, -1.98594808e+00],\n",
       "       [-1.20290823e+00, -9.34942177e-01],\n",
       "       [ 2.05581866e-01, -2.45265068e-01],\n",
       "       [-1.09756076e+00, -3.04239687e+00],\n",
       "       [ 1.06483590e+00, -8.58223844e-02],\n",
       "       [-7.57269086e-01, -9.92938471e-01],\n",
       "       [-5.79844881e-02,  1.54346029e-02],\n",
       "       [ 1.03353992e+00,  1.63022577e+00],\n",
       "       [-1.90974234e+00,  2.67827653e-01],\n",
       "       [-6.39246636e-01, -7.84635555e-02],\n",
       "       [ 8.29723764e-02,  3.58673239e-01],\n",
       "       [ 1.80829656e+00,  3.05574385e+00],\n",
       "       [ 4.01584966e-01,  1.51789328e+00],\n",
       "       [-6.95670049e-01,  9.66671642e-01],\n",
       "       [ 1.30084263e+00,  3.64000560e-01],\n",
       "       [-3.20187568e+00, -4.07255794e+00],\n",
       "       [-7.66680275e-01, -1.25715703e+00],\n",
       "       [-2.51607290e+00, -1.59115633e+00],\n",
       "       [ 4.30355859e-01, -7.82952432e-01],\n",
       "       [ 7.23643083e-01,  1.30197837e+00],\n",
       "       [ 1.13007454e+00,  9.36901577e-01],\n",
       "       [ 2.23831322e+00,  6.08799118e-01],\n",
       "       [ 1.63553257e+00,  1.68433700e+00],\n",
       "       [-8.94779505e-01, -1.61781850e+00],\n",
       "       [-1.10664852e+00, -6.25356643e-01],\n",
       "       [-2.16100381e+00,  1.60040378e-01],\n",
       "       [ 3.78907326e-01,  2.27511738e+00],\n",
       "       [ 9.71059738e-01,  1.39409899e+00],\n",
       "       [ 9.89314150e-01,  1.61843239e-01],\n",
       "       [ 2.33017255e-01,  1.22707711e+00],\n",
       "       [ 4.20226585e-01,  5.60705904e-01],\n",
       "       [-1.38182240e+00,  7.76578085e-02],\n",
       "       [-1.71073534e+00,  1.19422914e-01],\n",
       "       [-1.70659648e+00, -2.94929622e+00],\n",
       "       [-8.42613838e-01, -9.04740952e-01],\n",
       "       [-8.05695176e-01, -7.14582649e-01],\n",
       "       [ 3.29313502e+00,  2.74923221e+00],\n",
       "       [ 2.15895006e+00,  5.25151116e+00],\n",
       "       [-1.18105280e+00, -1.24408161e+00],\n",
       "       [-9.49127201e-01,  6.11019213e-01],\n",
       "       [ 1.51306350e+00,  9.01324708e-01],\n",
       "       [-1.79540894e+00, -1.42271455e+00],\n",
       "       [ 1.83946655e+00,  3.36017784e+00],\n",
       "       [ 4.72986763e-01,  9.01222112e-01],\n",
       "       [ 2.68004871e+00,  2.62535890e+00]])"
      ]
     },
     "execution_count": 50,
     "metadata": {},
     "output_type": "execute_result"
    }
   ],
   "source": [
    "X"
   ]
  },
  {
   "cell_type": "markdown",
   "id": "50da91f9",
   "metadata": {},
   "source": [
    "## normalización de los datos"
   ]
  },
  {
   "cell_type": "code",
   "execution_count": 51,
   "id": "2738e834",
   "metadata": {},
   "outputs": [
    {
     "data": {
      "text/plain": [
       "(array([-0.02625283, -0.05691317]), array([1.66680478, 1.96055267]))"
      ]
     },
     "execution_count": 51,
     "metadata": {},
     "output_type": "execute_result"
    }
   ],
   "source": [
    "np.mean(X, axis=0), np.std(X, axis=0)"
   ]
  },
  {
   "cell_type": "code",
   "execution_count": 52,
   "id": "0c1dab8a",
   "metadata": {},
   "outputs": [],
   "source": [
    "X_std = (X - np.mean(X, axis=0))/np.std(X, axis=0)"
   ]
  },
  {
   "cell_type": "code",
   "execution_count": 53,
   "id": "9d41b06b",
   "metadata": {},
   "outputs": [
    {
     "data": {
      "text/plain": [
       "<matplotlib.collections.PathCollection at 0x1df5d1af190>"
      ]
     },
     "execution_count": 53,
     "metadata": {},
     "output_type": "execute_result"
    },
    {
     "data": {
      "image/png": "[encoded data removed]",
      "text/plain": [
       "<Figure size 432x288 with 1 Axes>"
      ]
     },
     "metadata": {
      "needs_background": "light"
     },
     "output_type": "display_data"
    }
   ],
   "source": [
    "plt.scatter(X_std[:, 0], X_std[:, 1])"
   ]
  },
  {
   "cell_type": "markdown",
   "id": "43a4c919",
   "metadata": {},
   "source": [
    "# Calculo de la covarianza"
   ]
  },
  {
   "cell_type": "code",
   "execution_count": 54,
   "id": "fe565fb4",
   "metadata": {},
   "outputs": [
    {
     "data": {
      "text/plain": [
       "array([3.37507799e-17, 3.55271368e-17])"
      ]
     },
     "execution_count": 54,
     "metadata": {},
     "output_type": "execute_result"
    }
   ],
   "source": [
    "X_mean = np.mean(X_std, axis=0)\n",
    "X_mean"
   ]
  },
  {
   "cell_type": "code",
   "execution_count": 55,
   "id": "415e56c6",
   "metadata": {},
   "outputs": [
    {
     "data": {
      "text/latex": [
       "$\\displaystyle \\Sigma = \\frac{1}{n-1}((X-\\overline{x})^T(X-\\overline{x}))$"
      ],
      "text/plain": [
       "<IPython.core.display.Math object>"
      ]
     },
     "metadata": {},
     "output_type": "display_data"
    }
   ],
   "source": [
    "from IPython.display import display, Math, Latex\n",
    "\n",
    "display(Math(r'\\Sigma = \\frac{1}{n-1}((X-\\overline{x})^T(X-\\overline{x}))'))"
   ]
  },
  {
   "cell_type": "code",
   "execution_count": 56,
   "id": "ac7dc711",
   "metadata": {},
   "outputs": [
    {
     "data": {
      "text/plain": [
       "array([[1.00200401, 0.85380963],\n",
       "       [0.85380963, 1.00200401]])"
      ]
     },
     "execution_count": 56,
     "metadata": {},
     "output_type": "execute_result"
    }
   ],
   "source": [
    "cov_matrix = (X_std - X_mean).T.dot((X_std - X_mean))/(X_std.shape[0]-1)\n",
    "cov_matrix"
   ]
  },
  {
   "cell_type": "code",
   "execution_count": 57,
   "id": "1a6807c9",
   "metadata": {},
   "outputs": [
    {
     "data": {
      "text/plain": [
       "array([[1.00200401, 0.85380963],\n",
       "       [0.85380963, 1.00200401]])"
      ]
     },
     "execution_count": 57,
     "metadata": {},
     "output_type": "execute_result"
    }
   ],
   "source": [
    "np.cov(X_std.T)"
   ]
  },
  {
   "cell_type": "code",
   "execution_count": 58,
   "id": "6e971c34",
   "metadata": {},
   "outputs": [
    {
     "data": {
      "text/plain": [
       "(array([1.85581363, 0.14819438]),\n",
       " array([[ 0.70710678, -0.70710678],\n",
       "        [ 0.70710678,  0.70710678]]))"
      ]
     },
     "execution_count": 58,
     "metadata": {},
     "output_type": "execute_result"
    }
   ],
   "source": [
    "eig_vals, eig_vecs = np.linalg.eig(cov_matrix)\n",
    "eig_vals, eig_vecs"
   ]
  },
  {
   "cell_type": "markdown",
   "id": "cea80d30",
   "metadata": {},
   "source": [
    "# Calculo de valores y vectores propios con la matriz de correlación"
   ]
  },
  {
   "cell_type": "code",
   "execution_count": 15,
   "id": "2b648aaf",
   "metadata": {},
   "outputs": [
    {
     "data": {
      "text/plain": [
       "array([[1.        , 0.87789133],\n",
       "       [0.87789133, 1.        ]])"
      ]
     },
     "execution_count": 15,
     "metadata": {},
     "output_type": "execute_result"
    }
   ],
   "source": [
    "corr_matrix = np.corrcoef(X_std.T)\n",
    "corr_matrix"
   ]
  },
  {
   "cell_type": "code",
   "execution_count": 16,
   "id": "93090071",
   "metadata": {},
   "outputs": [
    {
     "data": {
      "text/plain": [
       "(array([0.12210867, 1.87789133]),\n",
       " array([[-0.70710678, -0.70710678],\n",
       "        [ 0.70710678, -0.70710678]]))"
      ]
     },
     "execution_count": 16,
     "metadata": {},
     "output_type": "execute_result"
    }
   ],
   "source": [
    "eig_vals_corr, eig_vecs_corr = np.linalg.eig(corr_matrix)\n",
    "eig_vals_corr, eig_vecs_corr"
   ]
  },
  {
   "cell_type": "markdown",
   "id": "18042be8",
   "metadata": {},
   "source": [
    "# Singular Value Decomposition"
   ]
  },
  {
   "cell_type": "code",
   "execution_count": 17,
   "id": "c6834893",
   "metadata": {},
   "outputs": [
    {
     "data": {
      "text/plain": [
       "array([[-0.70710678, -0.70710678],\n",
       "       [-0.70710678,  0.70710678]])"
      ]
     },
     "execution_count": 17,
     "metadata": {},
     "output_type": "execute_result"
    }
   ],
   "source": [
    "u, s, v = np.linalg.svd(X_std.T)\n",
    "u"
   ]
  },
  {
   "cell_type": "markdown",
   "id": "b9682e66",
   "metadata": {},
   "source": [
    "# Análisis en vectores y valores propios"
   ]
  },
  {
   "cell_type": "code",
   "execution_count": 18,
   "id": "eca48db0",
   "metadata": {},
   "outputs": [
    {
     "data": {
      "text/plain": [
       "(array([0.12235337, 1.88165464]),\n",
       " array([[-0.70710678, -0.70710678],\n",
       "        [ 0.70710678, -0.70710678]]))"
      ]
     },
     "execution_count": 18,
     "metadata": {},
     "output_type": "execute_result"
    }
   ],
   "source": [
    "eig_vals, eig_vecs"
   ]
  },
  {
   "cell_type": "markdown",
   "id": "932eb5c7",
   "metadata": {},
   "source": [
    "Calculando la norma de los vectores propios"
   ]
  },
  {
   "cell_type": "code",
   "execution_count": 19,
   "id": "3ffa6bb6",
   "metadata": {},
   "outputs": [
    {
     "data": {
      "text/plain": [
       "(0.9999999999999999, 0.9999999999999999)"
      ]
     },
     "execution_count": 19,
     "metadata": {},
     "output_type": "execute_result"
    }
   ],
   "source": [
    "np.linalg.norm(eig_vecs[0]), np.linalg.norm(eig_vecs[1])"
   ]
  },
  {
   "cell_type": "code",
   "execution_count": 20,
   "id": "e5e95af8",
   "metadata": {},
   "outputs": [
    {
     "data": {
      "text/plain": [
       "2.0040080160320635"
      ]
     },
     "execution_count": 20,
     "metadata": {},
     "output_type": "execute_result"
    }
   ],
   "source": [
    "np.sum(eig_vals)"
   ]
  },
  {
   "cell_type": "code",
   "execution_count": 21,
   "id": "8e01b98a",
   "metadata": {},
   "outputs": [
    {
     "data": {
      "text/plain": [
       "array([0.12235337, 1.88165464])"
      ]
     },
     "execution_count": 21,
     "metadata": {},
     "output_type": "execute_result"
    }
   ],
   "source": [
    "eig_vals"
   ]
  },
  {
   "cell_type": "code",
   "execution_count": 22,
   "id": "57bda12f",
   "metadata": {},
   "outputs": [
    {
     "data": {
      "text/plain": [
       "(6.105433347802307, 93.89456665219771)"
      ]
     },
     "execution_count": 22,
     "metadata": {},
     "output_type": "execute_result"
    }
   ],
   "source": [
    "total_sum = np.sum(eig_vals)\n",
    "\n",
    "val_porc_eig_val_1 =  eig_vals[0]/total_sum * 100\n",
    "val_porc_eig_val_2 =  eig_vals[1]/total_sum * 100\n",
    "val_porc_eig_val_1, val_porc_eig_val_2"
   ]
  },
  {
   "cell_type": "code",
   "execution_count": 23,
   "id": "b278a2b0",
   "metadata": {},
   "outputs": [
    {
     "data": {
      "text/plain": [
       "[(0.122353373703453, array([-0.70710678, -0.70710678])),\n",
       " (1.8816546423286107, array([ 0.70710678, -0.70710678]))]"
      ]
     },
     "execution_count": 23,
     "metadata": {},
     "output_type": "execute_result"
    }
   ],
   "source": [
    "# ordenando valores y vectores propios de mayor a menor\n",
    "eig_pairs = [(eig_vals[i], eig_vecs[i]) for i in range(len(eig_vals))]\n",
    "eig_pairs"
   ]
  },
  {
   "cell_type": "code",
   "execution_count": 24,
   "id": "d0c09f5a",
   "metadata": {},
   "outputs": [
    {
     "data": {
      "text/plain": [
       "[(1.8816546423286107, array([ 0.70710678, -0.70710678])),\n",
       " (0.122353373703453, array([-0.70710678, -0.70710678]))]"
      ]
     },
     "execution_count": 24,
     "metadata": {},
     "output_type": "execute_result"
    }
   ],
   "source": [
    "eig_pairs.sort(reverse=True)\n",
    "eig_pairs"
   ]
  },
  {
   "cell_type": "code",
   "execution_count": 25,
   "id": "e3de5c2f",
   "metadata": {},
   "outputs": [
    {
     "data": {
      "text/plain": [
       "([93.89456665219771, 6.105433347802307], array([ 93.89456665, 100.        ]))"
      ]
     },
     "execution_count": 25,
     "metadata": {},
     "output_type": "execute_result"
    }
   ],
   "source": [
    "total_sum = np.sum(eig_vals)\n",
    "\n",
    "porc_eig = [eig_val/total_sum * 100 for eig_val, _ in eig_pairs]\n",
    "cum_porc_eig = np.cumsum(porc_eig)\n",
    "porc_eig, cum_porc_eig"
   ]
  },
  {
   "cell_type": "code",
   "execution_count": 26,
   "id": "6337c398",
   "metadata": {},
   "outputs": [
    {
     "data": {
      "text/plain": [
       "[<matplotlib.lines.Line2D at 0x1df59e1f1f0>]"
      ]
     },
     "execution_count": 26,
     "metadata": {},
     "output_type": "execute_result"
    },
    {
     "data": {
      "image/png": "[encoded data removed]",
      "text/plain": [
       "<Figure size 432x288 with 1 Axes>"
      ]
     },
     "metadata": {
      "needs_background": "light"
     },
     "output_type": "display_data"
    }
   ],
   "source": [
    "# plots\n",
    "x = ['Val prop 1', 'Val prop 2']\n",
    "plt.bar(x, porc_eig)\n",
    "plt.plot(x, cum_porc_eig, '.-', c='orange', linewidth=5, markersize=20)"
   ]
  },
  {
   "cell_type": "code",
   "execution_count": 27,
   "id": "edb17d0f",
   "metadata": {},
   "outputs": [],
   "source": [
    "from sklearn.decomposition import PCA"
   ]
  },
  {
   "cell_type": "code",
   "execution_count": 28,
   "id": "210ad859",
   "metadata": {},
   "outputs": [],
   "source": [
    "pca = PCA(n_components=2).fit(X_std)"
   ]
  },
  {
   "cell_type": "code",
   "execution_count": 29,
   "id": "391b940d",
   "metadata": {},
   "outputs": [
    {
     "data": {
      "text/plain": [
       "(array([[ 0.70710678,  0.70710678],\n",
       "        [-0.70710678,  0.70710678]]),\n",
       " array([1.88165464, 0.12235337]))"
      ]
     },
     "execution_count": 29,
     "metadata": {},
     "output_type": "execute_result"
    }
   ],
   "source": [
    "pca.components_, pca.explained_variance_"
   ]
  },
  {
   "cell_type": "code",
   "execution_count": 60,
   "id": "14a0ad51",
   "metadata": {},
   "outputs": [
    {
     "data": {
      "text/plain": [
       "<matplotlib.legend.Legend at 0x1df62c005e0>"
      ]
     },
     "execution_count": 60,
     "metadata": {},
     "output_type": "execute_result"
    },
    {
     "data": {
      "image/png": "[encoded data removed]",
      "text/plain": [
       "<Figure size 432x288 with 1 Axes>"
      ]
     },
     "metadata": {
      "needs_background": "light"
     },
     "output_type": "display_data"
    }
   ],
   "source": [
    "plt.scatter(X_std[:, 0], X_std[:, 1], label='data')\n",
    "\n",
    "for idx, (eig_val, eig_vec) in enumerate(zip(pca.explained_variance_, pca.components_)):\n",
    "    plt.plot([0, eig_val*eig_vec[0]], [0, eig_val*eig_vec[1]], \n",
    "             color=f\"C{idx+2}\", label=f'comp. principal {idx+1}', linewidth=5)\n",
    "\n",
    "plt.legend()"
   ]
  },
  {
   "cell_type": "code",
   "execution_count": null,
   "id": "923fb3e8",
   "metadata": {},
   "outputs": [],
   "source": []
  }
 ],
 "metadata": {
  "kernelspec": {
   "display_name": "Python 3 (ipykernel)",
   "language": "python",
   "name": "python3"
  },
  "language_info": {
   "codemirror_mode": {
    "name": "ipython",
    "version": 3
   },
   "file_extension": ".py",
   "mimetype": "text/x-python",
   "name": "python",
   "nbconvert_exporter": "python",
   "pygments_lexer": "ipython3",
   "version": "3.9.7"
  }
 },
 "nbformat": 4,
 "nbformat_minor": 5
}
