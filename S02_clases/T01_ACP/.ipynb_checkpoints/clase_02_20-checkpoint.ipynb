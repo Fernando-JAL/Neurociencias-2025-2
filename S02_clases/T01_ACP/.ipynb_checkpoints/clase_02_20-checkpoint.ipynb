{
 "cells": [
  {
   "cell_type": "code",
   "execution_count": 2,
   "id": "6e3db0f4",
   "metadata": {},
   "outputs": [],
   "source": [
    "import numpy as np\n",
    "import matplotlib.pyplot as plt"
   ]
  },
  {
   "cell_type": "code",
   "execution_count": 3,
   "id": "a61dae3d",
   "metadata": {},
   "outputs": [],
   "source": [
    "size = 1000\n",
    "x = np.random.normal(loc=0, scale=8, size=size)\n",
    "y = np.random.normal(loc=0, scale=2, size=size)"
   ]
  },
  {
   "cell_type": "code",
   "execution_count": 4,
   "id": "40bdec99",
   "metadata": {},
   "outputs": [
    {
     "data": {
      "image/png": "[encoded data removed]",
      "text/plain": [
       "<Figure size 432x288 with 1 Axes>"
      ]
     },
     "metadata": {
      "needs_background": "light"
     },
     "output_type": "display_data"
    }
   ],
   "source": [
    "plt.scatter(x, y)\n",
    "plt.axis('equal')\n",
    "plt.show()"
   ]
  },
  {
   "cell_type": "code",
   "execution_count": 5,
   "id": "2e511952",
   "metadata": {},
   "outputs": [],
   "source": [
    "mean = [0, 0]\n",
    "cov = [[3, 3], [3, 4]]\n",
    "size = 500\n",
    "X = np.random.multivariate_normal(mean=mean, cov=cov, size=size)"
   ]
  },
  {
   "cell_type": "code",
   "execution_count": 6,
   "id": "e31ee3a5",
   "metadata": {},
   "outputs": [
    {
     "data": {
      "image/png": "[encoded data removed]",
      "text/plain": [
       "<Figure size 432x288 with 1 Axes>"
      ]
     },
     "metadata": {
      "needs_background": "light"
     },
     "output_type": "display_data"
    }
   ],
   "source": [
    "plt.scatter(X[:, 0], X[:, 1])\n",
    "plt.axis('equal')\n",
    "plt.show()"
   ]
  },
  {
   "cell_type": "code",
   "execution_count": 7,
   "id": "130b5e9d",
   "metadata": {},
   "outputs": [
    {
     "data": {
      "text/plain": [
       "array([[ 3.63148947e-01,  7.40007459e-02],\n",
       "       [ 6.08624055e-01,  3.34262607e+00],\n",
       "       [ 1.43824963e+00,  1.58443929e+00],\n",
       "       [-1.18684587e+00, -1.29694038e+00],\n",
       "       [-9.83662322e-01,  1.08305836e+00],\n",
       "       [ 1.93577784e+00,  3.85819066e+00],\n",
       "       [-2.40509532e+00, -1.98565658e+00],\n",
       "       [-1.17253761e-01,  1.65065659e+00],\n",
       "       [ 2.07829045e+00,  2.44095373e+00],\n",
       "       [-1.64547047e-01,  1.11536708e+00],\n",
       "       [-1.57011270e-01, -1.15820666e+00],\n",
       "       [ 2.13700689e+00,  3.43610994e+00],\n",
       "       [ 2.23825742e-01,  2.15616790e+00],\n",
       "       [-3.27084858e-01,  7.56685469e-01],\n",
       "       [-1.32443315e+00, -1.65063420e+00],\n",
       "       [ 1.33227936e+00, -4.88968688e-01],\n",
       "       [-5.56427109e-01, -3.78652195e-03],\n",
       "       [-2.64629091e+00, -1.54237746e+00],\n",
       "       [-1.93397503e+00, -2.91949533e+00],\n",
       "       [-1.07084223e+00,  1.34739565e+00],\n",
       "       [-1.08660690e+00, -2.61347558e+00],\n",
       "       [ 1.12927237e+00,  7.76948124e-01],\n",
       "       [-9.83928508e-01, -7.18171763e-01],\n",
       "       [ 6.51890047e-01,  7.37876048e-01],\n",
       "       [ 7.96217190e-01,  1.14155054e+00],\n",
       "       [-2.16497667e+00, -2.67271505e+00],\n",
       "       [-8.98893464e-01, -2.30366938e-01],\n",
       "       [ 2.65238034e+00,  2.87531552e+00],\n",
       "       [-1.72844794e+00, -8.77858524e-01],\n",
       "       [-1.67266583e-01, -7.97819042e-01],\n",
       "       [ 2.73804450e+00,  7.63165317e-01],\n",
       "       [ 1.81201917e+00,  3.05009526e+00],\n",
       "       [ 1.03463439e+00,  1.15608008e+00],\n",
       "       [ 1.62313199e+00,  2.64473229e-01],\n",
       "       [ 2.19576457e+00,  2.74376541e+00],\n",
       "       [-4.56557585e-01, -1.40170541e+00],\n",
       "       [ 2.35421303e+00,  1.63220678e+00],\n",
       "       [-1.91435027e+00, -1.57198493e+00],\n",
       "       [ 5.45116949e-01,  8.61326537e-01],\n",
       "       [-1.42058462e-02,  1.69988104e-01],\n",
       "       [ 2.04263376e+00, -6.08317228e-01],\n",
       "       [-9.27374171e-01, -5.38446341e-01],\n",
       "       [-1.06166432e+00,  2.64396665e-01],\n",
       "       [ 3.69559244e+00,  4.00346820e+00],\n",
       "       [ 3.46574668e+00,  3.16538370e+00],\n",
       "       [ 1.05402299e+00,  1.36406891e+00],\n",
       "       [ 1.08379993e+00, -9.61389664e-01],\n",
       "       [-6.19669207e-01, -8.28238126e-01],\n",
       "       [-1.36628690e+00, -1.58654788e+00],\n",
       "       [-2.04960403e+00, -1.38046903e+00],\n",
       "       [ 1.66170539e+00,  1.02185084e+00],\n",
       "       [-5.22089937e+00, -5.73764555e+00],\n",
       "       [-2.68614211e+00, -3.98410332e+00],\n",
       "       [ 1.47081874e+00,  2.58062373e+00],\n",
       "       [ 8.99590057e-01,  4.60849671e-01],\n",
       "       [ 1.10772574e+00,  2.01790662e+00],\n",
       "       [ 5.24196482e-01, -6.35591223e-01],\n",
       "       [ 1.07877005e+00,  2.87166749e-01],\n",
       "       [ 1.68094146e+00,  1.89717185e+00],\n",
       "       [ 1.56573583e+00,  1.09288384e+00],\n",
       "       [ 1.36025723e+00, -2.09596875e-01],\n",
       "       [-1.13277898e+00,  1.07255161e-01],\n",
       "       [-1.79145506e+00, -3.75908955e+00],\n",
       "       [-5.16426921e-01, -4.62534283e-01],\n",
       "       [ 1.59049096e+00,  1.91091053e+00],\n",
       "       [ 3.41519864e+00,  2.70315887e+00],\n",
       "       [ 2.23729154e-01,  6.26059099e-01],\n",
       "       [-1.61613267e+00,  7.25612111e-02],\n",
       "       [-8.86406706e-01, -2.01539367e+00],\n",
       "       [-1.74858610e+00, -3.24051019e+00],\n",
       "       [-5.32048664e-01, -1.57515546e+00],\n",
       "       [-1.49310144e+00, -2.42711683e+00],\n",
       "       [-5.97820622e-01, -8.77306072e-02],\n",
       "       [ 1.02863188e+00,  2.68113438e+00],\n",
       "       [-2.27017793e+00, -2.11581842e+00],\n",
       "       [ 4.52484858e+00,  3.76745182e+00],\n",
       "       [-7.52461096e-01,  1.59555258e+00],\n",
       "       [-2.47506102e+00, -5.28540265e-01],\n",
       "       [ 9.15834294e-01,  8.91474312e-01],\n",
       "       [ 5.72332224e-02,  1.42108115e+00],\n",
       "       [-1.63048561e+00, -1.97632388e+00],\n",
       "       [-3.45210991e-01,  3.60214675e-01],\n",
       "       [-4.37841415e-01, -1.57975679e+00],\n",
       "       [-1.95453056e+00, -3.29922441e+00],\n",
       "       [-3.87722120e+00, -3.59590807e+00],\n",
       "       [-2.19107107e+00, -1.12691106e+00],\n",
       "       [-1.94499087e-01, -1.03302936e+00],\n",
       "       [-2.17058658e+00, -4.20337005e+00],\n",
       "       [ 5.70152628e-01,  1.70739367e+00],\n",
       "       [-2.61249044e+00, -2.46386444e+00],\n",
       "       [ 1.27863237e+00,  1.64205416e+00],\n",
       "       [-2.65098611e+00, -3.01692676e+00],\n",
       "       [-2.62100202e+00, -4.20805533e+00],\n",
       "       [-1.90522887e+00, -1.75691873e+00],\n",
       "       [-2.86801524e-01,  9.89930854e-01],\n",
       "       [ 1.20674884e+00,  8.77977184e-01],\n",
       "       [ 9.48660655e-01,  1.15683748e+00],\n",
       "       [ 2.57309770e+00, -5.04907179e-01],\n",
       "       [-6.40059166e-01, -1.24261573e+00],\n",
       "       [ 2.99108581e+00,  2.79278058e+00],\n",
       "       [-1.84854901e+00,  5.63980373e-01],\n",
       "       [ 1.79679151e+00,  2.06540153e+00],\n",
       "       [-3.62696067e-01, -2.64027732e-01],\n",
       "       [ 1.01029370e+00, -1.31678366e+00],\n",
       "       [ 5.89409663e-01, -8.84272120e-01],\n",
       "       [-1.15321997e+00, -7.13970493e-01],\n",
       "       [-1.79277166e+00, -2.29973661e+00],\n",
       "       [ 1.79132637e+00,  1.80920273e+00],\n",
       "       [ 1.79665998e+00,  2.46158344e+00],\n",
       "       [-1.29226294e+00, -2.70297315e+00],\n",
       "       [ 1.88122327e+00,  2.45469745e+00],\n",
       "       [ 3.82923189e-01,  3.76274105e-01],\n",
       "       [-3.16577706e-01,  4.78267360e-02],\n",
       "       [ 1.58224928e+00,  1.26793127e-01],\n",
       "       [ 1.46836343e+00, -6.19681839e-02],\n",
       "       [ 3.59180989e-01, -6.91444419e-02],\n",
       "       [-1.77724461e+00, -1.85778858e+00],\n",
       "       [ 3.84178011e-01, -4.36861935e-01],\n",
       "       [-1.77280663e+00, -2.50641580e+00],\n",
       "       [-8.78958306e-01,  2.86562298e-01],\n",
       "       [-4.77983432e-01,  3.22312137e-01],\n",
       "       [-3.03862326e+00, -2.40146434e+00],\n",
       "       [ 3.79248741e-01,  4.58769885e-01],\n",
       "       [-1.67794255e+00, -2.64107701e+00],\n",
       "       [ 2.36646735e+00,  1.73625758e+00],\n",
       "       [-1.01355910e-02,  7.57825959e-01],\n",
       "       [-3.65597741e-01,  1.17935280e+00],\n",
       "       [-3.94567063e-02, -1.22416626e-01],\n",
       "       [ 2.94538544e+00,  4.93255119e+00],\n",
       "       [ 2.28334717e+00,  1.51629091e+00],\n",
       "       [ 1.29386304e+00,  2.55462508e+00],\n",
       "       [-1.43682753e+00, -3.18297691e+00],\n",
       "       [-1.26119528e+00, -1.49316387e+00],\n",
       "       [ 1.11188064e+00,  2.02216295e+00],\n",
       "       [-1.68703029e-01, -1.91189471e+00],\n",
       "       [ 3.24874992e+00,  4.82977794e+00],\n",
       "       [-4.66289548e-01, -2.06925601e+00],\n",
       "       [-2.23852754e+00, -3.45666865e+00],\n",
       "       [-5.02538979e-01, -1.76612871e-01],\n",
       "       [-4.05168203e-01, -5.14583878e-01],\n",
       "       [ 1.64923383e-01, -5.12949586e-01],\n",
       "       [-1.21830666e+00, -1.10530658e+00],\n",
       "       [-3.13174382e-01, -1.00765704e+00],\n",
       "       [-7.75370851e-01, -9.78451382e-01],\n",
       "       [ 6.49011164e-02, -2.34006164e-01],\n",
       "       [ 4.11284896e-01,  8.63725818e-01],\n",
       "       [ 3.47614021e+00,  5.41527283e+00],\n",
       "       [-3.57508074e-01, -1.79843286e-01],\n",
       "       [-1.48209562e+00,  4.63088240e-01],\n",
       "       [-3.48527893e+00, -3.25446109e+00],\n",
       "       [ 3.54941522e-01, -4.72151662e-01],\n",
       "       [ 2.69176589e-01,  5.73059341e-01],\n",
       "       [-1.89227626e+00, -2.49562063e+00],\n",
       "       [ 1.76340981e+00,  5.44813528e-01],\n",
       "       [-1.28060900e+00, -1.86530207e+00],\n",
       "       [-8.29412714e-01, -2.32061452e+00],\n",
       "       [-1.66138183e-01,  7.08612458e-01],\n",
       "       [ 2.28995002e+00,  1.69053996e+00],\n",
       "       [ 1.30311811e+00,  1.57568384e+00],\n",
       "       [-1.28937461e+00, -2.10084577e+00],\n",
       "       [ 2.82167912e+00,  4.11928135e+00],\n",
       "       [-3.69091862e+00, -1.66782464e+00],\n",
       "       [ 9.46417862e-01,  1.46355517e+00],\n",
       "       [-2.93991568e+00, -2.93473821e+00],\n",
       "       [ 2.10850488e+00,  2.53153235e+00],\n",
       "       [ 2.88238706e+00,  2.15855888e+00],\n",
       "       [ 3.21096178e+00,  4.93977521e+00],\n",
       "       [-9.28658548e-01, -9.87030733e-01],\n",
       "       [-2.35113429e+00, -3.95162467e+00],\n",
       "       [ 1.83788850e-01, -4.42631082e-01],\n",
       "       [-2.13808786e+00, -1.54657050e+00],\n",
       "       [-8.11315974e-02,  8.38170435e-01],\n",
       "       [-1.00470576e+00, -2.49279531e+00],\n",
       "       [-3.14304939e+00, -2.47902216e+00],\n",
       "       [-1.90755727e+00, -1.74955608e+00],\n",
       "       [-9.91751316e-01, -7.06339581e-01],\n",
       "       [ 2.08633376e+00,  6.31906587e-01],\n",
       "       [ 4.11974368e-01,  2.90100330e-01],\n",
       "       [-2.19779324e+00, -7.66292429e-01],\n",
       "       [-4.49731948e-01, -1.48157932e+00],\n",
       "       [ 2.96942703e+00,  2.95816394e+00],\n",
       "       [ 2.03486284e+00,  8.98844780e-01],\n",
       "       [ 1.73740736e+00,  2.40419829e+00],\n",
       "       [-2.75379664e+00, -2.05915562e+00],\n",
       "       [-1.35275287e+00, -1.36478556e+00],\n",
       "       [ 9.78141552e-01, -6.07142672e-01],\n",
       "       [ 1.11896043e+00,  1.69240513e+00],\n",
       "       [-1.54787226e+00, -1.14626443e+00],\n",
       "       [-2.23181223e-01, -1.18317012e-01],\n",
       "       [ 7.02016872e-01, -4.85143281e-01],\n",
       "       [-1.91928666e+00, -1.72197735e+00],\n",
       "       [-2.60536784e+00, -1.78637469e-01],\n",
       "       [-2.56208320e-01,  4.52076536e-01],\n",
       "       [-1.18705440e+00, -2.71265173e+00],\n",
       "       [-4.40790800e-02,  1.68485457e+00],\n",
       "       [-1.25181688e+00,  9.99735707e-01],\n",
       "       [ 5.52480530e-01,  1.19836541e+00],\n",
       "       [-1.64721367e-01, -4.76454194e-01],\n",
       "       [-1.33660251e+00, -6.19113790e-01],\n",
       "       [-6.15230370e-01,  5.14668459e-01],\n",
       "       [ 3.30163529e+00,  2.35814834e+00],\n",
       "       [-1.26983050e+00, -1.61147716e+00],\n",
       "       [-4.38595018e-02,  7.84710068e-01],\n",
       "       [ 8.73313233e-01,  6.76325479e-01],\n",
       "       [-3.60352800e-02,  2.43545016e-01],\n",
       "       [ 1.89112010e+00,  1.75735879e+00],\n",
       "       [ 2.52133532e+00,  2.60948845e+00],\n",
       "       [ 1.66432464e+00,  1.17015038e+00],\n",
       "       [ 2.18166263e-01,  1.71435529e+00],\n",
       "       [ 2.04493860e+00,  6.81699244e-01],\n",
       "       [ 1.14382342e+00,  3.16955935e+00],\n",
       "       [-1.87955999e+00, -8.56115850e-01],\n",
       "       [-1.26127119e+00, -9.60992771e-01],\n",
       "       [-1.44532681e-01, -8.69541887e-01],\n",
       "       [-6.80426219e-01, -1.15827703e+00],\n",
       "       [ 1.19869903e+00, -1.29336496e+00],\n",
       "       [-2.54654596e+00, -3.09005513e+00],\n",
       "       [-3.20276423e+00, -6.73966219e-01],\n",
       "       [-1.09205904e+00, -9.17651071e-01],\n",
       "       [ 1.18205877e+00,  3.18632330e-01],\n",
       "       [-1.13530477e-01, -1.37375833e+00],\n",
       "       [-9.37767451e-01, -8.36368109e-01],\n",
       "       [ 2.40846656e+00,  3.88135702e+00],\n",
       "       [ 1.88871095e+00,  2.14852600e+00],\n",
       "       [ 8.30524604e-01,  1.54149272e+00],\n",
       "       [-2.97988426e+00, -1.51922791e+00],\n",
       "       [-2.59378881e+00, -3.05044052e+00],\n",
       "       [-1.02051210e+00, -5.58193280e-01],\n",
       "       [ 1.99918889e+00,  3.50346529e-01],\n",
       "       [-3.03249555e+00, -2.99144685e+00],\n",
       "       [-1.59148601e-01, -6.32772247e-01],\n",
       "       [-2.60340248e+00, -2.34310311e+00],\n",
       "       [ 1.87396332e+00,  1.06411984e+00],\n",
       "       [ 6.09169054e-01,  1.83366907e+00],\n",
       "       [ 2.70514473e+00,  3.41344399e+00],\n",
       "       [ 2.26315540e-01, -1.10510375e+00],\n",
       "       [ 2.91504416e+00,  1.33393430e+00],\n",
       "       [-2.13159048e+00, -3.26560948e+00],\n",
       "       [ 1.73507953e+00,  2.05795161e+00],\n",
       "       [-2.38415044e+00, -3.32939077e+00],\n",
       "       [ 1.09033720e+00,  5.15340768e-01],\n",
       "       [ 7.06817534e-01, -1.08315228e+00],\n",
       "       [-1.73225746e+00, -9.36645342e-01],\n",
       "       [ 4.84900429e+00,  5.21116148e+00],\n",
       "       [ 2.42979916e+00,  2.28260077e+00],\n",
       "       [-4.00420483e+00, -5.11143185e+00],\n",
       "       [ 1.85391862e-01,  7.90485683e-01],\n",
       "       [-2.03149433e+00, -2.11397991e+00],\n",
       "       [ 7.24129885e-01, -2.14084801e-01],\n",
       "       [ 6.82833994e-01,  1.06202203e+00],\n",
       "       [ 1.16976425e+00,  4.61820085e-02],\n",
       "       [ 4.73182710e-01, -1.61908595e+00],\n",
       "       [ 5.37854377e+00,  6.99264297e+00],\n",
       "       [-9.37027489e-01, -1.91360151e+00],\n",
       "       [-9.98475914e-01, -6.46329791e-01],\n",
       "       [-3.22425155e-01, -1.90353706e+00],\n",
       "       [-1.45504187e+00, -2.45330392e+00],\n",
       "       [ 1.53666259e+00, -4.85404813e-01],\n",
       "       [ 2.16413216e+00,  3.44615154e+00],\n",
       "       [ 1.23266643e-01, -3.07082494e-01],\n",
       "       [-9.50988879e-01, -1.59242072e+00],\n",
       "       [-1.25070733e+00, -1.53093455e+00],\n",
       "       [-1.03701239e+00,  5.25497307e-01],\n",
       "       [-2.78327058e-03, -1.58110570e+00],\n",
       "       [-5.38656447e+00, -4.78624621e+00],\n",
       "       [-4.22930363e-02,  1.58269020e+00],\n",
       "       [ 1.88391946e+00,  2.78556412e+00],\n",
       "       [ 7.64586770e-01,  8.09888374e-02],\n",
       "       [-6.03357325e-02,  7.19022783e-01],\n",
       "       [-1.91772017e+00,  2.45431547e-01],\n",
       "       [-2.36756939e+00, -2.52337704e+00],\n",
       "       [-1.97184826e+00, -3.03737834e+00],\n",
       "       [-6.96350424e-01, -1.31974469e+00],\n",
       "       [ 3.69219259e-02, -2.00468096e-02],\n",
       "       [-1.07256888e+00, -1.02076599e+00],\n",
       "       [-2.17702548e+00,  4.54552768e-02],\n",
       "       [-1.28931775e+00, -8.02915292e-01],\n",
       "       [ 2.90081339e+00,  2.51193562e+00],\n",
       "       [-2.12053298e+00, -2.07998422e+00],\n",
       "       [ 3.38392364e+00,  4.58254544e+00],\n",
       "       [ 2.91941599e+00,  2.15428196e+00],\n",
       "       [ 1.37952615e+00,  6.87452174e-01],\n",
       "       [ 1.11828499e+00,  1.89011043e-01],\n",
       "       [-1.09975729e+00, -1.25513494e+00],\n",
       "       [ 6.15314438e-01,  2.61246203e-01],\n",
       "       [ 1.46015213e+00,  9.03108412e-01],\n",
       "       [-9.07663991e-01, -1.22968202e+00],\n",
       "       [-1.03857822e+00, -5.85634020e-01],\n",
       "       [-6.48134753e-01, -1.43934816e+00],\n",
       "       [-5.01767636e+00, -4.67956309e+00],\n",
       "       [ 5.02879353e+00,  4.94963872e+00],\n",
       "       [ 9.27045766e-01,  2.34007181e+00],\n",
       "       [-2.02764125e+00, -2.38196592e+00],\n",
       "       [-2.56352852e+00, -1.23047789e+00],\n",
       "       [ 4.94584346e-01, -5.93881262e-02],\n",
       "       [ 1.24201025e+00,  1.98836070e+00],\n",
       "       [ 2.36279695e+00,  3.23553140e+00],\n",
       "       [-2.46116515e-01, -9.92398927e-01],\n",
       "       [-3.20219644e+00, -3.23381526e+00],\n",
       "       [ 1.40161230e-01, -8.93503430e-01],\n",
       "       [ 1.14405460e+00,  1.66411908e+00],\n",
       "       [ 4.51244267e-02,  8.43851693e-01],\n",
       "       [-6.40882367e-01,  1.04753388e+00],\n",
       "       [ 5.32437066e-01,  2.07783676e+00],\n",
       "       [ 3.07497582e-01, -5.76361795e-01],\n",
       "       [ 2.24774393e+00,  8.44362651e-01],\n",
       "       [-1.92180212e+00, -2.76517197e+00],\n",
       "       [ 2.64035594e-01, -1.27862098e-01],\n",
       "       [ 5.35824869e-01,  8.84787873e-01],\n",
       "       [ 2.29975516e+00,  2.77695323e+00],\n",
       "       [ 1.61889408e+00,  2.84615769e+00],\n",
       "       [-2.10141720e+00, -2.96362620e+00],\n",
       "       [-3.05421078e-01, -3.46483001e-01],\n",
       "       [ 1.35758464e+00,  2.57908917e+00],\n",
       "       [-1.18213054e-01, -1.75789757e+00],\n",
       "       [-1.71318866e+00, -2.30405986e+00],\n",
       "       [-1.51546874e+00, -1.45099326e+00],\n",
       "       [-4.46001963e-02, -1.52640438e+00],\n",
       "       [ 1.65359639e+00,  3.35303266e+00],\n",
       "       [-2.38131223e+00, -2.27833263e+00],\n",
       "       [ 3.16068864e-01, -3.96572315e-01],\n",
       "       [-9.77658326e-01, -1.11127254e+00],\n",
       "       [ 2.16028683e+00,  1.23977829e+00],\n",
       "       [-1.91260936e-01,  8.01307642e-01],\n",
       "       [ 6.03889668e-01,  1.86979837e-01],\n",
       "       [ 6.83984425e-01,  5.25821670e-01],\n",
       "       [ 2.58295968e+00,  3.47898366e+00],\n",
       "       [-1.42406327e+00, -1.48502701e+00],\n",
       "       [ 1.79501151e+00,  2.55517926e+00],\n",
       "       [-1.13449315e+00, -8.46491415e-02],\n",
       "       [-1.13147638e+00, -6.89922615e-01],\n",
       "       [-5.51291795e+00, -5.58663727e+00],\n",
       "       [-3.65096037e-01, -5.09463039e-01],\n",
       "       [-4.58010842e+00, -5.31099783e+00],\n",
       "       [-2.02256741e+00, -2.03321911e+00],\n",
       "       [-9.14678845e-01,  6.70046382e-01],\n",
       "       [-2.00299275e+00, -1.50614069e+00],\n",
       "       [ 2.36682351e+00,  3.90684409e+00],\n",
       "       [ 1.79606779e+00,  1.76223323e+00],\n",
       "       [ 1.51817958e+00,  2.71386951e+00],\n",
       "       [ 2.38178557e+00,  2.14345338e+00],\n",
       "       [-4.28344979e+00, -3.70353971e+00],\n",
       "       [ 7.12518936e-01,  2.95620374e-01],\n",
       "       [-6.24948690e-01, -1.53737666e+00],\n",
       "       [-2.58543848e-01,  2.11050985e-01],\n",
       "       [ 4.37769042e-01,  2.12974300e+00],\n",
       "       [ 1.09863482e+00,  9.87148014e-01],\n",
       "       [-2.83822816e+00, -3.13838531e+00],\n",
       "       [ 1.51778012e+00,  2.05071810e+00],\n",
       "       [-2.53756649e+00,  9.77002453e-02],\n",
       "       [-3.33889465e+00, -5.65077940e+00],\n",
       "       [ 1.16183663e+00,  9.31263854e-01],\n",
       "       [ 1.65882006e+00,  5.33512204e-01],\n",
       "       [-2.50123370e+00, -3.76770196e+00],\n",
       "       [ 1.17290128e+00, -2.30291534e+00],\n",
       "       [ 1.21037906e+00,  1.10709053e+00],\n",
       "       [ 8.74910801e-01,  2.07947573e+00],\n",
       "       [ 1.25380123e+00,  1.87883491e+00],\n",
       "       [-4.15756967e-01, -8.91120772e-01],\n",
       "       [-1.61791064e+00, -1.41596950e-01],\n",
       "       [ 1.32642235e+00,  1.86209478e-01],\n",
       "       [-1.98081892e+00, -1.19532555e+00],\n",
       "       [-1.71961358e+00, -2.05640725e+00],\n",
       "       [ 1.23054554e-01,  1.16344210e+00],\n",
       "       [-3.99691127e+00, -4.08965359e+00],\n",
       "       [-2.05377412e+00, -3.02104453e+00],\n",
       "       [-9.87171263e-01, -2.32967206e+00],\n",
       "       [-1.49603008e+00, -1.96020233e+00],\n",
       "       [ 2.33633140e+00,  2.16808920e+00],\n",
       "       [-2.40624776e+00, -5.17075074e-01],\n",
       "       [-1.90662911e-01, -9.59173392e-01],\n",
       "       [-1.05108717e+00, -8.09066291e-01],\n",
       "       [-1.00932141e-01,  7.94051723e-01],\n",
       "       [ 2.03948232e+00,  2.58427984e+00],\n",
       "       [ 9.84409509e-01, -3.23374669e+00],\n",
       "       [ 3.76089452e-01,  1.07918338e+00],\n",
       "       [ 1.80652575e+00,  7.00163736e-01],\n",
       "       [ 1.45862695e+00,  1.14472051e+00],\n",
       "       [ 9.65903855e-01,  1.09010989e+00],\n",
       "       [ 2.74839132e+00,  4.00165500e+00],\n",
       "       [-1.81463416e+00, -3.33448107e+00],\n",
       "       [-2.55521548e+00, -7.23054580e-01],\n",
       "       [-1.40789250e+00, -1.56002119e+00],\n",
       "       [-5.42411270e-01,  1.74398076e+00],\n",
       "       [-1.26303581e-01,  3.63636758e-02],\n",
       "       [-2.80528110e+00, -1.53754023e+00],\n",
       "       [ 1.41072133e+00,  1.20210818e+00],\n",
       "       [-2.01675881e+00, -2.62896938e+00],\n",
       "       [ 5.06759373e-01,  1.76024401e+00],\n",
       "       [ 7.17696533e-01, -2.15834529e-01],\n",
       "       [-8.79540272e-01, -2.33737953e+00],\n",
       "       [ 6.90735282e-01,  7.11607878e-01],\n",
       "       [ 1.13828107e+00,  1.22114480e+00],\n",
       "       [ 5.50553155e-01,  1.95296530e+00],\n",
       "       [-3.02950960e+00, -2.86374509e+00],\n",
       "       [ 4.02229580e-02,  1.31529172e-01],\n",
       "       [-1.11816693e+00, -2.62011461e+00],\n",
       "       [ 2.31300258e+00,  1.59272835e+00],\n",
       "       [-2.93062448e-01, -1.29176564e+00],\n",
       "       [ 3.05680753e+00,  2.81143552e+00],\n",
       "       [ 3.40256734e-01,  2.13330407e-01],\n",
       "       [ 1.82328857e+00,  2.84282623e+00],\n",
       "       [-4.90257900e-01, -8.26132697e-01],\n",
       "       [ 1.21762313e+00,  1.30390912e+00],\n",
       "       [ 1.08164679e+00,  3.36614289e+00],\n",
       "       [ 5.35119215e+00,  4.12416447e+00],\n",
       "       [-1.67056232e+00, -1.45529602e+00],\n",
       "       [ 4.10791965e-01, -1.20463307e-01],\n",
       "       [ 5.56345131e-01,  9.88169738e-01],\n",
       "       [ 1.73450161e+00,  1.39990858e+00],\n",
       "       [-1.78503274e-01, -2.85441846e-02],\n",
       "       [-4.37645177e-01, -8.00023074e-02],\n",
       "       [ 1.55342573e+00,  1.71345991e+00],\n",
       "       [ 2.14885193e-01,  9.00993637e-01],\n",
       "       [ 1.79161703e+00,  2.12393202e+00],\n",
       "       [ 2.20410383e+00,  2.39367028e+00],\n",
       "       [ 2.43628251e+00,  1.94872968e+00],\n",
       "       [-1.21396606e+00,  4.30039154e-02],\n",
       "       [ 1.92120577e+00,  3.62642848e+00],\n",
       "       [ 1.82754429e+00,  1.96692075e+00],\n",
       "       [-1.49511777e+00, -3.09768836e+00],\n",
       "       [ 2.17845185e+00,  1.52868532e+00],\n",
       "       [ 3.52645521e+00,  3.15995530e+00],\n",
       "       [ 3.39139804e+00,  2.74117390e+00],\n",
       "       [ 7.28853768e-01, -8.28757147e-01],\n",
       "       [ 2.09448023e+00,  2.02600359e+00],\n",
       "       [-1.29425067e+00,  1.13255099e-01],\n",
       "       [-4.98777392e+00, -4.61891710e+00],\n",
       "       [-2.32734436e+00, -2.64329032e+00],\n",
       "       [-2.22370154e+00, -4.54625755e+00],\n",
       "       [-8.82577703e-02, -2.06596258e+00],\n",
       "       [ 3.13611336e+00,  3.21876826e+00],\n",
       "       [-2.11805894e+00, -1.29807976e+00],\n",
       "       [-1.21299796e+00, -3.10560557e+00],\n",
       "       [ 3.17528994e-02,  1.35827595e+00],\n",
       "       [-5.00974426e-01, -2.21131172e+00],\n",
       "       [ 1.87629071e+00,  2.38469179e+00],\n",
       "       [ 1.30233291e+00,  1.79414485e+00],\n",
       "       [-2.47371620e+00, -4.09271833e+00],\n",
       "       [-3.02160822e+00, -4.10173368e+00],\n",
       "       [-2.91233763e+00, -4.05630261e+00],\n",
       "       [-3.17906403e-01, -1.05192601e+00],\n",
       "       [ 6.71987920e-01,  1.05538187e+00],\n",
       "       [-6.85328454e-02, -1.86353455e-01],\n",
       "       [ 8.01372261e-01,  1.80534674e+00],\n",
       "       [-8.36677305e-01,  4.17576104e-01],\n",
       "       [-1.37235416e+00, -2.41257519e+00],\n",
       "       [ 9.43067233e-01,  1.80980438e+00],\n",
       "       [ 2.95685061e+00,  2.18187601e+00],\n",
       "       [-7.68484277e-01,  5.13872791e-01],\n",
       "       [ 4.06121305e-01, -1.16177130e+00],\n",
       "       [-3.12121754e-01, -1.83440994e+00],\n",
       "       [-6.45914301e-01, -1.60397809e+00],\n",
       "       [ 4.16692404e+00,  4.07154272e+00],\n",
       "       [-4.33891814e-02,  1.27818551e-01],\n",
       "       [-1.10825489e+00, -2.44993211e+00],\n",
       "       [-9.83773806e-02,  1.17805923e-01],\n",
       "       [-1.70167686e+00, -2.84017213e+00],\n",
       "       [ 5.02246083e-01,  2.98426805e+00],\n",
       "       [-1.38021818e+00, -7.69619514e-01],\n",
       "       [ 2.09546365e+00,  2.37112483e+00],\n",
       "       [-1.31288127e+00,  2.20949106e-01],\n",
       "       [-6.51449164e-01, -1.85954225e+00],\n",
       "       [-3.69923238e+00, -3.50615308e+00],\n",
       "       [-1.62998236e-01,  1.62493433e+00],\n",
       "       [-5.48597606e-01,  1.59246697e+00],\n",
       "       [ 1.41389435e+00,  1.32244432e+00],\n",
       "       [ 6.17814899e-01, -9.64062525e-02],\n",
       "       [-1.08968685e+00, -1.90345932e+00],\n",
       "       [ 1.93856783e+00,  2.83830505e+00],\n",
       "       [-2.60071312e+00, -2.00228830e+00],\n",
       "       [ 2.94690752e+00,  3.01177536e+00],\n",
       "       [ 1.06504448e+00, -4.85339980e-01],\n",
       "       [-8.49795656e-01,  1.17426709e+00],\n",
       "       [-4.57701703e-01,  5.23327143e-01],\n",
       "       [ 3.81249803e+00,  4.21374243e+00],\n",
       "       [ 1.57544865e+00,  1.91587835e+00],\n",
       "       [ 2.59902614e+00,  4.21367290e+00],\n",
       "       [-6.70736111e-01, -7.08364711e-01],\n",
       "       [-2.37369254e+00, -2.69710239e+00],\n",
       "       [ 8.51920097e-01, -6.11180347e-01],\n",
       "       [-1.14400192e+00, -2.14021735e+00],\n",
       "       [-8.12721843e-01, -1.47232276e+00],\n",
       "       [-6.18075176e-01,  2.76054946e-01],\n",
       "       [ 6.94005930e-01,  6.79507527e-01],\n",
       "       [ 2.45160938e+00,  2.81799343e+00],\n",
       "       [ 4.15349158e-01,  2.04075161e+00],\n",
       "       [-1.89691789e+00, -2.96643615e+00],\n",
       "       [ 3.28184542e+00,  3.66896904e+00],\n",
       "       [-1.03630944e+00,  1.35478292e-01],\n",
       "       [-2.22784244e+00, -1.61059884e+00],\n",
       "       [-8.78349157e-01, -9.88103406e-01],\n",
       "       [ 4.21013095e-01,  4.93441295e-01],\n",
       "       [ 4.59515436e-01, -5.35715690e-01],\n",
       "       [ 2.43514527e-01, -1.20421051e+00],\n",
       "       [-8.64056472e-01,  2.78504242e-01],\n",
       "       [ 6.25031470e-01,  2.52781306e-01],\n",
       "       [-1.68430082e-01,  3.60906681e-01],\n",
       "       [ 4.49311856e-01,  3.76283534e-01],\n",
       "       [ 2.83261545e+00,  3.47317024e+00]])"
      ]
     },
     "execution_count": 7,
     "metadata": {},
     "output_type": "execute_result"
    }
   ],
   "source": [
    "X"
   ]
  },
  {
   "cell_type": "markdown",
   "id": "50da91f9",
   "metadata": {},
   "source": [
    "## normalización de los datos"
   ]
  },
  {
   "cell_type": "code",
   "execution_count": 8,
   "id": "2738e834",
   "metadata": {},
   "outputs": [
    {
     "data": {
      "text/plain": [
       "(array([-0.02118953, -0.01714801]), array([1.8270052 , 2.10376857]))"
      ]
     },
     "execution_count": 8,
     "metadata": {},
     "output_type": "execute_result"
    }
   ],
   "source": [
    "np.mean(X, axis=0), np.std(X, axis=0)"
   ]
  },
  {
   "cell_type": "code",
   "execution_count": 9,
   "id": "0c1dab8a",
   "metadata": {},
   "outputs": [],
   "source": [
    "X_std = (X - np.mean(X, axis=0))/np.std(X, axis=0)"
   ]
  },
  {
   "cell_type": "code",
   "execution_count": 10,
   "id": "9d41b06b",
   "metadata": {},
   "outputs": [
    {
     "data": {
      "text/plain": [
       "<matplotlib.collections.PathCollection at 0x1d5c3411130>"
      ]
     },
     "execution_count": 10,
     "metadata": {},
     "output_type": "execute_result"
    },
    {
     "data": {
      "image/png": "[encoded data removed]",
      "text/plain": [
       "<Figure size 432x288 with 1 Axes>"
      ]
     },
     "metadata": {
      "needs_background": "light"
     },
     "output_type": "display_data"
    }
   ],
   "source": [
    "plt.scatter(X_std[:, 0], X_std[:, 1])"
   ]
  },
  {
   "cell_type": "markdown",
   "id": "43a4c919",
   "metadata": {},
   "source": [
    "# Calculo de la covarianza"
   ]
  },
  {
   "cell_type": "code",
   "execution_count": 11,
   "id": "fe565fb4",
   "metadata": {},
   "outputs": [
    {
     "data": {
      "text/plain": [
       "array([-1.77635684e-18, -3.41948692e-17])"
      ]
     },
     "execution_count": 11,
     "metadata": {},
     "output_type": "execute_result"
    }
   ],
   "source": [
    "X_mean = np.mean(X_std, axis=0)\n",
    "X_mean"
   ]
  },
  {
   "cell_type": "code",
   "execution_count": 12,
   "id": "415e56c6",
   "metadata": {},
   "outputs": [
    {
     "data": {
      "text/latex": [
       "$\\displaystyle \\Sigma = \\frac{1}{n-1}((X-\\overline{x})^T(X-\\overline{x}))$"
      ],
      "text/plain": [
       "<IPython.core.display.Math object>"
      ]
     },
     "metadata": {},
     "output_type": "display_data"
    }
   ],
   "source": [
    "from IPython.display import display, Math, Latex\n",
    "\n",
    "display(Math(r'\\Sigma = \\frac{1}{n-1}((X-\\overline{x})^T(X-\\overline{x}))'))"
   ]
  },
  {
   "cell_type": "code",
   "execution_count": 13,
   "id": "ac7dc711",
   "metadata": {},
   "outputs": [
    {
     "data": {
      "text/plain": [
       "array([[1.00200401, 0.85953546],\n",
       "       [0.85953546, 1.00200401]])"
      ]
     },
     "execution_count": 13,
     "metadata": {},
     "output_type": "execute_result"
    }
   ],
   "source": [
    "cov_matrix = (X_std - X_mean).T.dot((X_std - X_mean))/(X_std.shape[0]-1)\n",
    "cov_matrix"
   ]
  },
  {
   "cell_type": "code",
   "execution_count": 14,
   "id": "1a6807c9",
   "metadata": {},
   "outputs": [
    {
     "data": {
      "text/plain": [
       "array([[1.00200401, 0.85953546],\n",
       "       [0.85953546, 1.00200401]])"
      ]
     },
     "execution_count": 14,
     "metadata": {},
     "output_type": "execute_result"
    }
   ],
   "source": [
    "np.cov(X_std.T)"
   ]
  },
  {
   "cell_type": "code",
   "execution_count": 15,
   "id": "6e971c34",
   "metadata": {},
   "outputs": [
    {
     "data": {
      "text/plain": [
       "(array([1.86153946, 0.14246855]),\n",
       " array([[ 0.70710678, -0.70710678],\n",
       "        [ 0.70710678,  0.70710678]]))"
      ]
     },
     "execution_count": 15,
     "metadata": {},
     "output_type": "execute_result"
    }
   ],
   "source": [
    "eig_vals, eig_vecs = np.linalg.eig(cov_matrix)\n",
    "eig_vals, eig_vecs"
   ]
  },
  {
   "cell_type": "markdown",
   "id": "cea80d30",
   "metadata": {},
   "source": [
    "# Calculo de valores y vectores propios con la matriz de correlación"
   ]
  },
  {
   "cell_type": "code",
   "execution_count": 16,
   "id": "2b648aaf",
   "metadata": {},
   "outputs": [
    {
     "data": {
      "text/plain": [
       "array([[1.        , 0.85781639],\n",
       "       [0.85781639, 1.        ]])"
      ]
     },
     "execution_count": 16,
     "metadata": {},
     "output_type": "execute_result"
    }
   ],
   "source": [
    "corr_matrix = np.corrcoef(X_std.T)\n",
    "corr_matrix"
   ]
  },
  {
   "cell_type": "code",
   "execution_count": 17,
   "id": "93090071",
   "metadata": {},
   "outputs": [
    {
     "data": {
      "text/plain": [
       "(array([1.85781639, 0.14218361]),\n",
       " array([[ 0.70710678, -0.70710678],\n",
       "        [ 0.70710678,  0.70710678]]))"
      ]
     },
     "execution_count": 17,
     "metadata": {},
     "output_type": "execute_result"
    }
   ],
   "source": [
    "eig_vals_corr, eig_vecs_corr = np.linalg.eig(corr_matrix)\n",
    "eig_vals_corr, eig_vecs_corr"
   ]
  },
  {
   "cell_type": "markdown",
   "id": "18042be8",
   "metadata": {},
   "source": [
    "# Singular Value Decomposition"
   ]
  },
  {
   "cell_type": "code",
   "execution_count": 18,
   "id": "c6834893",
   "metadata": {},
   "outputs": [
    {
     "data": {
      "text/plain": [
       "array([[-0.70710678, -0.70710678],\n",
       "       [-0.70710678,  0.70710678]])"
      ]
     },
     "execution_count": 18,
     "metadata": {},
     "output_type": "execute_result"
    }
   ],
   "source": [
    "u, s, v = np.linalg.svd(X_std.T)\n",
    "u"
   ]
  },
  {
   "cell_type": "markdown",
   "id": "b9682e66",
   "metadata": {},
   "source": [
    "# Análisis en vectores y valores propios"
   ]
  },
  {
   "cell_type": "code",
   "execution_count": 19,
   "id": "eca48db0",
   "metadata": {},
   "outputs": [
    {
     "data": {
      "text/plain": [
       "(array([1.86153946, 0.14246855]),\n",
       " array([[ 0.70710678, -0.70710678],\n",
       "        [ 0.70710678,  0.70710678]]))"
      ]
     },
     "execution_count": 19,
     "metadata": {},
     "output_type": "execute_result"
    }
   ],
   "source": [
    "eig_vals, eig_vecs"
   ]
  },
  {
   "cell_type": "markdown",
   "id": "932eb5c7",
   "metadata": {},
   "source": [
    "Calculando la norma de los vectores propios"
   ]
  },
  {
   "cell_type": "code",
   "execution_count": 23,
   "id": "3ffa6bb6",
   "metadata": {},
   "outputs": [
    {
     "data": {
      "text/plain": [
       "(1.0, 1.0)"
      ]
     },
     "execution_count": 23,
     "metadata": {},
     "output_type": "execute_result"
    }
   ],
   "source": [
    "np.linalg.norm(eig_vecs[0]), np.linalg.norm(eig_vecs[1])"
   ]
  },
  {
   "cell_type": "code",
   "execution_count": 24,
   "id": "e5e95af8",
   "metadata": {},
   "outputs": [
    {
     "data": {
      "text/plain": [
       "2.0040080160320626"
      ]
     },
     "execution_count": 24,
     "metadata": {},
     "output_type": "execute_result"
    }
   ],
   "source": [
    "np.sum(eig_vals)"
   ]
  },
  {
   "cell_type": "code",
   "execution_count": 28,
   "id": "8e01b98a",
   "metadata": {},
   "outputs": [
    {
     "data": {
      "text/plain": [
       "array([1.86153946, 0.14246855])"
      ]
     },
     "execution_count": 28,
     "metadata": {},
     "output_type": "execute_result"
    }
   ],
   "source": [
    "eig_vals"
   ]
  },
  {
   "cell_type": "code",
   "execution_count": 27,
   "id": "57bda12f",
   "metadata": {},
   "outputs": [
    {
     "data": {
      "text/plain": [
       "(92.89081929707355, 7.109180702926466)"
      ]
     },
     "execution_count": 27,
     "metadata": {},
     "output_type": "execute_result"
    }
   ],
   "source": [
    "total_sum = np.sum(eig_vals)\n",
    "\n",
    "val_porc_eig_val_1 =  eig_vals[0]/total_sum * 100\n",
    "val_porc_eig_val_2 =  eig_vals[1]/total_sum * 100\n",
    "val_porc_eig_val_1, val_porc_eig_val_2"
   ]
  },
  {
   "cell_type": "code",
   "execution_count": 29,
   "id": "b278a2b0",
   "metadata": {},
   "outputs": [
    {
     "data": {
      "text/plain": [
       "[(1.8615394648712118, array([ 0.70710678, -0.70710678])),\n",
       " (0.1424685511608509, array([0.70710678, 0.70710678]))]"
      ]
     },
     "execution_count": 29,
     "metadata": {},
     "output_type": "execute_result"
    }
   ],
   "source": [
    "# ordenando valores y vectores propios de mayor a menor\n",
    "eig_pairs = [(eig_vals[i], eig_vecs[i]) for i in range(len(eig_vals))]\n",
    "eig_pairs"
   ]
  },
  {
   "cell_type": "code",
   "execution_count": 30,
   "id": "d0c09f5a",
   "metadata": {},
   "outputs": [
    {
     "data": {
      "text/plain": [
       "[(1.8615394648712118, array([ 0.70710678, -0.70710678])),\n",
       " (0.1424685511608509, array([0.70710678, 0.70710678]))]"
      ]
     },
     "execution_count": 30,
     "metadata": {},
     "output_type": "execute_result"
    }
   ],
   "source": [
    "eig_pairs.sort(reverse=True)\n",
    "eig_pairs"
   ]
  },
  {
   "cell_type": "code",
   "execution_count": 32,
   "id": "e3de5c2f",
   "metadata": {},
   "outputs": [
    {
     "data": {
      "text/plain": [
       "([92.89081929707355, 7.109180702926466], array([ 92.8908193, 100.       ]))"
      ]
     },
     "execution_count": 32,
     "metadata": {},
     "output_type": "execute_result"
    }
   ],
   "source": [
    "total_sum = np.sum(eig_vals)\n",
    "\n",
    "porc_eig = [eig_val/total_sum * 100 for eig_val, _ in eig_pairs]\n",
    "cum_porc_eig = np.cumsum(porc_eig)\n",
    "porc_eig, cum_porc_eig"
   ]
  },
  {
   "cell_type": "code",
   "execution_count": 37,
   "id": "6337c398",
   "metadata": {},
   "outputs": [
    {
     "data": {
      "text/plain": [
       "[<matplotlib.lines.Line2D at 0x1d5c46d0370>]"
      ]
     },
     "execution_count": 37,
     "metadata": {},
     "output_type": "execute_result"
    },
    {
     "data": {
      "image/png": "[encoded data removed]",
      "text/plain": [
       "<Figure size 432x288 with 1 Axes>"
      ]
     },
     "metadata": {
      "needs_background": "light"
     },
     "output_type": "display_data"
    }
   ],
   "source": [
    "# plots\n",
    "x = ['Val prop 1', 'Val prop 2']\n",
    "plt.bar(x, porc_eig)\n",
    "plt.plot(x, cum_porc_eig, '.-', c='orange', linewidth=5, markersize=20)"
   ]
  },
  {
   "cell_type": "code",
   "execution_count": 40,
   "id": "edb17d0f",
   "metadata": {},
   "outputs": [],
   "source": [
    "from sklearn.decomposition import PCA"
   ]
  },
  {
   "cell_type": "code",
   "execution_count": 48,
   "id": "210ad859",
   "metadata": {},
   "outputs": [],
   "source": [
    "pca = PCA(n_components=2).fit(X_std)"
   ]
  },
  {
   "cell_type": "code",
   "execution_count": 46,
   "id": "391b940d",
   "metadata": {},
   "outputs": [
    {
     "data": {
      "text/plain": [
       "(array([[0.70710678, 0.70710678]]), array([1.86153946]))"
      ]
     },
     "execution_count": 46,
     "metadata": {},
     "output_type": "execute_result"
    }
   ],
   "source": [
    "pca.components_, pca.explained_variance_"
   ]
  },
  {
   "cell_type": "code",
   "execution_count": null,
   "id": "e8f314ff",
   "metadata": {},
   "outputs": [],
   "source": []
  },
  {
   "cell_type": "code",
   "execution_count": null,
   "id": "9228e3bf",
   "metadata": {},
   "outputs": [],
   "source": []
  },
  {
   "cell_type": "code",
   "execution_count": null,
   "id": "d9fd271f",
   "metadata": {},
   "outputs": [],
   "source": []
  },
  {
   "cell_type": "code",
   "execution_count": null,
   "id": "c8e91a6a",
   "metadata": {},
   "outputs": [],
   "source": []
  },
  {
   "cell_type": "code",
   "execution_count": null,
   "id": "14a0ad51",
   "metadata": {},
   "outputs": [],
   "source": []
  }
 ],
 "metadata": {
  "kernelspec": {
   "display_name": "Python 3 (ipykernel)",
   "language": "python",
   "name": "python3"
  },
  "language_info": {
   "codemirror_mode": {
    "name": "ipython",
    "version": 3
   },
   "file_extension": ".py",
   "mimetype": "text/x-python",
   "name": "python",
   "nbconvert_exporter": "python",
   "pygments_lexer": "ipython3",
   "version": "3.9.7"
  }
 },
 "nbformat": 4,
 "nbformat_minor": 5
}
