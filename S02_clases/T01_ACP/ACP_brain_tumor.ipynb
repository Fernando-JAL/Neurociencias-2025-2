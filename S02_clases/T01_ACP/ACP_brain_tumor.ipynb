{
 "cells": [
  {
   "cell_type": "code",
   "execution_count": 23,
   "id": "f716f9b5",
   "metadata": {},
   "outputs": [],
   "source": [
    "import pandas as pd\n",
    "import matplotlib.pyplot as plt\n",
    "import os\n",
    "import seaborn as sns\n",
    "import numpy as np"
   ]
  },
  {
   "cell_type": "code",
   "execution_count": 2,
   "id": "cca0bf64",
   "metadata": {},
   "outputs": [],
   "source": [
    "path = r\"..\\..\\S02_datasets\\Brain_tumor\"\n",
    "\n",
    "bt_path = os.path.join(path, 'Brain Tumor.csv')\n",
    "bt_t3_path = os.path.join(path, 'bt_dataset_t3.csv')"
   ]
  },
  {
   "cell_type": "code",
   "execution_count": 3,
   "id": "c7d8068b",
   "metadata": {},
   "outputs": [
    {
     "data": {
      "text/plain": [
       "(3762, 15)"
      ]
     },
     "execution_count": 3,
     "metadata": {},
     "output_type": "execute_result"
    }
   ],
   "source": [
    "bt_df = pd.read_csv(bt_path)\n",
    "bt_df.shape"
   ]
  },
  {
   "cell_type": "code",
   "execution_count": 4,
   "id": "54074d09",
   "metadata": {},
   "outputs": [
    {
     "data": {
      "text/html": [
       "<div>\n",
       "<style scoped>\n",
       "    .dataframe tbody tr th:only-of-type {\n",
       "        vertical-align: middle;\n",
       "    }\n",
       "\n",
       "    .dataframe tbody tr th {\n",
       "        vertical-align: top;\n",
       "    }\n",
       "\n",
       "    .dataframe thead th {\n",
       "        text-align: right;\n",
       "    }\n",
       "</style>\n",
       "<table border=\"1\" class=\"dataframe\">\n",
       "  <thead>\n",
       "    <tr style=\"text-align: right;\">\n",
       "      <th></th>\n",
       "      <th>Image</th>\n",
       "      <th>Class</th>\n",
       "      <th>Mean</th>\n",
       "      <th>Variance</th>\n",
       "      <th>Standard Deviation</th>\n",
       "      <th>Entropy</th>\n",
       "      <th>Skewness</th>\n",
       "      <th>Kurtosis</th>\n",
       "      <th>Contrast</th>\n",
       "      <th>Energy</th>\n",
       "      <th>ASM</th>\n",
       "      <th>Homogeneity</th>\n",
       "      <th>Dissimilarity</th>\n",
       "      <th>Correlation</th>\n",
       "      <th>Coarseness</th>\n",
       "    </tr>\n",
       "  </thead>\n",
       "  <tbody>\n",
       "    <tr>\n",
       "      <th>0</th>\n",
       "      <td>Image1</td>\n",
       "      <td>0</td>\n",
       "      <td>6.535339</td>\n",
       "      <td>619.587845</td>\n",
       "      <td>24.891522</td>\n",
       "      <td>0.109059</td>\n",
       "      <td>4.276477</td>\n",
       "      <td>18.900575</td>\n",
       "      <td>98.613971</td>\n",
       "      <td>0.293314</td>\n",
       "      <td>0.086033</td>\n",
       "      <td>0.530941</td>\n",
       "      <td>4.473346</td>\n",
       "      <td>0.981939</td>\n",
       "      <td>7.458341e-155</td>\n",
       "    </tr>\n",
       "    <tr>\n",
       "      <th>1</th>\n",
       "      <td>Image2</td>\n",
       "      <td>0</td>\n",
       "      <td>8.749969</td>\n",
       "      <td>805.957634</td>\n",
       "      <td>28.389393</td>\n",
       "      <td>0.266538</td>\n",
       "      <td>3.718116</td>\n",
       "      <td>14.464618</td>\n",
       "      <td>63.858816</td>\n",
       "      <td>0.475051</td>\n",
       "      <td>0.225674</td>\n",
       "      <td>0.651352</td>\n",
       "      <td>3.220072</td>\n",
       "      <td>0.988834</td>\n",
       "      <td>7.458341e-155</td>\n",
       "    </tr>\n",
       "  </tbody>\n",
       "</table>\n",
       "</div>"
      ],
      "text/plain": [
       "    Image  Class      Mean    Variance  Standard Deviation   Entropy  \\\n",
       "0  Image1      0  6.535339  619.587845           24.891522  0.109059   \n",
       "1  Image2      0  8.749969  805.957634           28.389393  0.266538   \n",
       "\n",
       "   Skewness   Kurtosis   Contrast    Energy       ASM  Homogeneity  \\\n",
       "0  4.276477  18.900575  98.613971  0.293314  0.086033     0.530941   \n",
       "1  3.718116  14.464618  63.858816  0.475051  0.225674     0.651352   \n",
       "\n",
       "   Dissimilarity  Correlation     Coarseness  \n",
       "0       4.473346     0.981939  7.458341e-155  \n",
       "1       3.220072     0.988834  7.458341e-155  "
      ]
     },
     "execution_count": 4,
     "metadata": {},
     "output_type": "execute_result"
    }
   ],
   "source": [
    "bt_df.head(2)"
   ]
  },
  {
   "cell_type": "code",
   "execution_count": 5,
   "id": "ed792af4",
   "metadata": {},
   "outputs": [
    {
     "data": {
      "text/plain": [
       "Image                  object\n",
       "Class                   int64\n",
       "Mean                  float64\n",
       "Variance              float64\n",
       "Standard Deviation    float64\n",
       "Entropy               float64\n",
       "Skewness              float64\n",
       "Kurtosis              float64\n",
       "Contrast              float64\n",
       "Energy                float64\n",
       "ASM                   float64\n",
       "Homogeneity           float64\n",
       "Dissimilarity         float64\n",
       "Correlation           float64\n",
       "Coarseness            float64\n",
       "dtype: object"
      ]
     },
     "execution_count": 5,
     "metadata": {},
     "output_type": "execute_result"
    }
   ],
   "source": [
    "bt_df.dtypes"
   ]
  },
  {
   "cell_type": "code",
   "execution_count": 18,
   "id": "d50f58ce",
   "metadata": {},
   "outputs": [],
   "source": [
    "X = bt_df.iloc[:, 2:-1]"
   ]
  },
  {
   "cell_type": "code",
   "execution_count": 19,
   "id": "8ff65b0a",
   "metadata": {},
   "outputs": [
    {
     "data": {
      "text/plain": [
       "Mean                    9.488890\n",
       "Variance              711.101063\n",
       "Standard Deviation     25.182271\n",
       "Entropy                 0.073603\n",
       "Skewness                4.102727\n",
       "Kurtosis               24.389071\n",
       "Contrast              127.961459\n",
       "Energy                  0.204705\n",
       "ASM                     0.058632\n",
       "Homogeneity             0.479252\n",
       "Dissimilarity           4.698498\n",
       "Correlation             0.955767\n",
       "dtype: float64"
      ]
     },
     "execution_count": 19,
     "metadata": {},
     "output_type": "execute_result"
    }
   ],
   "source": [
    "X.mean(axis=0)"
   ]
  },
  {
   "cell_type": "code",
   "execution_count": 20,
   "id": "bcaa19be",
   "metadata": {},
   "outputs": [],
   "source": [
    "# Datos normalizados\n",
    "X_std = (X - X.mean(axis=0))/X.std(axis=0)"
   ]
  },
  {
   "cell_type": "code",
   "execution_count": 26,
   "id": "3d1ac121",
   "metadata": {
    "scrolled": true
   },
   "outputs": [
    {
     "data": {
      "text/plain": [
       "(array([4.90580127e+00, 3.75589772e+00, 1.54491165e+00, 7.51781548e-01,\n",
       "        5.74136703e-01, 2.40065025e-01, 1.29191528e-01, 4.01132334e-02,\n",
       "        3.06366755e-02, 6.44700117e-05, 1.07013717e-02, 1.66988010e-02]),\n",
       " array([[ 1.36943174e-03,  4.29053945e-01,  2.54168149e-01,\n",
       "         -3.80815552e-01,  2.39604973e-01,  2.66155771e-01,\n",
       "         -5.89278264e-01,  3.36859675e-01, -9.60416311e-02,\n",
       "         -5.54591452e-03,  8.90601712e-02,  1.13880660e-02],\n",
       "        [-1.60192825e-01,  4.20574153e-01,  2.74990715e-01,\n",
       "         -2.25068392e-01, -1.62014901e-01, -2.14102548e-01,\n",
       "          4.04552866e-01,  6.15755860e-03, -3.33629783e-01,\n",
       "          6.81121505e-03, -4.46201243e-01,  3.53467858e-01],\n",
       "        [-1.49575575e-01,  4.44042821e-01,  2.46728233e-01,\n",
       "         -1.28698555e-01, -1.61386185e-01, -1.99132152e-01,\n",
       "          2.50215051e-01, -2.05643795e-01,  3.07294499e-01,\n",
       "         -7.55869290e-03,  4.62750284e-01, -4.73068766e-01],\n",
       "        [ 4.02581652e-01, -1.09882624e-01,  2.78138676e-01,\n",
       "         -4.32420047e-03, -1.89074137e-01, -2.64303269e-01,\n",
       "         -7.02753849e-02,  1.55125392e-01,  1.50153800e-01,\n",
       "         -7.52467419e-01,  5.37319585e-02,  1.49082967e-01],\n",
       "        [-2.26439002e-01, -4.00628919e-01,  5.09993630e-02,\n",
       "         -2.63506874e-01, -3.50233229e-01, -9.34343341e-04,\n",
       "          1.21110711e-01,  4.34643180e-01, -4.94907050e-01,\n",
       "         -9.79839328e-03,  2.64372980e-01, -2.73891010e-01],\n",
       "        [-1.82659437e-01, -3.53641278e-01,  1.48538058e-01,\n",
       "         -5.98108146e-01, -2.42535054e-01,  2.80727647e-01,\n",
       "         -6.51534223e-02, -3.66968034e-01,  3.72594562e-01,\n",
       "          5.25634230e-03, -1.24727572e-01,  1.75565922e-01],\n",
       "        [-2.03485977e-01, -1.15283526e-01,  5.91056369e-01,\n",
       "          4.26391543e-01,  8.27160358e-02,  4.77988707e-01,\n",
       "          2.43654709e-01,  2.58326946e-01,  2.08708881e-01,\n",
       "         -3.24153610e-03, -9.35287259e-02, -2.03146521e-02],\n",
       "        [ 4.11847847e-01, -8.46264641e-02,  2.83549909e-01,\n",
       "         -2.23670871e-02, -4.84742051e-02,  1.61979101e-02,\n",
       "         -1.31682103e-01, -2.56671808e-01, -2.18976491e-01,\n",
       "          1.04947719e-01, -4.73425728e-01, -6.11056064e-01],\n",
       "        [ 3.98583508e-01, -1.12420459e-01,  2.78546617e-01,\n",
       "         -3.18504465e-03, -2.10870382e-01, -3.05247306e-01,\n",
       "         -5.98320042e-02,  2.35507023e-01,  2.08410063e-01,\n",
       "          6.49992228e-01,  1.52397483e-01,  2.55066969e-01],\n",
       "        [ 4.25473982e-01, -6.31365098e-03,  1.37113881e-01,\n",
       "         -8.41557351e-02,  1.93046108e-01,  3.67406645e-01,\n",
       "          2.87918028e-01, -3.55788268e-01, -3.93923483e-01,\n",
       "          5.91320042e-04,  4.52348106e-01,  2.26976278e-01],\n",
       "        [-3.61556180e-01, -8.73941782e-02,  3.36813516e-01,\n",
       "          3.43746108e-01, -1.53833875e-01, -2.28853244e-01,\n",
       "         -4.73275028e-01, -4.26483829e-01, -2.97353474e-01,\n",
       "          4.47155799e-03,  1.72071607e-01,  1.73408638e-01],\n",
       "        [ 1.53647215e-01,  3.21633794e-01, -2.39370559e-01,\n",
       "          2.30236261e-01, -7.47308412e-01,  4.30963506e-01,\n",
       "         -1.24319858e-01,  1.90288099e-03, -1.38473972e-02,\n",
       "          2.98814773e-04, -1.28750282e-02,  5.11974085e-02]]))"
      ]
     },
     "execution_count": 26,
     "metadata": {},
     "output_type": "execute_result"
    }
   ],
   "source": [
    "X_mean = np.mean(X_std, axis=0)\n",
    "\n",
    "# Calculo de matriz de covarianza\n",
    "cov_matrix = (X_std - X_mean).T.dot((X_std - X_mean))/(X_std.shape[0]-1)\n",
    "\n",
    "# Calculo de valores y vectores propios\n",
    "eig_vals, eig_vecs = np.linalg.eig(cov_matrix)\n",
    "eig_vals, eig_vecs"
   ]
  },
  {
   "cell_type": "code",
   "execution_count": 29,
   "id": "1ad58ae5",
   "metadata": {
    "scrolled": true
   },
   "outputs": [],
   "source": [
    "eigen_pairs = [(np.abs(eig_vals[i]), eig_vecs[:,i]) for i in range(len(eig_vals))]\n",
    "\n",
    "eigen_pairs.sort(reverse=True)"
   ]
  },
  {
   "cell_type": "code",
   "execution_count": 31,
   "id": "406ce0c4",
   "metadata": {},
   "outputs": [],
   "source": [
    "total_sum = sum(eig_vals)\n",
    "var_exp = [(i/total_sum)*100 for i in sorted(eig_vals, reverse=True)]\n",
    "cum_var_exp = np.cumsum(var_exp)"
   ]
  },
  {
   "cell_type": "code",
   "execution_count": 32,
   "id": "ab8822ce",
   "metadata": {
    "scrolled": true
   },
   "outputs": [
    {
     "data": {
      "text/plain": [
       "[40.88167728688417,\n",
       " 31.299147689886723,\n",
       " 12.874263734077603,\n",
       " 6.264846232358131,\n",
       " 4.784472525710034,\n",
       " 2.0005418709701512,\n",
       " 1.0765960635875205,\n",
       " 0.3342769453505065,\n",
       " 0.2553056288084352,\n",
       " 0.13915667474024568,\n",
       " 0.08917809752889082,\n",
       " 0.0005372500975896435]"
      ]
     },
     "execution_count": 32,
     "metadata": {},
     "output_type": "execute_result"
    }
   ],
   "source": [
    "var_exp"
   ]
  },
  {
   "cell_type": "code",
   "execution_count": 33,
   "id": "af23c7a1",
   "metadata": {},
   "outputs": [
    {
     "data": {
      "text/plain": [
       "array([ 40.88167729,  72.18082498,  85.05508871,  91.31993494,\n",
       "        96.10440747,  98.10494934,  99.1815454 ,  99.51582235,\n",
       "        99.77112798,  99.91028465,  99.99946275, 100.        ])"
      ]
     },
     "execution_count": 33,
     "metadata": {},
     "output_type": "execute_result"
    }
   ],
   "source": [
    "cum_var_exp"
   ]
  },
  {
   "cell_type": "code",
   "execution_count": 38,
   "id": "e8c82299",
   "metadata": {
    "scrolled": false
   },
   "outputs": [
    {
     "data": {
      "text/plain": [
       "<matplotlib.legend.Legend at 0x1d3076dda90>"
      ]
     },
     "execution_count": 38,
     "metadata": {},
     "output_type": "execute_result"
    },
    {
     "data": {
      "image/png": "[encoded data removed]",
      "text/plain": [
       "<Figure size 720x360 with 1 Axes>"
      ]
     },
     "metadata": {
      "needs_background": "light"
     },
     "output_type": "display_data"
    }
   ],
   "source": [
    "plt.figure(figsize=(10, 5))\n",
    "\n",
    "x=[\"CP %s\"%i for i in range(len(var_exp))]\n",
    "\n",
    "plt.bar(x, var_exp)\n",
    "plt.plot(x, cum_var_exp, '.-', label=\"% representativa de inf cumulada\", c='orange', linewidth=5, markersize=20)\n",
    "\n",
    "plt.xlabel(\"Componentes principales\", fontsize=11)\n",
    "plt.ylabel(\"Porcentaje de varianza explicada\", fontsize=11)\n",
    "plt.title(\"Porcentaje de variabilidad explicada por cada componente principal\", fontsize=15)\n",
    "plt.xticks(fontsize=11)\n",
    "plt.yticks(fontsize=11)\n",
    "\n",
    "plt.legend(loc='best', fontsize=11)"
   ]
  },
  {
   "cell_type": "code",
   "execution_count": null,
   "id": "98603f32",
   "metadata": {},
   "outputs": [],
   "source": []
  }
 ],
 "metadata": {
  "kernelspec": {
   "display_name": "Python 3 (ipykernel)",
   "language": "python",
   "name": "python3"
  },
  "language_info": {
   "codemirror_mode": {
    "name": "ipython",
    "version": 3
   },
   "file_extension": ".py",
   "mimetype": "text/x-python",
   "name": "python",
   "nbconvert_exporter": "python",
   "pygments_lexer": "ipython3",
   "version": "3.9.7"
  }
 },
 "nbformat": 4,
 "nbformat_minor": 5
}
