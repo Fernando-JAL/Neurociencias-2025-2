{
 "cells": [
  {
   "cell_type": "markdown",
   "id": "9227a308",
   "metadata": {},
   "source": [
    "# Elementos a evaluar en las presentaciones"
   ]
  },
  {
   "cell_type": "markdown",
   "id": "0d6834f1",
   "metadata": {},
   "source": [
    "- Las presentaciones durarán de 30 a 45 minutos. Cada integrante debe participar en la presentacion oral y escrita\n",
    "- La presentación de cada tema debe contener:\n",
    "    - Idea general del método\n",
    "    - Explicación teórica del método\n",
    "    - Ejercicio práctico, usar algún script para ilustrar la eficacia del método utilizando cualquier dataset (puede ser Iris, brain-tumor o cualquier otro)\n",
    "    - Concluir discutiendo pros y contras del método"
   ]
  },
  {
   "cell_type": "code",
   "execution_count": null,
   "id": "d51f5914",
   "metadata": {},
   "outputs": [],
   "source": []
  }
 ],
 "metadata": {
  "kernelspec": {
   "display_name": "Python 3 (ipykernel)",
   "language": "python",
   "name": "python3"
  },
  "language_info": {
   "codemirror_mode": {
    "name": "ipython",
    "version": 3
   },
   "file_extension": ".py",
   "mimetype": "text/x-python",
   "name": "python",
   "nbconvert_exporter": "python",
   "pygments_lexer": "ipython3",
   "version": "3.9.7"
  }
 },
 "nbformat": 4,
 "nbformat_minor": 5
}
