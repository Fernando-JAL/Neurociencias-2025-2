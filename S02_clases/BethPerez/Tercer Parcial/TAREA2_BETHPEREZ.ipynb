{
 "cells": [
  {
   "cell_type": "markdown",
   "id": "0b6b9ff3",
   "metadata": {},
   "source": [
    "## MSE (Mean Squared Error / Error Cuadrático Medio)\n",
    "#### Formula\n",
    "\n",
    "\n",
    "#### Definicion\n",
    "* El MSE mide el promedio de los errores al cuadrado entre los valores reales y los valores predichos. Penaliza fuertemente los errores grandes.\n",
    "* Mide qué tan lejos están, en promedio, las predicciones del modelo comparadas con los valores reales, pero eleva al cuadrado los errores (por eso castiga más los errores grandes). Una forma de decir “¿qué tan mal me equivoqué, especialmente si me equivoqué mucho?”\n",
    "* Mide qué tan lejos, en promedio, están las predicciones del modelo respecto a los valores reales, dando más peso a los errores grandes.\n",
    "\n",
    "\n",
    "\n",
    "\n",
    "#### Aplicacion\n",
    "\n",
    "\n",
    "## MAE\n",
    "#### Formula\n",
    "\n",
    "\n",
    "#### Definicion\n",
    "\n",
    "\n",
    "#### Aplicacion\n",
    "\n",
    "\n",
    "## RMSE\n",
    "#### Formula\n",
    "\n",
    "\n",
    "#### Definicion\n",
    "\n",
    "\n",
    "#### Aplicacion\n",
    "\n",
    "\n",
    "\n",
    "## RSQUARED\n",
    "#### Formula\n",
    "\n",
    "\n",
    "#### Definicion\n",
    "\n",
    "\n",
    "#### Aplicacion\n",
    "\n"
   ]
  },
  {
   "cell_type": "code",
   "execution_count": null,
   "id": "6b07061d",
   "metadata": {},
   "outputs": [],
   "source": []
  }
 ],
 "metadata": {
  "kernelspec": {
   "display_name": "Python 3 (ipykernel)",
   "language": "python",
   "name": "python3"
  },
  "language_info": {
   "codemirror_mode": {
    "name": "ipython",
    "version": 3
   },
   "file_extension": ".py",
   "mimetype": "text/x-python",
   "name": "python",
   "nbconvert_exporter": "python",
   "pygments_lexer": "ipython3",
   "version": "3.11.2"
  }
 },
 "nbformat": 4,
 "nbformat_minor": 5
}
