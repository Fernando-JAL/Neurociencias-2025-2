{
 "cells": [
  {
   "cell_type": "code",
   "execution_count": 36,
   "id": "8d7af186",
   "metadata": {},
   "outputs": [],
   "source": [
    "import os\n",
    "import pandas as pd"
   ]
  },
  {
   "cell_type": "code",
   "execution_count": 37,
   "id": "a4f42546",
   "metadata": {},
   "outputs": [],
   "source": [
    "#path = r\"Mis archivos/Archivos de Linux/GitHub/Neurociencias-2025-2/S03_datasets/iris/iris.csv\""
   ]
  },
  {
   "cell_type": "code",
   "execution_count": 38,
   "id": "11813bb3",
   "metadata": {},
   "outputs": [],
   "source": [
    "#df = pd.read_csv(path)\n",
    "#df.head()"
   ]
  },
  {
   "cell_type": "code",
   "execution_count": 39,
   "id": "bcdd3c61",
   "metadata": {},
   "outputs": [],
   "source": [
    "#X = df.iloc[:, :4]\n",
    "#import seaborn as sns\n",
    "#sns.pairplot(df, hue=\"Species\")"
   ]
  },
  {
   "cell_type": "code",
   "execution_count": null,
   "id": "ef11e7d8",
   "metadata": {},
   "outputs": [],
   "source": []
  }
 ],
 "metadata": {
  "kernelspec": {
   "display_name": "Python 3 (ipykernel)",
   "language": "python",
   "name": "python3"
  },
  "language_info": {
   "codemirror_mode": {
    "name": "ipython",
    "version": 3
   },
   "file_extension": ".py",
   "mimetype": "text/x-python",
   "name": "python",
   "nbconvert_exporter": "python",
   "pygments_lexer": "ipython3",
   "version": "3.11.2"
  }
 },
 "nbformat": 4,
 "nbformat_minor": 5
}
