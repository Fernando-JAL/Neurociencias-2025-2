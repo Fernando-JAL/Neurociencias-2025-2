{
 "cells": [
  {
   "cell_type": "code",
   "execution_count": 1,
   "id": "b9f6c648-21f5-4db3-be66-1ffc7ec0d8f7",
   "metadata": {},
   "outputs": [
    {
     "name": "stdout",
     "output_type": "stream",
     "text": [
      "WARNING:tensorflow:From C:\\Users\\OMEN CI7\\Documents\\repository\\Neurociencias-2025-2\\dl_env\\lib\\site-packages\\keras\\src\\losses.py:2976: The name tf.losses.sparse_softmax_cross_entropy is deprecated. Please use tf.compat.v1.losses.sparse_softmax_cross_entropy instead.\n",
      "\n"
     ]
    }
   ],
   "source": [
    "from keras.models import Sequential\n",
    "from keras.layers import Conv2D\n",
    "from keras.layers import MaxPooling2D\n",
    "from keras.layers import Flatten\n",
    "from keras.layers import Dense"
   ]
  },
  {
   "cell_type": "code",
   "execution_count": 2,
   "id": "c0879aaf-88ed-441c-b1d2-bd4294e87eac",
   "metadata": {},
   "outputs": [
    {
     "name": "stdout",
     "output_type": "stream",
     "text": [
      "WARNING:tensorflow:From C:\\Users\\OMEN CI7\\Documents\\repository\\Neurociencias-2025-2\\dl_env\\lib\\site-packages\\keras\\src\\backend.py:873: The name tf.get_default_graph is deprecated. Please use tf.compat.v1.get_default_graph instead.\n",
      "\n",
      "WARNING:tensorflow:From C:\\Users\\OMEN CI7\\Documents\\repository\\Neurociencias-2025-2\\dl_env\\lib\\site-packages\\keras\\src\\layers\\pooling\\max_pooling2d.py:161: The name tf.nn.max_pool is deprecated. Please use tf.nn.max_pool2d instead.\n",
      "\n"
     ]
    }
   ],
   "source": [
    "# Se inicializa la CNN\n",
    "classifier = Sequential()\n",
    "\n",
    "# Paso 1. Se aplica la convolución a cada imagen\n",
    "classifier.add(Conv2D(32, (3, 3), input_shape = (64, 64, 3), activation = 'relu'))\n",
    "\n",
    "# Paso 2. Se hace pooling\n",
    "classifier.add(MaxPooling2D((2, 2)))\n",
    "\n",
    "# Step 3 - Flattening (aplanado)\n",
    "classifier.add(Flatten())\n",
    "\n",
    "# Step 4 - Se conecta la red\n",
    "classifier.add(Dense(units = 128, activation = 'relu'))\n",
    "classifier.add(Dense(units = 1, activation = 'sigmoid'))"
   ]
  },
  {
   "cell_type": "code",
   "execution_count": 3,
   "id": "3ef83266-87fe-40ec-8434-941890046e72",
   "metadata": {},
   "outputs": [
    {
     "name": "stdout",
     "output_type": "stream",
     "text": [
      "WARNING:tensorflow:From C:\\Users\\OMEN CI7\\Documents\\repository\\Neurociencias-2025-2\\dl_env\\lib\\site-packages\\keras\\src\\optimizers\\__init__.py:309: The name tf.train.Optimizer is deprecated. Please use tf.compat.v1.train.Optimizer instead.\n",
      "\n"
     ]
    }
   ],
   "source": [
    "# Se compila la CNN\n",
    "classifier.compile(optimizer = 'adam', loss = 'binary_crossentropy', metrics = ['accuracy'])"
   ]
  },
  {
   "cell_type": "code",
   "execution_count": 4,
   "id": "705f8453-8510-4c9a-af07-8c94bba179a7",
   "metadata": {},
   "outputs": [],
   "source": [
    "import tensorflow as tf\n",
    "from tensorflow.keras import layers, models\n",
    "from tensorflow.keras.preprocessing import image_dataset_from_directory"
   ]
  },
  {
   "cell_type": "code",
   "execution_count": 7,
   "id": "71fabd10-7f5d-4989-a471-a19d19969e09",
   "metadata": {},
   "outputs": [
    {
     "name": "stdout",
     "output_type": "stream",
     "text": [
      "Found 8048 images belonging to 2 classes.\n",
      "Found 2000 images belonging to 2 classes.\n"
     ]
    }
   ],
   "source": [
    "from keras.preprocessing.image import ImageDataGenerator\n",
    "\n",
    "train_datagen = ImageDataGenerator(rescale = 1./255,\n",
    "                                   shear_range = 0.2,\n",
    "                                   zoom_range = 0.2,\n",
    "                                   horizontal_flip = True)\n",
    "\n",
    "test_datagen = ImageDataGenerator(rescale = 1./255)\n",
    "\n",
    "training_set = train_datagen.flow_from_directory('dataset/training_set',\n",
    "                                                 target_size = (64, 64),\n",
    "                                                 batch_size = 32,\n",
    "                                                 class_mode = 'binary')\n",
    "\n",
    "testing_set = test_datagen.flow_from_directory('dataset/test_set',\n",
    "                                            target_size = (64, 64),\n",
    "                                            batch_size = 32,\n",
    "                                            class_mode = 'binary')"
   ]
  },
  {
   "cell_type": "code",
   "execution_count": 8,
   "id": "06030377-c032-4229-afbb-9b7864b988ab",
   "metadata": {
    "scrolled": true
   },
   "outputs": [
    {
     "name": "stdout",
     "output_type": "stream",
     "text": [
      "Epoch 1/50\n",
      "WARNING:tensorflow:From C:\\Users\\OMEN CI7\\Documents\\repository\\Neurociencias-2025-2\\dl_env\\lib\\site-packages\\keras\\src\\utils\\tf_utils.py:492: The name tf.ragged.RaggedTensorValue is deprecated. Please use tf.compat.v1.ragged.RaggedTensorValue instead.\n",
      "\n",
      "WARNING:tensorflow:From C:\\Users\\OMEN CI7\\Documents\\repository\\Neurociencias-2025-2\\dl_env\\lib\\site-packages\\keras\\src\\engine\\base_layer_utils.py:384: The name tf.executing_eagerly_outside_functions is deprecated. Please use tf.compat.v1.executing_eagerly_outside_functions instead.\n",
      "\n",
      "252/252 [==============================] - 47s 185ms/step - loss: 0.6787 - accuracy: 0.5959 - val_loss: 0.6290 - val_accuracy: 0.6455\n",
      "Epoch 2/50\n",
      "252/252 [==============================] - 36s 145ms/step - loss: 0.6094 - accuracy: 0.6692 - val_loss: 0.5924 - val_accuracy: 0.6805\n",
      "Epoch 3/50\n",
      "252/252 [==============================] - 37s 149ms/step - loss: 0.5758 - accuracy: 0.6993 - val_loss: 0.6718 - val_accuracy: 0.6360\n",
      "Epoch 4/50\n",
      "252/252 [==============================] - 37s 147ms/step - loss: 0.5567 - accuracy: 0.7168 - val_loss: 0.5502 - val_accuracy: 0.7230\n",
      "Epoch 5/50\n",
      "252/252 [==============================] - 37s 148ms/step - loss: 0.5430 - accuracy: 0.7158 - val_loss: 0.5317 - val_accuracy: 0.7315\n",
      "Epoch 6/50\n",
      "252/252 [==============================] - 38s 152ms/step - loss: 0.5209 - accuracy: 0.7440 - val_loss: 0.5537 - val_accuracy: 0.7200\n",
      "Epoch 7/50\n",
      "252/252 [==============================] - 37s 148ms/step - loss: 0.5098 - accuracy: 0.7486 - val_loss: 0.5295 - val_accuracy: 0.7445\n",
      "Epoch 8/50\n",
      "252/252 [==============================] - 36s 143ms/step - loss: 0.4992 - accuracy: 0.7511 - val_loss: 0.5320 - val_accuracy: 0.7425\n",
      "Epoch 9/50\n",
      "252/252 [==============================] - 36s 144ms/step - loss: 0.4910 - accuracy: 0.7547 - val_loss: 0.4958 - val_accuracy: 0.7700\n",
      "Epoch 10/50\n",
      "252/252 [==============================] - 36s 143ms/step - loss: 0.4818 - accuracy: 0.7663 - val_loss: 0.5193 - val_accuracy: 0.7525\n",
      "Epoch 11/50\n",
      "252/252 [==============================] - 37s 148ms/step - loss: 0.4677 - accuracy: 0.7747 - val_loss: 0.5320 - val_accuracy: 0.7485\n",
      "Epoch 12/50\n",
      "252/252 [==============================] - 37s 145ms/step - loss: 0.4610 - accuracy: 0.7782 - val_loss: 0.5065 - val_accuracy: 0.7715\n",
      "Epoch 13/50\n",
      "252/252 [==============================] - 36s 144ms/step - loss: 0.4587 - accuracy: 0.7828 - val_loss: 0.5612 - val_accuracy: 0.7380\n",
      "Epoch 14/50\n",
      "252/252 [==============================] - 36s 144ms/step - loss: 0.4513 - accuracy: 0.7879 - val_loss: 0.5373 - val_accuracy: 0.7500\n",
      "Epoch 15/50\n",
      "252/252 [==============================] - 37s 148ms/step - loss: 0.4431 - accuracy: 0.7904 - val_loss: 0.5205 - val_accuracy: 0.7610\n",
      "Epoch 16/50\n",
      "252/252 [==============================] - 39s 154ms/step - loss: 0.4322 - accuracy: 0.7972 - val_loss: 0.5372 - val_accuracy: 0.7690\n",
      "Epoch 17/50\n",
      "252/252 [==============================] - 37s 149ms/step - loss: 0.4254 - accuracy: 0.8003 - val_loss: 0.5400 - val_accuracy: 0.7545\n",
      "Epoch 18/50\n",
      "252/252 [==============================] - 36s 141ms/step - loss: 0.4167 - accuracy: 0.8108 - val_loss: 0.5225 - val_accuracy: 0.7755\n",
      "Epoch 19/50\n",
      "252/252 [==============================] - 34s 134ms/step - loss: 0.4134 - accuracy: 0.8103 - val_loss: 0.5115 - val_accuracy: 0.7800\n",
      "Epoch 20/50\n",
      "252/252 [==============================] - 35s 140ms/step - loss: 0.4055 - accuracy: 0.8104 - val_loss: 0.5940 - val_accuracy: 0.7420\n",
      "Epoch 21/50\n",
      "252/252 [==============================] - 33s 130ms/step - loss: 0.4021 - accuracy: 0.8129 - val_loss: 0.6009 - val_accuracy: 0.7475\n",
      "Epoch 22/50\n",
      "252/252 [==============================] - 39s 155ms/step - loss: 0.3917 - accuracy: 0.8206 - val_loss: 0.5612 - val_accuracy: 0.7750\n",
      "Epoch 23/50\n",
      "252/252 [==============================] - 38s 152ms/step - loss: 0.3922 - accuracy: 0.8238 - val_loss: 0.5389 - val_accuracy: 0.7695\n",
      "Epoch 24/50\n",
      "252/252 [==============================] - 38s 152ms/step - loss: 0.3794 - accuracy: 0.8289 - val_loss: 0.5672 - val_accuracy: 0.7600\n",
      "Epoch 25/50\n",
      "252/252 [==============================] - 38s 150ms/step - loss: 0.3735 - accuracy: 0.8303 - val_loss: 0.6039 - val_accuracy: 0.7450\n",
      "Epoch 26/50\n",
      "252/252 [==============================] - 44s 174ms/step - loss: 0.3668 - accuracy: 0.8372 - val_loss: 0.5827 - val_accuracy: 0.7590\n",
      "Epoch 27/50\n",
      "252/252 [==============================] - 42s 166ms/step - loss: 0.3614 - accuracy: 0.8336 - val_loss: 0.5358 - val_accuracy: 0.7635\n",
      "Epoch 28/50\n",
      "252/252 [==============================] - 37s 146ms/step - loss: 0.3602 - accuracy: 0.8357 - val_loss: 0.6138 - val_accuracy: 0.7535\n",
      "Epoch 29/50\n",
      "252/252 [==============================] - 36s 144ms/step - loss: 0.3512 - accuracy: 0.8400 - val_loss: 0.5766 - val_accuracy: 0.7680\n",
      "Epoch 30/50\n",
      "252/252 [==============================] - 36s 144ms/step - loss: 0.3395 - accuracy: 0.8524 - val_loss: 0.5802 - val_accuracy: 0.7570\n",
      "Epoch 31/50\n",
      "252/252 [==============================] - 37s 145ms/step - loss: 0.3379 - accuracy: 0.8504 - val_loss: 0.6126 - val_accuracy: 0.7560\n",
      "Epoch 32/50\n",
      "252/252 [==============================] - 36s 144ms/step - loss: 0.3321 - accuracy: 0.8505 - val_loss: 0.6493 - val_accuracy: 0.7465\n",
      "Epoch 33/50\n",
      "252/252 [==============================] - 36s 143ms/step - loss: 0.3326 - accuracy: 0.8501 - val_loss: 0.6283 - val_accuracy: 0.7610\n",
      "Epoch 34/50\n",
      "252/252 [==============================] - 36s 144ms/step - loss: 0.3200 - accuracy: 0.8605 - val_loss: 0.6136 - val_accuracy: 0.7690\n",
      "Epoch 35/50\n",
      "252/252 [==============================] - 37s 145ms/step - loss: 0.3166 - accuracy: 0.8567 - val_loss: 0.5858 - val_accuracy: 0.7640\n",
      "Epoch 36/50\n",
      "252/252 [==============================] - 33s 130ms/step - loss: 0.3180 - accuracy: 0.8616 - val_loss: 0.7195 - val_accuracy: 0.7500\n",
      "Epoch 37/50\n",
      "252/252 [==============================] - 34s 137ms/step - loss: 0.3155 - accuracy: 0.8618 - val_loss: 0.6597 - val_accuracy: 0.7555\n",
      "Epoch 38/50\n",
      "252/252 [==============================] - 34s 133ms/step - loss: 0.3120 - accuracy: 0.8644 - val_loss: 0.7358 - val_accuracy: 0.7345\n",
      "Epoch 39/50\n",
      "252/252 [==============================] - 32s 128ms/step - loss: 0.2947 - accuracy: 0.8709 - val_loss: 0.6419 - val_accuracy: 0.7680\n",
      "Epoch 40/50\n",
      "252/252 [==============================] - 32s 125ms/step - loss: 0.2847 - accuracy: 0.8754 - val_loss: 0.6466 - val_accuracy: 0.7625\n",
      "Epoch 41/50\n",
      "252/252 [==============================] - 33s 131ms/step - loss: 0.2878 - accuracy: 0.8714 - val_loss: 0.6911 - val_accuracy: 0.7705\n",
      "Epoch 42/50\n",
      "252/252 [==============================] - 39s 155ms/step - loss: 0.2825 - accuracy: 0.8767 - val_loss: 0.6706 - val_accuracy: 0.7570\n",
      "Epoch 43/50\n",
      "252/252 [==============================] - 37s 146ms/step - loss: 0.2738 - accuracy: 0.8833 - val_loss: 0.6897 - val_accuracy: 0.7615\n",
      "Epoch 44/50\n",
      "252/252 [==============================] - 36s 145ms/step - loss: 0.2644 - accuracy: 0.8830 - val_loss: 0.7384 - val_accuracy: 0.7600\n",
      "Epoch 45/50\n",
      "252/252 [==============================] - 37s 145ms/step - loss: 0.2824 - accuracy: 0.8767 - val_loss: 0.6477 - val_accuracy: 0.7635\n",
      "Epoch 46/50\n",
      "252/252 [==============================] - 37s 145ms/step - loss: 0.2706 - accuracy: 0.8843 - val_loss: 0.8122 - val_accuracy: 0.7390\n",
      "Epoch 47/50\n",
      "252/252 [==============================] - 37s 145ms/step - loss: 0.2659 - accuracy: 0.8887 - val_loss: 0.7624 - val_accuracy: 0.7595\n",
      "Epoch 48/50\n",
      "252/252 [==============================] - 37s 147ms/step - loss: 0.2533 - accuracy: 0.8950 - val_loss: 0.8732 - val_accuracy: 0.7475\n",
      "Epoch 49/50\n",
      "252/252 [==============================] - 33s 130ms/step - loss: 0.2564 - accuracy: 0.8945 - val_loss: 0.8306 - val_accuracy: 0.7370\n",
      "Epoch 50/50\n",
      "252/252 [==============================] - 35s 140ms/step - loss: 0.2524 - accuracy: 0.8917 - val_loss: 0.7394 - val_accuracy: 0.7650\n"
     ]
    },
    {
     "data": {
      "text/plain": [
       "<keras.src.callbacks.History at 0x267a1ef7b80>"
      ]
     },
     "execution_count": 8,
     "metadata": {},
     "output_type": "execute_result"
    }
   ],
   "source": [
    "classifier.fit(training_set,\n",
    "               epochs = 50,\n",
    "               validation_data = testing_set)"
   ]
  },
  {
   "cell_type": "code",
   "execution_count": 10,
   "id": "bdb6a9a1-3132-4709-848c-a5e40d23ef78",
   "metadata": {},
   "outputs": [
    {
     "name": "stdout",
     "output_type": "stream",
     "text": [
      "63/63 [==============================] - 3s 45ms/step\n"
     ]
    }
   ],
   "source": [
    "import numpy as np\n",
    "\n",
    "y_pred_probs = classifier.predict(testing_set)\n",
    "y_pred_classes = np.argmax(y_pred_probs, axis=1)"
   ]
  },
  {
   "cell_type": "code",
   "execution_count": 11,
   "id": "270119b3-3b29-4a1e-bd0e-78bd2ec2b81b",
   "metadata": {},
   "outputs": [
    {
     "ename": "NameError",
     "evalue": "name 'y_test' is not defined",
     "output_type": "error",
     "traceback": [
      "\u001b[1;31m---------------------------------------------------------------------------\u001b[0m",
      "\u001b[1;31mNameError\u001b[0m                                 Traceback (most recent call last)",
      "Cell \u001b[1;32mIn[11], line 1\u001b[0m\n\u001b[1;32m----> 1\u001b[0m y_true \u001b[38;5;241m=\u001b[39m np\u001b[38;5;241m.\u001b[39margmax(\u001b[43my_test\u001b[49m, axis\u001b[38;5;241m=\u001b[39m\u001b[38;5;241m1\u001b[39m)\n",
      "\u001b[1;31mNameError\u001b[0m: name 'y_test' is not defined"
     ]
    }
   ],
   "source": [
    "y_true = np.argmax(y_test, axis=1)"
   ]
  },
  {
   "cell_type": "code",
   "execution_count": 13,
   "id": "a0272a64-b0e9-4dfb-a930-4c5303fd1967",
   "metadata": {},
   "outputs": [
    {
     "data": {
      "text/plain": [
       "2000"
      ]
     },
     "execution_count": 13,
     "metadata": {},
     "output_type": "execute_result"
    }
   ],
   "source": [
    "len(y_pred_classes)"
   ]
  },
  {
   "cell_type": "code",
   "execution_count": null,
   "id": "403bf3b5-3e6e-4fd8-8bf8-5b39f98ffb7e",
   "metadata": {},
   "outputs": [],
   "source": []
  }
 ],
 "metadata": {
  "kernelspec": {
   "display_name": "Python 3 (ipykernel)",
   "language": "python",
   "name": "python3"
  },
  "language_info": {
   "codemirror_mode": {
    "name": "ipython",
    "version": 3
   },
   "file_extension": ".py",
   "mimetype": "text/x-python",
   "name": "python",
   "nbconvert_exporter": "python",
   "pygments_lexer": "ipython3",
   "version": "3.10.4"
  }
 },
 "nbformat": 4,
 "nbformat_minor": 5
}
