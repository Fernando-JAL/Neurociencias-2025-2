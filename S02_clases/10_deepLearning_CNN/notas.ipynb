{
 "cells": [
  {
   "cell_type": "code",
   "execution_count": 1,
   "id": "b9f6c648-21f5-4db3-be66-1ffc7ec0d8f7",
   "metadata": {},
   "outputs": [
    {
     "name": "stdout",
     "output_type": "stream",
     "text": [
      "WARNING:tensorflow:From C:\\Users\\OMEN CI7\\Documents\\repository\\Neurociencias-2025-2\\dl_env\\lib\\site-packages\\keras\\src\\losses.py:2976: The name tf.losses.sparse_softmax_cross_entropy is deprecated. Please use tf.compat.v1.losses.sparse_softmax_cross_entropy instead.\n",
      "\n"
     ]
    }
   ],
   "source": [
    "from keras.models import Sequential\n",
    "from keras.layers import Conv2D\n",
    "from keras.layers import MaxPooling2D\n",
    "from keras.layers import Flatten\n",
    "from keras.layers import Dense"
   ]
  },
  {
   "cell_type": "code",
   "execution_count": 5,
   "id": "c0879aaf-88ed-441c-b1d2-bd4294e87eac",
   "metadata": {},
   "outputs": [],
   "source": [
    "# Se inicializa la CNN\n",
    "classifier = Sequential()\n",
    "\n",
    "# Paso 1. Se aplica la convolución a cada imagen\n",
    "classifier.add(Conv2D(32, (3, 3), input_shape = (64, 64, 3), activation = 'relu'))\n",
    "\n",
    "# Paso 2. Se hace pooling\n",
    "classifier.add(MaxPooling2D((2, 2)))\n",
    "\n",
    "# Step 3 - Flattening (aplanado)\n",
    "classifier.add(Flatten())\n",
    "\n",
    "# Step 4 - Se conecta la red\n",
    "classifier.add(Dense(units = 128, activation = 'relu'))\n",
    "classifier.add(Dense(units = 1, activation = 'sigmoid'))"
   ]
  },
  {
   "cell_type": "code",
   "execution_count": 6,
   "id": "3ef83266-87fe-40ec-8434-941890046e72",
   "metadata": {},
   "outputs": [
    {
     "name": "stdout",
     "output_type": "stream",
     "text": [
      "WARNING:tensorflow:From C:\\Users\\OMEN CI7\\Documents\\repository\\Neurociencias-2025-2\\dl_env\\lib\\site-packages\\keras\\src\\optimizers\\__init__.py:309: The name tf.train.Optimizer is deprecated. Please use tf.compat.v1.train.Optimizer instead.\n",
      "\n"
     ]
    }
   ],
   "source": [
    "# Se compila la CNN\n",
    "classifier.compile(optimizer = 'adam', loss = 'binary_crossentropy', metrics = ['accuracy'])"
   ]
  },
  {
   "cell_type": "code",
   "execution_count": 8,
   "id": "705f8453-8510-4c9a-af07-8c94bba179a7",
   "metadata": {},
   "outputs": [],
   "source": [
    "import tensorflow as tf\n",
    "from tensorflow.keras import layers, models\n",
    "from tensorflow.keras.preprocessing import image_dataset_from_directory"
   ]
  },
  {
   "cell_type": "code",
   "execution_count": 10,
   "id": "95c1c1d6-669d-4f77-99ab-05e0cb18f538",
   "metadata": {},
   "outputs": [
    {
     "name": "stdout",
     "output_type": "stream",
     "text": [
      "Found 8048 files belonging to 2 classes.\n",
      "Found 2000 files belonging to 2 classes.\n"
     ]
    }
   ],
   "source": [
    "# Cargar los datos desde carpetas\n",
    "train_dataset = image_dataset_from_directory(\"dataset/training_set\", \n",
    "                                             image_size=(64, 64), \n",
    "                                             batch_size=32)\n",
    "\n",
    "val_dataset = image_dataset_from_directory(\"dataset/test_set\", \n",
    "                                           image_size=(64, 64), \n",
    "                                           batch_size=32)"
   ]
  },
  {
   "cell_type": "code",
   "execution_count": 12,
   "id": "71fabd10-7f5d-4989-a471-a19d19969e09",
   "metadata": {},
   "outputs": [
    {
     "name": "stdout",
     "output_type": "stream",
     "text": [
      "Found 8048 images belonging to 2 classes.\n",
      "Found 2000 images belonging to 2 classes.\n"
     ]
    }
   ],
   "source": [
    "from keras.preprocessing.image import ImageDataGenerator\n",
    "\n",
    "train_datagen = ImageDataGenerator(rescale = 1./255,\n",
    "                                   shear_range = 0.2,\n",
    "                                   zoom_range = 0.2,\n",
    "                                   horizontal_flip = True)\n",
    "\n",
    "test_datagen = ImageDataGenerator(rescale = 1./255)\n",
    "\n",
    "training_set = train_datagen.flow_from_directory('dataset/training_set',\n",
    "                                                 target_size = (64, 64),\n",
    "                                                 batch_size = 32,\n",
    "                                                 class_mode = 'binary')\n",
    "\n",
    "testing_set = test_datagen.flow_from_directory('dataset/test_set',\n",
    "                                            target_size = (64, 64),\n",
    "                                            batch_size = 32,\n",
    "                                            class_mode = 'binary')"
   ]
  },
  {
   "cell_type": "code",
   "execution_count": 16,
   "id": "06030377-c032-4229-afbb-9b7864b988ab",
   "metadata": {
    "scrolled": true
   },
   "outputs": [
    {
     "name": "stdout",
     "output_type": "stream",
     "text": [
      "Epoch 1/50\n",
      "252/252 [==============================] - 32s 126ms/step - loss: 0.5415 - accuracy: 0.7209 - val_loss: 0.6054 - val_accuracy: 0.6945\n",
      "Epoch 2/50\n",
      "252/252 [==============================] - 34s 137ms/step - loss: 0.5237 - accuracy: 0.7338 - val_loss: 0.5261 - val_accuracy: 0.7415\n",
      "Epoch 3/50\n",
      "252/252 [==============================] - 43s 172ms/step - loss: 0.5089 - accuracy: 0.7463 - val_loss: 0.5442 - val_accuracy: 0.7305\n",
      "Epoch 4/50\n",
      "252/252 [==============================] - 34s 137ms/step - loss: 0.5043 - accuracy: 0.7541 - val_loss: 0.5469 - val_accuracy: 0.7275\n",
      "Epoch 5/50\n",
      "252/252 [==============================] - 34s 137ms/step - loss: 0.4872 - accuracy: 0.7596 - val_loss: 0.5654 - val_accuracy: 0.7305\n",
      "Epoch 6/50\n",
      "252/252 [==============================] - 33s 131ms/step - loss: 0.4686 - accuracy: 0.7700 - val_loss: 0.5267 - val_accuracy: 0.7510\n",
      "Epoch 7/50\n",
      "252/252 [==============================] - 34s 136ms/step - loss: 0.4612 - accuracy: 0.7780 - val_loss: 0.5366 - val_accuracy: 0.7395\n",
      "Epoch 8/50\n",
      "252/252 [==============================] - 35s 137ms/step - loss: 0.4396 - accuracy: 0.7967 - val_loss: 0.5694 - val_accuracy: 0.7470\n",
      "Epoch 9/50\n",
      "252/252 [==============================] - 34s 137ms/step - loss: 0.4327 - accuracy: 0.7972 - val_loss: 0.5230 - val_accuracy: 0.7615\n",
      "Epoch 10/50\n",
      "252/252 [==============================] - 32s 128ms/step - loss: 0.4161 - accuracy: 0.8072 - val_loss: 0.6319 - val_accuracy: 0.7390\n",
      "Epoch 11/50\n",
      "252/252 [==============================] - 32s 127ms/step - loss: 0.4063 - accuracy: 0.8125 - val_loss: 0.5703 - val_accuracy: 0.7445\n",
      "Epoch 12/50\n",
      "252/252 [==============================] - 32s 127ms/step - loss: 0.3884 - accuracy: 0.8257 - val_loss: 0.5245 - val_accuracy: 0.7610\n",
      "Epoch 13/50\n",
      "252/252 [==============================] - 32s 126ms/step - loss: 0.3781 - accuracy: 0.8314 - val_loss: 0.5371 - val_accuracy: 0.7695\n",
      "Epoch 14/50\n",
      "252/252 [==============================] - 35s 138ms/step - loss: 0.3677 - accuracy: 0.8367 - val_loss: 0.5730 - val_accuracy: 0.7635\n",
      "Epoch 15/50\n",
      "252/252 [==============================] - 35s 137ms/step - loss: 0.3432 - accuracy: 0.8501 - val_loss: 0.5888 - val_accuracy: 0.7520\n",
      "Epoch 16/50\n",
      "252/252 [==============================] - 33s 132ms/step - loss: 0.3401 - accuracy: 0.8483 - val_loss: 0.5877 - val_accuracy: 0.7600\n",
      "Epoch 17/50\n",
      "252/252 [==============================] - 32s 128ms/step - loss: 0.3282 - accuracy: 0.8579 - val_loss: 0.5860 - val_accuracy: 0.7660\n",
      "Epoch 18/50\n",
      "252/252 [==============================] - 32s 128ms/step - loss: 0.3219 - accuracy: 0.8607 - val_loss: 0.5735 - val_accuracy: 0.7615\n",
      "Epoch 19/50\n",
      "252/252 [==============================] - 30s 120ms/step - loss: 0.3003 - accuracy: 0.8708 - val_loss: 0.6146 - val_accuracy: 0.7585\n",
      "Epoch 20/50\n",
      "252/252 [==============================] - 35s 140ms/step - loss: 0.2972 - accuracy: 0.8741 - val_loss: 0.5904 - val_accuracy: 0.7675\n",
      "Epoch 21/50\n",
      "252/252 [==============================] - 35s 137ms/step - loss: 0.2873 - accuracy: 0.8756 - val_loss: 0.6857 - val_accuracy: 0.7415\n",
      "Epoch 22/50\n",
      "252/252 [==============================] - 36s 144ms/step - loss: 0.2744 - accuracy: 0.8827 - val_loss: 0.6839 - val_accuracy: 0.7415\n",
      "Epoch 23/50\n",
      "252/252 [==============================] - 34s 133ms/step - loss: 0.2657 - accuracy: 0.8894 - val_loss: 0.6986 - val_accuracy: 0.7430\n",
      "Epoch 24/50\n",
      "252/252 [==============================] - 34s 134ms/step - loss: 0.2482 - accuracy: 0.8950 - val_loss: 0.6461 - val_accuracy: 0.7615\n",
      "Epoch 25/50\n",
      "252/252 [==============================] - 32s 128ms/step - loss: 0.2415 - accuracy: 0.9010 - val_loss: 0.6620 - val_accuracy: 0.7615\n",
      "Epoch 26/50\n",
      "252/252 [==============================] - 34s 136ms/step - loss: 0.2293 - accuracy: 0.9068 - val_loss: 0.7201 - val_accuracy: 0.7525\n",
      "Epoch 27/50\n",
      "252/252 [==============================] - 32s 127ms/step - loss: 0.2315 - accuracy: 0.9062 - val_loss: 0.7494 - val_accuracy: 0.7390\n",
      "Epoch 28/50\n",
      "252/252 [==============================] - 34s 137ms/step - loss: 0.2153 - accuracy: 0.9115 - val_loss: 0.7143 - val_accuracy: 0.7590\n",
      "Epoch 29/50\n",
      "252/252 [==============================] - 33s 129ms/step - loss: 0.2040 - accuracy: 0.9155 - val_loss: 0.8315 - val_accuracy: 0.7410\n",
      "Epoch 30/50\n",
      "252/252 [==============================] - 32s 127ms/step - loss: 0.2027 - accuracy: 0.9195 - val_loss: 0.8194 - val_accuracy: 0.7375\n",
      "Epoch 31/50\n",
      "252/252 [==============================] - 28s 109ms/step - loss: 0.1939 - accuracy: 0.9207 - val_loss: 0.8338 - val_accuracy: 0.7420\n",
      "Epoch 32/50\n",
      "252/252 [==============================] - 28s 113ms/step - loss: 0.1888 - accuracy: 0.9268 - val_loss: 0.7556 - val_accuracy: 0.7610\n",
      "Epoch 33/50\n",
      "252/252 [==============================] - 33s 130ms/step - loss: 0.1904 - accuracy: 0.9261 - val_loss: 0.8474 - val_accuracy: 0.7430\n",
      "Epoch 34/50\n",
      "252/252 [==============================] - 33s 133ms/step - loss: 0.1698 - accuracy: 0.9329 - val_loss: 0.8549 - val_accuracy: 0.7550\n",
      "Epoch 35/50\n",
      "252/252 [==============================] - 34s 134ms/step - loss: 0.1658 - accuracy: 0.9343 - val_loss: 0.8081 - val_accuracy: 0.7505\n",
      "Epoch 36/50\n",
      "252/252 [==============================] - 33s 131ms/step - loss: 0.1703 - accuracy: 0.9327 - val_loss: 0.8611 - val_accuracy: 0.7490\n",
      "Epoch 37/50\n",
      "252/252 [==============================] - 34s 133ms/step - loss: 0.1598 - accuracy: 0.9358 - val_loss: 0.8972 - val_accuracy: 0.7510\n",
      "Epoch 38/50\n",
      "252/252 [==============================] - 35s 138ms/step - loss: 0.1585 - accuracy: 0.9389 - val_loss: 0.9093 - val_accuracy: 0.7350\n",
      "Epoch 39/50\n",
      "252/252 [==============================] - 34s 134ms/step - loss: 0.1632 - accuracy: 0.9375 - val_loss: 0.9530 - val_accuracy: 0.7310\n",
      "Epoch 40/50\n",
      "252/252 [==============================] - 33s 130ms/step - loss: 0.1535 - accuracy: 0.9414 - val_loss: 0.9589 - val_accuracy: 0.7365\n",
      "Epoch 41/50\n",
      "252/252 [==============================] - 32s 129ms/step - loss: 0.1415 - accuracy: 0.9471 - val_loss: 0.9759 - val_accuracy: 0.7520\n",
      "Epoch 42/50\n",
      "252/252 [==============================] - 32s 126ms/step - loss: 0.1405 - accuracy: 0.9484 - val_loss: 0.9770 - val_accuracy: 0.7455\n",
      "Epoch 43/50\n",
      "252/252 [==============================] - 31s 124ms/step - loss: 0.1447 - accuracy: 0.9461 - val_loss: 0.9443 - val_accuracy: 0.7495\n",
      "Epoch 44/50\n",
      "252/252 [==============================] - 32s 128ms/step - loss: 0.1291 - accuracy: 0.9497 - val_loss: 1.0779 - val_accuracy: 0.7325\n",
      "Epoch 45/50\n",
      "252/252 [==============================] - 33s 130ms/step - loss: 0.1263 - accuracy: 0.9514 - val_loss: 0.9908 - val_accuracy: 0.7460\n",
      "Epoch 46/50\n",
      "252/252 [==============================] - 33s 129ms/step - loss: 0.1246 - accuracy: 0.9543 - val_loss: 1.0345 - val_accuracy: 0.7605\n",
      "Epoch 47/50\n",
      "252/252 [==============================] - 35s 138ms/step - loss: 0.1271 - accuracy: 0.9535 - val_loss: 0.9890 - val_accuracy: 0.7515\n",
      "Epoch 48/50\n",
      "252/252 [==============================] - 34s 134ms/step - loss: 0.1158 - accuracy: 0.9568 - val_loss: 0.9759 - val_accuracy: 0.7645\n",
      "Epoch 49/50\n",
      "252/252 [==============================] - 36s 142ms/step - loss: 0.1303 - accuracy: 0.9517 - val_loss: 1.0598 - val_accuracy: 0.7540\n",
      "Epoch 50/50\n",
      "252/252 [==============================] - 34s 134ms/step - loss: 0.1102 - accuracy: 0.9591 - val_loss: 1.1327 - val_accuracy: 0.7580\n"
     ]
    },
    {
     "data": {
      "text/plain": [
       "<keras.src.callbacks.History at 0x2007e9081c0>"
      ]
     },
     "execution_count": 16,
     "metadata": {},
     "output_type": "execute_result"
    }
   ],
   "source": [
    "classifier.fit(training_set,\n",
    "               epochs = 50,\n",
    "               validation_data = testing_set)"
   ]
  },
  {
   "cell_type": "code",
   "execution_count": null,
   "id": "bdb6a9a1-3132-4709-848c-a5e40d23ef78",
   "metadata": {},
   "outputs": [],
   "source": []
  }
 ],
 "metadata": {
  "kernelspec": {
   "display_name": "Python 3 (ipykernel)",
   "language": "python",
   "name": "python3"
  },
  "language_info": {
   "codemirror_mode": {
    "name": "ipython",
    "version": 3
   },
   "file_extension": ".py",
   "mimetype": "text/x-python",
   "name": "python",
   "nbconvert_exporter": "python",
   "pygments_lexer": "ipython3",
   "version": "3.10.4"
  }
 },
 "nbformat": 4,
 "nbformat_minor": 5
}
