{
 "cells": [
  {
   "cell_type": "code",
   "execution_count": 1,
   "id": "890b60ce-84c7-45e5-b252-5f86da47005c",
   "metadata": {},
   "outputs": [
    {
     "name": "stdout",
     "output_type": "stream",
     "text": [
      "C:\\Users\\oswal\\OneDrive\\Documentos\\GitHub\\Neurociencias-2025-2\\dl_env\\Scripts\\python.exe\n"
     ]
    }
   ],
   "source": [
    "import sys\n",
    "print(sys.executable)"
   ]
  },
  {
   "cell_type": "code",
   "execution_count": 2,
   "id": "a549de18-5df9-4379-ad45-5867d659ea26",
   "metadata": {},
   "outputs": [
    {
     "name": "stdout",
     "output_type": "stream",
     "text": [
      "3.10.4 (tags/v3.10.4:9d38120, Mar 23 2022, 23:13:41) [MSC v.1929 64 bit (AMD64)]\n"
     ]
    }
   ],
   "source": [
    "import sys\n",
    "print(sys.version)"
   ]
  },
  {
   "cell_type": "code",
   "execution_count": 3,
   "id": "678915bc-41c0-4e0e-a46e-144f9339c274",
   "metadata": {},
   "outputs": [
    {
     "name": "stdout",
     "output_type": "stream",
     "text": [
      "2.12.0\n"
     ]
    }
   ],
   "source": [
    "import tensorflow as tf\n",
    "print(tf.__version__)"
   ]
  },
  {
   "cell_type": "code",
   "execution_count": 4,
   "id": "f1d392cb-854c-4b47-81c0-24b7bfd4ddf0",
   "metadata": {
    "scrolled": true
   },
   "outputs": [],
   "source": [
    "import os\n",
    "import pandas as pd\n",
    "import numpy as np\n",
    "import seaborn as sns\n",
    "from sklearn.preprocessing import StandardScaler\n",
    "from sklearn.model_selection import train_test_split\n",
    "from tensorflow.keras.utils import to_categorical\n",
    "from sklearn.metrics import classification_report"
   ]
  },
  {
   "cell_type": "code",
   "execution_count": 6,
   "id": "112c60e8-69bc-4d02-9361-9b59a4a11496",
   "metadata": {},
   "outputs": [],
   "source": [
    "#Crear un entorno virtual para nuestro work space\n",
    "# cd es change directori, y se pega la dirección a la que se quiere cambiar y se pone sin comillas\n"
   ]
  },
  {
   "cell_type": "code",
   "execution_count": 8,
   "id": "d917092e-8a48-45c4-92b7-f710a1d46957",
   "metadata": {},
   "outputs": [
    {
     "data": {
      "text/html": [
       "<div>\n",
       "<style scoped>\n",
       "    .dataframe tbody tr th:only-of-type {\n",
       "        vertical-align: middle;\n",
       "    }\n",
       "\n",
       "    .dataframe tbody tr th {\n",
       "        vertical-align: top;\n",
       "    }\n",
       "\n",
       "    .dataframe thead th {\n",
       "        text-align: right;\n",
       "    }\n",
       "</style>\n",
       "<table border=\"1\" class=\"dataframe\">\n",
       "  <thead>\n",
       "    <tr style=\"text-align: right;\">\n",
       "      <th></th>\n",
       "      <th>Sepal.Length</th>\n",
       "      <th>Sepal.Width</th>\n",
       "      <th>Petal.Length</th>\n",
       "      <th>Petal.Width</th>\n",
       "      <th>Species</th>\n",
       "    </tr>\n",
       "  </thead>\n",
       "  <tbody>\n",
       "    <tr>\n",
       "      <th>0</th>\n",
       "      <td>5.1</td>\n",
       "      <td>3.5</td>\n",
       "      <td>1.4</td>\n",
       "      <td>0.2</td>\n",
       "      <td>setosa</td>\n",
       "    </tr>\n",
       "    <tr>\n",
       "      <th>1</th>\n",
       "      <td>4.9</td>\n",
       "      <td>3.0</td>\n",
       "      <td>1.4</td>\n",
       "      <td>0.2</td>\n",
       "      <td>setosa</td>\n",
       "    </tr>\n",
       "    <tr>\n",
       "      <th>2</th>\n",
       "      <td>4.7</td>\n",
       "      <td>3.2</td>\n",
       "      <td>1.3</td>\n",
       "      <td>0.2</td>\n",
       "      <td>setosa</td>\n",
       "    </tr>\n",
       "  </tbody>\n",
       "</table>\n",
       "</div>"
      ],
      "text/plain": [
       "   Sepal.Length  Sepal.Width  Petal.Length  Petal.Width Species\n",
       "0           5.1          3.5           1.4          0.2  setosa\n",
       "1           4.9          3.0           1.4          0.2  setosa\n",
       "2           4.7          3.2           1.3          0.2  setosa"
      ]
     },
     "execution_count": 8,
     "metadata": {},
     "output_type": "execute_result"
    }
   ],
   "source": [
    "path = r\"C:\\Users\\oswal\\OneDrive\\Documentos\\GitHub\\Neurociencias-2025-2\\S03_datasets\\iris\\iris.csv\"\n",
    "\n",
    "df = pd.read_csv(path)\n",
    "df.head(3)"
   ]
  },
  {
   "cell_type": "code",
   "execution_count": 9,
   "id": "c73f08bd-0ca6-4e44-9496-a7cbf3dc0fd8",
   "metadata": {},
   "outputs": [],
   "source": [
    "X_, y = df.iloc[:, :-1], df.iloc[:, -1].astype('category').cat.codes\n",
    "\n",
    "# Normalizando datos\n",
    "X = StandardScaler().fit_transform(X_)"
   ]
  },
  {
   "cell_type": "code",
   "execution_count": 10,
   "id": "c787ef1d-c485-4e0d-a50e-5a3517f4d995",
   "metadata": {},
   "outputs": [],
   "source": [
    "y_cat = to_categorical(y)"
   ]
  },
  {
   "cell_type": "code",
   "execution_count": 11,
   "id": "1370b101-2b28-4bd2-aade-25f1de1a96ee",
   "metadata": {},
   "outputs": [],
   "source": [
    "X_train, X_test, y_train, y_test = train_test_split(X, y_cat, test_size = 0.2, random_state = 0)"
   ]
  },
  {
   "cell_type": "code",
   "execution_count": 12,
   "id": "b31ea1f9-9b3a-40b8-a486-b3488de03407",
   "metadata": {},
   "outputs": [],
   "source": [
    "# Importing the Keras libraries and packages\n",
    "import keras\n",
    "from keras.models import Sequential\n",
    "from keras.layers import Dense"
   ]
  },
  {
   "cell_type": "code",
   "execution_count": 13,
   "id": "3de38584-1181-4e3f-8835-52c22dca6725",
   "metadata": {},
   "outputs": [
    {
     "name": "stdout",
     "output_type": "stream",
     "text": [
      "Epoch 1/150\n",
      "4/4 [==============================] - 3s 188ms/step - loss: 1.2633 - accuracy: 0.0417 - val_loss: 1.2591 - val_accuracy: 0.0667\n",
      "Epoch 2/150\n",
      "4/4 [==============================] - 0s 22ms/step - loss: 1.2465 - accuracy: 0.0417 - val_loss: 1.2429 - val_accuracy: 0.0667\n",
      "Epoch 3/150\n",
      "4/4 [==============================] - 0s 17ms/step - loss: 1.2306 - accuracy: 0.0417 - val_loss: 1.2273 - val_accuracy: 0.0667\n",
      "Epoch 4/150\n",
      "4/4 [==============================] - 0s 33ms/step - loss: 1.2147 - accuracy: 0.0583 - val_loss: 1.2128 - val_accuracy: 0.1333\n",
      "Epoch 5/150\n",
      "4/4 [==============================] - 0s 34ms/step - loss: 1.1992 - accuracy: 0.1083 - val_loss: 1.1982 - val_accuracy: 0.1333\n",
      "Epoch 6/150\n",
      "4/4 [==============================] - 0s 19ms/step - loss: 1.1845 - accuracy: 0.1500 - val_loss: 1.1840 - val_accuracy: 0.2000\n",
      "Epoch 7/150\n",
      "4/4 [==============================] - 0s 22ms/step - loss: 1.1701 - accuracy: 0.1917 - val_loss: 1.1698 - val_accuracy: 0.2333\n",
      "Epoch 8/150\n",
      "4/4 [==============================] - 0s 29ms/step - loss: 1.1553 - accuracy: 0.2417 - val_loss: 1.1561 - val_accuracy: 0.2333\n",
      "Epoch 9/150\n",
      "4/4 [==============================] - 0s 106ms/step - loss: 1.1408 - accuracy: 0.2750 - val_loss: 1.1426 - val_accuracy: 0.3000\n",
      "Epoch 10/150\n",
      "4/4 [==============================] - 0s 22ms/step - loss: 1.1264 - accuracy: 0.3250 - val_loss: 1.1295 - val_accuracy: 0.3000\n",
      "Epoch 11/150\n",
      "4/4 [==============================] - 0s 29ms/step - loss: 1.1124 - accuracy: 0.3667 - val_loss: 1.1165 - val_accuracy: 0.3000\n",
      "Epoch 12/150\n",
      "4/4 [==============================] - 0s 56ms/step - loss: 1.0989 - accuracy: 0.3917 - val_loss: 1.1036 - val_accuracy: 0.3333\n",
      "Epoch 13/150\n",
      "4/4 [==============================] - 0s 48ms/step - loss: 1.0849 - accuracy: 0.4250 - val_loss: 1.0905 - val_accuracy: 0.3333\n",
      "Epoch 14/150\n",
      "4/4 [==============================] - 0s 33ms/step - loss: 1.0715 - accuracy: 0.4250 - val_loss: 1.0783 - val_accuracy: 0.3333\n",
      "Epoch 15/150\n",
      "4/4 [==============================] - 0s 28ms/step - loss: 1.0584 - accuracy: 0.4500 - val_loss: 1.0656 - val_accuracy: 0.4000\n",
      "Epoch 16/150\n",
      "4/4 [==============================] - 0s 32ms/step - loss: 1.0448 - accuracy: 0.4583 - val_loss: 1.0534 - val_accuracy: 0.4333\n",
      "Epoch 17/150\n",
      "4/4 [==============================] - 0s 33ms/step - loss: 1.0315 - accuracy: 0.4833 - val_loss: 1.0416 - val_accuracy: 0.4333\n",
      "Epoch 18/150\n",
      "4/4 [==============================] - 0s 38ms/step - loss: 1.0185 - accuracy: 0.5000 - val_loss: 1.0300 - val_accuracy: 0.4667\n",
      "Epoch 19/150\n",
      "4/4 [==============================] - 0s 22ms/step - loss: 1.0050 - accuracy: 0.5333 - val_loss: 1.0185 - val_accuracy: 0.4667\n",
      "Epoch 20/150\n",
      "4/4 [==============================] - 0s 28ms/step - loss: 0.9917 - accuracy: 0.5500 - val_loss: 1.0067 - val_accuracy: 0.5000\n",
      "Epoch 21/150\n",
      "4/4 [==============================] - 0s 40ms/step - loss: 0.9783 - accuracy: 0.5667 - val_loss: 0.9947 - val_accuracy: 0.5000\n",
      "Epoch 22/150\n",
      "4/4 [==============================] - 0s 33ms/step - loss: 0.9648 - accuracy: 0.5833 - val_loss: 0.9828 - val_accuracy: 0.5000\n",
      "Epoch 23/150\n",
      "4/4 [==============================] - 0s 27ms/step - loss: 0.9516 - accuracy: 0.6000 - val_loss: 0.9712 - val_accuracy: 0.5000\n",
      "Epoch 24/150\n",
      "4/4 [==============================] - 0s 34ms/step - loss: 0.9379 - accuracy: 0.6333 - val_loss: 0.9592 - val_accuracy: 0.5000\n",
      "Epoch 25/150\n",
      "4/4 [==============================] - 0s 22ms/step - loss: 0.9245 - accuracy: 0.6583 - val_loss: 0.9473 - val_accuracy: 0.5000\n",
      "Epoch 26/150\n",
      "4/4 [==============================] - 0s 27ms/step - loss: 0.9107 - accuracy: 0.6583 - val_loss: 0.9352 - val_accuracy: 0.5333\n",
      "Epoch 27/150\n",
      "4/4 [==============================] - 1s 247ms/step - loss: 0.8972 - accuracy: 0.6750 - val_loss: 0.9231 - val_accuracy: 0.5667\n",
      "Epoch 28/150\n",
      "4/4 [==============================] - 0s 38ms/step - loss: 0.8842 - accuracy: 0.6917 - val_loss: 0.9112 - val_accuracy: 0.5667\n",
      "Epoch 29/150\n",
      "4/4 [==============================] - 0s 38ms/step - loss: 0.8708 - accuracy: 0.7000 - val_loss: 0.8993 - val_accuracy: 0.5667\n",
      "Epoch 30/150\n",
      "4/4 [==============================] - 0s 39ms/step - loss: 0.8576 - accuracy: 0.7167 - val_loss: 0.8876 - val_accuracy: 0.5667\n",
      "Epoch 31/150\n",
      "4/4 [==============================] - 0s 123ms/step - loss: 0.8444 - accuracy: 0.7333 - val_loss: 0.8762 - val_accuracy: 0.6000\n",
      "Epoch 32/150\n",
      "4/4 [==============================] - 0s 22ms/step - loss: 0.8307 - accuracy: 0.7667 - val_loss: 0.8644 - val_accuracy: 0.6000\n",
      "Epoch 33/150\n",
      "4/4 [==============================] - 0s 28ms/step - loss: 0.8174 - accuracy: 0.7667 - val_loss: 0.8524 - val_accuracy: 0.6000\n",
      "Epoch 34/150\n",
      "4/4 [==============================] - 0s 23ms/step - loss: 0.8038 - accuracy: 0.7750 - val_loss: 0.8403 - val_accuracy: 0.6000\n",
      "Epoch 35/150\n",
      "4/4 [==============================] - 0s 28ms/step - loss: 0.7908 - accuracy: 0.7750 - val_loss: 0.8287 - val_accuracy: 0.6000\n",
      "Epoch 36/150\n",
      "4/4 [==============================] - 0s 28ms/step - loss: 0.7776 - accuracy: 0.7917 - val_loss: 0.8174 - val_accuracy: 0.6000\n",
      "Epoch 37/150\n",
      "4/4 [==============================] - 0s 39ms/step - loss: 0.7641 - accuracy: 0.8083 - val_loss: 0.8056 - val_accuracy: 0.6000\n",
      "Epoch 38/150\n",
      "4/4 [==============================] - 0s 28ms/step - loss: 0.7509 - accuracy: 0.8250 - val_loss: 0.7936 - val_accuracy: 0.6333\n",
      "Epoch 39/150\n",
      "4/4 [==============================] - 0s 28ms/step - loss: 0.7377 - accuracy: 0.8333 - val_loss: 0.7824 - val_accuracy: 0.6333\n",
      "Epoch 40/150\n",
      "4/4 [==============================] - 0s 31ms/step - loss: 0.7250 - accuracy: 0.8333 - val_loss: 0.7716 - val_accuracy: 0.6667\n",
      "Epoch 41/150\n",
      "4/4 [==============================] - 0s 34ms/step - loss: 0.7121 - accuracy: 0.8417 - val_loss: 0.7608 - val_accuracy: 0.6667\n",
      "Epoch 42/150\n",
      "4/4 [==============================] - 0s 40ms/step - loss: 0.6992 - accuracy: 0.8417 - val_loss: 0.7500 - val_accuracy: 0.6667\n",
      "Epoch 43/150\n",
      "4/4 [==============================] - 0s 32ms/step - loss: 0.6865 - accuracy: 0.8417 - val_loss: 0.7395 - val_accuracy: 0.6667\n",
      "Epoch 44/150\n",
      "4/4 [==============================] - 0s 50ms/step - loss: 0.6742 - accuracy: 0.8417 - val_loss: 0.7288 - val_accuracy: 0.6667\n",
      "Epoch 45/150\n",
      "4/4 [==============================] - 0s 31ms/step - loss: 0.6622 - accuracy: 0.8417 - val_loss: 0.7182 - val_accuracy: 0.6667\n",
      "Epoch 46/150\n",
      "4/4 [==============================] - 0s 23ms/step - loss: 0.6503 - accuracy: 0.8417 - val_loss: 0.7083 - val_accuracy: 0.6667\n",
      "Epoch 47/150\n",
      "4/4 [==============================] - 0s 36ms/step - loss: 0.6386 - accuracy: 0.8417 - val_loss: 0.6977 - val_accuracy: 0.6667\n",
      "Epoch 48/150\n",
      "4/4 [==============================] - 0s 90ms/step - loss: 0.6275 - accuracy: 0.8417 - val_loss: 0.6875 - val_accuracy: 0.6667\n",
      "Epoch 49/150\n",
      "4/4 [==============================] - 0s 43ms/step - loss: 0.6164 - accuracy: 0.8417 - val_loss: 0.6776 - val_accuracy: 0.6667\n",
      "Epoch 50/150\n",
      "4/4 [==============================] - 0s 93ms/step - loss: 0.6058 - accuracy: 0.8417 - val_loss: 0.6678 - val_accuracy: 0.6667\n",
      "Epoch 51/150\n",
      "4/4 [==============================] - 0s 64ms/step - loss: 0.5954 - accuracy: 0.8417 - val_loss: 0.6582 - val_accuracy: 0.6667\n",
      "Epoch 52/150\n",
      "4/4 [==============================] - 0s 38ms/step - loss: 0.5851 - accuracy: 0.8417 - val_loss: 0.6487 - val_accuracy: 0.6667\n",
      "Epoch 53/150\n",
      "4/4 [==============================] - 0s 87ms/step - loss: 0.5750 - accuracy: 0.8500 - val_loss: 0.6394 - val_accuracy: 0.6667\n",
      "Epoch 54/150\n",
      "4/4 [==============================] - 0s 54ms/step - loss: 0.5653 - accuracy: 0.8500 - val_loss: 0.6304 - val_accuracy: 0.6667\n",
      "Epoch 55/150\n",
      "4/4 [==============================] - 0s 52ms/step - loss: 0.5556 - accuracy: 0.8500 - val_loss: 0.6215 - val_accuracy: 0.6667\n",
      "Epoch 56/150\n",
      "4/4 [==============================] - 0s 54ms/step - loss: 0.5466 - accuracy: 0.8500 - val_loss: 0.6128 - val_accuracy: 0.7000\n",
      "Epoch 57/150\n",
      "4/4 [==============================] - 0s 62ms/step - loss: 0.5371 - accuracy: 0.8500 - val_loss: 0.6042 - val_accuracy: 0.7000\n",
      "Epoch 58/150\n",
      "4/4 [==============================] - 0s 73ms/step - loss: 0.5286 - accuracy: 0.8417 - val_loss: 0.5961 - val_accuracy: 0.7000\n",
      "Epoch 59/150\n",
      "4/4 [==============================] - 0s 56ms/step - loss: 0.5196 - accuracy: 0.8417 - val_loss: 0.5883 - val_accuracy: 0.7000\n",
      "Epoch 60/150\n",
      "4/4 [==============================] - 1s 206ms/step - loss: 0.5113 - accuracy: 0.8417 - val_loss: 0.5803 - val_accuracy: 0.7000\n",
      "Epoch 61/150\n",
      "4/4 [==============================] - 0s 37ms/step - loss: 0.5030 - accuracy: 0.8417 - val_loss: 0.5728 - val_accuracy: 0.7000\n",
      "Epoch 62/150\n",
      "4/4 [==============================] - 0s 39ms/step - loss: 0.4949 - accuracy: 0.8417 - val_loss: 0.5660 - val_accuracy: 0.7000\n",
      "Epoch 63/150\n",
      "4/4 [==============================] - 0s 42ms/step - loss: 0.4875 - accuracy: 0.8500 - val_loss: 0.5591 - val_accuracy: 0.7000\n",
      "Epoch 64/150\n",
      "4/4 [==============================] - 0s 48ms/step - loss: 0.4793 - accuracy: 0.8500 - val_loss: 0.5521 - val_accuracy: 0.7000\n",
      "Epoch 65/150\n",
      "4/4 [==============================] - 0s 64ms/step - loss: 0.4722 - accuracy: 0.8500 - val_loss: 0.5443 - val_accuracy: 0.7000\n",
      "Epoch 66/150\n",
      "4/4 [==============================] - 0s 47ms/step - loss: 0.4642 - accuracy: 0.8500 - val_loss: 0.5378 - val_accuracy: 0.7000\n",
      "Epoch 67/150\n",
      "4/4 [==============================] - 0s 44ms/step - loss: 0.4570 - accuracy: 0.8500 - val_loss: 0.5310 - val_accuracy: 0.7000\n",
      "Epoch 68/150\n",
      "4/4 [==============================] - 0s 55ms/step - loss: 0.4500 - accuracy: 0.8583 - val_loss: 0.5247 - val_accuracy: 0.7000\n",
      "Epoch 69/150\n",
      "4/4 [==============================] - 0s 36ms/step - loss: 0.4432 - accuracy: 0.8583 - val_loss: 0.5183 - val_accuracy: 0.7000\n",
      "Epoch 70/150\n",
      "4/4 [==============================] - 0s 46ms/step - loss: 0.4366 - accuracy: 0.8583 - val_loss: 0.5119 - val_accuracy: 0.7000\n",
      "Epoch 71/150\n",
      "4/4 [==============================] - 0s 38ms/step - loss: 0.4303 - accuracy: 0.8583 - val_loss: 0.5059 - val_accuracy: 0.7000\n",
      "Epoch 72/150\n",
      "4/4 [==============================] - 0s 35ms/step - loss: 0.4242 - accuracy: 0.8583 - val_loss: 0.5001 - val_accuracy: 0.7000\n",
      "Epoch 73/150\n",
      "4/4 [==============================] - 0s 61ms/step - loss: 0.4182 - accuracy: 0.8583 - val_loss: 0.4938 - val_accuracy: 0.7667\n",
      "Epoch 74/150\n",
      "4/4 [==============================] - 0s 35ms/step - loss: 0.4125 - accuracy: 0.8583 - val_loss: 0.4883 - val_accuracy: 0.7667\n",
      "Epoch 75/150\n",
      "4/4 [==============================] - 0s 38ms/step - loss: 0.4070 - accuracy: 0.8667 - val_loss: 0.4825 - val_accuracy: 0.7667\n",
      "Epoch 76/150\n",
      "4/4 [==============================] - 0s 47ms/step - loss: 0.4017 - accuracy: 0.8667 - val_loss: 0.4771 - val_accuracy: 0.7667\n",
      "Epoch 77/150\n",
      "4/4 [==============================] - 0s 47ms/step - loss: 0.3964 - accuracy: 0.8667 - val_loss: 0.4723 - val_accuracy: 0.7667\n",
      "Epoch 78/150\n",
      "4/4 [==============================] - 0s 49ms/step - loss: 0.3915 - accuracy: 0.8667 - val_loss: 0.4666 - val_accuracy: 0.8000\n",
      "Epoch 79/150\n",
      "4/4 [==============================] - 0s 48ms/step - loss: 0.3867 - accuracy: 0.8667 - val_loss: 0.4613 - val_accuracy: 0.8000\n",
      "Epoch 80/150\n",
      "4/4 [==============================] - 0s 50ms/step - loss: 0.3818 - accuracy: 0.8667 - val_loss: 0.4566 - val_accuracy: 0.8000\n",
      "Epoch 81/150\n",
      "4/4 [==============================] - 0s 50ms/step - loss: 0.3774 - accuracy: 0.8667 - val_loss: 0.4521 - val_accuracy: 0.8000\n",
      "Epoch 82/150\n",
      "4/4 [==============================] - 0s 44ms/step - loss: 0.3732 - accuracy: 0.8750 - val_loss: 0.4470 - val_accuracy: 0.8000\n",
      "Epoch 83/150\n",
      "4/4 [==============================] - 0s 56ms/step - loss: 0.3687 - accuracy: 0.8750 - val_loss: 0.4427 - val_accuracy: 0.8000\n",
      "Epoch 84/150\n",
      "4/4 [==============================] - 0s 68ms/step - loss: 0.3648 - accuracy: 0.8750 - val_loss: 0.4381 - val_accuracy: 0.8000\n",
      "Epoch 85/150\n",
      "4/4 [==============================] - 0s 39ms/step - loss: 0.3607 - accuracy: 0.8750 - val_loss: 0.4342 - val_accuracy: 0.8000\n",
      "Epoch 86/150\n",
      "4/4 [==============================] - 0s 82ms/step - loss: 0.3569 - accuracy: 0.8750 - val_loss: 0.4300 - val_accuracy: 0.8000\n",
      "Epoch 87/150\n",
      "4/4 [==============================] - 0s 39ms/step - loss: 0.3531 - accuracy: 0.8750 - val_loss: 0.4262 - val_accuracy: 0.8000\n",
      "Epoch 88/150\n",
      "4/4 [==============================] - 0s 45ms/step - loss: 0.3494 - accuracy: 0.8833 - val_loss: 0.4224 - val_accuracy: 0.8000\n",
      "Epoch 89/150\n",
      "4/4 [==============================] - 0s 50ms/step - loss: 0.3459 - accuracy: 0.8833 - val_loss: 0.4189 - val_accuracy: 0.8000\n",
      "Epoch 90/150\n",
      "4/4 [==============================] - 0s 78ms/step - loss: 0.3426 - accuracy: 0.8833 - val_loss: 0.4149 - val_accuracy: 0.8000\n",
      "Epoch 91/150\n",
      "4/4 [==============================] - 0s 32ms/step - loss: 0.3392 - accuracy: 0.8833 - val_loss: 0.4118 - val_accuracy: 0.8000\n",
      "Epoch 92/150\n",
      "4/4 [==============================] - 0s 49ms/step - loss: 0.3358 - accuracy: 0.8833 - val_loss: 0.4087 - val_accuracy: 0.8000\n",
      "Epoch 93/150\n",
      "4/4 [==============================] - 0s 61ms/step - loss: 0.3326 - accuracy: 0.8833 - val_loss: 0.4056 - val_accuracy: 0.8000\n",
      "Epoch 94/150\n",
      "4/4 [==============================] - 0s 38ms/step - loss: 0.3294 - accuracy: 0.8833 - val_loss: 0.4023 - val_accuracy: 0.8000\n",
      "Epoch 95/150\n",
      "4/4 [==============================] - 0s 37ms/step - loss: 0.3265 - accuracy: 0.8833 - val_loss: 0.3996 - val_accuracy: 0.8000\n",
      "Epoch 96/150\n",
      "4/4 [==============================] - 0s 53ms/step - loss: 0.3235 - accuracy: 0.8833 - val_loss: 0.3963 - val_accuracy: 0.8000\n",
      "Epoch 97/150\n",
      "4/4 [==============================] - 0s 51ms/step - loss: 0.3208 - accuracy: 0.8750 - val_loss: 0.3927 - val_accuracy: 0.8000\n",
      "Epoch 98/150\n",
      "4/4 [==============================] - 0s 50ms/step - loss: 0.3178 - accuracy: 0.8833 - val_loss: 0.3898 - val_accuracy: 0.8000\n",
      "Epoch 99/150\n",
      "4/4 [==============================] - 0s 62ms/step - loss: 0.3150 - accuracy: 0.8833 - val_loss: 0.3872 - val_accuracy: 0.8000\n",
      "Epoch 100/150\n",
      "4/4 [==============================] - 1s 301ms/step - loss: 0.3124 - accuracy: 0.8833 - val_loss: 0.3839 - val_accuracy: 0.8000\n",
      "Epoch 101/150\n",
      "4/4 [==============================] - 0s 32ms/step - loss: 0.3097 - accuracy: 0.8833 - val_loss: 0.3810 - val_accuracy: 0.8000\n",
      "Epoch 102/150\n",
      "4/4 [==============================] - 0s 35ms/step - loss: 0.3071 - accuracy: 0.8833 - val_loss: 0.3781 - val_accuracy: 0.8000\n",
      "Epoch 103/150\n",
      "4/4 [==============================] - 0s 32ms/step - loss: 0.3046 - accuracy: 0.8833 - val_loss: 0.3750 - val_accuracy: 0.8000\n",
      "Epoch 104/150\n",
      "4/4 [==============================] - 0s 49ms/step - loss: 0.3023 - accuracy: 0.8833 - val_loss: 0.3720 - val_accuracy: 0.8000\n",
      "Epoch 105/150\n",
      "4/4 [==============================] - 0s 49ms/step - loss: 0.2997 - accuracy: 0.8833 - val_loss: 0.3693 - val_accuracy: 0.8000\n",
      "Epoch 106/150\n",
      "4/4 [==============================] - 0s 27ms/step - loss: 0.2974 - accuracy: 0.8833 - val_loss: 0.3670 - val_accuracy: 0.8000\n",
      "Epoch 107/150\n",
      "4/4 [==============================] - 0s 28ms/step - loss: 0.2950 - accuracy: 0.8833 - val_loss: 0.3642 - val_accuracy: 0.8000\n",
      "Epoch 108/150\n",
      "4/4 [==============================] - 0s 34ms/step - loss: 0.2927 - accuracy: 0.8833 - val_loss: 0.3618 - val_accuracy: 0.8000\n",
      "Epoch 109/150\n",
      "4/4 [==============================] - 0s 28ms/step - loss: 0.2905 - accuracy: 0.8833 - val_loss: 0.3592 - val_accuracy: 0.8333\n",
      "Epoch 110/150\n",
      "4/4 [==============================] - 0s 34ms/step - loss: 0.2883 - accuracy: 0.8833 - val_loss: 0.3567 - val_accuracy: 0.8333\n",
      "Epoch 111/150\n",
      "4/4 [==============================] - 0s 27ms/step - loss: 0.2862 - accuracy: 0.8833 - val_loss: 0.3542 - val_accuracy: 0.8333\n",
      "Epoch 112/150\n",
      "4/4 [==============================] - 0s 31ms/step - loss: 0.2840 - accuracy: 0.8917 - val_loss: 0.3518 - val_accuracy: 0.8667\n",
      "Epoch 113/150\n",
      "4/4 [==============================] - 0s 26ms/step - loss: 0.2819 - accuracy: 0.8917 - val_loss: 0.3492 - val_accuracy: 0.8667\n",
      "Epoch 114/150\n",
      "4/4 [==============================] - 0s 41ms/step - loss: 0.2799 - accuracy: 0.8917 - val_loss: 0.3468 - val_accuracy: 0.8667\n",
      "Epoch 115/150\n",
      "4/4 [==============================] - 0s 28ms/step - loss: 0.2778 - accuracy: 0.8917 - val_loss: 0.3445 - val_accuracy: 0.8667\n",
      "Epoch 116/150\n",
      "4/4 [==============================] - 0s 30ms/step - loss: 0.2759 - accuracy: 0.8917 - val_loss: 0.3421 - val_accuracy: 0.8667\n",
      "Epoch 117/150\n",
      "4/4 [==============================] - 0s 29ms/step - loss: 0.2739 - accuracy: 0.8917 - val_loss: 0.3397 - val_accuracy: 0.8667\n",
      "Epoch 118/150\n",
      "4/4 [==============================] - 0s 33ms/step - loss: 0.2720 - accuracy: 0.8917 - val_loss: 0.3370 - val_accuracy: 0.8667\n",
      "Epoch 119/150\n",
      "4/4 [==============================] - 0s 40ms/step - loss: 0.2699 - accuracy: 0.8917 - val_loss: 0.3352 - val_accuracy: 0.8667\n",
      "Epoch 120/150\n",
      "4/4 [==============================] - 0s 32ms/step - loss: 0.2680 - accuracy: 0.8917 - val_loss: 0.3331 - val_accuracy: 0.8667\n",
      "Epoch 121/150\n",
      "4/4 [==============================] - 0s 34ms/step - loss: 0.2661 - accuracy: 0.8917 - val_loss: 0.3314 - val_accuracy: 0.8667\n",
      "Epoch 122/150\n",
      "4/4 [==============================] - 0s 27ms/step - loss: 0.2643 - accuracy: 0.8917 - val_loss: 0.3291 - val_accuracy: 0.8667\n",
      "Epoch 123/150\n",
      "4/4 [==============================] - 0s 35ms/step - loss: 0.2625 - accuracy: 0.8917 - val_loss: 0.3266 - val_accuracy: 0.8667\n",
      "Epoch 124/150\n",
      "4/4 [==============================] - 0s 35ms/step - loss: 0.2607 - accuracy: 0.8917 - val_loss: 0.3242 - val_accuracy: 0.8667\n",
      "Epoch 125/150\n",
      "4/4 [==============================] - 0s 27ms/step - loss: 0.2589 - accuracy: 0.8917 - val_loss: 0.3222 - val_accuracy: 0.8667\n",
      "Epoch 126/150\n",
      "4/4 [==============================] - 0s 35ms/step - loss: 0.2571 - accuracy: 0.8917 - val_loss: 0.3203 - val_accuracy: 0.8667\n",
      "Epoch 127/150\n",
      "4/4 [==============================] - 1s 379ms/step - loss: 0.2554 - accuracy: 0.8917 - val_loss: 0.3185 - val_accuracy: 0.8667\n",
      "Epoch 128/150\n",
      "4/4 [==============================] - 0s 110ms/step - loss: 0.2537 - accuracy: 0.8917 - val_loss: 0.3167 - val_accuracy: 0.8667\n",
      "Epoch 129/150\n",
      "4/4 [==============================] - 0s 151ms/step - loss: 0.2521 - accuracy: 0.8917 - val_loss: 0.3148 - val_accuracy: 0.8667\n",
      "Epoch 130/150\n",
      "4/4 [==============================] - 0s 130ms/step - loss: 0.2505 - accuracy: 0.8917 - val_loss: 0.3128 - val_accuracy: 0.8667\n",
      "Epoch 131/150\n",
      "4/4 [==============================] - 0s 65ms/step - loss: 0.2489 - accuracy: 0.8917 - val_loss: 0.3106 - val_accuracy: 0.8667\n",
      "Epoch 132/150\n",
      "4/4 [==============================] - 0s 94ms/step - loss: 0.2472 - accuracy: 0.8917 - val_loss: 0.3087 - val_accuracy: 0.8667\n",
      "Epoch 133/150\n",
      "4/4 [==============================] - 0s 67ms/step - loss: 0.2457 - accuracy: 0.8917 - val_loss: 0.3067 - val_accuracy: 0.8667\n",
      "Epoch 134/150\n",
      "4/4 [==============================] - 0s 99ms/step - loss: 0.2442 - accuracy: 0.8917 - val_loss: 0.3052 - val_accuracy: 0.8667\n",
      "Epoch 135/150\n",
      "4/4 [==============================] - 0s 60ms/step - loss: 0.2426 - accuracy: 0.8917 - val_loss: 0.3031 - val_accuracy: 0.8667\n",
      "Epoch 136/150\n",
      "4/4 [==============================] - 0s 56ms/step - loss: 0.2411 - accuracy: 0.9000 - val_loss: 0.3011 - val_accuracy: 0.8667\n",
      "Epoch 137/150\n",
      "4/4 [==============================] - 0s 89ms/step - loss: 0.2395 - accuracy: 0.9000 - val_loss: 0.2988 - val_accuracy: 0.8667\n",
      "Epoch 138/150\n",
      "4/4 [==============================] - 0s 68ms/step - loss: 0.2381 - accuracy: 0.9000 - val_loss: 0.2967 - val_accuracy: 0.8667\n",
      "Epoch 139/150\n",
      "4/4 [==============================] - 0s 67ms/step - loss: 0.2366 - accuracy: 0.9000 - val_loss: 0.2944 - val_accuracy: 0.8667\n",
      "Epoch 140/150\n",
      "4/4 [==============================] - 0s 61ms/step - loss: 0.2352 - accuracy: 0.9083 - val_loss: 0.2919 - val_accuracy: 0.8667\n",
      "Epoch 141/150\n",
      "4/4 [==============================] - 0s 152ms/step - loss: 0.2338 - accuracy: 0.9083 - val_loss: 0.2898 - val_accuracy: 0.8667\n",
      "Epoch 142/150\n",
      "4/4 [==============================] - 0s 62ms/step - loss: 0.2325 - accuracy: 0.9083 - val_loss: 0.2885 - val_accuracy: 0.8667\n",
      "Epoch 143/150\n",
      "4/4 [==============================] - 1s 232ms/step - loss: 0.2310 - accuracy: 0.9083 - val_loss: 0.2865 - val_accuracy: 0.8667\n",
      "Epoch 144/150\n",
      "4/4 [==============================] - 0s 54ms/step - loss: 0.2297 - accuracy: 0.9083 - val_loss: 0.2845 - val_accuracy: 0.8667\n",
      "Epoch 145/150\n",
      "4/4 [==============================] - 0s 43ms/step - loss: 0.2282 - accuracy: 0.9083 - val_loss: 0.2828 - val_accuracy: 0.8667\n",
      "Epoch 146/150\n",
      "4/4 [==============================] - 0s 44ms/step - loss: 0.2269 - accuracy: 0.9083 - val_loss: 0.2811 - val_accuracy: 0.8667\n",
      "Epoch 147/150\n",
      "4/4 [==============================] - 0s 53ms/step - loss: 0.2256 - accuracy: 0.9083 - val_loss: 0.2798 - val_accuracy: 0.8667\n",
      "Epoch 148/150\n",
      "4/4 [==============================] - 0s 73ms/step - loss: 0.2243 - accuracy: 0.9167 - val_loss: 0.2783 - val_accuracy: 0.8667\n",
      "Epoch 149/150\n",
      "4/4 [==============================] - 0s 43ms/step - loss: 0.2230 - accuracy: 0.9167 - val_loss: 0.2767 - val_accuracy: 0.8667\n",
      "Epoch 150/150\n",
      "4/4 [==============================] - 0s 71ms/step - loss: 0.2218 - accuracy: 0.9167 - val_loss: 0.2747 - val_accuracy: 0.8667\n"
     ]
    },
    {
     "data": {
      "text/plain": [
       "<keras.callbacks.History at 0x1f27860a020>"
      ]
     },
     "execution_count": 13,
     "metadata": {},
     "output_type": "execute_result"
    }
   ],
   "source": [
    "# Initialising the ANN\n",
    "classifier = Sequential()\n",
    "\n",
    "# Adding the input layer and the first hidden layer\n",
    "classifier.add(Dense(units = 10, activation = 'relu', input_shape=(4,)))\n",
    "\n",
    "# Adding the output layer\n",
    "classifier.add(Dense(units = 3, activation = 'softmax'))\n",
    "\n",
    "# Compiling the ANN\n",
    "classifier.compile(optimizer = 'adam', loss = 'categorical_crossentropy', metrics = ['accuracy'])\n",
    "\n",
    "# Fitting the ANN to the Training set\n",
    "classifier.fit(X_train, y_train, epochs=150, validation_data=(X_test, y_test))"
   ]
  },
  {
   "cell_type": "code",
   "execution_count": 14,
   "id": "72866053-33c9-45c4-af5f-81f186680ed7",
   "metadata": {},
   "outputs": [
    {
     "name": "stdout",
     "output_type": "stream",
     "text": [
      "1/1 [==============================] - 0s 207ms/step\n",
      "\n",
      "🔎 Reporte de clasificación:\n",
      "              precision    recall  f1-score   support\n",
      "\n",
      "      setosa       1.00      1.00      1.00        11\n",
      "  versicolor       1.00      0.69      0.82        13\n",
      "   virginica       0.60      1.00      0.75         6\n",
      "\n",
      "    accuracy                           0.87        30\n",
      "   macro avg       0.87      0.90      0.86        30\n",
      "weighted avg       0.92      0.87      0.87        30\n",
      "\n"
     ]
    }
   ],
   "source": [
    "# 5. Evaluar\n",
    "y_pred = classifier.predict(X_test)\n",
    "y_pred_classes = np.argmax(y_pred, axis=1)\n",
    "y_true = np.argmax(y_test, axis=1)\n",
    "\n",
    "print(\"\\n🔎 Reporte de clasificación:\")\n",
    "print(classification_report(y_true, y_pred_classes, target_names=df.Species.unique()))"
   ]
  },
  {
   "cell_type": "code",
   "execution_count": 15,
   "id": "c843575b-963e-499d-9b18-32842cba23d4",
   "metadata": {},
   "outputs": [],
   "source": [
    "# Evaluating the ANN\n",
    "from scikeras.wrappers import KerasClassifier\n",
    "from sklearn.model_selection import cross_val_score"
   ]
  },
  {
   "cell_type": "code",
   "execution_count": 16,
   "id": "0077df2c-fc81-4c01-b38e-86b29e0a2aec",
   "metadata": {},
   "outputs": [],
   "source": [
    "def build_classifier():\n",
    "    # Initialising the ANN\n",
    "    classifier = Sequential()\n",
    "\n",
    "    # Adding the input layer and the first hidden layer\n",
    "    classifier.add(Dense(units = 10, activation = 'relu', input_shape=(4,)))\n",
    "\n",
    "    # Adding the output layer\n",
    "    classifier.add(Dense(units = 3, activation = 'softmax'))\n",
    "\n",
    "    # Compiling the ANN\n",
    "    classifier.compile(optimizer = 'adam', loss = 'categorical_crossentropy', metrics = ['accuracy'])\n",
    "\n",
    "    return classifier"
   ]
  },
  {
   "cell_type": "code",
   "execution_count": 17,
   "id": "82419b38-14c8-43f6-b854-f02bb84fdfe8",
   "metadata": {},
   "outputs": [],
   "source": [
    "classifier = KerasClassifier(build_fn = build_classifier, batch_size = 10, epochs = 100)\n",
    "accuracies = cross_val_score(estimator = classifier, X = X_train, y = y_train, cv = 10, n_jobs = -1)\n",
    "\n",
    "mean = accuracies.mean()\n",
    "variance = accuracies.std()"
   ]
  },
  {
   "cell_type": "code",
   "execution_count": 18,
   "id": "801f5696-4a16-496d-a099-dbb2194a276b",
   "metadata": {},
   "outputs": [
    {
     "data": {
      "text/plain": [
       "(0.8916666666666666, 0.07499999999999998)"
      ]
     },
     "execution_count": 18,
     "metadata": {},
     "output_type": "execute_result"
    }
   ],
   "source": [
    "mean, variance"
   ]
  },
  {
   "cell_type": "code",
   "execution_count": 25,
   "id": "15a584fe-7bc6-4d63-873e-a0a1487d15e9",
   "metadata": {},
   "outputs": [],
   "source": [
    "# Improving the ANN\n",
    "# Dropout Regularization to reduce overfitting if needed\n",
    "# Tuning the ANN\n",
    "from scikeras.wrappers import KerasClassifier\n",
    "from sklearn.model_selection import GridSearchCV\n"
   ]
  },
  {
   "cell_type": "code",
   "execution_count": 20,
   "id": "7b55b5d0-c091-4103-8dc7-d1e46edb3fe3",
   "metadata": {},
   "outputs": [],
   "source": [
    "def build_classifier(optimizer='adam'):\n",
    "    classifier = Sequential()\n",
    "    classifier.add(Dense(units = 10, activation = 'relu', input_shape=(4,)))\n",
    "    classifier.add(Dense(units = 3, activation = 'softmax'))\n",
    "    classifier.compile(optimizer = optimizer, loss = 'categorical_crossentropy', metrics = ['accuracy'])\n",
    "    return classifier"
   ]
  },
  {
   "cell_type": "code",
   "execution_count": 21,
   "id": "50551d47-b92f-4337-8177-635a2a496625",
   "metadata": {},
   "outputs": [
    {
     "data": {
      "text/plain": [
       "(0.9166666666666666, 0.07453559924999298)"
      ]
     },
     "execution_count": 21,
     "metadata": {},
     "output_type": "execute_result"
    }
   ],
   "source": [
    "classifier = KerasClassifier(build_fn = build_classifier, batch_size = 10, epochs = 100)\n",
    "accuracies = cross_val_score(estimator = classifier, X = X_train, y = y_train, cv = 10, n_jobs = -1)\n",
    "\n",
    "mean = accuracies.mean()\n",
    "variance = accuracies.std()\n",
    "mean, variance"
   ]
  },
  {
   "cell_type": "code",
   "execution_count": 23,
   "id": "71236cf7-cdba-4ac3-8d75-c53317ad0fbf",
   "metadata": {},
   "outputs": [
    {
     "data": {
      "text/html": [
       "<style>#sk-container-id-1 {color: black;}#sk-container-id-1 pre{padding: 0;}#sk-container-id-1 div.sk-toggleable {background-color: white;}#sk-container-id-1 label.sk-toggleable__label {cursor: pointer;display: block;width: 100%;margin-bottom: 0;padding: 0.3em;box-sizing: border-box;text-align: center;}#sk-container-id-1 label.sk-toggleable__label-arrow:before {content: \"▸\";float: left;margin-right: 0.25em;color: #696969;}#sk-container-id-1 label.sk-toggleable__label-arrow:hover:before {color: black;}#sk-container-id-1 div.sk-estimator:hover label.sk-toggleable__label-arrow:before {color: black;}#sk-container-id-1 div.sk-toggleable__content {max-height: 0;max-width: 0;overflow: hidden;text-align: left;background-color: #f0f8ff;}#sk-container-id-1 div.sk-toggleable__content pre {margin: 0.2em;color: black;border-radius: 0.25em;background-color: #f0f8ff;}#sk-container-id-1 input.sk-toggleable__control:checked~div.sk-toggleable__content {max-height: 200px;max-width: 100%;overflow: auto;}#sk-container-id-1 input.sk-toggleable__control:checked~label.sk-toggleable__label-arrow:before {content: \"▾\";}#sk-container-id-1 div.sk-estimator input.sk-toggleable__control:checked~label.sk-toggleable__label {background-color: #d4ebff;}#sk-container-id-1 div.sk-label input.sk-toggleable__control:checked~label.sk-toggleable__label {background-color: #d4ebff;}#sk-container-id-1 input.sk-hidden--visually {border: 0;clip: rect(1px 1px 1px 1px);clip: rect(1px, 1px, 1px, 1px);height: 1px;margin: -1px;overflow: hidden;padding: 0;position: absolute;width: 1px;}#sk-container-id-1 div.sk-estimator {font-family: monospace;background-color: #f0f8ff;border: 1px dotted black;border-radius: 0.25em;box-sizing: border-box;margin-bottom: 0.5em;}#sk-container-id-1 div.sk-estimator:hover {background-color: #d4ebff;}#sk-container-id-1 div.sk-parallel-item::after {content: \"\";width: 100%;border-bottom: 1px solid gray;flex-grow: 1;}#sk-container-id-1 div.sk-label:hover label.sk-toggleable__label {background-color: #d4ebff;}#sk-container-id-1 div.sk-serial::before {content: \"\";position: absolute;border-left: 1px solid gray;box-sizing: border-box;top: 0;bottom: 0;left: 50%;z-index: 0;}#sk-container-id-1 div.sk-serial {display: flex;flex-direction: column;align-items: center;background-color: white;padding-right: 0.2em;padding-left: 0.2em;position: relative;}#sk-container-id-1 div.sk-item {position: relative;z-index: 1;}#sk-container-id-1 div.sk-parallel {display: flex;align-items: stretch;justify-content: center;background-color: white;position: relative;}#sk-container-id-1 div.sk-item::before, #sk-container-id-1 div.sk-parallel-item::before {content: \"\";position: absolute;border-left: 1px solid gray;box-sizing: border-box;top: 0;bottom: 0;left: 50%;z-index: -1;}#sk-container-id-1 div.sk-parallel-item {display: flex;flex-direction: column;z-index: 1;position: relative;background-color: white;}#sk-container-id-1 div.sk-parallel-item:first-child::after {align-self: flex-end;width: 50%;}#sk-container-id-1 div.sk-parallel-item:last-child::after {align-self: flex-start;width: 50%;}#sk-container-id-1 div.sk-parallel-item:only-child::after {width: 0;}#sk-container-id-1 div.sk-dashed-wrapped {border: 1px dashed gray;margin: 0 0.4em 0.5em 0.4em;box-sizing: border-box;padding-bottom: 0.4em;background-color: white;}#sk-container-id-1 div.sk-label label {font-family: monospace;font-weight: bold;display: inline-block;line-height: 1.2em;}#sk-container-id-1 div.sk-label-container {text-align: center;}#sk-container-id-1 div.sk-container {/* jupyter's `normalize.less` sets `[hidden] { display: none; }` but bootstrap.min.css set `[hidden] { display: none !important; }` so we also need the `!important` here to be able to override the default hidden behavior on the sphinx rendered scikit-learn.org. See: https://github.com/scikit-learn/scikit-learn/issues/21755 */display: inline-block !important;position: relative;}#sk-container-id-1 div.sk-text-repr-fallback {display: none;}</style><div id=\"sk-container-id-1\" class=\"sk-top-container\"><div class=\"sk-text-repr-fallback\"><pre>GridSearchCV(cv=10,\n",
       "             estimator=KerasClassifier(model=&lt;function build_classifier at 0x000001F2798CB9A0&gt;, verbose=0),\n",
       "             param_grid={&#x27;batch_size&#x27;: [10], &#x27;epochs&#x27;: [100],\n",
       "                         &#x27;optimizer&#x27;: [&#x27;adam&#x27;]},\n",
       "             scoring=&#x27;accuracy&#x27;)</pre><b>In a Jupyter environment, please rerun this cell to show the HTML representation or trust the notebook. <br />On GitHub, the HTML representation is unable to render, please try loading this page with nbviewer.org.</b></div><div class=\"sk-container\" hidden><div class=\"sk-item sk-dashed-wrapped\"><div class=\"sk-label-container\"><div class=\"sk-label sk-toggleable\"><input class=\"sk-toggleable__control sk-hidden--visually\" id=\"sk-estimator-id-1\" type=\"checkbox\" ><label for=\"sk-estimator-id-1\" class=\"sk-toggleable__label sk-toggleable__label-arrow\">GridSearchCV</label><div class=\"sk-toggleable__content\"><pre>GridSearchCV(cv=10,\n",
       "             estimator=KerasClassifier(model=&lt;function build_classifier at 0x000001F2798CB9A0&gt;, verbose=0),\n",
       "             param_grid={&#x27;batch_size&#x27;: [10], &#x27;epochs&#x27;: [100],\n",
       "                         &#x27;optimizer&#x27;: [&#x27;adam&#x27;]},\n",
       "             scoring=&#x27;accuracy&#x27;)</pre></div></div></div><div class=\"sk-parallel\"><div class=\"sk-parallel-item\"><div class=\"sk-item\"><div class=\"sk-label-container\"><div class=\"sk-label sk-toggleable\"><input class=\"sk-toggleable__control sk-hidden--visually\" id=\"sk-estimator-id-2\" type=\"checkbox\" ><label for=\"sk-estimator-id-2\" class=\"sk-toggleable__label sk-toggleable__label-arrow\">estimator: KerasClassifier</label><div class=\"sk-toggleable__content\"><pre>KerasClassifier(\n",
       "\tmodel=&lt;function build_classifier at 0x000001F2798CB9A0&gt;\n",
       "\tbuild_fn=None\n",
       "\twarm_start=False\n",
       "\trandom_state=None\n",
       "\toptimizer=rmsprop\n",
       "\tloss=None\n",
       "\tmetrics=None\n",
       "\tbatch_size=None\n",
       "\tvalidation_batch_size=None\n",
       "\tverbose=0\n",
       "\tcallbacks=None\n",
       "\tvalidation_split=0.0\n",
       "\tshuffle=True\n",
       "\trun_eagerly=False\n",
       "\tepochs=1\n",
       "\tclass_weight=None\n",
       ")</pre></div></div></div><div class=\"sk-serial\"><div class=\"sk-item\"><div class=\"sk-estimator sk-toggleable\"><input class=\"sk-toggleable__control sk-hidden--visually\" id=\"sk-estimator-id-3\" type=\"checkbox\" ><label for=\"sk-estimator-id-3\" class=\"sk-toggleable__label sk-toggleable__label-arrow\">KerasClassifier</label><div class=\"sk-toggleable__content\"><pre>KerasClassifier(\n",
       "\tmodel=&lt;function build_classifier at 0x000001F2798CB9A0&gt;\n",
       "\tbuild_fn=None\n",
       "\twarm_start=False\n",
       "\trandom_state=None\n",
       "\toptimizer=rmsprop\n",
       "\tloss=None\n",
       "\tmetrics=None\n",
       "\tbatch_size=None\n",
       "\tvalidation_batch_size=None\n",
       "\tverbose=0\n",
       "\tcallbacks=None\n",
       "\tvalidation_split=0.0\n",
       "\tshuffle=True\n",
       "\trun_eagerly=False\n",
       "\tepochs=1\n",
       "\tclass_weight=None\n",
       ")</pre></div></div></div></div></div></div></div></div></div></div>"
      ],
      "text/plain": [
       "GridSearchCV(cv=10,\n",
       "             estimator=KerasClassifier(model=<function build_classifier at 0x000001F2798CB9A0>, verbose=0),\n",
       "             param_grid={'batch_size': [10], 'epochs': [100],\n",
       "                         'optimizer': ['adam']},\n",
       "             scoring='accuracy')"
      ]
     },
     "execution_count": 23,
     "metadata": {},
     "output_type": "execute_result"
    }
   ],
   "source": [
    "classifier = KerasClassifier(model = build_classifier, verbose=0)\n",
    "parameters = {'batch_size': [10],\n",
    "              'epochs': [100],\n",
    "              'optimizer': ['adam']}\n",
    "grid_search = GridSearchCV(estimator = classifier,\n",
    "                           param_grid = parameters,\n",
    "                           scoring = 'accuracy',\n",
    "                           cv = 10)\n",
    "\n",
    "grid_search.fit(X = X_train, y = y_train)\n"
   ]
  },
  {
   "cell_type": "code",
   "execution_count": 28,
   "id": "c28e2f34-7184-425d-8da3-fa99489e5b1a",
   "metadata": {},
   "outputs": [
    {
     "name": "stdout",
     "output_type": "stream",
     "text": [
      "Best parameters: {'batch_size': 10, 'epochs': 100, 'optimizer': 'adam'}\n",
      "Best score: 0.9083333333333332\n"
     ]
    }
   ],
   "source": [
    "print(\"Best parameters:\", grid_search.best_params_)\n",
    "print(\"Best score:\", grid_search.best_score_)"
   ]
  },
  {
   "cell_type": "code",
   "execution_count": null,
   "id": "3d974a9b-7157-4f39-bd18-b3b4de772571",
   "metadata": {},
   "outputs": [],
   "source": []
  }
 ],
 "metadata": {
  "kernelspec": {
   "display_name": "Python 3 (ipykernel)",
   "language": "python",
   "name": "python3"
  },
  "language_info": {
   "codemirror_mode": {
    "name": "ipython",
    "version": 3
   },
   "file_extension": ".py",
   "mimetype": "text/x-python",
   "name": "python",
   "nbconvert_exporter": "python",
   "pygments_lexer": "ipython3",
   "version": "3.10.4"
  }
 },
 "nbformat": 4,
 "nbformat_minor": 5
}
