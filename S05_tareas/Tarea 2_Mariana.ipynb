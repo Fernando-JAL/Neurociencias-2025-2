{
 "cells": [
  {
   "cell_type": "markdown",
   "id": "831e9c4c",
   "metadata": {},
   "source": [
    "Investigar la fórmula, definición, en qué se aplican las siguientes fórmulas para calcular el error:\n",
    "\n",
    "MSE\n",
    "MAE\n",
    "RMSE\n",
    "R-squared"
   ]
  },
  {
   "cell_type": "code",
   "execution_count": 6,
   "id": "b9fbe9e4",
   "metadata": {},
   "outputs": [
    {
     "data": {
      "text/html": [
       "<table border=\"1\" class=\"dataframe\">\n",
       "  <thead>\n",
       "    <tr style=\"text-align: right;\">\n",
       "      <th>Métrica</th>\n",
       "      <th>Fórmula</th>\n",
       "      <th>Definición</th>\n",
       "      <th>Aplicación</th>\n",
       "    </tr>\n",
       "  </thead>\n",
       "  <tbody>\n",
       "    <tr>\n",
       "      <td>MSE</td>\n",
       "      <td>$\\text{MSE} = \\frac{1}{n} \\sum_{i=1}^{n} (y_i - \\hat{y}_i)^2$</td>\n",
       "      <td>Promedio de los cuadrados de los errores entre valores reales y predichos.</td>\n",
       "      <td>Penaliza errores grandes. Ej.: predicción de precios, temperaturas.</td>\n",
       "    </tr>\n",
       "    <tr>\n",
       "      <td>MAE</td>\n",
       "      <td>$\\text{MAE} = \\frac{1}{n} \\sum_{i=1}^{n} |y_i - \\hat{y}_i|$</td>\n",
       "      <td>Promedio de la magnitud absoluta de los errores sin considerar su dirección.</td>\n",
       "      <td>Robusto ante valores extremos. Ej.: pronóstico de ventas, consumo energético.</td>\n",
       "    </tr>\n",
       "    <tr>\n",
       "      <td>RMSE</td>\n",
       "      <td>$\\text{RMSE} = \\sqrt{\\frac{1}{n} \\sum_{i=1}^{n} (y_i - \\hat{y}_i)^2}$</td>\n",
       "      <td>Raíz cuadrada del MSE; mide la desviación promedio de las predicciones respecto a los valores reales.</td>\n",
       "      <td>Interpretable en unidades reales. Ej.: precisión GPS, estimaciones financieras.</td>\n",
       "    </tr>\n",
       "    <tr>\n",
       "      <td>R-squared</td>\n",
       "      <td>$R^2 = 1 - \\frac{\\sum_{i=1}^{n}(y_i - \\hat{y}_i)^2}{\\sum_{i=1}^{n}(y_i - \\bar{y})^2}$</td>\n",
       "      <td>Proporción de varianza explicada por el modelo; indica qué tan bien se ajusta el modelo a los datos.</td>\n",
       "      <td>Bondad de ajuste del modelo. Ej.: comparar modelos de regresión.</td>\n",
       "    </tr>\n",
       "  </tbody>\n",
       "</table>"
      ],
      "text/plain": [
       "<IPython.core.display.HTML object>"
      ]
     },
     "metadata": {},
     "output_type": "display_data"
    }
   ],
   "source": [
    "import pandas as pd\n",
    "from IPython.display import display, HTML\n",
    "\n",
    "# Datos con fórmulas en LaTeX\n",
    "data = {\n",
    "    \"Métrica\": [\"MSE\", \"MAE\", \"RMSE\", \"R-squared\"],\n",
    "    \"Fórmula\": [\n",
    "        \"$\\\\text{MSE} = \\\\frac{1}{n} \\\\sum_{i=1}^{n} (y_i - \\\\hat{y}_i)^2$\",\n",
    "        \"$\\\\text{MAE} = \\\\frac{1}{n} \\\\sum_{i=1}^{n} |y_i - \\\\hat{y}_i|$\",\n",
    "        \"$\\\\text{RMSE} = \\\\sqrt{\\\\frac{1}{n} \\\\sum_{i=1}^{n} (y_i - \\\\hat{y}_i)^2}$\",\n",
    "        \"$R^2 = 1 - \\\\frac{\\\\sum_{i=1}^{n}(y_i - \\\\hat{y}_i)^2}{\\\\sum_{i=1}^{n}(y_i - \\\\bar{y})^2}$\"\n",
    "    ],\n",
    "    \"Definición\": [\n",
    "        \"Promedio de los cuadrados de los errores entre valores reales y predichos.\",\n",
    "        \"Promedio de la magnitud absoluta de los errores sin considerar su dirección.\",\n",
    "        \"Raíz cuadrada del MSE; mide la desviación promedio de las predicciones respecto a los valores reales.\",\n",
    "        \"Proporción de varianza explicada por el modelo; indica qué tan bien se ajusta el modelo a los datos.\"\n",
    "    ],\n",
    "    \"Aplicación\": [\n",
    "        \"Penaliza errores grandes. Ej.: predicción de precios, temperaturas.\",\n",
    "        \"Robusto ante valores extremos. Ej.: pronóstico de ventas, consumo energético.\",\n",
    "        \"Interpretable en unidades reales. Ej.: precisión GPS, estimaciones financieras.\",\n",
    "        \"Bondad de ajuste del modelo. Ej.: comparar modelos de regresión.\"\n",
    "    ]\n",
    "}\n",
    "\n",
    "# Crear DataFrame\n",
    "df = pd.DataFrame(data)\n",
    "\n",
    "# Mostrar como tabla HTML con soporte para fórmulas LaTeX\n",
    "display(HTML(df.to_html(index=False)))\n"
   ]
  }
 ],
 "metadata": {
  "kernelspec": {
   "display_name": "base",
   "language": "python",
   "name": "python3"
  },
  "language_info": {
   "codemirror_mode": {
    "name": "ipython",
    "version": 3
   },
   "file_extension": ".py",
   "mimetype": "text/x-python",
   "name": "python",
   "nbconvert_exporter": "python",
   "pygments_lexer": "ipython3",
   "version": "3.12.4"
  }
 },
 "nbformat": 4,
 "nbformat_minor": 5
}
