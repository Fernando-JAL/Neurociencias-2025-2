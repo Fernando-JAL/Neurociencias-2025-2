{
 "cells": [
  {
   "metadata": {},
   "cell_type": "markdown",
   "source": [
    "# Aprendizaje supervisado: \n",
    "\n",
    "Es una técnica dentro del campo de la inteligencia artificial y el aprendizaje automático. Consiste en entrenar un modelo a partir de un conjunto de datos etiquetados, donde las entradas (características) están claramente relacionadas con una salida conocida (etiquetas o resultados deseados). Básicamente, el modelo aprende a predecir el resultado correcto (o la etiqueta) para futuras entradas basándose en este conjunto de datos etiquetados.\n",
    "\n",
    "# TAREA 3\n",
    "\n",
    "EXPLICA TENSORFLOW Y PYTORCH, Y COMO SE UTILIZAN PARA IA Y DEEP LEARNING"
   ],
   "id": "f2c5485349d411ee"
  },
  {
   "metadata": {},
   "cell_type": "markdown",
   "source": [
    "\n",
    "# 1. TensorFlow\n",
    "\n",
    "TensorFlow es una biblioteca de código abierto desarrollada por Google, lanzada en 2015. Es conocida por su facilidad de implementación en aplicaciones de aprendizaje profundo tanto a pequeña como a gran escala.\n",
    "\n",
    "*Características principales:*\n",
    "\n",
    "- Modelado flexible: Permite construir modelos utilizando un enfoque basado en diagramas computacionales o un enfoque más dinámico con Keras (que ahora es parte de TensorFlow).\n",
    "- Compatibilidad multiplataforma: Funciona en CPUs, GPUs y TPUs (Tensor Processing Units). Esto lo hace ideal para aplicaciones de producción.\n",
    "- Despliegue en producción: TensorFlow tiene herramientas como TensorFlow Lite (para móviles) y TensorFlow.js (para navegadores) que hacen que las soluciones sean fáciles de llevar a producción.\n",
    "- Alto rendimiento: Optimizado para hardware de IA, como las GPUs y TPUs.\n",
    "\n",
    "*Uso en IA y Deep Learning:*\n",
    "TensorFlow utiliza tensores (estructuras de datos multidimensionales) para realizar operaciones matriciales, esenciales para redes neuronales.\n",
    "Proporciona abstracciones de alto nivel como Keras, lo que facilita la construcción de redes neuronales, desde arquitecturas simples como perceptrones multicapa (MLPs) hasta arquitecturas complejas como Redes Neuronales Convolucionales (CNNs) o redes recurrentes (RNNs).\n",
    "\n",
    "*Ejemplo de un modelo simple con TensorFlow:*"
   ],
   "id": "7876752670590490"
  },
  {
   "metadata": {
    "ExecuteTime": {
     "end_time": "2025-05-19T19:18:22.068111Z",
     "start_time": "2025-05-19T19:18:21.822969Z"
    }
   },
   "cell_type": "code",
   "source": [
    "import tensorflow as tf\n",
    "from tensorflow.keras.models import Sequential\n",
    "from tensorflow.keras.layers import Dense\n",
    "\n",
    "# Crear un modelo secuencial\n",
    "model = Sequential()\n",
    "\n",
    "# Añadir capas al modelo\n",
    "model.add(Dense(10, input_shape=(5,), activation='relu'))  # Capa de entrada y oculta\n",
    "model.add(Dense(1, activation='sigmoid'))  # Capa de salida\n",
    "\n",
    "# Compilar el modelo\n",
    "model.compile(optimizer='adam', loss='binary_crossentropy', metrics=['accuracy'])\n",
    "\n",
    "# Imprimir un resumen del modelo\n",
    "model.summary()"
   ],
   "id": "841b4e1989450fd",
   "outputs": [
    {
     "data": {
      "text/plain": [
       "\u001B[1mModel: \"sequential_3\"\u001B[0m\n"
      ],
      "text/html": [
       "<pre style=\"white-space:pre;overflow-x:auto;line-height:normal;font-family:Menlo,'DejaVu Sans Mono',consolas,'Courier New',monospace\"><span style=\"font-weight: bold\">Model: \"sequential_3\"</span>\n",
       "</pre>\n"
      ]
     },
     "metadata": {},
     "output_type": "display_data"
    },
    {
     "data": {
      "text/plain": [
       "┏━━━━━━━━━━━━━━━━━━━━━━━━━━━━━━━━━┳━━━━━━━━━━━━━━━━━━━━━━━━┳━━━━━━━━━━━━━━━┓\n",
       "┃\u001B[1m \u001B[0m\u001B[1mLayer (type)                   \u001B[0m\u001B[1m \u001B[0m┃\u001B[1m \u001B[0m\u001B[1mOutput Shape          \u001B[0m\u001B[1m \u001B[0m┃\u001B[1m \u001B[0m\u001B[1m      Param #\u001B[0m\u001B[1m \u001B[0m┃\n",
       "┡━━━━━━━━━━━━━━━━━━━━━━━━━━━━━━━━━╇━━━━━━━━━━━━━━━━━━━━━━━━╇━━━━━━━━━━━━━━━┩\n",
       "│ dense_6 (\u001B[38;5;33mDense\u001B[0m)                 │ (\u001B[38;5;45mNone\u001B[0m, \u001B[38;5;34m10\u001B[0m)             │            \u001B[38;5;34m60\u001B[0m │\n",
       "├─────────────────────────────────┼────────────────────────┼───────────────┤\n",
       "│ dense_7 (\u001B[38;5;33mDense\u001B[0m)                 │ (\u001B[38;5;45mNone\u001B[0m, \u001B[38;5;34m1\u001B[0m)              │            \u001B[38;5;34m11\u001B[0m │\n",
       "└─────────────────────────────────┴────────────────────────┴───────────────┘\n"
      ],
      "text/html": [
       "<pre style=\"white-space:pre;overflow-x:auto;line-height:normal;font-family:Menlo,'DejaVu Sans Mono',consolas,'Courier New',monospace\">┏━━━━━━━━━━━━━━━━━━━━━━━━━━━━━━━━━┳━━━━━━━━━━━━━━━━━━━━━━━━┳━━━━━━━━━━━━━━━┓\n",
       "┃<span style=\"font-weight: bold\"> Layer (type)                    </span>┃<span style=\"font-weight: bold\"> Output Shape           </span>┃<span style=\"font-weight: bold\">       Param # </span>┃\n",
       "┡━━━━━━━━━━━━━━━━━━━━━━━━━━━━━━━━━╇━━━━━━━━━━━━━━━━━━━━━━━━╇━━━━━━━━━━━━━━━┩\n",
       "│ dense_6 (<span style=\"color: #0087ff; text-decoration-color: #0087ff\">Dense</span>)                 │ (<span style=\"color: #00d7ff; text-decoration-color: #00d7ff\">None</span>, <span style=\"color: #00af00; text-decoration-color: #00af00\">10</span>)             │            <span style=\"color: #00af00; text-decoration-color: #00af00\">60</span> │\n",
       "├─────────────────────────────────┼────────────────────────┼───────────────┤\n",
       "│ dense_7 (<span style=\"color: #0087ff; text-decoration-color: #0087ff\">Dense</span>)                 │ (<span style=\"color: #00d7ff; text-decoration-color: #00d7ff\">None</span>, <span style=\"color: #00af00; text-decoration-color: #00af00\">1</span>)              │            <span style=\"color: #00af00; text-decoration-color: #00af00\">11</span> │\n",
       "└─────────────────────────────────┴────────────────────────┴───────────────┘\n",
       "</pre>\n"
      ]
     },
     "metadata": {},
     "output_type": "display_data"
    },
    {
     "data": {
      "text/plain": [
       "\u001B[1m Total params: \u001B[0m\u001B[38;5;34m71\u001B[0m (284.00 B)\n"
      ],
      "text/html": [
       "<pre style=\"white-space:pre;overflow-x:auto;line-height:normal;font-family:Menlo,'DejaVu Sans Mono',consolas,'Courier New',monospace\"><span style=\"font-weight: bold\"> Total params: </span><span style=\"color: #00af00; text-decoration-color: #00af00\">71</span> (284.00 B)\n",
       "</pre>\n"
      ]
     },
     "metadata": {},
     "output_type": "display_data"
    },
    {
     "data": {
      "text/plain": [
       "\u001B[1m Trainable params: \u001B[0m\u001B[38;5;34m71\u001B[0m (284.00 B)\n"
      ],
      "text/html": [
       "<pre style=\"white-space:pre;overflow-x:auto;line-height:normal;font-family:Menlo,'DejaVu Sans Mono',consolas,'Courier New',monospace\"><span style=\"font-weight: bold\"> Trainable params: </span><span style=\"color: #00af00; text-decoration-color: #00af00\">71</span> (284.00 B)\n",
       "</pre>\n"
      ]
     },
     "metadata": {},
     "output_type": "display_data"
    },
    {
     "data": {
      "text/plain": [
       "\u001B[1m Non-trainable params: \u001B[0m\u001B[38;5;34m0\u001B[0m (0.00 B)\n"
      ],
      "text/html": [
       "<pre style=\"white-space:pre;overflow-x:auto;line-height:normal;font-family:Menlo,'DejaVu Sans Mono',consolas,'Courier New',monospace\"><span style=\"font-weight: bold\"> Non-trainable params: </span><span style=\"color: #00af00; text-decoration-color: #00af00\">0</span> (0.00 B)\n",
       "</pre>\n"
      ]
     },
     "metadata": {},
     "output_type": "display_data"
    }
   ],
   "execution_count": 8
  },
  {
   "metadata": {},
   "cell_type": "markdown",
   "source": [
    "# 2. PyTorch\n",
    "\n",
    "PyTorch es un marco de aprendizaje automático desarrollado por Facebook (lanzado en 2016). Es popular por ser muy intuitivo y amigable para investigadores y desarrolladores debido a su dinámica y flexibilidad.\n",
    "\n",
    "*Características principales:*\n",
    "- Dinamismo (Dynamic Computation Graph): Los gráficos computacionales de PyTorch son más dinámicos, lo que permite construir y modificar modelos \"en tiempo real\". Esto es útil para tareas de investigación.\n",
    "- Simplicidad para debugging: Permite usar librerías de depuración comunes como pdb, lo que facilita encontrar errores.\n",
    "- Excelente soporte GPU: Como TensorFlow, también utiliza GPUs para acelerar los cálculos.\n",
    "- Comunidad activa: PyTorch tiene una gran cantidad de recursos y es ampliamente preferido en el entorno de investigación académica.\n",
    "\n",
    "*Uso en IA y Deep Learning:*\n",
    "PyTorch también opera con tensores para construir y entrenar redes neuronales. Sin embargo, su enfoque más intuitivo y dinámico lo hace destacar.\n",
    "Compatible con arquitecturas como CNNs, RNNs y transformers (utilizados en modelos como GPT y BERT).\n",
    "\n",
    "*Ejemplo de un modelo simple con PyTorch:*"
   ],
   "id": "174e58b2bf6abddf"
  },
  {
   "metadata": {
    "ExecuteTime": {
     "end_time": "2025-05-19T19:18:30.356785Z",
     "start_time": "2025-05-19T19:18:22.174497Z"
    }
   },
   "cell_type": "code",
   "source": [
    "import torch\n",
    "import torch.nn as nn\n",
    "import torch.optim as optim\n",
    "\n",
    "# Definir el modelo\n",
    "class SimpleModel(nn.Module):\n",
    "    def __init__(self):\n",
    "        super(SimpleModel, self).__init__()\n",
    "        self.fc1 = nn.Linear(5, 10)  # Capa de entrada y oculta\n",
    "        self.fc2 = nn.Linear(10, 1)  # Capa de salida\n",
    "\n",
    "    def forward(self, x):\n",
    "        x = torch.relu(self.fc1(x))\n",
    "        x = torch.sigmoid(self.fc2(x))\n",
    "        return x\n",
    "\n",
    "# Crear el modelo\n",
    "model = SimpleModel()\n",
    "\n",
    "# Definir el optimizador y la función de pérdida\n",
    "optimizer = optim.Adam(model.parameters(), lr=0.001)\n",
    "loss_function = nn.BCELoss()\n",
    "\n",
    "# Resumen del modelo (tamaño de parámetros)\n",
    "for name, param in model.named_parameters():\n",
    "    print(f\"{name}: {param.size()}\")"
   ],
   "id": "b9f675459de28455",
   "outputs": [
    {
     "name": "stdout",
     "output_type": "stream",
     "text": [
      "fc1.weight: torch.Size([10, 5])\n",
      "fc1.bias: torch.Size([10])\n",
      "fc2.weight: torch.Size([1, 10])\n",
      "fc2.bias: torch.Size([1])\n"
     ]
    }
   ],
   "execution_count": 9
  }
 ],
 "metadata": {
  "kernelspec": {
   "display_name": "Python 3",
   "language": "python",
   "name": "python3"
  },
  "language_info": {
   "codemirror_mode": {
    "name": "ipython",
    "version": 2
   },
   "file_extension": ".py",
   "mimetype": "text/x-python",
   "name": "python",
   "nbconvert_exporter": "python",
   "pygments_lexer": "ipython2",
   "version": "2.7.6"
  }
 },
 "nbformat": 4,
 "nbformat_minor": 5
}
