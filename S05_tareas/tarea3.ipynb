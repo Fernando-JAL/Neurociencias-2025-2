{
 "cells": [
  {
   "cell_type": "markdown",
   "id": "a4434efb",
   "metadata": {},
   "source": [
    "# Tarea\n",
    "\n",
    "Lista las diferencias entre tensorflow y python"
   ]
  },
  {
   "cell_type": "code",
   "execution_count": null,
   "id": "f37711df",
   "metadata": {},
   "outputs": [],
   "source": []
  }
 ],
 "metadata": {
  "kernelspec": {
   "display_name": "Python 3 (ipykernel)",
   "language": "python",
   "name": "python3"
  },
  "language_info": {
   "codemirror_mode": {
    "name": "ipython",
    "version": 3
   },
   "file_extension": ".py",
   "mimetype": "text/x-python",
   "name": "python",
   "nbconvert_exporter": "python",
   "pygments_lexer": "ipython3",
   "version": "3.9.7"
  }
 },
 "nbformat": 4,
 "nbformat_minor": 5
}
