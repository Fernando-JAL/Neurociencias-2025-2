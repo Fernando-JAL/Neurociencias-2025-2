{
 "cells": [
  {
   "cell_type": "markdown",
   "id": "ee0bb2c2",
   "metadata": {},
   "source": [
    "- generar el árbol de decisión con a lo más 3 divisiones más de profundidad\n",
    "- calcular la matriz de confusión\n",
    "- comparar con la matriz de confusión del árbol generado sin podar"
   ]
  }
 ],
 "metadata": {
  "kernelspec": {
   "display_name": "Python 3 (ipykernel)",
   "language": "python",
   "name": "python3"
  },
  "language_info": {
   "codemirror_mode": {
    "name": "ipython",
    "version": 3
   },
   "file_extension": ".py",
   "mimetype": "text/x-python",
   "name": "python",
   "nbconvert_exporter": "python",
   "pygments_lexer": "ipython3",
   "version": "3.12.4"
  }
 },
 "nbformat": 4,
 "nbformat_minor": 5
}
