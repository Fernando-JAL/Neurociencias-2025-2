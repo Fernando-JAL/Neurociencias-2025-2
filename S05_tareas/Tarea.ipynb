{
 "cells": [
  {
   "cell_type": "markdown",
   "id": "d01c8b67",
   "metadata": {},
   "source": [
    "- Modificar los hiperparametros de la función de árbol de decisión, para que haga hasta 3 divisiones\n",
    "- Realizar la matriz de confución y compararla con la matriz de confusión con el árbol sin podar"
   ]
  },
  {
   "cell_type": "code",
   "execution_count": null,
   "id": "cc6691dd",
   "metadata": {},
   "outputs": [],
   "source": []
  }
 ],
 "metadata": {
  "kernelspec": {
   "display_name": "Python 3 (ipykernel)",
   "language": "python",
   "name": "python3"
  },
  "language_info": {
   "codemirror_mode": {
    "name": "ipython",
    "version": 3
   },
   "file_extension": ".py",
   "mimetype": "text/x-python",
   "name": "python",
   "nbconvert_exporter": "python",
   "pygments_lexer": "ipython3",
   "version": "3.9.7"
  }
 },
 "nbformat": 4,
 "nbformat_minor": 5
}
