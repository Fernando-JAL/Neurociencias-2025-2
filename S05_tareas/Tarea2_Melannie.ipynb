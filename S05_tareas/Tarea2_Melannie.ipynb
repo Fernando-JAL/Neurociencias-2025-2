{
 "cells": [
  {
   "cell_type": "markdown",
   "id": "572db6b7-c407-43dd-8a7d-c3f05c27a5cb",
   "metadata": {},
   "source": [
    "# **Tarea**"
   ]
  },
  {
   "cell_type": "markdown",
   "id": "a84cbf10-897f-4d75-81b5-283a7405dc06",
   "metadata": {},
   "source": [
    "Alumna: Melannie Aranza Martínez Velasco"
   ]
  },
  {
   "cell_type": "markdown",
   "id": "f4317aff-928f-43d3-b58a-d902250ce503",
   "metadata": {},
   "source": [
    "\n",
    "Modelos Computacionales II"
   ]
  },
  {
   "cell_type": "markdown",
   "id": "64188036-e1cd-4028-b072-4e3ad421e515",
   "metadata": {},
   "source": [
    "- Investigar la fórmula, definición y en qué se aplican las siguientes fórmulas para calcular el error."
   ]
  },
  {
   "cell_type": "markdown",
   "id": "c6900099-aea9-4bc8-a6ab-929747da14c5",
   "metadata": {},
   "source": [
    "\n",
    "---\n",
    "\n",
    "## MSE (Mean Squared Error)\n",
    "\n",
    "- **Fórmula:**\n",
    "\n",
    "  $$\n",
    "  MSE = \\frac{1}{n} \\sum_{i=1}^{n} (y_i - \\hat{y}_i)^2\n",
    "  $$\n",
    "\n",
    "- **Definición:**  \n",
    "  Es el promedio de los errores al cuadrado entre los valores reales y los valores predichos. Da más peso a los errores grandes.\n",
    "\n",
    "- **¿Para qué se usa?**  \n",
    "  Se usa para medir qué tan lejos están (en promedio) las predicciones del modelo. Es útil pero muy sensible a valores extremos (outliers).\n",
    "\n",
    "---\n",
    "\n",
    "## MAE (Mean Absolute Error)\n",
    "\n",
    "- **Fórmula:**\n",
    "\n",
    "  $$\n",
    "  MAE = \\frac{1}{n} \\sum_{i=1}^{n} \\left| y_i - \\hat{y}_i \\right|\n",
    "  $$\n",
    "\n",
    "- **Definición:**  \n",
    "  Es el promedio de los errores absolutos. Todos los errores cuentan por igual (grandes o pequeños).\n",
    "\n",
    "- **¿Para qué se usa?**  \n",
    "  Es útil cuando hay valores muy diferentes (outliers) porque no se deja afectar tanto por ellos. El resultado es fácil de entender porque está en las mismas unidades que los datos originales.\n",
    "\n",
    "---\n",
    "\n",
    "## RMSE (Root Mean Squared Error)\n",
    "\n",
    "- **Fórmula:**\n",
    "\n",
    "  $$\n",
    "  RMSE = \\sqrt{\\frac{1}{n} \\sum_{i=1}^{n} (y_i - \\hat{y}_i)^2}\n",
    "  $$\n",
    "\n",
    "- **Definición:**  \n",
    "  Es la raíz cuadrada del MSE. Da más importancia a los errores grandes, pero el resultado es más fácil de interpretar.\n",
    "\n",
    "- **¿Para qué se usa?**  \n",
    "  Se usa mucho porque combina lo mejor de dos cosas: penaliza errores grandes (como el MSE) y se entiende fácilmente (como el MAE), ya que está en las mismas unidades que los datos.\n",
    "\n",
    "---\n",
    "\n",
    "## R-squared (Coeficiente de determinación)\n",
    "\n",
    "- **Fórmula:**\n",
    "\n",
    "  $$\n",
    "  R^2 = 1 - \\frac{\\sum_{i=1}^{n}(y_i - \\hat{y}_i)^2}{\\sum_{i=1}^{n}(y_i - \\bar{y})^2}\n",
    "  $$\n",
    "\n",
    "- **Definición:**  \n",
    "  Mide qué parte de la variación de los datos reales puede explicar el modelo.\n",
    "\n",
    "- **¿Para qué se usa?**  \n",
    "  Se usa para saber qué tan bien se ajusta el modelo a los datos. Va de 0 a 1, aunque puede ser negativo si el modelo es peor que solo predecir el promedio.\n"
   ]
  },
  {
   "cell_type": "code",
   "execution_count": null,
   "id": "73de13b5-5ead-4cb9-91a0-857ced64e199",
   "metadata": {},
   "outputs": [],
   "source": []
  }
 ],
 "metadata": {
  "kernelspec": {
   "display_name": "Python 3 (ipykernel)",
   "language": "python",
   "name": "python3"
  },
  "language_info": {
   "codemirror_mode": {
    "name": "ipython",
    "version": 3
   },
   "file_extension": ".py",
   "mimetype": "text/x-python",
   "name": "python",
   "nbconvert_exporter": "python",
   "pygments_lexer": "ipython3",
   "version": "3.12.4"
  }
 },
 "nbformat": 4,
 "nbformat_minor": 5
}
