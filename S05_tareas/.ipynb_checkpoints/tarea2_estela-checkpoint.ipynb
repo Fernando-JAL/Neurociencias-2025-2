{
 "cells": [
  {
   "cell_type": "markdown",
   "id": "0622c5df-3225-4738-bfde-7f6a8ee3d43e",
   "metadata": {},
   "source": [
    "## Tarea - Métricas de desempeño para calcular error (modelos de regresión)\n",
    "### Estela Gil Villegas Guevara\n",
    "#### Investigar la fórmula, definición, en qué se aplican las siguientes fórmulas"
   ]
  },
  {
   "cell_type": "markdown",
   "id": "2c7aa89f-924d-4708-ae14-ad560bf02ff2",
   "metadata": {},
   "source": [
    "### 1) MSE - Mean Squared Error\n",
    "Es el error cuadrático medio y mide la diferencia *promedio* al cuadrado entre los valores predichos y reales. Esto implica que \"penaliza\" los errores grandes, ya que cada diferencia se eleva al cuadrado, entonces tiene un mayor impacto en el cálculo de la medida. \n",
    "Si un modelo tiene errores muy altos, el MSE aumenta significativamente => sensibilidad a valores atípicos\n",
    "\n",
    "Se usa para evaluar la **precisión** de un modelo de regresión. \n",
    "\n",
    "$$MSE = \\frac{1}{n} \\sum_{i=1}^{n} (y_i - \\hat{y}_i)^2$$\n",
    "\n",
    "y_i es el valor real, y_i(hat) es el valor predicho y n es el número total de observaciones, "
   ]
  },
  {
   "cell_type": "markdown",
   "id": "8f0074a4-1e1e-4924-964d-8575f1ae0f4a",
   "metadata": {},
   "source": [
    "### 2) MAE - Mean Absolute Error\n",
    "Es el error absoluto medio; calcula la diferencia promedio en valor *absoluto* entre los valores predichos y los reales. A diferencia del MSE, no eleva al cuadrado, por lo que no \"penaliza\" los errores grandes tan severamente. \n",
    "Se utiliza cuando se busca interpretar el error en las mismas unidades de la variable objetivo\n",
    "\n",
    "También evalúa la **precisión**, pero lo vuelve más robusto ante valores atípicos, dando una interpretación más directa del error promedio del modelo. \n",
    "\n",
    "$$MAE = \\frac{1}{n} \\sum_{i=1}^{n} |y_i - \\hat{y}_i|$$"
   ]
  },
  {
   "cell_type": "markdown",
   "id": "355a7eed-cfa9-4cf7-a78f-eacb4cf43d24",
   "metadata": {},
   "source": [
    "### 3) RMSE - Root Mean Squared Error\n",
    "Es el error cuadrático medio de la raíz => la raíz cuadrada del MSE. Por lo mismo, da una interpretación más intuitiva (como el MAE); pero mantiene la penalización de errores grandes. \n",
    "\n",
    "Se usa para evaluar qué tan lejos están las *predicciones* de los valores reales en promedio. \n",
    "\n",
    "$$RMSE = \\sqrt{MSE} = \\sqrt{\\frac{1}{n} \\sum_{i=1}^{n} (y_i - \\hat{y}_i)^2}$$"
   ]
  },
  {
   "cell_type": "markdown",
   "id": "bf591a49-a362-450c-89e7-c1dc76573887",
   "metadata": {},
   "source": [
    "### 4) R-Squared - Coeficiente de determinación\n",
    "Indica qué porcentaje de la variabilidad de la variable dependiente es explicada por el modelo. Evalúa la calidad de **ajuste** del modelo. \n",
    "\n",
    "* Un R² = 1 implica que el modelo explica toda la variabilidad de la variable dependiente (ajuste \"perfecto\")\n",
    "* Un R² = 0 implica que el modelo no explica nada de la variabilidad de la variable dependiente\n",
    "* Valores intermedios indican el porcentaje de la variabilidad explicada\n",
    "\n",
    "$$R^2 = 1 - \\frac{SS_{res}}{SS_{tot}}$$\n",
    "Donde:\n",
    "𝑆𝑆𝑟𝑒𝑠 es la suma de los errores cuadráticos residuales,\n",
    "\n",
    "𝑆𝑆𝑡𝑜𝑡es la suma total de los errores cuadráticos."
   ]
  }
 ],
 "metadata": {
  "kernelspec": {
   "display_name": "Python 3 (ipykernel)",
   "language": "python",
   "name": "python3"
  },
  "language_info": {
   "codemirror_mode": {
    "name": "ipython",
    "version": 3
   },
   "file_extension": ".py",
   "mimetype": "text/x-python",
   "name": "python",
   "nbconvert_exporter": "python",
   "pygments_lexer": "ipython3",
   "version": "3.13.2"
  }
 },
 "nbformat": 4,
 "nbformat_minor": 5
}
