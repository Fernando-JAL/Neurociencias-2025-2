{
 "cells": [
  {
   "metadata": {},
   "cell_type": "markdown",
   "source": [
    "# Tarea Arbol de decision\n",
    "Investigar la formula, definicion en que se aplican las siguientes formulas para calcular el error\n",
    "- MSE\n",
    "- MAE\n",
    "- RMSE\n",
    "- R-Squared"
   ],
   "id": "732e349c3a727f04"
  },
  {
   "metadata": {
    "ExecuteTime": {
     "end_time": "2025-05-19T18:15:39.015007Z",
     "start_time": "2025-05-19T18:15:38.974960Z"
    }
   },
   "cell_type": "code",
   "source": [
    "import numpy as np\n",
    "from sklearn.metrics import mean_squared_error, mean_absolute_error, r2_score\n",
    "\n",
    "# Example data\n",
    "y_true = np.array([3.0, -0.5, 2.0, 7.0])\n",
    "y_pred = np.array([2.5, 0.0, 2.0, 8.0])\n",
    "\n",
    "# Calculate metrics\n",
    "mse = mean_squared_error(y_true, y_pred)\n",
    "mae = mean_absolute_error(y_true, y_pred)\n",
    "rmse = np.sqrt(mse)\n",
    "r_squared = r2_score(y_true, y_pred)\n"
   ],
   "id": "fec3dd106a551f48",
   "outputs": [],
   "execution_count": 3
  },
  {
   "metadata": {
    "ExecuteTime": {
     "end_time": "2025-05-19T18:15:39.030254Z",
     "start_time": "2025-05-19T18:15:39.025097Z"
    }
   },
   "cell_type": "code",
   "source": [
    "# MSE (Mean Squared Error): Promedio de los cuadrados de los errores (diferencias entre los valores reales y los predichos).\n",
    "print(f\"MSE: {mse}\")"
   ],
   "id": "310a48c60ca83dc2",
   "outputs": [
    {
     "name": "stdout",
     "output_type": "stream",
     "text": [
      "MSE: 0.375\n"
     ]
    }
   ],
   "execution_count": 4
  },
  {
   "cell_type": "code",
   "id": "initial_id",
   "metadata": {
    "collapsed": true,
    "ExecuteTime": {
     "end_time": "2025-05-19T18:15:39.046732Z",
     "start_time": "2025-05-19T18:15:39.043863Z"
    }
   },
   "source": [
    "# MAE (Mean Absolute Error): Promedio de los valores absolutos de los errores.\n",
    "print(f\"MAE: {mae}\")"
   ],
   "outputs": [
    {
     "name": "stdout",
     "output_type": "stream",
     "text": [
      "MAE: 0.5\n"
     ]
    }
   ],
   "execution_count": 5
  },
  {
   "metadata": {
    "ExecuteTime": {
     "end_time": "2025-05-19T18:15:39.062314Z",
     "start_time": "2025-05-19T18:15:39.059973Z"
    }
   },
   "cell_type": "code",
   "source": [
    "# RMSE (Root Mean Squared Error): Raíz cuadrada del valor MSE, proporciona la magnitud promedio del error en las mismas unidades de los datos.\n",
    "print(f\"RMSE: {rmse}\")"
   ],
   "id": "3316e8129f7e9ca4",
   "outputs": [
    {
     "name": "stdout",
     "output_type": "stream",
     "text": [
      "RMSE: 0.6123724356957945\n"
     ]
    }
   ],
   "execution_count": 6
  },
  {
   "metadata": {
    "ExecuteTime": {
     "end_time": "2025-05-19T18:15:39.083119Z",
     "start_time": "2025-05-19T18:15:39.079883Z"
    }
   },
   "cell_type": "code",
   "source": [
    "# R-Squared (Coeficiente de Determinación): Medida de qué tan bien el modelo explica la variabilidad de los datos; un valor cercano a 1 indica un buen ajuste.\n",
    "print(f\"R-Squared: {r_squared}\")"
   ],
   "id": "f4f075c6d88d513d",
   "outputs": [
    {
     "name": "stdout",
     "output_type": "stream",
     "text": [
      "R-Squared: 0.9486081370449679\n"
     ]
    }
   ],
   "execution_count": 7
  },
  {
   "metadata": {},
   "cell_type": "markdown",
   "source": [
    "# Tarea Árbol de Decisión\n",
    "\n",
    "\n",
    "\n",
    "| **Métrica** | **Fórmula** | **Definición** | **Aplicación** |\n",
    "|-------------|-------------|----------------|----------------|\n",
    "| **MSE (Mean Squared Error)** | $$MSE = \\frac{1}{n} \\sum_{i=1}^{n} (y_i - \\hat{y}_i)^2$$ | Promedio del cuadrado de los errores. Penaliza más los errores grandes. | Muy usada en regresión. Útil cuando se quiere castigar fuertemente los errores grandes. |\n",
    "| **MAE (Mean Absolute Error)** | $$MAE = \\frac{1}{n} \\sum_{i=1}^{n} |y_i - \\hat{y}_i|$$ | Promedio del valor absoluto de los errores. Más robusta ante valores atípicos. | Útil cuando se desea una métrica más interpretable y menos sensible a outliers. |\n",
    "| **RMSE (Root Mean Squared Error)** | $$RMSE = \\sqrt{\\frac{1}{n} \\sum_{i=1}^{n} (y_i - \\hat{y}_i)^2}$$ | Raíz cuadrada del MSE. Tiene las mismas unidades que la variable objetivo. | Similar al MSE pero más interpretable. Muy usada en evaluación de modelos de regresión. |\n",
    "| **R² (R-Squared o Coeficiente de Determinación)** | $$R^2 = 1 - \\frac{\\sum (y_i - \\hat{y}_i)^2}{\\sum (y_i - \\bar{y})^2}$$ | Proporción de la varianza explicada por el modelo. Varía entre 0 y 1 (o puede ser negativa si el modelo es muy malo). | Evalúa qué tan bien el modelo explica la variabilidad de los datos. Muy común en regresión. |\n"
   ],
   "id": "ac3fbe08e98f4d5"
  }
 ],
 "metadata": {
  "kernelspec": {
   "display_name": "Python 3",
   "language": "python",
   "name": "python3"
  },
  "language_info": {
   "codemirror_mode": {
    "name": "ipython",
    "version": 2
   },
   "file_extension": ".py",
   "mimetype": "text/x-python",
   "name": "python",
   "nbconvert_exporter": "python",
   "pygments_lexer": "ipython2",
   "version": "2.7.6"
  }
 },
 "nbformat": 4,
 "nbformat_minor": 5
}
