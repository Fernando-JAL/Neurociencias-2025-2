{
 "cells": [
  {
   "metadata": {},
   "cell_type": "markdown",
   "source": [
    "## Anette Hernández\n",
    "\n",
    "### MSE (mean squared error):\n",
    "- Se calcula como la media de los errores al cuadrado. Se usa en modelos de regresión para evaluar qé an lejos están las predicciones de los valores reales.\n",
    "\n",
    "Fórmula:\n",
    "\n",
    "\n",
    "<img src=\"Captura de pantalla 2025-05-12 172746.png\" width=\"400\">\n",
    "\n",
    "### MAE (mean absolute error):\n",
    "- Es la media de los errores absolutos. Se aplica en problemas de regresión cuando se quiere interpretar el error en unidades originales isn penalizar grandes errores más pequeños.\n",
    "Fómula:\n",
    "\n",
    "<img src=\"Captura de pantalla 2025-05-12 173720.png\" width=\"400\">\n",
    "\n",
    "### RMSE (root mean squared error):\n",
    "- Es la media de los errores absolutos. Se usa cuando se quiere dar más peso a errores grandes y tener una métruca en la misma escala que los valores originales.\n",
    "Fórmula:\n",
    "\n",
    "<img src=\"Captura de pantalla 2025-05-12 173031.png\" width=\"400\">\n",
    "\n",
    "### R-squared (coeficiente de determinación)\n",
    "- Indica qué porcentaje de la variabilidad de los datos es explicada por el modelo. Se usa para evaluar la calidad del ajuste de un modelo de regresión.\n",
    "Fórmula:\n",
    "\n",
    "<img src=\"Captura de pantalla 2025-05-12 173720.png\" width=\"400\">"
   ],
   "id": "3f515be3b72fbad3"
  },
  {
   "metadata": {},
   "cell_type": "code",
   "outputs": [],
   "execution_count": null,
   "source": "",
   "id": "b33ea0c9d542401b"
  }
 ],
 "metadata": {
  "kernelspec": {
   "display_name": "Python 3",
   "language": "python",
   "name": "python3"
  },
  "language_info": {
   "codemirror_mode": {
    "name": "ipython",
    "version": 2
   },
   "file_extension": ".py",
   "mimetype": "text/x-python",
   "name": "python",
   "nbconvert_exporter": "python",
   "pygments_lexer": "ipython2",
   "version": "2.7.6"
  }
 },
 "nbformat": 4,
 "nbformat_minor": 5
}
