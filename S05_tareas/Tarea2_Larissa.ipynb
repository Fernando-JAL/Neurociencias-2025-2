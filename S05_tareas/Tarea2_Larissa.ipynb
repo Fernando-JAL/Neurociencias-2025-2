{
 "cells": [
  {
   "cell_type": "markdown",
   "id": "62f25937-c2f3-4394-88f8-3bf476ffb223",
   "metadata": {},
   "source": [
    "# Investigar la fórmula, definición y en qué se aplican las siguientes fórmulas para calcular el error.\n",
    "Larissa Rodríguez Millán ared"
   ]
  },
  {
   "cell_type": "markdown",
   "id": "f1aed411-2724-4c94-8d82-a282e2b70c7d",
   "metadata": {},
   "source": [
    "### MSE (Mean Squared Error) "
   ]
  },
  {
   "cell_type": "markdown",
   "id": "bfe4373b-5adf-448f-bcf7-10970184edbe",
   "metadata": {},
   "source": [
    "**Fórmula:**\r\n",
    "\r\n",
    "$$\r\n",
    "\\text{MSE} = \\frac{1}{n} \\sum_{i=1}^{n} (y_i - \\hat{y}_i)^2\r\n",
    "$$\r\n",
    "\r\n",
    "**¿Qué significa?**  \r\n",
    "Esta fórmula calcula el promedio de los errores al cuadrado. Es decir, mide cuánto se están equivocando nuestras predicciones, pero eleva al cuadrado cada diferencia para que los errores grandes tengan más peso. Me gusta porque resalta si un modelo está fallando mucho en algunos casos.\r\n",
    "\r\n",
    "**¿Para qué sirve?**  \r\n",
    "Por ejemplo, si estoy usando regresión para predecir el volumen del hipocampo con base en datos clínicos o genéticos, el MSE me puede decir qué tan lejos están mis predicciones de los valores reales.es reales."
   ]
  },
  {
   "cell_type": "markdown",
   "id": "a1239b13-cd62-4542-8b03-5a2628c39993",
   "metadata": {},
   "source": [
    "### MAE (Mean Absolute Error)"
   ]
  },
  {
   "cell_type": "markdown",
   "id": "25ad8f0c-6f4e-440b-916f-c27bc1231878",
   "metadata": {},
   "source": [
    "**Fórmula:**\r\n",
    "\r\n",
    "$$\r\n",
    "\\text{MAE} = \\frac{1}{n} \\sum_{i=1}^{n} |y_i - \\hat{y}_i|\r\n",
    "$$\r\n",
    "\r\n",
    "**¿Qué significa?**  \r\n",
    "Esta fórmula hace lo mismo que el MSE pero sin elevar al cuadrado. Solo toma la diferencia absoluta entre lo que predije y lo que realmente pasó. Es más fácil de interpretar porque es un promedio directo de los errores.\r\n",
    "\r\n",
    "**¿Para qué sirve?**  \r\n",
    "Sirve cuando quiero saber en promedio cuánto me estoy equivocando, sin que los errores grandes distorsionen tanto el resultado. Por ejemplo, al predecir tiempos de reacción o puntuaciones en pruebas de memoria.\r\n"
   ]
  },
  {
   "cell_type": "markdown",
   "id": "43f3b1da-5f4e-46e0-a74e-a62a98b36710",
   "metadata": {},
   "source": [
    "### RMSE (Root Mean Squared Error)"
   ]
  },
  {
   "cell_type": "markdown",
   "id": "2e7c4fb2-143f-4e2e-8864-c297c22bfe7e",
   "metadata": {},
   "source": [
    "**Fórmula:**\n",
    "\n",
    "$$\n",
    "\\text{RMSE} = \\sqrt{\\frac{1}{n} \\sum_{i=1}^{n} (y_i - \\hat{y}_i)^2}\n",
    "$$\n",
    "\n",
    "**¿Qué significa?**  \n",
    "Es básicamente el MSE, pero le saco raíz cuadrada al final. Esto hace que el error esté en las mismas unidades que la variable que estoy prediciendo, lo cual es más intuitivo.\n",
    "\n",
    "**¿Para qué sirve?**  \n",
    "Por ejemplo, si estoy prediciendo niveles de oxígeno cerebral o latencias en una tarea, el RMSE me da una medida clara de cuánto se desvía en promedio mi modelo, en las mismas unidades que esos datos.\n"
   ]
  },
  {
   "cell_type": "markdown",
   "id": "46c54787-c864-41a4-93cf-3c9336bf3bc7",
   "metadata": {},
   "source": [
    "### R-squared (Coeficiente de Determinación)"
   ]
  },
  {
   "cell_type": "markdown",
   "id": "c4542773-1320-40a3-932a-3bac84ff7a8c",
   "metadata": {},
   "source": [
    "**Fórmula:**\n",
    "\n",
    "$$\n",
    "R^2 = 1 - \\frac{\\sum_{i=1}^{n}(y_i - \\hat{y}_i)^2}{\\sum_{i=1}^{n}(y_i - \\bar{y})^2}\n",
    "$$\n",
    "\n",
    "**¿Qué significa?**  \n",
    "Este valor me dice qué tanto del comportamiento o fenómeno que estoy midiendo puede ser explicado por el modelo. Va de 0 a 1 (aunque puede ser negativo si el modelo es muy malo). Mientras más cerca esté de 1, mejor el modelo.\n",
    "\n",
    "**¿Para qué sirve?**  \n",
    "Es muy útil para ver si mi modelo realmente está capturando la relación entre variables. Por ejemplo, en estudios de conectividad cerebral, si trato de predecir una puntuación clínica a partir de la actividad de ciertas regiones, el R² me dice si tiene sentido lo que estoy haciendo.\n"
   ]
  }
 ],
 "metadata": {
  "kernelspec": {
   "display_name": "Python 3 (ipykernel)",
   "language": "python",
   "name": "python3"
  },
  "language_info": {
   "codemirror_mode": {
    "name": "ipython",
    "version": 3
   },
   "file_extension": ".py",
   "mimetype": "text/x-python",
   "name": "python",
   "nbconvert_exporter": "python",
   "pygments_lexer": "ipython3",
   "version": "3.12.4"
  }
 },
 "nbformat": 4,
 "nbformat_minor": 5
}
