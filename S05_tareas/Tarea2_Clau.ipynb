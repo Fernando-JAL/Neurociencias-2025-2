{
 "cells": [
  {
   "cell_type": "markdown",
   "id": "34193392-1c27-49e9-b1f1-bfbb0ec9988a",
   "metadata": {},
   "source": [
    "# Modelos Computacionales II\n",
    "# Tarea II.\n",
    "## Claudia Coutiño Vásquez"
   ]
  },
  {
   "cell_type": "markdown",
   "id": "8b278ff8-2cb2-4dee-9558-6a6c032b31fa",
   "metadata": {},
   "source": [
    "En tareas de regresión; se utilizan ciertas métricas para evaluar qué tan precisos son los modelos para predecir valores. Estas métricas cuantifican la diferencia entre los valores reales y los predichos, para sí determinar si el modelo es eficiente o requiere ajustes."
   ]
  },
  {
   "cell_type": "markdown",
   "id": "b0517f4e-36ad-401f-be4a-e62690b34f43",
   "metadata": {},
   "source": [
    "Investigar la fórmula, definición y en qué se aplican las siguientes fórmulas para calcular el error"
   ]
  },
  {
   "cell_type": "markdown",
   "id": "f5470066-987a-4ece-bd04-3fcbd54dbb5a",
   "metadata": {},
   "source": [
    "# MSE (Mean Squared Error)\r",
    "**Fórmula:**\n",
    "$$ \\text{MSE} = \\frac{1}{n} \\sum_{i=1}^{n} (y_i - \\hat{y}_i)^2 $$\r\n",
    "\n",
    "** \r\n",
    "\r\n",
    "Defini**Se miden los errores entre los valores reales y los predichos, se elevan al cuadrado y se promedian (como se elevan al cuadrado, los errores grandes son más penalizados -sensible a outliers-).\n",
    "\n",
    "**Aplicación**\n",
    "Se evalúa qué tan buenas son las predicciones del modelo de regresión (entre más bajo, mejor)\n",
    "- Sí penaliza errores grandes, la escala no es interpretableoutliers)."
   ]
  },
  {
   "cell_type": "markdown",
   "id": "d8097006-9b91-4f7d-a59a-eeaac1e3c662",
   "metadata": {},
   "source": [
    "# MAE (Mean Absolute Error)\n",
    "**Fórmula:**\n",
    "$$ \\text{MAE} = \\frac{1}{n} \\sum_{i=1}^{n} \\left| y_i - \\hat{y}_i \\right| $$\r\n",
    "\n",
    "**Definición:**\n",
    "Promedio del valor absoluto de los errores (todos se cuentan por igual, -no es sensible a valores extremos-)-\n",
    "\n",
    "**Aplicación**\n",
    "Mide la \"desviación\" del model\n",
    "- No penaliza errores grandes, la escala es interpretable\n"
   ]
  },
  {
   "cell_type": "markdown",
   "id": "bca63db7-3b70-4a21-804f-9e6fa4f06667",
   "metadata": {},
   "source": [
    "# RMSE (Root Mean Squared Error)\n",
    "**Fórmula:**\n",
    "$$ \\text{RMSE} = \\sqrt{ \\frac{1}{n} \\sum_{i=1}^{n} (y_i - \\hat{y}_i)^2 } $$\r\n",
    "\n",
    "**Definición:**\n",
    "Raíz cuadrada del MSE (mide el error promedio, pero en la misma unidad que la variable original)\n",
    "\n",
    "**Aplicación**\n",
    "Facilita interpretación (VS el MSE) porque está en la misma escala, pero penaliza los outlier\n",
    "- Sí penaliza errores grandes, la escala es interpretables"
   ]
  },
  {
   "cell_type": "markdown",
   "id": "7dca35aa-42ac-42c5-b976-cf68ac749718",
   "metadata": {},
   "source": [
    "# R-squared (Coeficiente de Determinación)\n",
    "**Fórmula:**\n",
    "$$ R^2 = 1 - \\frac{ \\sum_{i=1}^{n} (y_i - \\hat{y}_i)^2 }{ \\sum_{i=1}^{n} (y_i - \\bar{y})^2 } $$\r\n",
    "\n",
    "**Definición:**\n",
    "Indica la proporción de la variabilidad de los datos reales es explicada por el modelo.\n",
    "- Va de0 (el modelo no está explicando nada) a - (predicción perfecta)1\n",
    "\n",
    "**Aplicación**Qué tan bien el modelo de regresión explica los datos reales.\n",
    "- Escala de 0-1."
   ]
  },
  {
   "cell_type": "code",
   "execution_count": null,
   "id": "7ba250a5-cc29-4696-94db-176277d44abb",
   "metadata": {},
   "outputs": [],
   "source": []
  }
 ],
 "metadata": {
  "kernelspec": {
   "display_name": "Python 3 (ipykernel)",
   "language": "python",
   "name": "python3"
  },
  "language_info": {
   "codemirror_mode": {
    "name": "ipython",
    "version": 3
   },
   "file_extension": ".py",
   "mimetype": "text/x-python",
   "name": "python",
   "nbconvert_exporter": "python",
   "pygments_lexer": "ipython3",
   "version": "3.12.4"
  }
 },
 "nbformat": 4,
 "nbformat_minor": 5
}
