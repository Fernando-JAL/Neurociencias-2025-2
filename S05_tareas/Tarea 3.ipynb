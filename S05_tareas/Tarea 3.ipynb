{
 "cells": [
  {
   "cell_type": "markdown",
   "id": "7d1d4be2",
   "metadata": {},
   "source": [
    "Lista las diferencias entre tensorflow y python"
   ]
  },
  {
   "cell_type": "markdown",
   "id": "041c41c2",
   "metadata": {},
   "source": [
    "1. Naturaleza y Propósito\n",
    "\n",
    "Python es un lenguaje de programación de propósito general, creado por Guido van Rossum. Se usa en desarrollo web, análisis de datos, scripting, automatización y más.\n",
    "TensorFlow, en cambio, es un framework especializado en aprendizaje automático (ML) y deep learning, desarrollado por Google. Su objetivo principal es facilitar la creación, entrenamiento y despliegue de modelos de inteligencia artificial.\n",
    "2. Funcionalidad\n",
    "\n",
    "Python proporciona estructuras básicas como listas, diccionarios y bucles, pero requiere librerías adicionales (como NumPy o Pandas) para cálculos científicos avanzados.\n",
    "TensorFlow incluye herramientas específicas para computación tensorial (operaciones con matrices multidimensionales), diferenciación automática (esencial para entrenar redes neuronales) y módulos preconstruidos para visión por computadora (TF Vision) y procesamiento de lenguaje natural (TF Text).\n",
    "3. Rendimiento y Ejecución\n",
    "\n",
    "Python es un lenguaje interpretado, lo que lo hace más lento en operaciones numéricas intensivas. Sin embargo, librerías como NumPy optimizan parcialmente este problema.\n",
    "TensorFlow está diseñado para aprovechar hardware acelerado (GPUs y TPUs), ejecutando operaciones en C++ bajo el capó. Además, soporta computación distribuida, permitiendo entrenar modelos en múltiples dispositivos en paralelo.\n",
    "4. Uso en Machine Learning\n",
    "\n",
    "En Python puro, se necesitan librerías como Scikit-learn para algoritmos tradicionales de ML (regresión, clustering, etc.).\n",
    "TensorFlow está optimizado para deep learning, permitiendo construir redes neuronales complejas (CNN, RNN, Transformers) con APIs de alto nivel como Keras.\n",
    "5. Sintaxis y API\n",
    "\n",
    "Python utiliza una sintaxis estándar (bucles for, condicionales if, funciones def).\n",
    "TensorFlow introduce operaciones y objetos específicos, como tensores (tf.Tensor), capas de redes neuronales (tf.keras.layers.Dense) y herramientas para diferenciación automática (tf.GradientTape).\n",
    "6. Comunidad y Ecosistema\n",
    "\n",
    "Python tiene una comunidad enorme, con paquetes para casi cualquier aplicación (desarrollo web, ciencia de datos, automatización).\n",
    "TensorFlow cuenta con un ecosistema enfocado en IA, incluyendo herramientas como TensorBoard (visualización de modelos), TF Lite (para móviles y dispositivos embebidos) y TF Serving (despliegue en producción).\n",
    "7. Casos de Uso\n",
    "\n",
    "Python se emplea en aplicaciones generales, desde scripts simples hasta servidores web.\n",
    "TensorFlow se usa en proyectos avanzados de IA, como reconocimiento de imágenes, traducción automática, vehículos autónomos y sistemas de recomendación.\n",
    "Conclusión\n",
    "\n",
    "Python es un lenguaje flexible y ampliamente adoptado.\n",
    "TensorFlow es una librería que extiende Python para aplicaciones de machine learning y deep learning, ofreciendo optimizaciones y abstracciones específicas"
   ]
  }
 ],
 "metadata": {
  "kernelspec": {
   "display_name": "base",
   "language": "python",
   "name": "python3"
  },
  "language_info": {
   "name": "python",
   "version": "3.12.4"
  }
 },
 "nbformat": 4,
 "nbformat_minor": 5
}
