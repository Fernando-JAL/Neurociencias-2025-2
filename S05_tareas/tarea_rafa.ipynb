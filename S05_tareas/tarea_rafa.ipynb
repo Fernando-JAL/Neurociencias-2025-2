{
 "cells": [
  {
   "cell_type": "code",
   "execution_count": null,
   "metadata": {
    "vscode": {
     "languageId": "plaintext"
    }
   },
   "outputs": [],
   "source": [
    "# Árbol de decisión podado vs no podado en el set de Iris\n",
    "\n",
    "from sklearn.datasets import load_iris\n",
    "from sklearn.model_selection import train_test_split\n",
    "from sklearn.tree import DecisionTreeClassifier, plot_tree\n",
    "from sklearn.metrics import confusion_matrix, ConfusionMatrixDisplay\n",
    "import matplotlib.pyplot as plt\n",
    "\n",
    "# 1. Cargar dataset\n",
    "iris = load_iris()\n",
    "X = iris.data\n",
    "y = iris.target\n",
    "\n",
    "# 2. Dividir en entrenamiento y prueba\n",
    "X_train, X_test, y_train, y_test = train_test_split(X, y, test_size=0.3, random_state=42)\n",
    "\n",
    "# 3. Árbol de decisión sin podar (profundidad completa)\n",
    "clf_full = DecisionTreeClassifier(random_state=42)\n",
    "clf_full.fit(X_train, y_train)\n",
    "y_pred_full = clf_full.predict(X_test)\n",
    "\n",
    "# 4. Árbol de decisión podado (máx 3 niveles)\n",
    "clf_pruned = DecisionTreeClassifier(max_depth=3, random_state=42)\n",
    "clf_pruned.fit(X_train, y_train)\n",
    "y_pred_pruned = clf_pruned.predict(X_test)\n",
    "\n",
    "# 5. Matrices de confusión\n",
    "cm_full = confusion_matrix(y_test, y_pred_full)\n",
    "cm_pruned = confusion_matrix(y_test, y_pred_pruned)\n",
    "\n",
    "# 6. Mostrar árboles\n",
    "plt.figure(figsize=(12, 4))\n",
    "plt.subplot(1, 2, 1)\n",
    "plot_tree(clf_full, filled=True, feature_names=iris.feature_names, class_names=iris.target_names)\n",
    "plt.title(\"Árbol sin podar\")\n",
    "\n",
    "plt.subplot(1, 2, 2)\n",
    "plot_tree(clf_pruned, filled=True, feature_names=iris.feature_names, class_names=iris.target_names)\n",
    "plt.title(\"Árbol podado (max_depth=3)\")\n",
    "plt.tight_layout()\n",
    "plt.show()\n",
    "\n",
    "# 7. Mostrar matrices de confusión\n",
    "fig, axs = plt.subplots(1, 2, figsize=(10, 4))\n",
    "ConfusionMatrixDisplay(cm_full, display_labels=iris.target_names).plot(ax=axs[0], cmap='Blues')\n",
    "axs[0].set_title(\"Matriz sin podar\")\n",
    "ConfusionMatrixDisplay(cm_pruned, display_labels=iris.target_names).plot(ax=axs[1], cmap='Greens')\n",
    "axs[1].set_title(\"Matriz podado (prof. 3)\")\n",
    "plt.tight_layout()\n",
    "plt.show()"
   ]
  }
 ],
 "metadata": {
  "language_info": {
   "name": "python"
  }
 },
 "nbformat": 4,
 "nbformat_minor": 2
}
