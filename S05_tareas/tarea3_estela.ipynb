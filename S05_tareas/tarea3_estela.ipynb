{
 "cells": [
  {
   "cell_type": "markdown",
   "id": "459b68f3-b34d-4f81-a67c-ebdbb34e4736",
   "metadata": {},
   "source": [
    "## Tarea 3 \n",
    "### Estela Gil"
   ]
  },
  {
   "cell_type": "markdown",
   "id": "0c218932-ef37-4da4-a290-983dbbdb4a24",
   "metadata": {},
   "source": [
    "Tanto PyTorch como TensorFlow se utilizan para desarrollar modelos de IA y deep learning. \n",
    "\n",
    "Por un lado, Pytorch:\n",
    "* Tiene una estructura más intuitiva\n",
    "* Usa gráficos dinámicos => permite construir y modificar la estructura del modelo sobre la marcha\n",
    "* Suele utilizarse más en ámbitos académicos y de investigación\n",
    "\n",
    "Tensor Flow:\n",
    "* También implementa gráficos dinámicos (versiones nuevas)\n",
    "* Se integra con otras herramientas de producción => ofrece soluciones específicas para implementar modelos de IA fuera del entorno de desarrollo (servidores o dispositivos celulares)\n",
    "* Ampliamente usado en la industria"
   ]
  }
 ],
 "metadata": {
  "kernelspec": {
   "display_name": "Python 3 (ipykernel)",
   "language": "python",
   "name": "python3"
  },
  "language_info": {
   "codemirror_mode": {
    "name": "ipython",
    "version": 3
   },
   "file_extension": ".py",
   "mimetype": "text/x-python",
   "name": "python",
   "nbconvert_exporter": "python",
   "pygments_lexer": "ipython3",
   "version": "3.12.4"
  }
 },
 "nbformat": 4,
 "nbformat_minor": 5
}
