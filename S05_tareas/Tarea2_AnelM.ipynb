{
 "cells": [
  {
   "cell_type": "markdown",
   "id": "d6a549e8-d929-4efd-932c-dc673bbc1ec6",
   "metadata": {},
   "source": [
    "## Tarea: Métricas de desempeño para calcular error\n",
    "## Anel Mendiola Velasco\n",
    "## Investigar la fórmula, definición, en qué se aplican las siguientes fórmulas"
   ]
  },
  {
   "cell_type": "code",
   "execution_count": null,
   "id": "01cfd493-30ce-4bd1-8e1d-0e882d4be328",
   "metadata": {},
   "outputs": [],
   "source": []
  },
  {
   "cell_type": "markdown",
   "id": "5b95f8d8-98f0-4f0d-9293-a21acadfeed6",
   "metadata": {},
   "source": [
    "# MSE : Mean Squared Error (MSE) - Error cuadrático medio\n",
    "\n",
    "El MSE mide el promedio de los errores al cuadrado entre los valores reales y los valores predichos. Penaliza más los errores grandes que los pequeños\n",
    "\n",
    "$$MSE = \\frac{1}{n} \\sum_{i=1}^{n} (y_i - \\hat{y}_i)^2$$\n",
    "\n",
    "- 𝑦𝑖: Valor real\n",
    "- y^i: Valor predicho\n",
    "- n: número total de observaciones"
   ]
  },
  {
   "cell_type": "markdown",
   "id": "1a2e7188-15e5-468d-80ee-226227779680",
   "metadata": {},
   "source": [
    "# MAE : Mean Absolute Error\n",
    "\n",
    "El MAE calcula el promedio de las diferencias absolutas entre los valores reales y predichos. Es más robusto frente a outliers que el MSE.\n",
    "\n",
    "$$MAE = \\frac{1}{n} \\sum_{i=1}^{n} |y_i - \\hat{y}_i|$$"
   ]
  },
  {
   "cell_type": "markdown",
   "id": "40a80c3b-0c24-4e20-87d3-0aa288ce0fb1",
   "metadata": {},
   "source": [
    "# Root Mean Squared Error (RMSE) : Raíz del error cuadrático medio\n",
    "\n",
    "El RMSE es la raíz cuadrada del MSE. Tiene la ventaja de que está en las mismas unidades que la variable objetivo.\n",
    "\n",
    "$$RMSE = \\sqrt{MSE} = \\sqrt{\\frac{1}{n} \\sum_{i=1}^{n} (y_i - \\hat{y}_i)^2}$$"
   ]
  },
  {
   "cell_type": "markdown",
   "id": "4aec5234-78a6-4381-815d-322c9049c318",
   "metadata": {},
   "source": [
    "# R-Squared (R²) : Coeficiente de determinación\n",
    "\n",
    "El R² mide la proporción de la varianza de la variable dependiente que es explicada por el modelo. Un valor cercano a 1 indica un buen ajuste\n",
    "\n",
    "$$R^2 = 1 - \\frac{SS_{res}}{SS_{tot}}$$\n",
    "\n",
    "### Donde:\n",
    "\n",
    "- SSres → Suma de cuadrados del residuo (error del modelo)\n",
    "- SStot → Suma total de cuadrados (variabilidad de los datos con respecto a la media)"
   ]
  }
 ],
 "metadata": {
  "kernelspec": {
   "display_name": "Python 3 (ipykernel)",
   "language": "python",
   "name": "python3"
  },
  "language_info": {
   "codemirror_mode": {
    "name": "ipython",
    "version": 3
   },
   "file_extension": ".py",
   "mimetype": "text/x-python",
   "name": "python",
   "nbconvert_exporter": "python",
   "pygments_lexer": "ipython3",
   "version": "3.13.2"
  }
 },
 "nbformat": 4,
 "nbformat_minor": 5
}
