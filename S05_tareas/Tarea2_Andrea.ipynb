{
 "cells": [
  {
   "cell_type": "code",
   "execution_count": null,
   "id": "82b87cf1-16a2-455a-8f43-ef56a56bc814",
   "metadata": {},
   "outputs": [],
   "source": [
    "# Andrea Mercado Jiménez \n",
    "# Tarea 2\n",
    "# Investigar la fórmula, definición y en qué se aplican las siguientes fórmulas para calcular el error."
   ]
  },
  {
   "cell_type": "markdown",
   "id": "b6c24c5d-8f5b-4e06-a38a-0aa2de9ac823",
   "metadata": {},
   "source": [
    "### MSE – Mean Squared Error (Error Cuadrático Medio)\n",
    "**Fórmula:**\n",
    "\n",
    "$$ MSE = \\frac{1}{n} \\sum_{i=1}^{n} (y_i - \\hat{y}_i)^2 $$\n",
    "\n",
    "**Definición:**\n",
    "Mide el promedio de los errores al elevar al cuadrado la diferencia entre el valor real yi y el valor predicho yi. Penaliza más los errores grandes\n",
    "\n",
    "**Aplicación:**\n",
    "\n",
    "Muy utilizada en regresión.\n",
    "\n",
    "Buena para modelos que no deben cometer errores grandes (ej. precios, diagnósticos cuantitativos).\n",
    "\n",
    "Usada para comparar modelos: menor MSE indica mejor desempeño."
   ]
  },
  {
   "cell_type": "markdown",
   "id": "56453eaa-026c-4119-963b-488b36a3d0d9",
   "metadata": {},
   "source": [
    "### MAE – Mean Absolute Error (Error Absoluto Medio)\n",
    "**Fórmula:**\n",
    "\n",
    "$$ MAE = \\frac{1}{n} \\sum_{i=1}^{n} |y_i - \\hat{y}_i| $$\n",
    "\n",
    "**Definición:**\n",
    "Promedia el valor absoluto del error entre las predicciones y los valores reales, sin elevar al cuadrado.\n",
    "\n",
    "**Aplicación:**\n",
    "\n",
    "Más fácil de interpretar que MSE.\n",
    "\n",
    "Útil cuando quieres que todos los errores sean tratados por igual, sin penalizar tanto los más grandes."
   ]
  },
  {
   "cell_type": "markdown",
   "id": "6ac60ec5-d6fc-4e4d-8d9a-e10ecc8c9e46",
   "metadata": {},
   "source": [
    "### RMSE – Root Mean Squared Error (Raíz del Error Cuadrático Medio)\n",
    "**Fórmula:**\n",
    "\n",
    "$$ RMSE = \\sqrt{\\frac{1}{n} \\sum_{i=1}^{n} (y_i - \\hat{y}_i)^2} $$\n",
    "\n",
    "**Descripción:**\n",
    "Raíz cuadrada del MSE. Tiene la misma unidad que la variable predicha."
   ]
  },
  {
   "cell_type": "markdown",
   "id": "5b71bff4-9f8e-4dc2-8b5b-9e9ac9b6332b",
   "metadata": {},
   "source": [
    "### R-squared – Coeficiente de determinación (R²)\n",
    "**Fórmula:**\n",
    "\n",
    "$$ R^2 = 1 - \\frac{\\sum_{i=1}^{n} (y_i - \\bar{y})^2}{\\sum_{i=1}^{n} (y_i - \\hat{y}_i)^2} $$\n",
    "\n",
    "**Descripción:**\n",
    "Indica qué tanto del total de la variabilidad de los datos es explicada por el modelo."
   ]
  }
 ],
 "metadata": {
  "kernelspec": {
   "display_name": "Python 3 (ipykernel)",
   "language": "python",
   "name": "python3"
  },
  "language_info": {
   "codemirror_mode": {
    "name": "ipython",
    "version": 3
   },
   "file_extension": ".py",
   "mimetype": "text/x-python",
   "name": "python",
   "nbconvert_exporter": "python",
   "pygments_lexer": "ipython3",
   "version": "3.12.2"
  }
 },
 "nbformat": 4,
 "nbformat_minor": 5
}
