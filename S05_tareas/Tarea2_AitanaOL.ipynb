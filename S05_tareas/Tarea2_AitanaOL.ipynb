{
 "cells": [
  {
   "cell_type": "markdown",
   "id": "817e50d4-b849-45b4-90b8-a55409bffc14",
   "metadata": {},
   "source": [
    "# Tarea 2 - Métricas de desempeño para calcular error (modelos de regresión)\r",
    "Investigar la fórmula, definición  y en qué se aplican las siguientes fórmulas:\n",
    "1. MSE\n",
    "2. MAE\n",
    "3. RMSE\n",
    "4. R-squared\n",
    "\n"
   ]
  },
  {
   "cell_type": "markdown",
   "id": "3d7cf9c2-bc78-449e-8482-fc6887a45fc8",
   "metadata": {},
   "source": [
    "## 1. MSE (Mean Squared Error - Error Cuadrático Medio)"
   ]
  },
  {
   "cell_type": "markdown",
   "id": "fb8701c8-29bc-4541-a34b-bdc6d618d8b6",
   "metadata": {},
   "source": [
    "$$\n",
    "\\text{MSE} = \\frac{1}{n} \\sum_{i=1}^{n} (y_i - \\hat{y}_i)^2\n",
    "$$"
   ]
  },
  {
   "cell_type": "markdown",
   "id": "91c72b6e-11b6-401b-b20a-5ce916e0526c",
   "metadata": {},
   "source": [
    "* **Definición:**\n",
    "  Es el promedio del cuadrado de las diferencias entre los valores reales y los valores predichos, además penaliza fuertemente los errores grandes."
   ]
  },
  {
   "cell_type": "markdown",
   "id": "3d48a4e2-ea9a-44fc-b638-e2cb4c17785f",
   "metadata": {},
   "source": [
    "* **Aplicaciones:**\n",
    "    * Evaluar la precisión de modelos de regresión.\n",
    "    * Entrenamiento de redes neuronales como función de pérdida.\n",
    "    * Comparar distintos modelos para elegir el más preciso."
   ]
  },
  {
   "cell_type": "markdown",
   "id": "15744067-e94c-4071-bcf4-7abefb8e9744",
   "metadata": {},
   "source": [
    "## 2. MAE (Mean Absolute Error - Error Absoluto Medio)"
   ]
  },
  {
   "cell_type": "markdown",
   "id": "dfd062e5-705d-42d9-9806-9d51fea7d8cc",
   "metadata": {},
   "source": [
    "$$\n",
    "\\text{MAE} = \\frac{1}{n} \\sum_{i=1}^{n} |y_i - \\hat{y}_i|\n",
    "$$"
   ]
  },
  {
   "cell_type": "markdown",
   "id": "fd83c263-cb9c-4a89-b2d8-642675c5cb7a",
   "metadata": {},
   "source": [
    "* **Definición:** Es el promedio de los valores absolutos de las diferencias entre valores reales y predichos. Mide el error promedio sin importar la dirección del error."
   ]
  },
  {
   "cell_type": "markdown",
   "id": "8e3a9a66-7d61-49f3-806c-dc3a31ac82a6",
   "metadata": {},
   "source": [
    "* **Aplicaciones:**\n",
    "  * Evaluar modelos de regresión cuando se quiere minimizar errores sin penalizar excesivamente los valores extremos.\n",
    "  * Interpretación más intuitiva que el MSE (se mide en las mismas unidades que la variable original)."
   ]
  },
  {
   "cell_type": "markdown",
   "id": "41ecad26-9068-448f-9f6c-5ec4c4801d5f",
   "metadata": {},
   "source": [
    "## 3. RMSE (Root Mean Squared Error - Raíz del Error Cuadrático Medio)"
   ]
  },
  {
   "cell_type": "markdown",
   "id": "dba3a319-40fa-4348-bf30-2fea13e52dca",
   "metadata": {},
   "source": [
    "$$\n",
    "\\text{RMSE} = \\sqrt{ \\frac{1}{n} \\sum_{i=1}^{n} (y_i - \\hat{y}_i)^2 }\n",
    "$$"
   ]
  },
  {
   "cell_type": "markdown",
   "id": "4bc374e1-d8b7-4c30-86f2-6a6b1ecf88ea",
   "metadata": {},
   "source": [
    "* **Definición:**\n",
    "  Es la raíz cuadrada del MSE. Representa el error promedio entre predicciones y valores reales, en las mismas unidades que la variable de salida."
   ]
  },
  {
   "cell_type": "markdown",
   "id": "6957bfa7-28da-41aa-b435-1f5695190fb9",
   "metadata": {},
   "source": [
    "* Aplicaciones:\n",
    "  * Comparar la precisión de diferentes modelos regresivos.\n",
    "  * Cuando es importante penalizar más los errores grandes pero mantener la interpretabilidad en unidades originales."
   ]
  },
  {
   "cell_type": "markdown",
   "id": "416ec787-5a90-4c0d-bcf4-696f160ce24e",
   "metadata": {},
   "source": [
    "## 4. R² (R-squared - Coeficiente de Determinación)"
   ]
  },
  {
   "cell_type": "markdown",
   "id": "e6d4775e-8834-4a96-98bc-8bc6558aa709",
   "metadata": {},
   "source": [
    "$$\n",
    "R^2 = 1 - \\frac{ \\sum_{i=1}^{n} (y_i - \\hat{y}_i)^2 }{ \\sum_{i=1}^{n} (y_i - \\bar{y})^2 }\n",
    "$$"
   ]
  },
  {
   "cell_type": "markdown",
   "id": "eb50721e-7a78-42df-9c60-2230a355cea5",
   "metadata": {},
   "source": [
    "* **Definición:** Representa la proporción de la varianza de la variable dependiente que es explicada por el modelo. Su valor va de 0 a 1 (aunque puede ser negativo si el modelo es peor que simplemente predecir el promedio)."
   ]
  },
  {
   "cell_type": "markdown",
   "id": "478b11bb-fc9c-41ef-8868-8f3b49ea322e",
   "metadata": {},
   "source": [
    "* **Aplicaciones:**\n",
    "  * Evaluar qué tan bien un modelo explica los datos.\n",
    "  * Interpretación de calidad del ajuste: un R² alto indica que el modelo explica gran parte de la variabilidad de los datos."
   ]
  },
  {
   "cell_type": "code",
   "execution_count": null,
   "id": "80cfb051-975b-4be0-a77e-b21a963b645b",
   "metadata": {},
   "outputs": [],
   "source": []
  }
 ],
 "metadata": {
  "kernelspec": {
   "display_name": "Python 3 (ipykernel)",
   "language": "python",
   "name": "python3"
  },
  "language_info": {
   "codemirror_mode": {
    "name": "ipython",
    "version": 3
   },
   "file_extension": ".py",
   "mimetype": "text/x-python",
   "name": "python",
   "nbconvert_exporter": "python",
   "pygments_lexer": "ipython3",
   "version": "3.12.4"
  }
 },
 "nbformat": 4,
 "nbformat_minor": 5
}
