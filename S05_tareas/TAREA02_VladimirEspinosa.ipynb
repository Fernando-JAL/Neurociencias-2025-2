{
 "cells": [
  {
   "cell_type": "markdown",
   "id": "e0aabd33-1c1f-4dee-ab51-bc6f246e048e",
   "metadata": {},
   "source": [
    "# TAREA II: \n",
    "Investigar la fórmula, definición, en qué se aplican las siguientes fórmulas para calcular el error: MSE, MAE, RMSE y R-squareduared"
   ]
  },
  {
   "cell_type": "markdown",
   "id": "ab7fbc6d-34ad-4779-80f8-178554384576",
   "metadata": {},
   "source": [
    "# 1. MSE – Mean Squared Error (Error Cuadrático Medio)\n",
    "\n",
    "El Mean Squared Error (MSE), o error cuadrático medio, es una métrica ampliamente utilizada en estadística y análisis de datos que cuantifica la diferencia cuadrática media entre los valores previstos y los valores reales. Esta métrica es fundamental para la evaluación y selección de modelos en ciencia de datos, proporcionando un valor numérico claro que se puede utilizar para comparar diferentes modelos o algoritmos.\n",
    "\n",
    "### Formula\n",
    "\n",
    "![Mi imagen](C:\\Users\\vladi\\Downloads\\mse-photoaidcom-invert.png)\n",
    "\n",
    "Se calcula sumando las diferencias al cuadrado entre los valores observados y los valores previstos, y luego dividiendo esa suma por el número de observaciones."
   ]
  },
  {
   "cell_type": "markdown",
   "id": "be9abdf2-7a4d-43d9-835d-d29b82191b17",
   "metadata": {},
   "source": [
    "# 2. MAE – Mean Absolute Error (Error Absoluto Medio)\n",
    "\n",
    "Es el promedio de las diferencias absolutas entre los valores reales y los predichos. No penaliza tanto los errores grandes como el MSE. Es una medida que cuantifica la precisión de un modelo predictivo en aprendizaje automático. Se calcula como la media de las diferencias absolutas entre los valores reales y las predicciones\n",
    "\n",
    "### Formula\n",
    "![Mi imagen](C:\\Users\\vladi\\Downloads\\MAE-photoaidcom-invert.png)\n",
    "\n",
    "Aunque el MAE es una métrica valiosa, presenta algunas desventajas. No considera la variabilidad de los errores, lo que significa que no distingue entre errores pequeños y grandes, tratándolos todos de manera uniforme."
   ]
  },
  {
   "cell_type": "markdown",
   "id": "a6a2c640-d529-4259-a2ff-6729bf9b91d8",
   "metadata": {},
   "source": [
    "# 3. RMSE – Root Mean Squared Error (Raíz del Error Cuadrático Medio)\n",
    "\n",
    "Es simplemente la raíz cuadrada del MSE. También penaliza más los errores grandes, pero mantiene las unidades originales de la variable de salida. Es una medida comúnmente utilizada para evaluar la precisión de los modelos de predicción, representando la raíz cuadrada del segundo momento de la muestra de las diferencias entre los valores previstos y los valores observados.\n",
    "Hay que considerar que un RMSE con valor 0 indica que el modelo tiene un ajuste perfecto. Cuanto menor sea el RMSE,mejor será el modelo y sus predicciones.\n",
    "\n",
    "\n",
    "### Formula\n",
    "\n",
    "![Mi imagen](C:\\Users\\vladi\\Downloads\\b28f10_8d7f1a90e8b446d881b3858484f6c0d0~mv2.avif)nes."
   ]
  },
  {
   "cell_type": "markdown",
   "id": "d06b3d78-d676-4363-8ae3-91fe21280589",
   "metadata": {},
   "source": [
    " # 4. R² – Coeficiente de Determinación (R-squared)\n",
    "También conocido como prueba de bondad de ajuste, es una métrica que indica el rendimiento del modelo, nos indica que tanta variación tiene la variable dependiente que se puede predecir desde la variable independiente. En otras palabras, representa la fuerza del ajuste de que tan bien se ajusta el modelo a las observaciones reales que tenemos, sin embargo, no dice nada sobre el modelo en sí, no indica si es bueno malo, si los datos están sesgados o si hemos elegido el método correcto.\n",
    "\n",
    "\n",
    "### Formula\n",
    "![Imagen](C:\\Users\\vladi\\Downloads\\r2.avif)\n",
    "\n",
    " y i : valores de la variable dependiente\r\n",
    "\r\n",
    "ŷ i : valores predichos del modelo\r\n",
    "\r\n",
    "ȳ i : la media de y"
   ]
  }
 ],
 "metadata": {
  "kernelspec": {
   "display_name": "Python 3 (ipykernel)",
   "language": "python",
   "name": "python3"
  },
  "language_info": {
   "codemirror_mode": {
    "name": "ipython",
    "version": 3
   },
   "file_extension": ".py",
   "mimetype": "text/x-python",
   "name": "python",
   "nbconvert_exporter": "python",
   "pygments_lexer": "ipython3",
   "version": "3.12.4"
  }
 },
 "nbformat": 4,
 "nbformat_minor": 5
}
