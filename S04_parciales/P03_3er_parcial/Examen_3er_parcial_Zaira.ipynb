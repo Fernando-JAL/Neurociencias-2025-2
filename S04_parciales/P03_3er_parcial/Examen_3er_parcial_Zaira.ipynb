{
 "cells": [
  {
   "cell_type": "markdown",
   "id": "ded2ba6c-4d52-4e3e-bf58-81889bd3f033",
   "metadata": {},
   "source": [
    "# Examen 3er parcial. Examen teórico\n",
    "# ZAIRA VALENTINA AVILA LAZCANO\n",
    "### Responde cada una de las siguientes pregunas y sube tu examen como se indica:\n",
    "- Nombre del archivo Examen_3er_parcial_nombre\n",
    "- En la branch __main__\n",
    "- Dentro del folder S04_parciales/P03_3er_parcial\n",
    "- Subir el archivo antes de las 7pm del 19 de mayo"
   ]
  },
  {
   "metadata": {},
   "cell_type": "markdown",
   "source": "",
   "id": "3c6e58ef4b84604a"
  },
  {
   "cell_type": "markdown",
   "id": "4130e967-a61a-4b9b-8821-82a2e352b492",
   "metadata": {},
   "source": [
    "1. ¿Cuál es la diferencia entre métodos de aprendizaje supervisado y no supervisado?\n",
    "\n"
   ]
  },
  {
   "metadata": {
    "ExecuteTime": {
     "end_time": "2025-05-19T23:21:26.114725Z",
     "start_time": "2025-05-19T23:21:26.111936Z"
    }
   },
   "cell_type": "code",
   "source": "# En si los metodos de aprendizaje supervisado van a ser los que utilicen un conjunto de datos considerando que deben ser etiquetados justo para entrenar un modelo, en el cual cada entrada tendra en si una salida esperada conocida. ahora por otra parte, respecto a los metodos de aprendizaj no supervisado son los que van a trabajar con datos no etiquetados, los cuales van encontrando patrones, estructuras o agrupaciones inherentes en los datos.",
   "id": "7ac5b7fabb20227b",
   "outputs": [],
   "execution_count": 1
  },
  {
   "cell_type": "markdown",
   "id": "6042bf4b-77d4-4d81-97ff-2a41a72565d6",
   "metadata": {},
   "source": [
    "2. Observa los siguientes dataset dummies:\n",
    "3. \n",
    "##### - DATASET 1\n",
    "| ID | EEG\\_Δ (0.5–4Hz) | EEG\\_θ (4–8Hz) | EEG\\_α (8–12Hz) | EEG\\_β (12–30Hz) | EEG\\_γ (30–45Hz) | SleepStage |\n",
    "| -- | ---------------- | -------------- | --------------- | ---------------- | ---------------- | ---------- |\n",
    "| 1  | 12.1             | 8.4            | 4.7             | 3.1              | 0.5              | NREM1      |\n",
    "| 2  | 18.2             | 6.2            | 2.3             | 1.2              | 0.3              | NREM3      |\n",
    "| 3  | 10.5             | 7.8            | 5.5             | 3.2              | 0.4              | REM        |\n",
    "| 4  | 17.9             | 5.1            | 2.0             | 1.1              | 0.2              | NREM3      |\n",
    "| 5  | 9.7              | 9.5            | 6.1             | 3.5              | 0.6              | REM        |\n",
    "| 6  | 5.4              | 11.2           | 8.3             | 4.9              | 1.2              | Wake       |\n",
    "| 7  | 14.1             | 7.0            | 4.4             | 2.8              | 0.3              | NREM2      |\n",
    "| 8  | 6.2              | 10.7           | 7.9             | 4.1              | 0.9              | Wake       |\n",
    "| 9  | 11.0             | 8.1            | 5.2             | 3.0              | 0.4              | REM        |\n",
    "| 10 | 13.3             | 6.5            | 3.9             | 2.2              | 0.2              | NREM2      |\n",
    "\n",
    "##### - DATASET 2\n",
    "| ID | Conn\\_1 | Conn\\_2 | Conn\\_3 | Conn\\_4 | Conn\\_5 | Conn\\_6 | Conn\\_7 | Conn\\_8 | Conn\\_9 | Conn\\_10 |\n",
    "| -- | ------- | ------- | ------- | ------- | ------- | ------- | ------- | ------- | ------- | -------- |\n",
    "| 1  | 0.81    | 0.64    | 0.12    | -0.22   | 0.45    | 0.03    | 0.66    | 0.58    | 0.20    | 0.11     |\n",
    "| 2  | 0.35    | 0.57    | 0.14    | -0.18   | 0.52    | 0.07    | 0.59    | 0.50    | 0.18    | 0.09     |\n",
    "| 3  | 0.72    | 0.62    | 0.10    | -0.31   | 0.40    | 0.01    | 0.64    | 0.55    | 0.22    | 0.15     |\n",
    "| 4  | 0.11    | 0.33    | 0.05    | -0.12   | 0.60    | 0.08    | 0.55    | 0.47    | 0.12    | 0.02     |\n",
    "| 5  | 0.90    | 0.79    | 0.20    | -0.40   | 0.33    | -0.02   | 0.69    | 0.61    | 0.28    | 0.19     |\n",
    "| 6  | 0.77    | 0.68    | 0.13    | -0.25   | 0.49    | 0.00    | 0.60    | 0.53    | 0.24    | 0.13     |\n",
    "| 7  | 0.36    | 0.41    | 0.07    | -0.15   | 0.57    | 0.05    | 0.58    | 0.48    | 0.16    | 0.10     |\n",
    "| 8  | 0.80    | 0.70    | 0.17    | -0.28   | 0.42    | 0.02    | 0.63    | 0.56    | 0.26    | 0.18     |\n",
    "| 9  | 0.39    | 0.50    | 0.09    | -0.20   | 0.55    | 0.06    | 0.57    | 0.49    | 0.20    | 0.11     |\n",
    "| 10 | 0.85    | 0.73    | 0.18    | -0.35   | 0.38    | 0.01    | 0.67    | 0.60    | 0.27    | 0.17     |\n",
    "\n",
    "¿En cuál dataset se pueden aplicar métodos de Aprendizaje supervizado y en cuál métodos de Aprendizaje no supervizado? \n"
   ]
  },
  {
   "metadata": {
    "ExecuteTime": {
     "end_time": "2025-05-19T23:23:30.714777Z",
     "start_time": "2025-05-19T23:23:30.708070Z"
    }
   },
   "cell_type": "code",
   "source": [
    "# Dataset 1 \n",
    "# Bueno observando el #1 considero que se puede aplicar metodos de aprendizaje supervisado, esto porque contiene la columna \"SleepStage\", y en si pues actúa como datos etiquetados para clasificar resultados. & pues no se le podria aplicar el aprendizaje no supervisado, ya que este está etiquetado.\n",
    "# Dataset 2 \n",
    "# Por otra parte en el #2 en este si se podria aplicar aprendizaje no supervisado la razon es porque le falta algun tipo de etiqueta/columna, lo que en si le permitiria tareas de agrupación en clústeres o detección de patrones, teniendo en cuenta esto pues entonces diria que no se puede utilizar para el aprendizaje supervisado, ya que no hay resultados etiquetados. "
   ],
   "id": "6ca0fc79754ef7a8",
   "outputs": [],
   "execution_count": 3
  },
  {
   "metadata": {},
   "cell_type": "code",
   "outputs": [],
   "execution_count": null,
   "source": [
    "# Dataset 1: Aprendizaje superfisado: True, Aprendizaje no supervisado: False\n",
    "# Dataset 2: Aprendizaje supervisado: False, Aprendizaje no supervisado: True"
   ],
   "id": "b94f688cdb9b8137"
  },
  {
   "cell_type": "markdown",
   "id": "3808b37c-fee5-458b-b67f-a1f2518066a8",
   "metadata": {},
   "source": "3. ¿Cuál es la diferencia entre un problema de clasificación y uno de regresión?"
  },
  {
   "metadata": {},
   "cell_type": "code",
   "outputs": [],
   "execution_count": null,
   "source": [
    "#La diferencia que habria en un problema de clasificación vs uno de regresion, es que en el de clasificacion en si tiene como objetivo tratar de predecir alguna categoría/clase discreta esto para una entrada que se le de, por lo que su tipo de salida siempre va a pertenecer a un conjunto finito de clases/etiquetas. & ahor por otro lado el de regresion tiende a predecir un valor numérico basandose en las características de entrada.\n",
    "# En el de clasificacion pues tendriamos etiquetas/categorias, se usa arboles de decision, lo de la maquina de soporte vectorial y de este en si se evaluaria lo de la precision, el del f1-score.\n",
    "#& en fin en el de la regresion pues solo son como numeros osea de que 1, 1.5, etc. & pues en este se usaria regresiones lineales y se evaluaria lo de la MAE, MSE, R-square."
   ],
   "id": "cd9d6a22fbd61153"
  },
  {
   "cell_type": "markdown",
   "id": "d4325ac0-1360-4f40-a28a-9319432b09f4",
   "metadata": {},
   "source": [
    "4. ¿Cuál es la diferencia entre over-fitting y under-fitting?"
   ]
  },
  {
   "metadata": {},
   "cell_type": "code",
   "outputs": [],
   "execution_count": null,
   "source": [
    "#Una del overfitting es que este se va a presentar cuando el modelo es demasiado complejo, o sea de que se ajusta excesivamente a los tipos de datos de entrenamiento y por lo tanto va a perder capacidad de generalización. En cuanto al entrenamiento, en este el modelo si va a memorizar como tal los datos y en el underfitting ocurre que como se comento en clase, no va a aprender bien ni tampoco de los datos de entrenamiento. \n",
    "#En segundo lugar el underfitting va a ocurrir cuando el modelo sea demasiado simple o que este no se entrene lo suficiente, produciendo que exista falla en la captura de los patrones subyacentes de los datos."
   ],
   "id": "4d289425840b4288"
  },
  {
   "cell_type": "markdown",
   "id": "90ece0c8-e168-4e79-914f-b64c19fe7415",
   "metadata": {},
   "source": [
    "5. Observa la siguiente tabla con valores de accuracy en los dataset de entrenamiento y prueba\n",
    "\n",
    "| Ensayo | Accuracy Entrenamiento | Accuracy Prueba|\n",
    "| ------- | ---------------------- | ---------------|\n",
    "| 1       | 99%                    | 70%             |\n",
    "| 2       | 60%                    | 58%             |\n",
    "| 3       | 65%                    | 62%             |\n",
    "| 4       | 95%                    | 68%             |\n",
    "| 5       | 92%                    | 90%             |\n",
    "| 6       | 100%                   | 60%             |\n",
    "\n",
    "Basado en los valores anteriores, ¿qué ensayo dirías que corresponde a casos con over-fitting, under-fitting o balanceado?\n"
   ]
  },
  {
   "metadata": {},
   "cell_type": "code",
   "outputs": [],
   "execution_count": null,
   "source": [
    "#En esta parte lo acomodaria asi:\n",
    "# En el 1 seria overfitting por que en el accuracy entrenamiento fue muy alto (99%) y bajo en prueba.\n",
    "# Para el 2 tendria que ser underfitting ya que su accuracy es bajo y similar en los dos conjuntos.\n",
    "# Ahora el 3 seria underfitting pues su accuracy es bajo y tambien similar en ambos conjuntos.\n",
    "# En el 4 tendria que se overfitting por su accuracy alto en entrenamiento (95%) sin embargo para el de prueba fue bajo (68%).\n",
    "# En  cuanto al 5 diria que es balanceado por que su accuracy es alto y muy similar en ambos conjuntos.\n",
    "# & por ultimo el 6 tendria que ser overfitting por su accuracy perfecto en entrenamiento (100%) pero muy bajo en prueba (60%)."
   ],
   "id": "f5c02db54bc7b29"
  },
  {
   "cell_type": "markdown",
   "id": "4dd88221-0d38-407f-9281-5d2193be986c",
   "metadata": {},
   "source": [
    "6. Contesta lo siguiente\n",
    "\n",
    "    A.  Escribe las fórmulas de accuracy, precision, recall y f1-score\n",
    "   \n",
    "    B.  Con base a la siguiente tabla, calcula accuracy, precision, recall y f1-score\n",
    "\n",
    "|                   | Predicho Positivo | Predicho Negativo |\n",
    "| ----------------- | ----------------- | ----------------- |\n",
    "| **Real Positivo** | TP = 40           | FN = 10           |\n",
    "| **Real Negativo** | FP = 5            | TN = 45           |\n",
    "\n",
    "    C. A continuación tienes 3 descripciones de métricas en un problema de clasificación, indica a qué metrica corresponde\n",
    "| Descripción  | Métrica |\n",
    "| ----------------- |  ----------------- |\n",
    "| Proporción de predicciones correctas (tanto positivas como negativas) sobre el total de predicciones realizadas. | |\n",
    "| Porcentaje de verdaderos positivos identificados correctamente, respecto al total de positivos reales. | |\n",
    "| Porcentaje de aciertos entre los casos que el modelo predijo como positivos. | |\n"
   ]
  },
  {
   "metadata": {},
   "cell_type": "markdown",
   "source": "",
   "id": "c2ca1bdffd40eac8"
  },
  {
   "metadata": {
    "ExecuteTime": {
     "end_time": "2025-05-20T00:08:34.796183Z",
     "start_time": "2025-05-20T00:08:34.782787Z"
    }
   },
   "cell_type": "code",
   "source": [
    "#A.  Escribe las fórmulas de accuracy, precision, recall y f1-score\n",
    "#Para accuracy\n",
    "def accuracy(tp, tn, fp, fn):\n",
    "    return (tp + tn) / (tp + tn + fp + fn)\n",
    "#Precision\n",
    "def precision(tp, fp):\n",
    "    return tp / (tp + fp)\n",
    "#Recall\n",
    "def recall(tp, fn):\n",
    "    return tp / (tp + fn)\n",
    "#f1-score\n",
    "def f1_score(precision, recall):\n",
    "    return 2 * (precision * recall) / (precision + recall)"
   ],
   "id": "c67a3574d43a774d",
   "outputs": [],
   "execution_count": 7
  },
  {
   "metadata": {
    "ExecuteTime": {
     "end_time": "2025-05-20T00:08:36.771791Z",
     "start_time": "2025-05-20T00:08:36.762862Z"
    }
   },
   "cell_type": "code",
   "source": "#B.  Con base a la siguiente tabla, calcula accuracy, precision, recall y f1-score",
   "id": "e161da84c2fa043e",
   "outputs": [],
   "execution_count": 8
  },
  {
   "metadata": {},
   "cell_type": "markdown",
   "source": [
    "\n",
    "|                   | Predicho Positivo | Predicho Negativo |\n",
    "| ----------------- | ----------------- | ----------------- |\n",
    "| **Real Positivo** | TP = 40           | FN = 10           |\n",
    "| **Real Negativo** | FP = 5            | TN = 45           |"
   ],
   "id": "976802b3cd771118"
  },
  {
   "metadata": {
    "ExecuteTime": {
     "end_time": "2025-05-20T00:11:08.530668Z",
     "start_time": "2025-05-20T00:11:08.522382Z"
    }
   },
   "cell_type": "code",
   "outputs": [
    {
     "data": {
      "text/plain": [
       "(0.85, 0.8888888888888888, 0.8, 0.8421052631578948)"
      ]
     },
     "execution_count": 11,
     "metadata": {},
     "output_type": "execute_result"
    }
   ],
   "execution_count": 11,
   "source": [
    "TP, FN, FP, TN = 40, 10, 5, 45\n",
    "\n",
    "def accuracy(tp, tn, fp, fn):\n",
    "    return (tp + tn) / (tp + tn + fp + fn)\n",
    "\n",
    "def precision(tp, fp):\n",
    "    return tp / (tp + fp)\n",
    "\n",
    "def recall(tp, fn):\n",
    "    return tp / (tp + fn)\n",
    "\n",
    "def f1_score(precision, recall):\n",
    "    return 2 * (precision * recall) / (precision + recall)\n",
    "\n",
    "acc = accuracy(TP, TN, FP, FN)\n",
    "prec = precision(TP, FP)\n",
    "rec = recall(TP, FN)\n",
    "f1 = f1_score(prec, rec)\n",
    "\n",
    "acc, prec, rec, f1"
   ],
   "id": "dd858ec4a8d0f22b"
  },
  {
   "metadata": {},
   "cell_type": "code",
   "outputs": [],
   "execution_count": null,
   "source": "# C. A continuación tienes 3 descripciones de métricas en un problema de clasificación, indica a qué metrica corresponde",
   "id": "fa6fe9c7fd48a05f"
  },
  {
   "metadata": {},
   "cell_type": "markdown",
   "source": [
    "\n",
    "| Descripción  | Métrica |\n",
    "| ----------------- |  ----------------- |\n",
    "| Proporción de predicciones correctas (tanto positivas como negativas) sobre el total de predicciones realizadas. | |\n",
    "| Porcentaje de verdaderos positivos identificados correctamente, respecto al total de positivos reales. | |\n",
    "| Porcentaje de aciertos entre los casos que el modelo predijo como positivos. | |"
   ],
   "id": "d6bb84365f792f0d"
  },
  {
   "metadata": {},
   "cell_type": "code",
   "outputs": [],
   "execution_count": null,
   "source": [
    "# Metrica: Accuracy = Proporción de predicciones correctas (tanto positivas como negativas) sobre el total de predicciones realizadas.\n",
    "# Metrica: Recall = Porcentaje de verdaderos positivos identificados correctamente, respecto al total de positivos reales.\n",
    "# Metrica: Precision = Porcentaje de aciertos entre los casos que el modelo predijo como positivos."
   ],
   "id": "745389a89f10beb1"
  },
  {
   "cell_type": "markdown",
   "id": "736806df-c173-429f-93ff-35fd7bd20155",
   "metadata": {},
   "source": [
    "7. A continuación se presentan varias características de algoritmos de Machine Learning supervisado.\n",
    "Indica a qué método corresponde cada una de las siguientes afirmaciones:\n",
    "\n",
    "A) Análisis Discriminante\n",
    "\n",
    "B) Vecino más cercano (k-NN)\n",
    "\n",
    "C) Máquina de soporte vectorial (SVM)\n",
    "\n",
    "D) Árbol de decisión\n",
    "\n",
    "E) Bosques aleatorios\n",
    "\n",
    "| Nº | Característica                                                                                   | ¿A qué método pertenece?        |\n",
    "| -- | ------------------------------------------------------------------------------------------------ | ------------------------------- |\n",
    "| 1  | Asume que los datos de cada clase siguen una distribución normal (gaussiana)                     | |\n",
    "| 2  | No tiene fase de entrenamiento como tal; toda la predicción ocurre en tiempo real                | |\n",
    "| 3  | Busca el hiperplano que maximiza el margen entre clases                                          | |\n",
    "| 4  | Realiza múltiples divisiones binarias para clasificar los datos                                  | |\n",
    "| 5  | Es sensible a la escala de las características, especialmente cuando se usa distancia euclidiana | |\n",
    "| 6  | Utiliza funciones núcleo (kernel) para trabajar con datos no lineales                            | |\n",
    "| 7  | Calcula la probabilidad de pertenencia a una clase bajo modelos estadísticos                     | |\n",
    "| 8  | Clasifica observaciones comparándolas con las más cercanas en el espacio de características      | |\n",
    "| 9  | Utiliza múltiples árboles para reducir la varianza y mejorar la precisión                        | |\n",
    "| 10  | Puede sobreajustar fácilmente si el árbol es muy profundo                                       | |\n",
    "| 11  | Su versión más simple se basa en modelos lineales con varianzas iguales por clase               | |\n",
    "| 12  | Puede usar núcleos como RBF o polinomiales para separar clases de manera no lineal              | |\n",
    "| 13  | Tiende a mejorar la generalización comparado con un solo árbol                                  | |\n",
    "| 14 | Es altamente interpretativo cuando se trabaja con dos clases y pocos atributos                   | |\n",
    "| 15  | Es una combinación de muchos árboles construidos sobre subconjuntos aleatorios del conjunto de entrenamiento    | |\n"
   ]
  },
  {
   "metadata": {},
   "cell_type": "code",
   "outputs": [],
   "execution_count": null,
   "source": [
    "# 1= Análisis Discriminante\n",
    "# 2= Vecino más cercano (k-NN)\n",
    "# 3= Máquina de soporte vectorial (SVM)\n",
    "# 4= Árbol de decisión\n",
    "# 5= Vecino más cercano (k-NN)\n",
    "# 6= Máquina de soporte vectorial (SVM)\n",
    "# 7= Análisis Discriminante\n",
    "# 8= Vecino más cercano (k-NN)\n",
    "# 9= Bosques aleatorios\n",
    "# 10= Árbol de decisión\n",
    "# 11= Análisis Discriminante\n",
    "# 12= Máquina de soporte vectorial (SVM\n",
    "# 13= Bosques aleatorios\n",
    "# 14= Árbol de decisión\n",
    "# 15= Bosques aleatorios"
   ],
   "id": "79bd725e368de04b"
  },
  {
   "cell_type": "markdown",
   "id": "bf603654-e3c7-4711-8be6-35ae4902fd8b",
   "metadata": {},
   "source": [
    "8. ¿Cuál es la diferencia entre Perceptron, Red Neuronal Artificial y Red Neuronal Convolucional?"
   ]
  },
  {
   "metadata": {},
   "cell_type": "code",
   "outputs": [],
   "execution_count": null,
   "source": [
    "#El perceptron modula la forma de la neurona, el producto punto, conocer entrada y salida, entrenar a omega. & tiene la capacidad de ser entrenado. \n",
    "#La red neuronal artificial consiste en multiples capas de neuronas artificiales interconectadas, esta se utiliza para la clasificaciuon de datos, regresion y procesamiento de informacion compleja.\n",
    "#En cuanto a la red neuronal convolucional, se especializa en los resultados espaciales, por ejemplo en el procesamiento de datos espaciales como imágenes. & utilizan filtros convuncionales.\n",
    "#En fin el perceptron=una sola neurona, la red neuronal artificial=varias capas de neuronas: entrada, oculta y salidas, y la red neuronal convolucional= capas convolucionales: agrupamiento y densas.\n"
   ],
   "id": "b3252c382fd8597c"
  },
  {
   "cell_type": "markdown",
   "id": "b819f562-bab7-4d72-888b-9c23d9011da3",
   "metadata": {},
   "source": [
    "9. En el contexto de aprendizaje de una red neuronal, ¿qué es un epoch?"
   ]
  },
  {
   "metadata": {},
   "cell_type": "code",
   "outputs": [],
   "execution_count": null,
   "source": [
    "# El epoch es un ciclo completo por el cual el modelo procese todo el conjunto de datos de entrenamiento. \n",
    "# A demas, cuando el modelo pasa por múltiples epochs, lo hace para aprender patrones en los datos.\n"
   ],
   "id": "b5e29599e50f6608"
  },
  {
   "cell_type": "markdown",
   "id": "345ab87c-2cea-485c-b1df-5607b4581ddf",
   "metadata": {},
   "source": [
    "10. Lista las principales funciones de activación y describe la diferencia entre las funciones sigmoid y softmax"
   ]
  },
  {
   "metadata": {},
   "cell_type": "code",
   "outputs": [],
   "execution_count": null,
   "source": [
    "#Sigmoid = para problemas de clasificación binaria\n",
    "#Softmax =  clasificación multiclase\n"
   ],
   "id": "802409173f3558f2"
  },
  {
   "cell_type": "code",
   "execution_count": null,
   "id": "803d1e2f-5cb2-49b8-9317-f88442ba66f7",
   "metadata": {},
   "outputs": [],
   "source": []
  }
 ],
 "metadata": {
  "kernelspec": {
   "display_name": "Python 3 (ipykernel)",
   "language": "python",
   "name": "python3"
  },
  "language_info": {
   "codemirror_mode": {
    "name": "ipython",
    "version": 3
   },
   "file_extension": ".py",
   "mimetype": "text/x-python",
   "name": "python",
   "nbconvert_exporter": "python",
   "pygments_lexer": "ipython3",
   "version": "3.10.4"
  }
 },
 "nbformat": 4,
 "nbformat_minor": 5
}
