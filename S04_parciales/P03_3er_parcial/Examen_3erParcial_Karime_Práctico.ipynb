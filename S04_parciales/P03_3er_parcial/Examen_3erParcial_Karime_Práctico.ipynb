{
 "cells": [
  {
   "metadata": {},
   "cell_type": "markdown",
   "source": "## Examen Práctico - Karime Jiménez Romero",
   "id": "615a46ccab7d5afa"
  },
  {
   "metadata": {
    "ExecuteTime": {
     "end_time": "2025-05-27T02:49:35.365587Z",
     "start_time": "2025-05-27T02:49:35.342600Z"
    }
   },
   "cell_type": "code",
   "source": [
    "import pandas as pd\n",
    "import numpy as np\n",
    "import matplotlib.pyplot as plt\n",
    "import os\n",
    "from PIL import Image\n",
    "import tensorflow as tf\n",
    "from sklearn.model_selection import train_test_split\n",
    "from tensorflow.keras.utils import to_categorical\n",
    "from tensorflow.keras.models import Sequential\n",
    "from tensorflow.keras.models import load_model\n",
    "from tensorflow.keras.layers import Conv2D, MaxPooling2D, Flatten, Dense, Dropout\n",
    "from tensorflow.keras.optimizers import Adam\n",
    "from tensorflow.keras.layers import LeakyReLU\n",
    "from tensorflow.keras.models import load_model"
   ],
   "id": "5147c8030fbf2475",
   "outputs": [],
   "execution_count": 75
  },
  {
   "metadata": {
    "ExecuteTime": {
     "end_time": "2025-05-27T02:49:36.736809Z",
     "start_time": "2025-05-27T02:49:36.529810Z"
    }
   },
   "cell_type": "code",
   "source": [
    "brain_path = r\"C:\\Users\\karim\\OneDrive\\Documentos\\Neurociencias-2025-2\\S03_datasets\\Brain_tumor\\Brain Tumor\\Brain Tumor\"\n",
    "brain_csv = pd.read_csv(r\"C:\\Users\\karim\\OneDrive\\Documentos\\Neurociencias-2025-2\\S03_datasets\\Brain_tumor\\Brain Tumor.csv\")"
   ],
   "id": "71490adee6c565f7",
   "outputs": [],
   "execution_count": 76
  },
  {
   "metadata": {
    "ExecuteTime": {
     "end_time": "2025-05-27T02:49:37.953789Z",
     "start_time": "2025-05-27T02:49:37.850091Z"
    }
   },
   "cell_type": "code",
   "source": [
    "brain_csv['Image'] = brain_csv['Image'].astype(str) + \".jpg\" #extensión\n",
    "brain_csv['filepath'] = brain_csv['Image'].apply(lambda x: os.path.join(brain_path, x))\n",
    "brain_csv['Class'] = pd.to_numeric(brain_csv['Class'], errors='coerce')\n",
    "\n",
    "# dataset\n",
    "filepaths = brain_csv['filepath'].values\n",
    "labels = brain_csv['Class'].values\n",
    "\n",
    "dataset = tf.data.Dataset.from_tensor_slices((filepaths, labels))"
   ],
   "id": "125c3a4afc861241",
   "outputs": [],
   "execution_count": 77
  },
  {
   "metadata": {
    "ExecuteTime": {
     "end_time": "2025-05-27T02:49:39.532222Z",
     "start_time": "2025-05-27T02:49:39.448361Z"
    }
   },
   "cell_type": "code",
   "source": [
    "def load_image(filepath, label):\n",
    "    image = tf.io.read_file(filepath)\n",
    "    image = tf.image.decode_jpeg(image, channels=3)\n",
    "    image = tf.image.convert_image_dtype(image, tf.float32)\n",
    "    image = tf.image.resize(image, [128, 128])\n",
    "    return image, label\n",
    "\n",
    "dataset = dataset.map(load_image, num_parallel_calls=tf.data.AUTOTUNE)"
   ],
   "id": "c146676061d0f7cf",
   "outputs": [],
   "execution_count": 78
  },
  {
   "metadata": {
    "ExecuteTime": {
     "end_time": "2025-05-27T02:49:40.654108Z",
     "start_time": "2025-05-27T02:49:40.601189Z"
    }
   },
   "cell_type": "code",
   "source": [
    "total = len(filepaths)\n",
    "train_size = int(0.8 * total)\n",
    "train_dataset = (\n",
    "    dataset.take(train_size)\n",
    "    .shuffle(1000)\n",
    "    .batch(32)\n",
    "    .prefetch(tf.data.AUTOTUNE)\n",
    ")\n",
    "\n",
    "val_dataset = (\n",
    "    dataset.skip(train_size)\n",
    "    .batch(32)\n",
    "    .prefetch(tf.data.AUTOTUNE)\n",
    ")"
   ],
   "id": "697914f0d3b6cdff",
   "outputs": [],
   "execution_count": 79
  },
  {
   "metadata": {},
   "cell_type": "markdown",
   "source": "1. Aplicar modelo CNN",
   "id": "7a7c5fc1cde0ea96"
  },
  {
   "metadata": {
    "ExecuteTime": {
     "end_time": "2025-05-27T02:54:06.357298Z",
     "start_time": "2025-05-27T02:54:02.181586Z"
    }
   },
   "cell_type": "code",
   "source": [
    "model = Sequential([\n",
    "    Conv2D(32, (3,3), activation='relu', input_shape =  (130,130,3)),\n",
    "    MaxPooling2D(2,2),\n",
    "\n",
    "    Conv2D(64, (3,3), activation = 'relu'),\n",
    "    MaxPooling2D(2,2),\n",
    "\n",
    "    Conv2D(128, (3,3), activation='relu'),\n",
    "    MaxPooling2D(2,2),\n",
    "\n",
    "    Flatten(),\n",
    "    Dense(120, activation = 'relu'),\n",
    "    Dropout(0.5),\n",
    "    Dense(1, activation = \"sigmoid\")\n",
    "])\n",
    "\n",
    "model.compile(\n",
    "    loss=\"binary_crossentropy\",\n",
    "    optimizer=Adam(learning_rate=0.001),\n",
    "    metrics=[\"accuracy\"]\n",
    ")"
   ],
   "id": "3c2d6b565d7089ca",
   "outputs": [
    {
     "name": "stderr",
     "output_type": "stream",
     "text": [
      "C:\\Users\\karim\\PycharmProjects\\pythonProject\\.venv\\Lib\\site-packages\\keras\\src\\layers\\convolutional\\base_conv.py:107: UserWarning: Do not pass an `input_shape`/`input_dim` argument to a layer. When using Sequential models, prefer using an `Input(shape)` object as the first layer in the model instead.\n",
      "  super().__init__(activity_regularizer=activity_regularizer, **kwargs)\n"
     ]
    }
   ],
   "execution_count": 82
  },
  {
   "metadata": {
    "ExecuteTime": {
     "end_time": "2025-05-27T03:01:30.796319Z",
     "start_time": "2025-05-27T02:54:08.343386Z"
    }
   },
   "cell_type": "code",
   "source": [
    "history = model.fit(\n",
    "    train_dataset,\n",
    "    epochs=5,\n",
    "    validation_data=val_dataset,\n",
    ")\n",
    "print(\"Accuracy\", history.history[\"val_accuracy\"][-1])"
   ],
   "id": "38b10da72215f817",
   "outputs": [
    {
     "name": "stdout",
     "output_type": "stream",
     "text": [
      "Epoch 1/5\n",
      "\u001B[1m95/95\u001B[0m \u001B[32m━━━━━━━━━━━━━━━━━━━━\u001B[0m\u001B[37m\u001B[0m \u001B[1m111s\u001B[0m 885ms/step - accuracy: 0.7508 - loss: 0.4951 - val_accuracy: 0.8167 - val_loss: 0.4166\n",
      "Epoch 2/5\n",
      "\u001B[1m95/95\u001B[0m \u001B[32m━━━━━━━━━━━━━━━━━━━━\u001B[0m\u001B[37m\u001B[0m \u001B[1m112s\u001B[0m 1s/step - accuracy: 0.8468 - loss: 0.3682 - val_accuracy: 0.7915 - val_loss: 0.4174\n",
      "Epoch 3/5\n",
      "\u001B[1m95/95\u001B[0m \u001B[32m━━━━━━━━━━━━━━━━━━━━\u001B[0m\u001B[37m\u001B[0m \u001B[1m74s\u001B[0m 758ms/step - accuracy: 0.7903 - loss: 0.4671 - val_accuracy: 0.8327 - val_loss: 0.3512\n",
      "Epoch 4/5\n",
      "\u001B[1m95/95\u001B[0m \u001B[32m━━━━━━━━━━━━━━━━━━━━\u001B[0m\u001B[37m\u001B[0m \u001B[1m73s\u001B[0m 753ms/step - accuracy: 0.8866 - loss: 0.2823 - val_accuracy: 0.7928 - val_loss: 0.4679\n",
      "Epoch 5/5\n",
      "\u001B[1m95/95\u001B[0m \u001B[32m━━━━━━━━━━━━━━━━━━━━\u001B[0m\u001B[37m\u001B[0m \u001B[1m72s\u001B[0m 743ms/step - accuracy: 0.9012 - loss: 0.2383 - val_accuracy: 0.8619 - val_loss: 0.3150\n",
      "Accuracy 0.8618857860565186\n"
     ]
    }
   ],
   "execution_count": 83
  },
  {
   "metadata": {
    "ExecuteTime": {
     "end_time": "2025-05-27T03:21:19.854424Z",
     "start_time": "2025-05-27T03:21:19.379174Z"
    }
   },
   "cell_type": "code",
   "source": [
    "plt.plot(history.history[\"accuracy\"], label='Entrenamiento')\n",
    "plt.plot(history.history['val_accuracy'], label='Validación')\n",
    "plt.xlabel(\"Epoch\")\n",
    "plt.ylabel('Precisión')\n",
    "plt.legend()\n",
    "plt.grid()\n",
    "plt.show()"
   ],
   "id": "c1175cc58f4f1f38",
   "outputs": [
    {
     "data": {
      "text/plain": [
       "<Figure size 640x480 with 1 Axes>"
      ],
      "image/png": "[encoded data removed]"
     },
     "metadata": {},
     "output_type": "display_data"
    }
   ],
   "execution_count": 95
  },
  {
   "metadata": {},
   "cell_type": "markdown",
   "source": "2. Mejorar modelo",
   "id": "a4196bfe05eb60cf"
  },
  {
   "metadata": {
    "ExecuteTime": {
     "end_time": "2025-05-27T00:59:16.446757Z",
     "start_time": "2025-05-27T00:59:15.000668Z"
    }
   },
   "cell_type": "code",
   "source": [
    "model2 = Sequential([\n",
    "    Conv2D(32, (3,3), activation=\"relu\", input_shape=(130,130,3)),\n",
    "    MaxPooling2D(2,2),\n",
    "\n",
    "    Conv2D(64, (3,3), activation=\"relu\"),\n",
    "    MaxPooling2D(2,2),\n",
    "\n",
    "    Conv2D(128, (3,3), activation=\"relu\"),\n",
    "    MaxPooling2D(2,2),\n",
    "\n",
    "    Conv2D(128, (3,3), activation=\"relu\"),\n",
    "    LeakyReLU(alpha=0.1),\n",
    "\n",
    "    Flatten(),\n",
    "    Dense(256, activation=\"relu\"),\n",
    "    Dropout(0.5),\n",
    "    Dense(1, activation=\"sigmoid\")\n",
    "])\n",
    "\n",
    "model2.compile(\n",
    "    optimizer=Adam(learning_rate=0.0005),\n",
    "    loss='binary_crossentropy',\n",
    "    metrics=['accuracy']\n",
    ")"
   ],
   "id": "1d30c97c5b5c1293",
   "outputs": [
    {
     "name": "stderr",
     "output_type": "stream",
     "text": [
      "C:\\Users\\karim\\PycharmProjects\\pythonProject\\.venv\\Lib\\site-packages\\keras\\src\\layers\\convolutional\\base_conv.py:107: UserWarning: Do not pass an `input_shape`/`input_dim` argument to a layer. When using Sequential models, prefer using an `Input(shape)` object as the first layer in the model instead.\n",
      "  super().__init__(activity_regularizer=activity_regularizer, **kwargs)\n",
      "C:\\Users\\karim\\PycharmProjects\\pythonProject\\.venv\\Lib\\site-packages\\keras\\src\\layers\\activations\\leaky_relu.py:41: UserWarning: Argument `alpha` is deprecated. Use `negative_slope` instead.\n",
      "  warnings.warn(\n"
     ]
    }
   ],
   "execution_count": 22
  },
  {
   "metadata": {
    "ExecuteTime": {
     "end_time": "2025-05-27T01:55:29.544049Z",
     "start_time": "2025-05-27T01:37:20.815296Z"
    }
   },
   "cell_type": "code",
   "source": [
    "history2 = model2.fit(\n",
    "    train_dataset,\n",
    "    epochs=10,\n",
    "    validation_data=val_dataset,\n",
    ")\n",
    "print(\"Accuracy mejorado\", history2.history[\"val_accuracy\"][-1])"
   ],
   "id": "38a0d42edca06c9b",
   "outputs": [
    {
     "name": "stdout",
     "output_type": "stream",
     "text": [
      "Epoch 1/10\n",
      "\u001B[1m95/95\u001B[0m \u001B[32m━━━━━━━━━━━━━━━━━━━━\u001B[0m\u001B[37m\u001B[0m \u001B[1m100s\u001B[0m 1s/step - accuracy: 0.9790 - loss: 0.0653 - val_accuracy: 0.9097 - val_loss: 0.2703\n",
      "Epoch 2/10\n",
      "\u001B[1m95/95\u001B[0m \u001B[32m━━━━━━━━━━━━━━━━━━━━\u001B[0m\u001B[37m\u001B[0m \u001B[1m73s\u001B[0m 750ms/step - accuracy: 0.9591 - loss: 0.1159 - val_accuracy: 0.9469 - val_loss: 0.1739\n",
      "Epoch 3/10\n",
      "\u001B[1m95/95\u001B[0m \u001B[32m━━━━━━━━━━━━━━━━━━━━\u001B[0m\u001B[37m\u001B[0m \u001B[1m106s\u001B[0m 1s/step - accuracy: 0.9900 - loss: 0.0361 - val_accuracy: 0.9482 - val_loss: 0.1703\n",
      "Epoch 4/10\n",
      "\u001B[1m95/95\u001B[0m \u001B[32m━━━━━━━━━━━━━━━━━━━━\u001B[0m\u001B[37m\u001B[0m \u001B[1m109s\u001B[0m 1s/step - accuracy: 0.9923 - loss: 0.0280 - val_accuracy: 0.9482 - val_loss: 0.2063\n",
      "Epoch 5/10\n",
      "\u001B[1m95/95\u001B[0m \u001B[32m━━━━━━━━━━━━━━━━━━━━\u001B[0m\u001B[37m\u001B[0m \u001B[1m118s\u001B[0m 1s/step - accuracy: 0.9894 - loss: 0.0379 - val_accuracy: 0.9482 - val_loss: 0.1691\n",
      "Epoch 6/10\n",
      "\u001B[1m95/95\u001B[0m \u001B[32m━━━━━━━━━━━━━━━━━━━━\u001B[0m\u001B[37m\u001B[0m \u001B[1m133s\u001B[0m 1s/step - accuracy: 0.9912 - loss: 0.0302 - val_accuracy: 0.9376 - val_loss: 0.2629\n",
      "Epoch 7/10\n",
      "\u001B[1m95/95\u001B[0m \u001B[32m━━━━━━━━━━━━━━━━━━━━\u001B[0m\u001B[37m\u001B[0m \u001B[1m156s\u001B[0m 2s/step - accuracy: 0.9977 - loss: 0.0106 - val_accuracy: 0.9535 - val_loss: 0.2167\n",
      "Epoch 8/10\n",
      "\u001B[1m95/95\u001B[0m \u001B[32m━━━━━━━━━━━━━━━━━━━━\u001B[0m\u001B[37m\u001B[0m \u001B[1m117s\u001B[0m 1s/step - accuracy: 0.9982 - loss: 0.0101 - val_accuracy: 0.9469 - val_loss: 0.2030\n",
      "Epoch 9/10\n",
      "\u001B[1m95/95\u001B[0m \u001B[32m━━━━━━━━━━━━━━━━━━━━\u001B[0m\u001B[37m\u001B[0m \u001B[1m92s\u001B[0m 933ms/step - accuracy: 0.9980 - loss: 0.0089 - val_accuracy: 0.9469 - val_loss: 0.2251\n",
      "Epoch 10/10\n",
      "\u001B[1m95/95\u001B[0m \u001B[32m━━━━━━━━━━━━━━━━━━━━\u001B[0m\u001B[37m\u001B[0m \u001B[1m84s\u001B[0m 875ms/step - accuracy: 0.9999 - loss: 0.0049 - val_accuracy: 0.9416 - val_loss: 0.3531\n",
      "Accuracy mejorado 0.941567063331604\n"
     ]
    }
   ],
   "execution_count": 29
  },
  {
   "metadata": {
    "ExecuteTime": {
     "end_time": "2025-05-27T03:21:33.025657Z",
     "start_time": "2025-05-27T03:21:32.797758Z"
    }
   },
   "cell_type": "code",
   "source": [
    "plt.plot(history2.history[\"accuracy\"], label='Entrenamiento')\n",
    "plt.plot(history2.history['val_accuracy'], label='Validación')\n",
    "plt.xlabel(\"Epoch\")\n",
    "plt.ylabel('Precisión')\n",
    "plt.legend()\n",
    "plt.grid()\n",
    "plt.show()"
   ],
   "id": "633cbce93ac1b56d",
   "outputs": [
    {
     "data": {
      "text/plain": [
       "<Figure size 640x480 with 1 Axes>"
      ],
      "image/png": "[encoded data removed]"
     },
     "metadata": {},
     "output_type": "display_data"
    }
   ],
   "execution_count": 96
  },
  {
   "metadata": {
    "ExecuteTime": {
     "end_time": "2025-05-27T01:58:21.942107Z",
     "start_time": "2025-05-27T01:58:15.582686Z"
    }
   },
   "cell_type": "code",
   "source": [
    "model.save(\"Modelo1.keras\")\n",
    "model2.save(\"Modelo2.keras\")"
   ],
   "id": "23bf6186794ec2d3",
   "outputs": [],
   "execution_count": 33
  },
  {
   "metadata": {
    "ExecuteTime": {
     "end_time": "2025-05-27T02:03:18.114871Z",
     "start_time": "2025-05-27T02:02:45.012545Z"
    }
   },
   "cell_type": "code",
   "source": [
    "# comparando modelos\n",
    "model = load_model(\"Modelo1.keras\")\n",
    "model2 = load_model(\"Modelo2.keras\")\n",
    "\n",
    "loss_1, acc_1 = model.evaluate(val_dataset, verbose=0)\n",
    "loss_2, acc_2 = model2.evaluate(val_dataset, verbose=0)"
   ],
   "id": "e6bdac12014110cd",
   "outputs": [],
   "execution_count": 37
  },
  {
   "metadata": {
    "ExecuteTime": {
     "end_time": "2025-05-27T02:04:49.555832Z",
     "start_time": "2025-05-27T02:04:48.578230Z"
    }
   },
   "cell_type": "code",
   "source": [
    "resultados = pd.DataFrame({\n",
    "    \"Modelos\":[\"Modelo base\", \"Modelo mejorado\"],\n",
    "    \"Accuracy\": [acc_1,acc_2]\n",
    "})\n",
    "print(resultados)"
   ],
   "id": "28381181341a967a",
   "outputs": [
    {
     "name": "stdout",
     "output_type": "stream",
     "text": [
      "           Modelos  Accuracy\n",
      "0      Modelo base  0.837981\n",
      "1  Modelo mejorado  0.941567\n"
     ]
    }
   ],
   "execution_count": 38
  },
  {
   "metadata": {},
   "cell_type": "markdown",
   "source": "3. Comparación entre modelos",
   "id": "dc073428f9b2880"
  },
  {
   "metadata": {
    "ExecuteTime": {
     "end_time": "2025-05-27T02:06:29.105100Z",
     "start_time": "2025-05-27T02:06:20.278515Z"
    }
   },
   "cell_type": "code",
   "source": [
    "from sklearn.preprocessing import StandardScaler\n",
    "from sklearn.svm import SVC\n",
    "from sklearn.neighbors import KNeighborsClassifier\n",
    "from sklearn.ensemble import RandomForestClassifier\n",
    "from sklearn.linear_model import LogisticRegression\n",
    "from sklearn.metrics import accuracy_score"
   ],
   "id": "9f47a3bc9f46b0f6",
   "outputs": [],
   "execution_count": 39
  },
  {
   "metadata": {
    "ExecuteTime": {
     "end_time": "2025-05-27T03:05:44.216366Z",
     "start_time": "2025-05-27T03:05:43.941075Z"
    }
   },
   "cell_type": "code",
   "source": [
    "X = brain_csv.drop(columns = [\"Image\", \"filepath\", \"Class\"])\n",
    "y = brain_csv [\"Class\"]\n",
    "X_train, X_val, y_train, y_val = train_test_split(X, y, test_size=0.2, random_state=42)"
   ],
   "id": "bfa99a4e254de840",
   "outputs": [],
   "execution_count": 85
  },
  {
   "metadata": {
    "ExecuteTime": {
     "end_time": "2025-05-27T03:11:13.998504Z",
     "start_time": "2025-05-27T03:11:12.594417Z"
    }
   },
   "cell_type": "code",
   "source": [
    "#Random Forest\n",
    "rf = RandomForestClassifier()\n",
    "rf.fit(X_train, y_train)\n",
    "y_pred = rf.predict(X_val)\n",
    "rf_acc = accuracy_score(y_val, y_pred)\n",
    "print(\"Accuracy RF:\", rf_acc)"
   ],
   "id": "6086643462c4fb9d",
   "outputs": [
    {
     "name": "stdout",
     "output_type": "stream",
     "text": [
      "Accuracy RF: 0.9814077025232404\n"
     ]
    }
   ],
   "execution_count": 90
  },
  {
   "metadata": {
    "ExecuteTime": {
     "end_time": "2025-05-27T03:11:15.724149Z",
     "start_time": "2025-05-27T03:11:15.071041Z"
    }
   },
   "cell_type": "code",
   "source": [
    "# SVM\n",
    "svm = SVC()\n",
    "svm.fit(X_train, y_train)\n",
    "svm_acc = accuracy_score(y_val, y_pred)\n",
    "print(\"Accuracy SVM:\", svm_acc)"
   ],
   "id": "90be0a2586a12112",
   "outputs": [
    {
     "name": "stdout",
     "output_type": "stream",
     "text": [
      "Accuracy SVM: 0.9814077025232404\n"
     ]
    }
   ],
   "execution_count": 91
  },
  {
   "metadata": {
    "ExecuteTime": {
     "end_time": "2025-05-27T03:11:19.201069Z",
     "start_time": "2025-05-27T03:11:16.800860Z"
    }
   },
   "cell_type": "code",
   "source": [
    "# Logistic Regression\n",
    "lr = LogisticRegression(max_iter=1000)\n",
    "lr.fit(X_train, y_train)\n",
    "lr_acc = accuracy_score(y_val, y_pred)\n",
    "print(\"Accuracy LR:\", lr_acc)"
   ],
   "id": "d8da4486731ed684",
   "outputs": [
    {
     "name": "stdout",
     "output_type": "stream",
     "text": [
      "Accuracy LR: 0.9814077025232404\n"
     ]
    },
    {
     "name": "stderr",
     "output_type": "stream",
     "text": [
      "C:\\Users\\karim\\PycharmProjects\\pythonProject\\.venv\\Lib\\site-packages\\sklearn\\linear_model\\_logistic.py:465: ConvergenceWarning: lbfgs failed to converge (status=1):\n",
      "STOP: TOTAL NO. OF ITERATIONS REACHED LIMIT.\n",
      "\n",
      "Increase the number of iterations (max_iter) or scale the data as shown in:\n",
      "    https://scikit-learn.org/stable/modules/preprocessing.html\n",
      "Please also refer to the documentation for alternative solver options:\n",
      "    https://scikit-learn.org/stable/modules/linear_model.html#logistic-regression\n",
      "  n_iter_i = _check_optimize_result(\n"
     ]
    }
   ],
   "execution_count": 92
  },
  {
   "metadata": {
    "ExecuteTime": {
     "end_time": "2025-05-27T03:12:12.220615Z",
     "start_time": "2025-05-27T03:12:12.082601Z"
    }
   },
   "cell_type": "code",
   "source": [
    "# KNN\n",
    "knn = KNeighborsClassifier()\n",
    "knn.fit(X_train, y_train)\n",
    "knn_acc = accuracy_score(y_val, y_pred)\n",
    "print(\"Accuracy KNN:\", knn_acc)"
   ],
   "id": "2e318f021f793a96",
   "outputs": [
    {
     "name": "stdout",
     "output_type": "stream",
     "text": [
      "Accuracy RF: 0.9814077025232404\n"
     ]
    }
   ],
   "execution_count": 93
  },
  {
   "metadata": {
    "ExecuteTime": {
     "end_time": "2025-05-27T03:20:22.905104Z",
     "start_time": "2025-05-27T03:20:21.367636Z"
    }
   },
   "cell_type": "code",
   "source": [
    "# graficar comparacion modelos\n",
    "models = [\"CNN1\", \"CNN2\", \"Random Forest\", \"SVM\", \"LR\", \"KNN\"]\n",
    "accuracies = [acc_1, acc_2, rf_acc, svm_acc, lr_acc, knn_acc]\n",
    "\n",
    "plt.figure(figsize=(8, 6))\n",
    "plt.bar(models, accuracies, color=[\"lightblue\", \"deeppink\", \"violet\", \"thistle\", \"pink\", \"coral\"])\n",
    "plt.ylim(0, 1)\n",
    "plt.xlabel('Modelos')\n",
    "plt.ylabel('Accuracy')\n",
    "plt.title(\"Comparación Accuracy\")\n",
    "plt.show()"
   ],
   "id": "2a21efb664ce5769",
   "outputs": [
    {
     "data": {
      "text/plain": [
       "<Figure size 800x600 with 1 Axes>"
      ],
      "image/png": "[encoded data removed]"
     },
     "metadata": {},
     "output_type": "display_data"
    }
   ],
   "execution_count": 94
  },
  {
   "metadata": {},
   "cell_type": "code",
   "outputs": [],
   "execution_count": null,
   "source": "",
   "id": "7bc725fca3b95680"
  }
 ],
 "metadata": {
  "kernelspec": {
   "display_name": "Python 3",
   "language": "python",
   "name": "python3"
  },
  "language_info": {
   "codemirror_mode": {
    "name": "ipython",
    "version": 2
   },
   "file_extension": ".py",
   "mimetype": "text/x-python",
   "name": "python",
   "nbconvert_exporter": "python",
   "pygments_lexer": "ipython2",
   "version": "2.7.6"
  }
 },
 "nbformat": 4,
 "nbformat_minor": 5
}
