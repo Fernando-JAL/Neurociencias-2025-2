{
 "cells": [
  {
   "cell_type": "markdown",
   "id": "f3d3c56c-b9ee-444f-ab86-18394d3a97c0",
   "metadata": {},
   "source": [
    "# Examen 3° Parcial - Práctico\n",
    "### Aitana Orduña Lugo"
   ]
  },
  {
   "cell_type": "code",
   "execution_count": 24,
   "id": "2410373c-94a0-453b-b73d-4f614ada1bb6",
   "metadata": {},
   "outputs": [],
   "source": [
    "import pandas as pd\n",
    "import os\n",
    "from PIL import Image\n",
    "import numpy as np\n",
    "from sklearn.model_selection import train_test_split\n",
    "from tensorflow.keras.utils import to_categorical\n",
    "import numpy as np\n",
    "import tensorflow as tf\n",
    "from tensorflow.keras.models import Sequential\n",
    "from tensorflow.keras.layers import Conv2D, MaxPooling2D, Flatten, Dense, Dropout\n",
    "from tensorflow.keras.optimizers import Adam\n",
    "from tensorflow.keras.layers import LeakyReLU\n",
    "from tensorflow.keras.models import load_model"
   ]
  },
  {
   "cell_type": "code",
   "execution_count": 2,
   "id": "2b19f9b0-c779-41c3-a593-e0eec73e9f1d",
   "metadata": {},
   "outputs": [],
   "source": [
    "path = r\"C:\\Users\\holai\\OneDrive\\Escritorio\\Semestre_6\\MC2F\\Neurociencias-2025-2\\S03_datasets\\Brain_tumor\\Brain Tumor\\Brain Tumor\"\n",
    "df = pd.read_csv(r\"C:\\Users\\holai\\OneDrive\\Escritorio\\Semestre_6\\MC2F\\Neurociencias-2025-2\\S03_datasets\\Brain_tumor\\Brain Tumor.csv\")"
   ]
  },
  {
   "cell_type": "markdown",
   "id": "b880d249-9a68-428c-aebb-876a04eabc1d",
   "metadata": {},
   "source": [
    "## 1. Aplicar CNN al datset y obtener el accuracy del modelo"
   ]
  },
  {
   "cell_type": "code",
   "execution_count": 3,
   "id": "a2c5c58a-4a0f-4632-bc56-de9bf4c7d7b8",
   "metadata": {},
   "outputs": [],
   "source": [
    "# Arreglar .csv\n",
    "\n",
    "exts = ['.jpg']\n",
    "\n",
    "def find_image_with_extension(name):\n",
    "    for ext in exts:\n",
    "        full_path = os.path.join(path, name + ext)\n",
    "        if os.path.exists(full_path):\n",
    "            return name + ext\n",
    "    return None\n",
    "\n",
    "df[\"Image\"] = df[\"Image\"].apply(find_image_with_extension)\n",
    "\n",
    "if df[\"Image\"].isnull().any():\n",
    "    print(\"Algunas imágenes no se encontraron\")\n",
    "\n",
    "df.to_csv(r\"C:\\Users\\holai\\OneDrive\\Escritorio\\Semestre_6\\MC2F\\Neurociencias-2025-2\\S03_datasets\\Brain_tumor\\Brain Tumor actualizado.csv\", index=False)"
   ]
  },
  {
   "cell_type": "code",
   "execution_count": 4,
   "id": "ed67067c-765e-49ac-abb1-a06acb4db80d",
   "metadata": {},
   "outputs": [],
   "source": [
    "images = []\n",
    "labels = []\n",
    "\n",
    "IMG_SIZE = (150, 150)\n",
    "\n",
    "for index, row in df.iterrows():\n",
    "    img_path = os.path.join(path, row[\"Image\"])\n",
    "    if os.path.exists(img_path):\n",
    "        img = Image.open(img_path).convert(\"RGB\").resize(IMG_SIZE)\n",
    "        images.append(np.array(img))\n",
    "        labels.append(row[\"Class\"])\n",
    "    else:\n",
    "        print(f\"Imagen no encontrada: {img_path}\")"
   ]
  },
  {
   "cell_type": "code",
   "execution_count": 5,
   "id": "c2330721-54d2-47cf-ae45-43b673f2f5e1",
   "metadata": {},
   "outputs": [],
   "source": [
    "X = np.array(images) / 255.0\n",
    "y = to_categorical(labels)"
   ]
  },
  {
   "cell_type": "code",
   "execution_count": 6,
   "id": "ba2ea99a-a604-405c-871c-4f4c3ebf2bbf",
   "metadata": {},
   "outputs": [
    {
     "name": "stdout",
     "output_type": "stream",
     "text": [
      "Tamaño del dataset de entrenamiento: (3009, 150, 150, 3)\n",
      "Tamaño del dataset de prueba: (753, 150, 150, 3)\n"
     ]
    }
   ],
   "source": [
    "# Dividir en entrenamiento y prueba\n",
    "X_train, X_test, y_train, y_test = train_test_split(X, y, test_size=0.2, random_state=42)\n",
    "\n",
    "print(\"Tamaño del dataset de entrenamiento:\", X_train.shape)\n",
    "print(\"Tamaño del dataset de prueba:\", X_test.shape)"
   ]
  },
  {
   "cell_type": "code",
   "execution_count": 7,
   "id": "143d9437-225a-443d-968c-1fd7b45e1cea",
   "metadata": {},
   "outputs": [
    {
     "name": "stdout",
     "output_type": "stream",
     "text": [
      "WARNING:tensorflow:From C:\\Users\\holai\\OneDrive\\Escritorio\\Semestre_6\\MC2F\\Neurociencias-2025-2\\dl_env\\lib\\site-packages\\keras\\src\\backend.py:873: The name tf.get_default_graph is deprecated. Please use tf.compat.v1.get_default_graph instead.\n",
      "\n",
      "WARNING:tensorflow:From C:\\Users\\holai\\OneDrive\\Escritorio\\Semestre_6\\MC2F\\Neurociencias-2025-2\\dl_env\\lib\\site-packages\\keras\\src\\layers\\pooling\\max_pooling2d.py:161: The name tf.nn.max_pool is deprecated. Please use tf.nn.max_pool2d instead.\n",
      "\n"
     ]
    }
   ],
   "source": [
    "# Iniciando CNN \n",
    "model = Sequential([\n",
    "    Conv2D(32, (3,3), activation='relu', input_shape=(150, 150, 3)),\n",
    "    MaxPooling2D(pool_size=(2, 2)),\n",
    "\n",
    "    Conv2D(64, (3,3), activation='relu'),\n",
    "    MaxPooling2D(pool_size=(2, 2)),\n",
    "\n",
    "    Conv2D(128, (3,3), activation='relu'),\n",
    "    MaxPooling2D(pool_size=(2, 2)),\n",
    "\n",
    "    Flatten(),\n",
    "    Dense(128, activation='relu'),\n",
    "    Dropout(0.5),\n",
    "    Dense(2, activation='softmax')  \n",
    "])"
   ]
  },
  {
   "cell_type": "code",
   "execution_count": 8,
   "id": "3b2c4607-4b8c-4668-89de-e9b8f861ca41",
   "metadata": {},
   "outputs": [],
   "source": [
    "model.compile(\n",
    "    loss='categorical_crossentropy',\n",
    "    optimizer=Adam(learning_rate=0.001),\n",
    "    metrics=['accuracy']\n",
    ")"
   ]
  },
  {
   "cell_type": "code",
   "execution_count": 9,
   "id": "8fb55373-b527-40ec-8b8c-b67d6135a083",
   "metadata": {},
   "outputs": [
    {
     "name": "stdout",
     "output_type": "stream",
     "text": [
      "Epoch 1/10\n",
      "WARNING:tensorflow:From C:\\Users\\holai\\OneDrive\\Escritorio\\Semestre_6\\MC2F\\Neurociencias-2025-2\\dl_env\\lib\\site-packages\\keras\\src\\utils\\tf_utils.py:492: The name tf.ragged.RaggedTensorValue is deprecated. Please use tf.compat.v1.ragged.RaggedTensorValue instead.\n",
      "\n",
      "WARNING:tensorflow:From C:\\Users\\holai\\OneDrive\\Escritorio\\Semestre_6\\MC2F\\Neurociencias-2025-2\\dl_env\\lib\\site-packages\\keras\\src\\engine\\base_layer_utils.py:384: The name tf.executing_eagerly_outside_functions is deprecated. Please use tf.compat.v1.executing_eagerly_outside_functions instead.\n",
      "\n",
      "95/95 [==============================] - 64s 504ms/step - loss: 0.4979 - accuracy: 0.7654 - val_loss: 0.3890 - val_accuracy: 0.8473\n",
      "Epoch 2/10\n",
      "95/95 [==============================] - 37s 394ms/step - loss: 0.3752 - accuracy: 0.8451 - val_loss: 0.2830 - val_accuracy: 0.8845\n",
      "Epoch 3/10\n",
      "95/95 [==============================] - 37s 388ms/step - loss: 0.3191 - accuracy: 0.8657 - val_loss: 0.2905 - val_accuracy: 0.8712\n",
      "Epoch 4/10\n",
      "95/95 [==============================] - 38s 402ms/step - loss: 0.2843 - accuracy: 0.8807 - val_loss: 0.2319 - val_accuracy: 0.9084\n",
      "Epoch 5/10\n",
      "95/95 [==============================] - 41s 435ms/step - loss: 0.2460 - accuracy: 0.9000 - val_loss: 0.2104 - val_accuracy: 0.9203\n",
      "Epoch 6/10\n",
      "95/95 [==============================] - 40s 425ms/step - loss: 0.2136 - accuracy: 0.9133 - val_loss: 0.1883 - val_accuracy: 0.9296\n",
      "Epoch 7/10\n",
      "95/95 [==============================] - 44s 459ms/step - loss: 0.1698 - accuracy: 0.9295 - val_loss: 0.2129 - val_accuracy: 0.9283\n",
      "Epoch 8/10\n",
      "95/95 [==============================] - 44s 463ms/step - loss: 0.1404 - accuracy: 0.9465 - val_loss: 0.1534 - val_accuracy: 0.9469\n",
      "Epoch 9/10\n",
      "95/95 [==============================] - 42s 437ms/step - loss: 0.0957 - accuracy: 0.9661 - val_loss: 0.1591 - val_accuracy: 0.9402\n",
      "Epoch 10/10\n",
      "95/95 [==============================] - 40s 423ms/step - loss: 0.0817 - accuracy: 0.9688 - val_loss: 0.2275 - val_accuracy: 0.9296\n"
     ]
    }
   ],
   "source": [
    "history = model.fit(\n",
    "    X_train, y_train,\n",
    "    epochs=10,\n",
    "    batch_size=32,\n",
    "    validation_data=(X_test, y_test)\n",
    ")"
   ]
  },
  {
   "cell_type": "code",
   "execution_count": 10,
   "id": "270a6927-faf2-4eee-b2b2-0ebc66466c8b",
   "metadata": {},
   "outputs": [
    {
     "name": "stdout",
     "output_type": "stream",
     "text": [
      "24/24 [==============================] - 3s 130ms/step - loss: 0.2275 - accuracy: 0.9296\n",
      "Accuracy en el conjunto de prueba: 0.9296\n"
     ]
    }
   ],
   "source": [
    "test_loss, test_acc = model.evaluate(X_test, y_test)\n",
    "print(f\"Accuracy en el conjunto de prueba: {test_acc:.4f}\")"
   ]
  },
  {
   "cell_type": "code",
   "execution_count": 22,
   "id": "2097fa76-48d6-4840-9dfb-720c53435dc8",
   "metadata": {},
   "outputs": [
    {
     "name": "stdout",
     "output_type": "stream",
     "text": [
      "Modelo guardado como modelo_cnn_1.keras\n"
     ]
    }
   ],
   "source": [
    "model.save(\"modelo_cnn_1.keras\")\n",
    "print(\"Modelo guardado como modelo_cnn_1.keras\")"
   ]
  },
  {
   "cell_type": "markdown",
   "id": "b5a11fc2-40ba-4c4f-9a33-d8d5d5d79f20",
   "metadata": {},
   "source": [
    "## 2. Mejorar el accuracy con # de capas, # de neuronas y funcion de activación"
   ]
  },
  {
   "cell_type": "code",
   "execution_count": 17,
   "id": "52d87036-b7ca-42aa-8677-81d3d2120541",
   "metadata": {},
   "outputs": [],
   "source": [
    "# Mejorando el Accuracy con otra CNN\n",
    "## Hice algunos cambios nada más\n",
    "\n",
    "model2 = Sequential([\n",
    "    Conv2D(32, (3,3), activation='relu', input_shape=(150, 150, 3)),\n",
    "    MaxPooling2D(pool_size=(2, 2)),\n",
    "\n",
    "    Conv2D(64, (3,3), activation='relu'),\n",
    "    MaxPooling2D(pool_size=(2, 2)),\n",
    "\n",
    "    Conv2D(128, (3,3), activation='relu'),\n",
    "    MaxPooling2D(pool_size=(2, 2)),\n",
    "\n",
    "    Conv2D(64, (3,3)),\n",
    "    LeakyReLU(alpha=0.1), #Agrego una capa\n",
    "\n",
    "    Flatten(),\n",
    "    Dense(256, activation='relu'), # Aumento el número de neuronas\n",
    "    Dropout(0.5),\n",
    "    Dense(2, activation='softmax')\n",
    "])"
   ]
  },
  {
   "cell_type": "code",
   "execution_count": 18,
   "id": "1f61389b-b346-49a8-9da4-cf01fbcda63b",
   "metadata": {},
   "outputs": [],
   "source": [
    "model2.compile(\n",
    "    loss='categorical_crossentropy',\n",
    "    optimizer=Adam(learning_rate=0.0005), #Aprendizaje más lento pero más efectivo\n",
    "    metrics=['accuracy']\n",
    ")"
   ]
  },
  {
   "cell_type": "code",
   "execution_count": 19,
   "id": "1a36beb6-7a70-4c21-9d87-96694d22eeda",
   "metadata": {},
   "outputs": [
    {
     "name": "stdout",
     "output_type": "stream",
     "text": [
      "Epoch 1/10\n",
      "95/95 [==============================] - 58s 435ms/step - loss: 0.5086 - accuracy: 0.7660 - val_loss: 0.4545 - val_accuracy: 0.7689\n",
      "Epoch 2/10\n",
      "95/95 [==============================] - 36s 381ms/step - loss: 0.4246 - accuracy: 0.8172 - val_loss: 0.3169 - val_accuracy: 0.8632\n",
      "Epoch 3/10\n",
      "95/95 [==============================] - 35s 372ms/step - loss: 0.2939 - accuracy: 0.8754 - val_loss: 0.2605 - val_accuracy: 0.8884\n",
      "Epoch 4/10\n",
      "95/95 [==============================] - 36s 376ms/step - loss: 0.2579 - accuracy: 0.8983 - val_loss: 0.1964 - val_accuracy: 0.9283\n",
      "Epoch 5/10\n",
      "95/95 [==============================] - 36s 374ms/step - loss: 0.2110 - accuracy: 0.9179 - val_loss: 0.1954 - val_accuracy: 0.9336\n",
      "Epoch 6/10\n",
      "95/95 [==============================] - 35s 372ms/step - loss: 0.1749 - accuracy: 0.9335 - val_loss: 0.1430 - val_accuracy: 0.9469\n",
      "Epoch 7/10\n",
      "95/95 [==============================] - 36s 374ms/step - loss: 0.1378 - accuracy: 0.9505 - val_loss: 0.1283 - val_accuracy: 0.9509\n",
      "Epoch 8/10\n",
      "95/95 [==============================] - 36s 382ms/step - loss: 0.1161 - accuracy: 0.9555 - val_loss: 0.1493 - val_accuracy: 0.9482\n",
      "Epoch 9/10\n",
      "95/95 [==============================] - 36s 382ms/step - loss: 0.0950 - accuracy: 0.9638 - val_loss: 0.1257 - val_accuracy: 0.9469\n",
      "Epoch 10/10\n",
      "95/95 [==============================] - 38s 396ms/step - loss: 0.0871 - accuracy: 0.9654 - val_loss: 0.1748 - val_accuracy: 0.9416\n"
     ]
    }
   ],
   "source": [
    "history = model2.fit(\n",
    "    X_train, y_train,\n",
    "    epochs=10,\n",
    "    batch_size=32,\n",
    "    validation_data=(X_test, y_test)\n",
    ")"
   ]
  },
  {
   "cell_type": "code",
   "execution_count": 20,
   "id": "2825f5b6-8a01-41f0-9d52-7da1d6827ce1",
   "metadata": {},
   "outputs": [
    {
     "name": "stdout",
     "output_type": "stream",
     "text": [
      "24/24 [==============================] - 3s 114ms/step - loss: 0.1748 - accuracy: 0.9416\n",
      "Accuracy en el conjunto de prueba: 0.9416\n"
     ]
    }
   ],
   "source": [
    "loss, accuracy = model2.evaluate(X_test, y_test)\n",
    "print(f\"Accuracy en el conjunto de prueba: {accuracy:.4f}\")"
   ]
  },
  {
   "cell_type": "code",
   "execution_count": 23,
   "id": "912092dd-7926-42de-bdf5-fc62eadb0c48",
   "metadata": {},
   "outputs": [
    {
     "name": "stdout",
     "output_type": "stream",
     "text": [
      "Modelo guardado como modelo_cnn_2.keras\n"
     ]
    }
   ],
   "source": [
    "model2.save(\"modelo_cnn_2.keras\")\n",
    "print(\"Modelo guardado como modelo_cnn_2.keras\")"
   ]
  },
  {
   "cell_type": "code",
   "execution_count": 26,
   "id": "fc56bb1b-ea2d-46f3-8ce9-a3f9cb6c60c4",
   "metadata": {},
   "outputs": [],
   "source": [
    "# Comparando ambos modelos \n",
    "\n",
    "modelo_1 = load_model(\"modelo_cnn_1.keras\")\n",
    "modelo_2 = load_model(\"modelo_cnn_2.keras\")\n",
    "\n",
    "loss_1, acc_1 = modelo_1.evaluate(X_test, y_test, verbose=0)\n",
    "loss_2, acc_2 = modelo_2.evaluate(X_test, y_test, verbose=0)"
   ]
  },
  {
   "cell_type": "code",
   "execution_count": 27,
   "id": "0084bd24-175f-4813-8123-3e2319b4a6b2",
   "metadata": {},
   "outputs": [
    {
     "name": "stdout",
     "output_type": "stream",
     "text": [
      "         Modelo  Accuracy\n",
      "0      CNN base  0.929615\n",
      "1  CNN mejorado  0.941567\n"
     ]
    }
   ],
   "source": [
    "resultados = pd.DataFrame({\n",
    "    \"Modelo\": [\"CNN base\", \"CNN mejorado\"],\n",
    "    \"Accuracy\": [acc_1, acc_2]\n",
    "})\n",
    "\n",
    "print(resultados)"
   ]
  },
  {
   "cell_type": "markdown",
   "id": "96a151b3-c451-4951-9323-f496ef527d96",
   "metadata": {},
   "source": [
    "## 3. Comparar los resultados de la CNN con los métodos previamente utilizados"
   ]
  },
  {
   "cell_type": "code",
   "execution_count": 47,
   "id": "ff0f4500-b14e-4ad8-a345-923f13af0dfc",
   "metadata": {},
   "outputs": [],
   "source": [
    "from sklearn.ensemble import RandomForestClassifier\n",
    "from sklearn.svm import SVC\n",
    "from sklearn.linear_model import LogisticRegression\n",
    "from sklearn.neighbors import KNeighborsClassifier\n",
    "from sklearn.metrics import accuracy_score\n",
    "from sklearn.preprocessing import StandardScaler"
   ]
  },
  {
   "cell_type": "code",
   "execution_count": 48,
   "id": "2c5bfb73-9e43-4bde-9300-a9e58ae3c541",
   "metadata": {},
   "outputs": [],
   "source": [
    "y_train_flat = np.argmax(y_train, axis=1)\n",
    "y_test_flat = np.argmax(y_test, axis=1)\n",
    "\n",
    "scaler = StandardScaler()\n",
    "X_train_flat_scaled = scaler.fit_transform(X_train_flat)\n",
    "X_test_flat_scaled = scaler.transform(X_test_flat)"
   ]
  },
  {
   "cell_type": "code",
   "execution_count": 36,
   "id": "c7a911de-aec2-41d2-b216-fb2bc2c281da",
   "metadata": {},
   "outputs": [],
   "source": [
    "# Random Forest\n",
    "rf = RandomForestClassifier()\n",
    "rf.fit(X_train_flat, y_train)\n",
    "rf_acc = accuracy_score(y_test, rf.predict(X_test_flat))"
   ]
  },
  {
   "cell_type": "code",
   "execution_count": 49,
   "id": "8c30467b-88a1-4333-95de-6d10a4b0165b",
   "metadata": {},
   "outputs": [],
   "source": [
    "# SVM\n",
    "svm = SVC()\n",
    "svm.fit(X_train_flat_scaled, y_train_flat)\n",
    "svm_acc = accuracy_score(y_test_flat, svm.predict(X_test_flat_scaled))"
   ]
  },
  {
   "cell_type": "code",
   "execution_count": 38,
   "id": "9b392e25-1749-449f-ad53-3bfb2010a99f",
   "metadata": {},
   "outputs": [],
   "source": [
    "# KNN\n",
    "knn = KNeighborsClassifier()\n",
    "knn.fit(X_train_flat, y_train)\n",
    "knn_acc = accuracy_score(y_test, knn.predict(X_test_flat))"
   ]
  },
  {
   "cell_type": "code",
   "execution_count": 50,
   "id": "48ad6ea4-5273-417a-bebe-88cc498366fa",
   "metadata": {},
   "outputs": [],
   "source": [
    "# Logistic Regression\n",
    "lr = LogisticRegression(max_iter=1000)\n",
    "lr.fit(X_train_flat_scaled, y_train_flat)\n",
    "lr_acc = accuracy_score(y_test_flat, lr.predict(X_test_flat_scaled))"
   ]
  },
  {
   "cell_type": "code",
   "execution_count": 51,
   "id": "c47854ca-09a1-41ef-8bde-d4c2f42a36b2",
   "metadata": {},
   "outputs": [
    {
     "name": "stdout",
     "output_type": "stream",
     "text": [
      "                Modelo  Accuracy\n",
      "0             CNN Base  0.929615\n",
      "1         CNN Mejorado  0.941567\n",
      "2        Random Forest  0.945551\n",
      "3                  SVM  0.930943\n",
      "4                  KNN  0.933599\n",
      "5  Logistic Regression  0.884462\n"
     ]
    }
   ],
   "source": [
    "comparacion_modelos = pd.DataFrame({\n",
    "    'Modelo': ['CNN Base', 'CNN Mejorado', 'Random Forest', 'SVM', 'KNN', 'Logistic Regression'],\n",
    "    'Accuracy': [acc_1, acc_2, rf_acc, svm_acc, knn_acc, lr_acc]\n",
    "})\n",
    "\n",
    "print(comparacion_modelos)"
   ]
  },
  {
   "cell_type": "code",
   "execution_count": null,
   "id": "4593e245-0d82-46a3-a09f-8fedb79edd48",
   "metadata": {},
   "outputs": [],
   "source": []
  }
 ],
 "metadata": {
  "kernelspec": {
   "display_name": "Python (dl_env)",
   "language": "python",
   "name": "dl_env"
  },
  "language_info": {
   "codemirror_mode": {
    "name": "ipython",
    "version": 3
   },
   "file_extension": ".py",
   "mimetype": "text/x-python",
   "name": "python",
   "nbconvert_exporter": "python",
   "pygments_lexer": "ipython3",
   "version": "3.10.4"
  }
 },
 "nbformat": 4,
 "nbformat_minor": 5
}
