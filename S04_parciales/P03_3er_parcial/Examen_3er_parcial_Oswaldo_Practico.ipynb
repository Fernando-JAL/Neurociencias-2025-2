{
 "cells": [
  {
   "cell_type": "markdown",
   "id": "47726cec-34f7-41c3-ac06-cc9b084b82c1",
   "metadata": {},
   "source": [
    "# ULTIMO PARCIAL MODELOS II"
   ]
  },
  {
   "cell_type": "code",
   "execution_count": 12,
   "id": "eb2d5e9e-c168-40f9-acb0-08bc9a45c787",
   "metadata": {},
   "outputs": [
    {
     "name": "stdout",
     "output_type": "stream",
     "text": [
      "Imágenes divididas en conjuntos de entrenamiento y validación.\n"
     ]
    }
   ],
   "source": [
    "import os\n",
    "import shutil\n",
    "import random\n",
    "import tensorflow as tf\n",
    "from tensorflow.keras.models import Sequential\n",
    "from tensorflow.keras.layers import Conv2D, MaxPooling2D, Flatten, Dense, Dropout\n",
    "from tensorflow.keras.preprocessing.image import ImageDataGenerator\n",
    "\n",
    "\n",
    "# Rutas\n",
    "origen = r'C:\\Users\\oswal\\OneDrive\\Documentos\\MATLAB\\6to SEMESTRE\\ok'\n",
    "destino_train = os.path.join('data', 'train')\n",
    "destino_val = os.path.join('data', 'val')\n",
    "\n",
    "# Clases\n",
    "clases = ['CON TUMOR', 'SIN TUMOR']\n",
    "\n",
    "# Porcentaje de validación\n",
    "porcentaje_val = 0.2\n",
    "\n",
    "# Crear estructura de las fokin carpetas\n",
    "for clase in clases:\n",
    "    os.makedirs(os.path.join(destino_train, clase), exist_ok=True)\n",
    "    os.makedirs(os.path.join(destino_val, clase), exist_ok=True)\n",
    "\n",
    "    ruta_clase = os.path.join(origen, clase)\n",
    "    imagenes = [f for f in os.listdir(ruta_clase) if f.lower().endswith(('.png', '.jpg', '.jpeg'))]\n",
    "    random.shuffle(imagenes)\n",
    "\n",
    "    n_val = int(len(imagenes) * porcentaje_val)\n",
    "    imagenes_val = imagenes[:n_val]\n",
    "    imagenes_train = imagenes[n_val:]\n",
    "\n",
    "    # Copiar imágenes de entrenamiento\n",
    "    for img in imagenes_train:\n",
    "        shutil.copy(\n",
    "            os.path.join(ruta_clase, img),\n",
    "            os.path.join(destino_train, clase, img)\n",
    "        )\n",
    "\n",
    "    # Copiar imágenes de validación\n",
    "    for img in imagenes_val:\n",
    "        shutil.copy(\n",
    "            os.path.join(ruta_clase, img),\n",
    "            os.path.join(destino_val, clase, img)\n",
    "        )\n",
    "\n",
    "print(\"Imágenes divididas en conjuntos de entrenamiento y validación.\")\n"
   ]
  },
  {
   "cell_type": "code",
   "execution_count": 13,
   "id": "83bf39b8-c1d1-45ee-944b-965d8abc71ff",
   "metadata": {},
   "outputs": [
    {
     "name": "stdout",
     "output_type": "stream",
     "text": [
      "\n",
      " Conteo de imágenes por carpeta:\n",
      "\n",
      "Entrenamiento:\n",
      "  CON TUMOR: 357 imágenes\n",
      "  SIN TUMOR: 636 imágenes\n",
      "\n",
      "Validación:\n",
      "  CON TUMOR: 178 imágenes\n",
      "  SIN TUMOR: 315 imágenes\n"
     ]
    }
   ],
   "source": [
    "# Verificación: contar imágenes en cada carpeta\n",
    "print(\"\\n Conteo de imágenes por carpeta:\")\n",
    "for conjunto, ruta_base in [('Entrenamiento', destino_train), ('Validación', destino_val)]:\n",
    "    print(f\"\\n{conjunto}:\")\n",
    "    for clase in clases:\n",
    "        ruta = os.path.join(ruta_base, clase)\n",
    "        cantidad = len([f for f in os.listdir(ruta) if f.lower().endswith(('.png', '.jpg', '.jpeg'))])\n",
    "        print(f\"  {clase}: {cantidad} imágenes\")"
   ]
  },
  {
   "cell_type": "code",
   "execution_count": 9,
   "id": "fd6ed97c-b9c9-4c59-9304-424a8f889374",
   "metadata": {},
   "outputs": [
    {
     "name": "stdout",
     "output_type": "stream",
     "text": [
      "Found 800 images belonging to 2 classes.\n",
      "Found 200 images belonging to 2 classes.\n"
     ]
    }
   ],
   "source": [
    "\n",
    "# Parámetros\n",
    "img_size = (150, 150)\n",
    "batch_size = 32\n",
    "\n",
    "# Generadores de datos con aumento para entrenamiento y normalización para validación\n",
    "train_datagen = ImageDataGenerator(\n",
    "    rescale=1./255,\n",
    "    rotation_range=15,\n",
    "    zoom_range=0.1,\n",
    "    horizontal_flip=True\n",
    ")\n",
    "\n",
    "val_datagen = ImageDataGenerator(rescale=1./255)\n",
    "\n",
    "# Cargar imágenes desde carpetas\n",
    "train_generator = train_datagen.flow_from_directory(\n",
    "    'data/train',\n",
    "    target_size=img_size,\n",
    "    batch_size=batch_size,\n",
    "    class_mode='binary'\n",
    ")\n",
    "\n",
    "val_generator = val_datagen.flow_from_directory(\n",
    "    'data/val',\n",
    "    target_size=img_size,\n",
    "    batch_size=batch_size,\n",
    "    class_mode='binary'\n",
    ")\n",
    "\n",
    "# Modelo CNN simple\n",
    "def crear_modelo_cnn(num_capas_conv=2):\n",
    "    model = Sequential()\n",
    "    \n",
    "    model.add(Conv2D(32, (3, 3), activation='relu', input_shape=(150, 150, 3)))\n",
    "    model.add(MaxPooling2D(pool_size=(2, 2)))\n",
    "    \n",
    "    for _ in range(num_capas_conv - 1):\n",
    "        model.add(Conv2D(64, (3, 3), activation='relu'))\n",
    "        model.add(MaxPooling2D(pool_size=(2, 2)))\n",
    "    \n",
    "    model.add(Flatten())\n",
    "    model.add(Dense(64, activation='relu'))\n",
    "    model.add(Dropout(0.5))\n",
    "    model.add(Dense(1, activation='sigmoid'))  # Binaria\n",
    "\n",
    "    model.compile(optimizer='adam',\n",
    "                  loss='binary_crossentropy',\n",
    "                  metrics=['accuracy'])\n",
    "    \n",
    "    return model\n"
   ]
  },
  {
   "cell_type": "code",
   "execution_count": 10,
   "id": "b7449057-5041-4500-8103-ec924ac63b88",
   "metadata": {},
   "outputs": [
    {
     "name": "stdout",
     "output_type": "stream",
     "text": [
      "\n",
      "🧪 Entrenando modelo con 1 capa(s) convolucional(es) y 5 época(s)...\n",
      "Epoch 1/5\n",
      "25/25 [==============================] - 34s 1s/step - loss: 0.9125 - accuracy: 0.6538 - val_loss: 0.5172 - val_accuracy: 0.7600\n",
      "Epoch 2/5\n",
      "25/25 [==============================] - 37s 1s/step - loss: 0.5303 - accuracy: 0.7400 - val_loss: 0.4777 - val_accuracy: 0.7700\n",
      "Epoch 3/5\n",
      "25/25 [==============================] - 34s 1s/step - loss: 0.4942 - accuracy: 0.7713 - val_loss: 0.4371 - val_accuracy: 0.7950\n",
      "Epoch 4/5\n",
      "25/25 [==============================] - 34s 1s/step - loss: 0.4869 - accuracy: 0.7688 - val_loss: 0.4262 - val_accuracy: 0.7700\n",
      "Epoch 5/5\n",
      "25/25 [==============================] - 37s 1s/step - loss: 0.4694 - accuracy: 0.7837 - val_loss: 0.4110 - val_accuracy: 0.8000\n",
      "\n",
      "🧪 Entrenando modelo con 1 capa(s) convolucional(es) y 10 época(s)...\n",
      "Epoch 1/10\n",
      "25/25 [==============================] - 33s 1s/step - loss: 0.9272 - accuracy: 0.6725 - val_loss: 0.5123 - val_accuracy: 0.6450\n",
      "Epoch 2/10\n",
      "25/25 [==============================] - 27s 1s/step - loss: 0.4999 - accuracy: 0.7362 - val_loss: 0.4864 - val_accuracy: 0.7700\n",
      "Epoch 3/10\n",
      "25/25 [==============================] - 28s 1s/step - loss: 0.4846 - accuracy: 0.7575 - val_loss: 0.4348 - val_accuracy: 0.7850\n",
      "Epoch 4/10\n",
      "25/25 [==============================] - 28s 1s/step - loss: 0.4354 - accuracy: 0.8125 - val_loss: 0.4164 - val_accuracy: 0.8100\n",
      "Epoch 5/10\n",
      "25/25 [==============================] - 43s 2s/step - loss: 0.4019 - accuracy: 0.8250 - val_loss: 0.4038 - val_accuracy: 0.8300\n",
      "Epoch 6/10\n",
      "25/25 [==============================] - 38s 2s/step - loss: 0.4103 - accuracy: 0.8213 - val_loss: 0.4766 - val_accuracy: 0.7850\n",
      "Epoch 7/10\n",
      "25/25 [==============================] - 38s 2s/step - loss: 0.3830 - accuracy: 0.8537 - val_loss: 0.3830 - val_accuracy: 0.8250\n",
      "Epoch 8/10\n",
      "25/25 [==============================] - 34s 1s/step - loss: 0.3670 - accuracy: 0.8438 - val_loss: 0.3347 - val_accuracy: 0.8600\n",
      "Epoch 9/10\n",
      "25/25 [==============================] - 45s 2s/step - loss: 0.3479 - accuracy: 0.8600 - val_loss: 0.4755 - val_accuracy: 0.8150\n",
      "Epoch 10/10\n",
      "25/25 [==============================] - 30s 1s/step - loss: 0.3367 - accuracy: 0.8750 - val_loss: 0.3293 - val_accuracy: 0.8800\n",
      "\n",
      "🧪 Entrenando modelo con 2 capa(s) convolucional(es) y 5 época(s)...\n",
      "Epoch 1/5\n",
      "25/25 [==============================] - 83s 3s/step - loss: 0.5901 - accuracy: 0.6975 - val_loss: 0.4810 - val_accuracy: 0.7800\n",
      "Epoch 2/5\n",
      "25/25 [==============================] - 79s 3s/step - loss: 0.5099 - accuracy: 0.7713 - val_loss: 0.4695 - val_accuracy: 0.7700\n",
      "Epoch 3/5\n",
      "25/25 [==============================] - 70s 3s/step - loss: 0.4755 - accuracy: 0.7625 - val_loss: 0.4295 - val_accuracy: 0.8050\n",
      "Epoch 4/5\n",
      "25/25 [==============================] - 74s 3s/step - loss: 0.4347 - accuracy: 0.8100 - val_loss: 0.4057 - val_accuracy: 0.8150\n",
      "Epoch 5/5\n",
      "25/25 [==============================] - 87s 4s/step - loss: 0.4196 - accuracy: 0.8112 - val_loss: 0.3608 - val_accuracy: 0.8500\n",
      "\n",
      "🧪 Entrenando modelo con 2 capa(s) convolucional(es) y 10 época(s)...\n",
      "Epoch 1/10\n",
      "25/25 [==============================] - 84s 3s/step - loss: 0.5789 - accuracy: 0.6837 - val_loss: 0.4844 - val_accuracy: 0.7600\n",
      "Epoch 2/10\n",
      "25/25 [==============================] - 71s 3s/step - loss: 0.4811 - accuracy: 0.7750 - val_loss: 0.4646 - val_accuracy: 0.7350\n",
      "Epoch 3/10\n",
      "25/25 [==============================] - 64s 3s/step - loss: 0.4643 - accuracy: 0.7850 - val_loss: 0.4151 - val_accuracy: 0.7950\n",
      "Epoch 4/10\n",
      "25/25 [==============================] - 60s 2s/step - loss: 0.4468 - accuracy: 0.7912 - val_loss: 0.4916 - val_accuracy: 0.7550\n",
      "Epoch 5/10\n",
      "25/25 [==============================] - 60s 2s/step - loss: 0.4241 - accuracy: 0.8200 - val_loss: 0.4801 - val_accuracy: 0.7850\n",
      "Epoch 6/10\n",
      "25/25 [==============================] - 65s 3s/step - loss: 0.4462 - accuracy: 0.7950 - val_loss: 0.4621 - val_accuracy: 0.8200\n",
      "Epoch 7/10\n",
      "25/25 [==============================] - 70s 3s/step - loss: 0.4080 - accuracy: 0.8288 - val_loss: 0.3412 - val_accuracy: 0.8800\n",
      "Epoch 8/10\n",
      "25/25 [==============================] - 78s 3s/step - loss: 0.3777 - accuracy: 0.8413 - val_loss: 0.3799 - val_accuracy: 0.8600\n",
      "Epoch 9/10\n",
      "25/25 [==============================] - 71s 3s/step - loss: 0.3785 - accuracy: 0.8313 - val_loss: 0.3393 - val_accuracy: 0.8800\n",
      "Epoch 10/10\n",
      "25/25 [==============================] - 61s 2s/step - loss: 0.3429 - accuracy: 0.8625 - val_loss: 0.3753 - val_accuracy: 0.8700\n",
      "\n",
      "🧪 Entrenando modelo con 3 capa(s) convolucional(es) y 5 época(s)...\n",
      "Epoch 1/5\n",
      "25/25 [==============================] - 76s 3s/step - loss: 0.5539 - accuracy: 0.7200 - val_loss: 0.4864 - val_accuracy: 0.7150\n",
      "Epoch 2/5\n",
      "25/25 [==============================] - 74s 3s/step - loss: 0.4931 - accuracy: 0.7525 - val_loss: 0.4523 - val_accuracy: 0.7750\n",
      "Epoch 3/5\n",
      "25/25 [==============================] - 73s 3s/step - loss: 0.4674 - accuracy: 0.8062 - val_loss: 0.3893 - val_accuracy: 0.8450\n",
      "Epoch 4/5\n",
      "25/25 [==============================] - 88s 4s/step - loss: 0.5000 - accuracy: 0.7650 - val_loss: 0.5016 - val_accuracy: 0.7550\n",
      "Epoch 5/5\n",
      "25/25 [==============================] - 77s 3s/step - loss: 0.4447 - accuracy: 0.7987 - val_loss: 0.3901 - val_accuracy: 0.7950\n",
      "\n",
      "🧪 Entrenando modelo con 3 capa(s) convolucional(es) y 10 época(s)...\n",
      "Epoch 1/10\n",
      "25/25 [==============================] - 70s 3s/step - loss: 0.5554 - accuracy: 0.7100 - val_loss: 0.4739 - val_accuracy: 0.7700\n",
      "Epoch 2/10\n",
      "25/25 [==============================] - 70s 3s/step - loss: 0.4996 - accuracy: 0.7688 - val_loss: 0.4698 - val_accuracy: 0.7450\n",
      "Epoch 3/10\n",
      "25/25 [==============================] - 71s 3s/step - loss: 0.4694 - accuracy: 0.7788 - val_loss: 0.4116 - val_accuracy: 0.8050\n",
      "Epoch 4/10\n",
      "25/25 [==============================] - 74s 3s/step - loss: 0.4258 - accuracy: 0.8062 - val_loss: 0.3862 - val_accuracy: 0.8250\n",
      "Epoch 5/10\n",
      "25/25 [==============================] - 71s 3s/step - loss: 0.4554 - accuracy: 0.7887 - val_loss: 0.3829 - val_accuracy: 0.8250\n",
      "Epoch 6/10\n",
      "25/25 [==============================] - 75s 3s/step - loss: 0.3775 - accuracy: 0.8438 - val_loss: 0.3358 - val_accuracy: 0.8800\n",
      "Epoch 7/10\n",
      "25/25 [==============================] - 82s 3s/step - loss: 0.3587 - accuracy: 0.8462 - val_loss: 0.3331 - val_accuracy: 0.8700\n",
      "Epoch 8/10\n",
      "25/25 [==============================] - 75s 3s/step - loss: 0.3743 - accuracy: 0.8462 - val_loss: 0.4017 - val_accuracy: 0.8250\n",
      "Epoch 9/10\n",
      "25/25 [==============================] - 75s 3s/step - loss: 0.3658 - accuracy: 0.8525 - val_loss: 0.2840 - val_accuracy: 0.8800\n",
      "Epoch 10/10\n",
      "25/25 [==============================] - 74s 3s/step - loss: 0.3450 - accuracy: 0.8612 - val_loss: 0.3218 - val_accuracy: 0.8850\n",
      "\n",
      "📈 Resultados:\n",
      "1 capa(s) | 5 época(s) → Acc (train): 0.78, Acc (val): 0.80\n",
      "1 capa(s) | 10 época(s) → Acc (train): 0.88, Acc (val): 0.88\n",
      "2 capa(s) | 5 época(s) → Acc (train): 0.81, Acc (val): 0.85\n",
      "2 capa(s) | 10 época(s) → Acc (train): 0.86, Acc (val): 0.87\n",
      "3 capa(s) | 5 época(s) → Acc (train): 0.80, Acc (val): 0.80\n",
      "3 capa(s) | 10 época(s) → Acc (train): 0.86, Acc (val): 0.88\n"
     ]
    }
   ],
   "source": [
    "# Parámetros a probar\n",
    "epocas_lista = [5, 10]             # Podría ajustar a [5, 10, 20] si mi compu no sonara como lavadora\n",
    "capas_lista = [1, 2, 3]\n",
    "\n",
    "# Guardar resultados\n",
    "resultados = []\n",
    "\n",
    "for capas in capas_lista:\n",
    "    for epocas in epocas_lista:\n",
    "        print(f\"\\n Entrenando modelo con {capas} capa(s) convolucional(es) y {epocas} época(s)...\")\n",
    "        \n",
    "        modelo = crear_modelo_cnn(num_capas_conv=capas)\n",
    "        historia = modelo.fit(\n",
    "            train_generator,\n",
    "            epochs=epocas,\n",
    "            validation_data=val_generator,\n",
    "            verbose=1\n",
    "        )\n",
    "        \n",
    "        # Últimos valores\n",
    "        acc = historia.history['accuracy'][-1]\n",
    "        val_acc = historia.history['val_accuracy'][-1]\n",
    "        \n",
    "        resultados.append({\n",
    "            'capas': capas,\n",
    "            'epocas': epocas,\n",
    "            'acc_train': acc,\n",
    "            'acc_val': val_acc\n",
    "        })\n",
    "\n",
    "# Mostrar resultados\n",
    "print(\"\\n Resultados:\")\n",
    "for r in resultados:\n",
    "    print(f\"{r['capas']} capa(s) | {r['epocas']} época(s) → Acc (train): {r['acc_train']:.2f}, Acc (val): {r['acc_val']:.2f}\")\n"
   ]
  },
  {
   "cell_type": "code",
   "execution_count": 14,
   "id": "4f48950b-8c62-4cdb-a3eb-4a5721bd3564",
   "metadata": {},
   "outputs": [
    {
     "name": "stdout",
     "output_type": "stream",
     "text": [
      "Resultados guardados en 'resultados_modelos_brain_tumor.csv'\n"
     ]
    }
   ],
   "source": [
    "import pandas as pd\n",
    "\n",
    "# Convertir resultados a DataFrame\n",
    "df_resultados = pd.DataFrame(resultados)\n",
    "\n",
    "# Guardar a CSV\n",
    "df_resultados.to_csv('resultados_modelos_brain_tumor.csv', index=False)\n",
    "\n",
    "print(\"Resultados guardados en 'resultados_modelos_brain_tumor.csv'\")\n"
   ]
  },
  {
   "cell_type": "code",
   "execution_count": 16,
   "id": "08a170c0-e732-4830-a804-b8ab171cb8ba",
   "metadata": {},
   "outputs": [
    {
     "name": "stdout",
     "output_type": "stream",
     "text": [
      "7/7 [==============================] - 5s 677ms/step\n"
     ]
    }
   ],
   "source": [
    "# Predicciones reales y predichas\n",
    "\n",
    "import numpy as np\n",
    "from sklearn.metrics import confusion_matrix, ConfusionMatrixDisplay\n",
    "\n",
    "# Obtener etiquetas verdaderas y predicciones del modelo\n",
    "val_generator.reset()  # Importante si ya usaste el generador antes\n",
    "\n",
    "# Número total de imágenes en validación\n",
    "n_samples = val_generator.samples\n",
    "\n",
    "# Predicciones del modelo\n",
    "preds = modelo.predict(val_generator, steps=np.ceil(n_samples / val_generator.batch_size))\n",
    "y_pred = (preds > 0.5).astype(int).reshape(-1)  # Umbral para binario\n",
    "\n",
    "y_true = val_generator.classes\n"
   ]
  },
  {
   "cell_type": "code",
   "execution_count": 17,
   "id": "0726b267-7cd6-4eba-8e4e-2781f583b196",
   "metadata": {},
   "outputs": [
    {
     "data": {
      "text/plain": [
       "<sklearn.metrics._plot.confusion_matrix.ConfusionMatrixDisplay at 0x1f006af4880>"
      ]
     },
     "execution_count": 17,
     "metadata": {},
     "output_type": "execute_result"
    },
    {
     "data": {
      "image/png": "[encoded data removed]",
      "text/plain": [
       "<Figure size 640x480 with 2 Axes>"
      ]
     },
     "metadata": {},
     "output_type": "display_data"
    }
   ],
   "source": [
    "# Calcular matriz de confusión\n",
    "cm = confusion_matrix(y_true, y_pred)\n",
    "\n",
    "disp = ConfusionMatrixDisplay(confusion_matrix=cm,\n",
    "                              display_labels=val_generator.class_indices.keys())\n",
    "disp.plot(cmap='Blues')"
   ]
  },
  {
   "cell_type": "markdown",
   "id": "21153687-5743-4a0d-a110-bf3b99c2bd13",
   "metadata": {},
   "source": [
    "### En mi anterior matriz de confusión son solo 200 datos dado a que mi conjunto de validación lo definí como el 20% de mis datos (200 de 1000)."
   ]
  },
  {
   "cell_type": "markdown",
   "id": "918e0e64-d4a7-47b8-99e2-2bf5c4572731",
   "metadata": {},
   "source": [
    "### Conclusión\n",
    "El empleo de CNN a mi parecer es una excelente herramienta para clasificar imágenes sin la necesidad de complicarnos las cosas extrayendo manualmente la información de estas mismas, por ejemplo, en este caso en particular detecta patrones complejos como podrían ser masas tumorales, asimetrías y bordes, la única limitante que en mi persona encontré (pero creo que es propio del método) es que al usar poquitos datos el método realmente no es muy bueno (eso lo podemos ver en mis métricas, ya que sólo usé 1000 imágenes) pero podría mejorar con más datos, aunado a que puede aplicarse a nuevas imágenes clínicas reales."
   ]
  },
  {
   "cell_type": "code",
   "execution_count": null,
   "id": "f7fa65ec-6163-4a8c-8539-0802def8b8c2",
   "metadata": {},
   "outputs": [],
   "source": []
  }
 ],
 "metadata": {
  "kernelspec": {
   "display_name": "Python (dl_env)",
   "language": "python",
   "name": "dl_env"
  },
  "language_info": {
   "codemirror_mode": {
    "name": "ipython",
    "version": 3
   },
   "file_extension": ".py",
   "mimetype": "text/x-python",
   "name": "python",
   "nbconvert_exporter": "python",
   "pygments_lexer": "ipython3",
   "version": "3.10.4"
  }
 },
 "nbformat": 4,
 "nbformat_minor": 5
}
