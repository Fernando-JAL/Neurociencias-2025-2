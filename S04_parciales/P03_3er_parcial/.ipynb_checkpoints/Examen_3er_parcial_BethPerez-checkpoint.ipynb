{
 "cells": [
  {
   "cell_type": "markdown",
   "id": "ded2ba6c-4d52-4e3e-bf58-81889bd3f033",
   "metadata": {},
   "source": [
    "# Examen 3er parcial. Examen teórico\n",
    "\n",
    "#### BETH YARAVI PEREZ TORRES"
   ]
  },
  {
   "cell_type": "markdown",
   "id": "4130e967-a61a-4b9b-8821-82a2e352b492",
   "metadata": {},
   "source": [
    "**1. ¿Cuál es la diferencia entre métodos de aprendizaje supervisado y no supervisado?**\n",
    "\n",
    "La principal diferencia es que en los **metodos supervisados** se proporcionan correspondencias conocidas entre datos y los resultados esperados, permitiendo que el algoritmo aprenda una función de mapeo basada en un conjunto de mapeos ya conocidos. Por el contrario, en los **metodos no supervisados** los algoritmos basan su proceso de entrenamiento en un conjunto de datos sin etiquetas o clases previamente deﬁnidas."
   ]
  },
  {
   "cell_type": "markdown",
   "id": "6042bf4b-77d4-4d81-97ff-2a41a72565d6",
   "metadata": {},
   "source": [
    "2. Observa los siguientes dataset dummies:\n",
    "\n",
    "##### - DATASET 1\n",
    "| ID | EEG\\_Δ (0.5–4Hz) | EEG\\_θ (4–8Hz) | EEG\\_α (8–12Hz) | EEG\\_β (12–30Hz) | EEG\\_γ (30–45Hz) | SleepStage |\n",
    "| -- | ---------------- | -------------- | --------------- | ---------------- | ---------------- | ---------- |\n",
    "| 1  | 12.1             | 8.4            | 4.7             | 3.1              | 0.5              | NREM1      |\n",
    "| 2  | 18.2             | 6.2            | 2.3             | 1.2              | 0.3              | NREM3      |\n",
    "| 3  | 10.5             | 7.8            | 5.5             | 3.2              | 0.4              | REM        |\n",
    "| 4  | 17.9             | 5.1            | 2.0             | 1.1              | 0.2              | NREM3      |\n",
    "| 5  | 9.7              | 9.5            | 6.1             | 3.5              | 0.6              | REM        |\n",
    "| 6  | 5.4              | 11.2           | 8.3             | 4.9              | 1.2              | Wake       |\n",
    "| 7  | 14.1             | 7.0            | 4.4             | 2.8              | 0.3              | NREM2      |\n",
    "| 8  | 6.2              | 10.7           | 7.9             | 4.1              | 0.9              | Wake       |\n",
    "| 9  | 11.0             | 8.1            | 5.2             | 3.0              | 0.4              | REM        |\n",
    "| 10 | 13.3             | 6.5            | 3.9             | 2.2              | 0.2              | NREM2      |\n",
    "\n",
    "##### - DATASET 2\n",
    "| ID | Conn\\_1 | Conn\\_2 | Conn\\_3 | Conn\\_4 | Conn\\_5 | Conn\\_6 | Conn\\_7 | Conn\\_8 | Conn\\_9 | Conn\\_10 |\n",
    "| -- | ------- | ------- | ------- | ------- | ------- | ------- | ------- | ------- | ------- | -------- |\n",
    "| 1  | 0.81    | 0.64    | 0.12    | -0.22   | 0.45    | 0.03    | 0.66    | 0.58    | 0.20    | 0.11     |\n",
    "| 2  | 0.35    | 0.57    | 0.14    | -0.18   | 0.52    | 0.07    | 0.59    | 0.50    | 0.18    | 0.09     |\n",
    "| 3  | 0.72    | 0.62    | 0.10    | -0.31   | 0.40    | 0.01    | 0.64    | 0.55    | 0.22    | 0.15     |\n",
    "| 4  | 0.11    | 0.33    | 0.05    | -0.12   | 0.60    | 0.08    | 0.55    | 0.47    | 0.12    | 0.02     |\n",
    "| 5  | 0.90    | 0.79    | 0.20    | -0.40   | 0.33    | -0.02   | 0.69    | 0.61    | 0.28    | 0.19     |\n",
    "| 6  | 0.77    | 0.68    | 0.13    | -0.25   | 0.49    | 0.00    | 0.60    | 0.53    | 0.24    | 0.13     |\n",
    "| 7  | 0.36    | 0.41    | 0.07    | -0.15   | 0.57    | 0.05    | 0.58    | 0.48    | 0.16    | 0.10     |\n",
    "| 8  | 0.80    | 0.70    | 0.17    | -0.28   | 0.42    | 0.02    | 0.63    | 0.56    | 0.26    | 0.18     |\n",
    "| 9  | 0.39    | 0.50    | 0.09    | -0.20   | 0.55    | 0.06    | 0.57    | 0.49    | 0.20    | 0.11     |\n",
    "| 10 | 0.85    | 0.73    | 0.18    | -0.35   | 0.38    | 0.01    | 0.67    | 0.60    | 0.27    | 0.17     |\n",
    "\n",
    "**¿En cuál dataset se pueden aplicar métodos de Aprendizaje supervizado y en cuál métodos de Aprendizaje no supervizado?** \n",
    "\n",
    "En el primer dataset utilizariamos un metodo de aprendizaje supervisado porque en la misma tabla nos esta diciendo a que etiqueta corresponde, ya sea wake, REM, NREM, etc. Mientras que en el segundo dataset tendriamos que utilizar un metodo de aprendizaje no supervisado porque unicamente tenemos los datos crudos sin ninguna etiqueta."
   ]
  },
  {
   "cell_type": "markdown",
   "id": "3808b37c-fee5-458b-b67f-a1f2518066a8",
   "metadata": {},
   "source": [
    "**3. ¿Cuál es la diferencia entre un problema de clasificación y uno de regresión?**\n",
    "\n",
    "En un problema de clasificacion entrenariamos a nuestro modelo para que una vez entregados los datos este se encargue de agruparlos de acuerdo a ciertas caracteristicas *(la informacion que nos arrojaria seria: tal valor pertenece a tal grupo)*. Por el contrario, un problema de regresion lo que hara sera darme un valor aproximado que el mismo logro calcular a partir de la informacion que le proporcionamos con anterioridad *(la informacion que nos arrojaria seria: a tal numero/valor le corresponde tal numero/valor)*."
   ]
  },
  {
   "cell_type": "markdown",
   "id": "d4325ac0-1360-4f40-a28a-9319432b09f4",
   "metadata": {},
   "source": [
    "**4. ¿Cuál es la diferencia entre over-fitting y under-fitting?**\n",
    "\n",
    "- **El underfitting** ocurre cuando nuestros datos no son lo suficientemente robustos, en otras palabras, nos falta informacion y datos para poder entrenar correctamente nuestro modelo. Aqui lo que sucedera es que tanto en el entrenamiento como en las pruebas nuestros resultados seran inexactos, le seran desconocidas muchas entradas y tendra que trabajar con lo que tiene y muy probablemente se equivoque.\n",
    "- **El overfitting** es todo lo contrario, aqui nuestro entrenamiento tendra un exceso de datos, estaremos sobrecargando de datos. Aqui lo que ocurrira sera que durante el entrenamiento nuestros resultados tendran muy poco error e inlcuso podrian salir perfectos, pero a la hora de querer hacer las pruebas nuestros resultados ahora tendran mucho margen de eeror."
   ]
  },
  {
   "cell_type": "markdown",
   "id": "90ece0c8-e168-4e79-914f-b64c19fe7415",
   "metadata": {},
   "source": [
    "5. Observa la siguiente tabla con valores de accuracy en los dataset de entrenamiento y prueba\n",
    "\n",
    "| Ensayo | Accuracy Entrenamiento | Accuracy Prueba|\n",
    "| ------- | ---------------------- | ---------------|\n",
    "| 1       | 99%                    | 70%             |\n",
    "| 2       | 60%                    | 58%             |\n",
    "| 3       | 65%                    | 62%             |\n",
    "| 4       | 95%                    | 68%             |\n",
    "| 5       | 92%                    | 90%             |\n",
    "| 6       | 100%                   | 60%             |\n",
    "\n",
    "**Basado en los valores anteriores, ¿qué ensayo dirías que corresponde a casos con over-fitting, under-fitting o balanceado?**\n",
    "1. OVERFITTING\n",
    "2. UNDERFITTING\n",
    "3. UNDERFITTING\n",
    "4. OVERFITTING\n",
    "5. BALANCEADO\n",
    "6. OVERFITTING"
   ]
  },
  {
   "attachments": {},
   "cell_type": "markdown",
   "id": "4dd88221-0d38-407f-9281-5d2193be986c",
   "metadata": {},
   "source": [
    "6. Contesta lo siguiente\n",
    "\n",
    "    **A.  Escribe las fórmulas de accuracy, precision, recall y f1-score**\n",
    "    \n",
    "- Accuracy: (TP + TN) / (TP + FP + FN + TN)\n",
    "- Precision: (TP) / (TP + FP)\n",
    "- Recall: (TP) / (TP + FN)\n",
    "- F1-score: (2TP) / (2TP + FN + FP)\n",
    "   \n",
    "    **B.  Con base a la siguiente tabla, calcula accuracy, precision, recall y f1-score**\n",
    "\n",
    "|                   | Predicho Positivo | Predicho Negativo |\n",
    "| ----------------- | ----------------- | ----------------- |\n",
    "| **Real Positivo** | TP = 40           | FN = 10           |\n",
    "| **Real Negativo** | FP = 5            | TN = 45           |\n",
    "\n",
    "- Accuracy: 85 / 100 = 0.85\n",
    "- Precision: 40 / 45 = 0.88\n",
    "- Recall: 40 / 50 = 0.8\n",
    "- F1-score: 80 / 95 = 0.84\n",
    "\n",
    "    **C. A continuación tienes 3 descripciones de métricas en un problema de clasificación, indica a qué metrica corresponde**\n",
    "| Descripción  | Métrica |\n",
    "| ----------------- |  ----------------- |\n",
    "| Proporción de predicciones correctas (tanto positivas como negativas) sobre el total de predicciones realizadas. |Accuracy|\n",
    "| Porcentaje de verdaderos positivos identificados correctamente, respecto al total de positivos reales. |Recall|\n",
    "| Porcentaje de aciertos entre los casos que el modelo predijo como positivos. |Precision|\n"
   ]
  },
  {
   "cell_type": "markdown",
   "id": "736806df-c173-429f-93ff-35fd7bd20155",
   "metadata": {},
   "source": [
    "**7. A continuación se presentan varias características de algoritmos de Machine Learning supervisado.\n",
    "Indica a qué método corresponde cada una de las siguientes afirmaciones:**\n",
    "\n",
    "A) **Análisis Discriminante:** (1, 11, 7)\n",
    "\n",
    "B) **Vecino más cercano (k-NN):** (8, 2, 5)\n",
    "\n",
    "C) **Máquina de soporte vectorial (SVM):** (3, 6, 12)\n",
    "\n",
    "D) **Árbol de decisión:** (4, 10, 14)\n",
    "\n",
    "E) **Bosques aleatorios:** (9, 13, 15)\n",
    "\n",
    "| Nº | Característica                                                                                   | ¿A qué método pertenece?        |\n",
    "| -- | ------------------------------------------------------------------------------------------------ | ------------------------------- |\n",
    "| 1 o| Asume que los datos de cada clase siguen una distribución normal (gaussiana)                     | |\n",
    "| 2 o| No tiene fase de entrenamiento como tal; toda la predicción ocurre en tiempo real                | |\n",
    "| 3 o| Busca el hiperplano que maximiza el margen entre clases                                          | |\n",
    "| 4 o| Realiza múltiples divisiones binarias para clasificar los datos                                  | |\n",
    "| 5 o| Es sensible a la escala de las características, especialmente cuando se usa distancia euclidiana | |\n",
    "| 6 o| Utiliza funciones núcleo (kernel) para trabajar con datos no lineales                            | |\n",
    "| 7 o| Calcula la probabilidad de pertenencia a una clase bajo modelos estadísticos                     | |\n",
    "| 8 o| Clasifica observaciones comparándolas con las más cercanas en el espacio de características      | |\n",
    "| 9 o| Utiliza múltiples árboles para reducir la varianza y mejorar la precisión                        | |\n",
    "| 10 o| Puede sobreajustar fácilmente si el árbol es muy profundo                                       | |\n",
    "| 11 o| Su versión más simple se basa en modelos lineales con varianzas iguales por clase               | |\n",
    "| 12 o| Puede usar núcleos como RBF o polinomiales para separar clases de manera no lineal              | |\n",
    "| 13 o| Tiende a mejorar la generalización comparado con un solo árbol                                  | |\n",
    "| 14 o| Es altamente interpretativo cuando se trabaja con dos clases y pocos atributos                   | |\n",
    "| 15 o| Es una combinación de muchos árboles construidos sobre subconjuntos aleatorios del conjunto de entrenamiento    | |\n"
   ]
  },
  {
   "cell_type": "markdown",
   "id": "bf603654-e3c7-4711-8be6-35ae4902fd8b",
   "metadata": {},
   "source": [
    "**8. ¿Cuál es la diferencia entre Perceptron, Red Neuronal Artificial y Red Neuronal Convolucional?**\n",
    "\n",
    "El preceptron hace referencia a una neurona artificial, es decir, la unidad básica de una red neuronal. En este sentido, las redes neuronales artificiales y las convolucionales son un conjunto de perceptrones.\n",
    "\n",
    "Ahora, la principal diferencia entre una red neuronal artificial y una convolucional es que la primera no está diseñada para procesar datos con estructura espacial o temporal, como imágenes o secuencias de texto. Mientras que la convolucional si, ya que estas son utilizadas en tareas como clasificación de imágenes, detección de objetos, segmentación y reconocimiento facial."
   ]
  },
  {
   "cell_type": "markdown",
   "id": "b819f562-bab7-4d72-888b-9c23d9011da3",
   "metadata": {},
   "source": [
    "**9. En el contexto de aprendizaje de una red neuronal, ¿qué es un epoch?**\n",
    "Se trata de un algoritmo de aprendizaje iterativo que utiliza un conjunto de datos de entrenamiento para actualizar y optimizar un modelo de red neuronal."
   ]
  },
  {
   "cell_type": "markdown",
   "id": "345ab87c-2cea-485c-b1df-5607b4581ddf",
   "metadata": {},
   "source": [
    "**10. Lista las principales funciones de activación y describe la diferencia entre las funciones sigmoid y softmax**"
   ]
  },
  {
   "cell_type": "markdown",
   "id": "97bf08a9",
   "metadata": {},
   "source": [
    "- Sigmoide\n",
    "- Tangente hiperbólica\n",
    "- Rectified Linear Unit\n",
    "- Softmax\n",
    "\n",
    "La principal diferencia entre sigmoid y softmax es que el primero tiende a utilizarse mas para tareas o metodos de clasificacion binaria, es decir, dos opciones. Por el contrario softmax se utiliza para problemas multiclase asignando probabilidades a cada clase para una clasificacion (al final debe dar 1)."
   ]
  }
 ],
 "metadata": {
  "kernelspec": {
   "display_name": "Python 3 (ipykernel)",
   "language": "python",
   "name": "python3"
  },
  "language_info": {
   "codemirror_mode": {
    "name": "ipython",
    "version": 3
   },
   "file_extension": ".py",
   "mimetype": "text/x-python",
   "name": "python",
   "nbconvert_exporter": "python",
   "pygments_lexer": "ipython3",
   "version": "3.11.2"
  }
 },
 "nbformat": 4,
 "nbformat_minor": 5
}
