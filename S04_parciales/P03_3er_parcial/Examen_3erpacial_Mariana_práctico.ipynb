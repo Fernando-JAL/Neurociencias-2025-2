{
 "cells": [
  {
   "cell_type": "code",
   "execution_count": 125,
   "id": "8f13315a",
   "metadata": {},
   "outputs": [],
   "source": [
    "import pandas as pd\n",
    "import os\n",
    "from PIL import Image\n",
    "import numpy as np\n",
    "from sklearn.model_selection import train_test_split\n",
    "from tensorflow.keras.utils import to_categorical\n",
    "import numpy as np\n",
    "import tensorflow as tf\n",
    "import numpy as np\n",
    "import matplotlib.pyplot as plt\n",
    "from sklearn.preprocessing import StandardScaler\n",
    "\n",
    "from tensorflow.keras.models import Sequential\n",
    "from tensorflow.keras.layers import Conv2D, MaxPooling2D, Flatten, Dense, Dropout, BatchNormalization\n",
    "from tensorflow.keras.optimizers import Adam\n",
    "from tensorflow.keras.layers import LeakyReLU\n",
    "from sklearn.model_selection import train_test_split\n",
    "from tensorflow.keras.preprocessing.image import ImageDataGenerator\n",
    "from sklearn.svm import SVC\n",
    "from sklearn.ensemble import RandomForestClassifier\n",
    "from sklearn.neighbors import KNeighborsClassifier\n",
    "from sklearn.metrics import accuracy_score, precision_score, recall_score, f1_score\n",
    "from sklearn.preprocessing import StandardScaler\n",
    "from tensorflow.keras.models import load_model\n"
   ]
  },
  {
   "cell_type": "code",
   "execution_count": 62,
   "id": "cf8ef51a",
   "metadata": {},
   "outputs": [],
   "source": [
    "test_dir = \"/Users/marianazuniga/Documents/GitHub/Neurociencias-2025-2/S03_datasets/Brain_tumor/TEST\"\n",
    "train_dir = \"/Users/marianazuniga/Documents/GitHub/Neurociencias-2025-2/S03_datasets/Brain_tumor/TRAIN\"\n",
    "val_dir =\"/Users/marianazuniga/Documents/GitHub/Neurociencias-2025-2/S03_datasets/Brain_tumor/VAL\"\n",
    "df = pd.read_csv(\"/Users/marianazuniga/Documents/GitHub/Neurociencias-2025-2/S03_datasets/Brain_tumor/Brain Tumor.csv\")\n",
    "\n"
   ]
  },
  {
   "cell_type": "code",
   "execution_count": null,
   "id": "7582ef60",
   "metadata": {},
   "outputs": [
    {
     "name": "stdout",
     "output_type": "stream",
     "text": [
      "\n",
      "Total de imágenes en TRAIN: 2633\n",
      "Total de imágenes en VAL: 565\n",
      "Total de imágenes en TEST: 564\n"
     ]
    },
    {
     "name": "stderr",
     "output_type": "stream",
     "text": [
      "/var/folders/51/q0m3j69d6rz8zc1pdvfkk6tm0000gn/T/ipykernel_51907/791560658.py:15: SettingWithCopyWarning: \n",
      "A value is trying to be set on a copy of a slice from a DataFrame.\n",
      "Try using .loc[row_indexer,col_indexer] = value instead\n",
      "\n",
      "See the caveats in the documentation: https://pandas.pydata.org/pandas-docs/stable/user_guide/indexing.html#returning-a-view-versus-a-copy\n",
      "  df_train['Class'] = df_train['Class'].astype(str)\n",
      "/var/folders/51/q0m3j69d6rz8zc1pdvfkk6tm0000gn/T/ipykernel_51907/791560658.py:16: SettingWithCopyWarning: \n",
      "A value is trying to be set on a copy of a slice from a DataFrame.\n",
      "Try using .loc[row_indexer,col_indexer] = value instead\n",
      "\n",
      "See the caveats in the documentation: https://pandas.pydata.org/pandas-docs/stable/user_guide/indexing.html#returning-a-view-versus-a-copy\n",
      "  df_val['Class'] = df_val['Class'].astype(str)\n",
      "/var/folders/51/q0m3j69d6rz8zc1pdvfkk6tm0000gn/T/ipykernel_51907/791560658.py:17: SettingWithCopyWarning: \n",
      "A value is trying to be set on a copy of a slice from a DataFrame.\n",
      "Try using .loc[row_indexer,col_indexer] = value instead\n",
      "\n",
      "See the caveats in the documentation: https://pandas.pydata.org/pandas-docs/stable/user_guide/indexing.html#returning-a-view-versus-a-copy\n",
      "  df_test['Class'] = df_test['Class'].astype(str)\n"
     ]
    }
   ],
   "source": [
    "\n",
    "df['Image'] = df['Image'] + '.jpg'\n",
    "\n",
    "# Función para filtrar DataFrame según directorio\n",
    "def filter_df(directory, df):\n",
    "    available_files = set(os.listdir(directory))  \n",
    "    return df[df['Image'].isin(available_files)]\n",
    "\n",
    "# Filtrar cada conjunto\n",
    "df_train = filter_df(train_dir, df)\n",
    "df_val = filter_df(val_dir, df)\n",
    "df_test = filter_df(test_dir, df)\n",
    "\n",
    "df_train['Class'] = df_train['Class'].astype(str)\n",
    "df_val['Class'] = df_val['Class'].astype(str)\n",
    "df_test['Class'] = df_test['Class'].astype(str)\n",
    "\n",
    "# Imprimir resultados\n",
    "print(\"\\nTotal de imágenes en TRAIN:\", len(df_train))\n",
    "print(\"Total de imágenes en VAL:\", len(df_val))\n",
    "print(\"Total de imágenes en TEST:\", len(df_test))"
   ]
  },
  {
   "cell_type": "code",
   "execution_count": 109,
   "id": "dfe5494b",
   "metadata": {},
   "outputs": [
    {
     "name": "stdout",
     "output_type": "stream",
     "text": [
      "Found 2633 validated image filenames belonging to 2 classes.\n",
      "Found 565 validated image filenames belonging to 2 classes.\n",
      "Found 564 validated image filenames belonging to 2 classes.\n"
     ]
    }
   ],
   "source": [
    "\n",
    "# Generadores\n",
    "train_datagen = ImageDataGenerator(\n",
    "    rescale=1./255,\n",
    "    rotation_range=20,\n",
    "    width_shift_range=0.2,\n",
    "    height_shift_range=0.2,\n",
    "    shear_range=0.2,\n",
    "    zoom_range=0.2,\n",
    "    horizontal_flip=True,\n",
    "    fill_mode='nearest'\n",
    "\n",
    ")\n",
    "\n",
    "test_val_datagen = ImageDataGenerator(rescale=1./255)\n",
    "\n",
    "# Parámetros comunes\n",
    "target_size = (150, 150)\n",
    "batch_size = 32\n",
    "\n",
    "# Crear generadores\n",
    "train_generator = train_datagen.flow_from_dataframe(\n",
    "    dataframe=df_train,\n",
    "    directory=train_dir,\n",
    "    x_col='Image',\n",
    "    y_col='Class',\n",
    "    target_size=target_size,\n",
    "    batch_size=batch_size,\n",
    "    class_mode='binary'\n",
    ")\n",
    "\n",
    "val_generator = test_val_datagen.flow_from_dataframe(\n",
    "    dataframe=df_val,\n",
    "    directory=val_dir,\n",
    "    x_col='Image',\n",
    "    y_col='Class',\n",
    "    target_size=target_size,\n",
    "    batch_size=batch_size,\n",
    "    class_mode='binary',\n",
    "    shuffle=False\n",
    ")\n",
    "\n",
    "test_generator = test_val_datagen.flow_from_dataframe(\n",
    "    dataframe=df_test,\n",
    "    directory=test_dir,\n",
    "    x_col='Image',\n",
    "    y_col='Class',\n",
    "    target_size=target_size,\n",
    "    batch_size=batch_size,\n",
    "    class_mode='binary',\n",
    "    shuffle=False\n",
    ")"
   ]
  },
  {
   "cell_type": "markdown",
   "id": "6ccccacc",
   "metadata": {},
   "source": [
    "**Modelo de CNN**"
   ]
  },
  {
   "cell_type": "code",
   "execution_count": 110,
   "id": "2cde1945",
   "metadata": {},
   "outputs": [
    {
     "name": "stderr",
     "output_type": "stream",
     "text": [
      "/opt/anaconda3/lib/python3.12/site-packages/keras/src/layers/convolutional/base_conv.py:107: UserWarning: Do not pass an `input_shape`/`input_dim` argument to a layer. When using Sequential models, prefer using an `Input(shape)` object as the first layer in the model instead.\n",
      "  super().__init__(activity_regularizer=activity_regularizer, **kwargs)\n",
      "/opt/anaconda3/lib/python3.12/site-packages/keras/src/trainers/data_adapters/py_dataset_adapter.py:121: UserWarning: Your `PyDataset` class should call `super().__init__(**kwargs)` in its constructor. `**kwargs` can include `workers`, `use_multiprocessing`, `max_queue_size`. Do not pass these arguments to `fit()`, as they will be ignored.\n",
      "  self._warn_if_super_not_called()\n"
     ]
    },
    {
     "name": "stdout",
     "output_type": "stream",
     "text": [
      "Epoch 1/15\n",
      "\u001b[1m83/83\u001b[0m \u001b[32m━━━━━━━━━━━━━━━━━━━━\u001b[0m\u001b[37m\u001b[0m \u001b[1m24s\u001b[0m 273ms/step - accuracy: 0.6229 - loss: 0.6400 - precision_22: 0.5948 - recall_22: 0.5463 - val_accuracy: 0.7823 - val_loss: 0.4856 - val_precision_22: 0.9118 - val_recall_22: 0.5277\n",
      "Epoch 2/15\n",
      "\u001b[1m83/83\u001b[0m \u001b[32m━━━━━━━━━━━━━━━━━━━━\u001b[0m\u001b[37m\u001b[0m \u001b[1m24s\u001b[0m 286ms/step - accuracy: 0.7730 - loss: 0.4861 - precision_22: 0.7394 - recall_22: 0.7626 - val_accuracy: 0.7947 - val_loss: 0.4804 - val_precision_22: 0.9685 - val_recall_22: 0.5234\n",
      "Epoch 3/15\n",
      "\u001b[1m83/83\u001b[0m \u001b[32m━━━━━━━━━━━━━━━━━━━━\u001b[0m\u001b[37m\u001b[0m \u001b[1m27s\u001b[0m 328ms/step - accuracy: 0.7957 - loss: 0.4531 - precision_22: 0.7904 - recall_22: 0.7413 - val_accuracy: 0.7912 - val_loss: 0.5174 - val_precision_22: 0.9333 - val_recall_22: 0.5362\n",
      "Epoch 4/15\n",
      "\u001b[1m83/83\u001b[0m \u001b[32m━━━━━━━━━━━━━━━━━━━━\u001b[0m\u001b[37m\u001b[0m \u001b[1m31s\u001b[0m 373ms/step - accuracy: 0.8030 - loss: 0.4352 - precision_22: 0.7789 - recall_22: 0.8055 - val_accuracy: 0.7752 - val_loss: 0.5609 - val_precision_22: 0.9737 - val_recall_22: 0.4723\n",
      "Epoch 5/15\n",
      "\u001b[1m83/83\u001b[0m \u001b[32m━━━━━━━━━━━━━━━━━━━━\u001b[0m\u001b[37m\u001b[0m \u001b[1m27s\u001b[0m 322ms/step - accuracy: 0.8306 - loss: 0.3926 - precision_22: 0.8103 - recall_22: 0.8127 - val_accuracy: 0.8035 - val_loss: 0.5207 - val_precision_22: 0.9627 - val_recall_22: 0.5489\n",
      "Epoch 6/15\n",
      "\u001b[1m83/83\u001b[0m \u001b[32m━━━━━━━━━━━━━━━━━━━━\u001b[0m\u001b[37m\u001b[0m \u001b[1m28s\u001b[0m 330ms/step - accuracy: 0.8408 - loss: 0.3672 - precision_22: 0.8209 - recall_22: 0.8096 - val_accuracy: 0.8460 - val_loss: 0.3509 - val_precision_22: 0.8458 - val_recall_22: 0.7702\n",
      "Epoch 7/15\n",
      "\u001b[1m83/83\u001b[0m \u001b[32m━━━━━━━━━━━━━━━━━━━━\u001b[0m\u001b[37m\u001b[0m \u001b[1m28s\u001b[0m 335ms/step - accuracy: 0.8116 - loss: 0.4134 - precision_22: 0.7914 - recall_22: 0.8020 - val_accuracy: 0.8212 - val_loss: 0.4336 - val_precision_22: 0.9241 - val_recall_22: 0.6213\n",
      "Epoch 8/15\n",
      "\u001b[1m83/83\u001b[0m \u001b[32m━━━━━━━━━━━━━━━━━━━━\u001b[0m\u001b[37m\u001b[0m \u001b[1m27s\u001b[0m 322ms/step - accuracy: 0.8321 - loss: 0.3949 - precision_22: 0.8161 - recall_22: 0.7913 - val_accuracy: 0.8212 - val_loss: 0.4830 - val_precision_22: 0.9589 - val_recall_22: 0.5957\n",
      "Epoch 9/15\n",
      "\u001b[1m83/83\u001b[0m \u001b[32m━━━━━━━━━━━━━━━━━━━━\u001b[0m\u001b[37m\u001b[0m \u001b[1m28s\u001b[0m 339ms/step - accuracy: 0.8259 - loss: 0.3803 - precision_22: 0.8249 - recall_22: 0.7973 - val_accuracy: 0.8301 - val_loss: 0.4057 - val_precision_22: 0.9484 - val_recall_22: 0.6255\n",
      "Epoch 10/15\n",
      "\u001b[1m83/83\u001b[0m \u001b[32m━━━━━━━━━━━━━━━━━━━━\u001b[0m\u001b[37m\u001b[0m \u001b[1m30s\u001b[0m 364ms/step - accuracy: 0.8421 - loss: 0.3658 - precision_22: 0.8516 - recall_22: 0.7939 - val_accuracy: 0.8407 - val_loss: 0.3787 - val_precision_22: 0.9240 - val_recall_22: 0.6723\n",
      "Epoch 11/15\n",
      "\u001b[1m83/83\u001b[0m \u001b[32m━━━━━━━━━━━━━━━━━━━━\u001b[0m\u001b[37m\u001b[0m \u001b[1m28s\u001b[0m 334ms/step - accuracy: 0.8518 - loss: 0.3482 - precision_22: 0.8547 - recall_22: 0.8214 - val_accuracy: 0.8195 - val_loss: 0.4714 - val_precision_22: 0.9524 - val_recall_22: 0.5957\n",
      "Epoch 12/15\n",
      "\u001b[1m83/83\u001b[0m \u001b[32m━━━━━━━━━━━━━━━━━━━━\u001b[0m\u001b[37m\u001b[0m \u001b[1m28s\u001b[0m 333ms/step - accuracy: 0.8455 - loss: 0.3470 - precision_22: 0.8422 - recall_22: 0.8084 - val_accuracy: 0.8336 - val_loss: 0.4107 - val_precision_22: 0.9548 - val_recall_22: 0.6298\n",
      "Epoch 13/15\n",
      "\u001b[1m83/83\u001b[0m \u001b[32m━━━━━━━━━━━━━━━━━━━━\u001b[0m\u001b[37m\u001b[0m \u001b[1m30s\u001b[0m 360ms/step - accuracy: 0.8460 - loss: 0.3489 - precision_22: 0.8446 - recall_22: 0.8059 - val_accuracy: 0.8496 - val_loss: 0.3439 - val_precision_22: 0.9121 - val_recall_22: 0.7064\n",
      "Epoch 14/15\n",
      "\u001b[1m83/83\u001b[0m \u001b[32m━━━━━━━━━━━━━━━━━━━━\u001b[0m\u001b[37m\u001b[0m \u001b[1m29s\u001b[0m 352ms/step - accuracy: 0.8482 - loss: 0.3535 - precision_22: 0.8414 - recall_22: 0.8151 - val_accuracy: 0.8549 - val_loss: 0.3243 - val_precision_22: 0.8964 - val_recall_22: 0.7362\n",
      "Epoch 15/15\n",
      "\u001b[1m83/83\u001b[0m \u001b[32m━━━━━━━━━━━━━━━━━━━━\u001b[0m\u001b[37m\u001b[0m \u001b[1m30s\u001b[0m 356ms/step - accuracy: 0.8461 - loss: 0.3480 - precision_22: 0.8519 - recall_22: 0.8035 - val_accuracy: 0.8566 - val_loss: 0.3359 - val_precision_22: 0.9278 - val_recall_22: 0.7106\n"
     ]
    }
   ],
   "source": [
    "model = Sequential([\n",
    "    Conv2D(32, (3, 3), activation='relu', input_shape=(150, 150, 3)),\n",
    "    MaxPooling2D(2, 2),\n",
    "    \n",
    "    Conv2D(64, (3, 3), activation='relu'),\n",
    "    MaxPooling2D(2, 2),\n",
    "    \n",
    "    Conv2D(128, (3, 3), activation='relu'),\n",
    "    MaxPooling2D(2, 2),\n",
    "    \n",
    "    Flatten(),\n",
    "    Dense(256, activation='relu'),\n",
    "    Dropout(0.5),\n",
    "    Dense(1, activation='sigmoid') \n",
    "])\n",
    "\n",
    "model.compile(\n",
    "    optimizer='adam',\n",
    "    loss='binary_crossentropy',\n",
    "    metrics=['accuracy', tf.keras.metrics.Precision(), tf.keras.metrics.Recall()]\n",
    ")\n",
    "\n",
    "history = model.fit(\n",
    "    train_generator,\n",
    "    steps_per_epoch=len(train_generator),\n",
    "    epochs=15,\n",
    "    validation_data=val_generator,\n",
    "    validation_steps=len(val_generator)\n",
    ")"
   ]
  },
  {
   "cell_type": "code",
   "execution_count": 111,
   "id": "b18fe06b",
   "metadata": {},
   "outputs": [
    {
     "name": "stderr",
     "output_type": "stream",
     "text": [
      "/opt/anaconda3/lib/python3.12/site-packages/keras/src/trainers/data_adapters/py_dataset_adapter.py:121: UserWarning: Your `PyDataset` class should call `super().__init__(**kwargs)` in its constructor. `**kwargs` can include `workers`, `use_multiprocessing`, `max_queue_size`. Do not pass these arguments to `fit()`, as they will be ignored.\n",
      "  self._warn_if_super_not_called()\n"
     ]
    },
    {
     "name": "stdout",
     "output_type": "stream",
     "text": [
      "\u001b[1m18/18\u001b[0m \u001b[32m━━━━━━━━━━━━━━━━━━━━\u001b[0m\u001b[37m\u001b[0m \u001b[1m1s\u001b[0m 63ms/step - accuracy: 0.8897 - loss: 0.2631 - precision_22: 0.9287 - recall_22: 0.7735\n",
      "Test Accuracy: 0.86, Precision: 0.93, Recall: 0.75\n"
     ]
    }
   ],
   "source": [
    "# Evaluar con el conjunto de test\n",
    "test_loss, test_acc, test_prec, test_rec = model.evaluate(test_generator)\n",
    "print(f\"Test Accuracy: {test_acc:.2f}, Precision: {test_prec:.2f}, Recall: {test_rec:.2f}\")\n"
   ]
  },
  {
   "cell_type": "markdown",
   "id": "dde6892e",
   "metadata": {},
   "source": [
    "Es un buen acuracy, pero se puede mejorar "
   ]
  },
  {
   "cell_type": "markdown",
   "id": "d5ac6cdf",
   "metadata": {},
   "source": [
    "**Mejorar el accuracy ***\n"
   ]
  },
  {
   "cell_type": "code",
   "execution_count": null,
   "id": "c5b82b46",
   "metadata": {},
   "outputs": [
    {
     "name": "stderr",
     "output_type": "stream",
     "text": [
      "/opt/anaconda3/lib/python3.12/site-packages/keras/src/layers/convolutional/base_conv.py:107: UserWarning: Do not pass an `input_shape`/`input_dim` argument to a layer. When using Sequential models, prefer using an `Input(shape)` object as the first layer in the model instead.\n",
      "  super().__init__(activity_regularizer=activity_regularizer, **kwargs)\n"
     ]
    }
   ],
   "source": [
    "model_2 = Sequential([\n",
    "    # Bloque 1 - Captura bordes y texturas\n",
    "    Conv2D(32, (3, 3), activation='relu', input_shape=(150, 150, 3), padding='same'),\n",
    "    BatchNormalization(),\n",
    "    MaxPooling2D(2, 2),\n",
    "    Dropout(0.1),\n",
    "    \n",
    "    # Bloque 2 - Detecta patrones simples\n",
    "    Conv2D(64, (3, 3), activation='relu' , padding='same'),\n",
    "    BatchNormalization(),\n",
    "    Conv2D(64, (3, 3), activation='relu', padding='same'),\n",
    "    MaxPooling2D(2, 2),\n",
    "    Dropout(0.2),\n",
    "    \n",
    "    # Bloque 3 - Reconoce estructuras complejas\n",
    "    Conv2D(128, (3, 3), activation='relu', padding='same'),\n",
    "    BatchNormalization(),\n",
    "    Conv2D(128, (3, 3), activation='relu', padding='same'),\n",
    "    MaxPooling2D(2, 2),\n",
    "    Dropout(0.3),\n",
    "    \n",
    "    \n",
    "    # Clasificación\n",
    "    Flatten(),\n",
    "    Dense(512, activation='relu'),\n",
    "    Dropout(0.5),\n",
    "    Dense(1, activation='sigmoid')\n",
    "])\n",
    "\n",
    "model_2.compile(\n",
    "optimizer=Adam(learning_rate=0.0001),\n",
    "    loss='binary_crossentropy',\n",
    "    metrics=['accuracy', \n",
    "             tf.keras.metrics.Precision(name='precision'),\n",
    "             tf.keras.metrics.Recall(name='recall')]\n",
    ")"
   ]
  },
  {
   "cell_type": "code",
   "execution_count": 132,
   "id": "a129eef9",
   "metadata": {},
   "outputs": [
    {
     "name": "stdout",
     "output_type": "stream",
     "text": [
      "Epoch 1/15\n",
      "\u001b[1m83/83\u001b[0m \u001b[32m━━━━━━━━━━━━━━━━━━━━\u001b[0m\u001b[37m\u001b[0m \u001b[1m79s\u001b[0m 955ms/step - accuracy: 0.7867 - loss: 0.4632 - precision: 0.7735 - recall: 0.7401 - val_accuracy: 0.4159 - val_loss: 2.3300 - val_precision: 0.4159 - val_recall: 1.0000\n",
      "Epoch 2/15\n",
      "\u001b[1m83/83\u001b[0m \u001b[32m━━━━━━━━━━━━━━━━━━━━\u001b[0m\u001b[37m\u001b[0m \u001b[1m82s\u001b[0m 991ms/step - accuracy: 0.7948 - loss: 0.4553 - precision: 0.7683 - recall: 0.7680 - val_accuracy: 0.4159 - val_loss: 3.6183 - val_precision: 0.4159 - val_recall: 1.0000\n",
      "Epoch 3/15\n",
      "\u001b[1m83/83\u001b[0m \u001b[32m━━━━━━━━━━━━━━━━━━━━\u001b[0m\u001b[37m\u001b[0m \u001b[1m82s\u001b[0m 981ms/step - accuracy: 0.8047 - loss: 0.4193 - precision: 0.7976 - recall: 0.7796 - val_accuracy: 0.4159 - val_loss: 4.6940 - val_precision: 0.4159 - val_recall: 1.0000\n",
      "Epoch 4/15\n",
      "\u001b[1m83/83\u001b[0m \u001b[32m━━━━━━━━━━━━━━━━━━━━\u001b[0m\u001b[37m\u001b[0m \u001b[1m79s\u001b[0m 947ms/step - accuracy: 0.8423 - loss: 0.3591 - precision: 0.8274 - recall: 0.8225 - val_accuracy: 0.4159 - val_loss: 4.4770 - val_precision: 0.4159 - val_recall: 1.0000\n",
      "Epoch 5/15\n",
      "\u001b[1m83/83\u001b[0m \u001b[32m━━━━━━━━━━━━━━━━━━━━\u001b[0m\u001b[37m\u001b[0m \u001b[1m96s\u001b[0m 1s/step - accuracy: 0.8182 - loss: 0.3961 - precision: 0.7981 - recall: 0.8092 - val_accuracy: 0.4159 - val_loss: 3.3170 - val_precision: 0.4159 - val_recall: 1.0000\n",
      "Epoch 6/15\n",
      "\u001b[1m83/83\u001b[0m \u001b[32m━━━━━━━━━━━━━━━━━━━━\u001b[0m\u001b[37m\u001b[0m \u001b[1m85s\u001b[0m 1s/step - accuracy: 0.8306 - loss: 0.4023 - precision: 0.8209 - recall: 0.8222 - val_accuracy: 0.4159 - val_loss: 2.1752 - val_precision: 0.4159 - val_recall: 1.0000\n",
      "Epoch 7/15\n",
      "\u001b[1m83/83\u001b[0m \u001b[32m━━━━━━━━━━━━━━━━━━━━\u001b[0m\u001b[37m\u001b[0m \u001b[1m93s\u001b[0m 1s/step - accuracy: 0.8196 - loss: 0.3963 - precision: 0.8064 - recall: 0.7974 - val_accuracy: 0.4177 - val_loss: 1.0379 - val_precision: 0.4167 - val_recall: 1.0000\n",
      "Epoch 8/15\n",
      "\u001b[1m83/83\u001b[0m \u001b[32m━━━━━━━━━━━━━━━━━━━━\u001b[0m\u001b[37m\u001b[0m \u001b[1m107s\u001b[0m 1s/step - accuracy: 0.8256 - loss: 0.3916 - precision: 0.8041 - recall: 0.8273 - val_accuracy: 0.4442 - val_loss: 0.8140 - val_precision: 0.4278 - val_recall: 0.9957\n",
      "Epoch 9/15\n",
      "\u001b[1m83/83\u001b[0m \u001b[32m━━━━━━━━━━━━━━━━━━━━\u001b[0m\u001b[37m\u001b[0m \u001b[1m95s\u001b[0m 1s/step - accuracy: 0.8357 - loss: 0.3754 - precision: 0.8198 - recall: 0.8204 - val_accuracy: 0.6018 - val_loss: 0.5908 - val_precision: 0.5111 - val_recall: 0.9830\n",
      "Epoch 10/15\n",
      "\u001b[1m83/83\u001b[0m \u001b[32m━━━━━━━━━━━━━━━━━━━━\u001b[0m\u001b[37m\u001b[0m \u001b[1m93s\u001b[0m 1s/step - accuracy: 0.8298 - loss: 0.3824 - precision: 0.8124 - recall: 0.8182 - val_accuracy: 0.7982 - val_loss: 0.4516 - val_precision: 0.6945 - val_recall: 0.9191\n",
      "Epoch 11/15\n",
      "\u001b[1m83/83\u001b[0m \u001b[32m━━━━━━━━━━━━━━━━━━━━\u001b[0m\u001b[37m\u001b[0m \u001b[1m96s\u001b[0m 1s/step - accuracy: 0.8431 - loss: 0.3641 - precision: 0.8230 - recall: 0.8215 - val_accuracy: 0.5699 - val_loss: 0.6291 - val_precision: 0.4916 - val_recall: 0.9957\n",
      "Epoch 12/15\n",
      "\u001b[1m83/83\u001b[0m \u001b[32m━━━━━━━━━━━━━━━━━━━━\u001b[0m\u001b[37m\u001b[0m \u001b[1m102s\u001b[0m 1s/step - accuracy: 0.8537 - loss: 0.3499 - precision: 0.8220 - recall: 0.8410 - val_accuracy: 0.8018 - val_loss: 0.4289 - val_precision: 0.6892 - val_recall: 0.9532\n",
      "Epoch 13/15\n",
      "\u001b[1m83/83\u001b[0m \u001b[32m━━━━━━━━━━━━━━━━━━━━\u001b[0m\u001b[37m\u001b[0m \u001b[1m100s\u001b[0m 1s/step - accuracy: 0.8546 - loss: 0.3465 - precision: 0.8208 - recall: 0.8544 - val_accuracy: 0.8088 - val_loss: 0.4033 - val_precision: 0.7213 - val_recall: 0.8809\n",
      "Epoch 14/15\n",
      "\u001b[1m83/83\u001b[0m \u001b[32m━━━━━━━━━━━━━━━━━━━━\u001b[0m\u001b[37m\u001b[0m \u001b[1m98s\u001b[0m 1s/step - accuracy: 0.8682 - loss: 0.3196 - precision: 0.8595 - recall: 0.8440 - val_accuracy: 0.7735 - val_loss: 0.4370 - val_precision: 0.6588 - val_recall: 0.9447\n",
      "Epoch 15/15\n",
      "\u001b[1m83/83\u001b[0m \u001b[32m━━━━━━━━━━━━━━━━━━━━\u001b[0m\u001b[37m\u001b[0m \u001b[1m96s\u001b[0m 1s/step - accuracy: 0.8521 - loss: 0.3528 - precision: 0.8468 - recall: 0.8288 - val_accuracy: 0.6265 - val_loss: 0.5496 - val_precision: 0.5275 - val_recall: 0.9787\n"
     ]
    }
   ],
   "source": [
    "history = model_2.fit(\n",
    "    train_generator,\n",
    "    steps_per_epoch=len(train_generator),\n",
    "    epochs=15,  # Más épocas por mayor profundidad\n",
    "    validation_data=val_generator,\n",
    "    validation_steps=len(val_generator),\n",
    "    \n",
    "    )"
   ]
  },
  {
   "cell_type": "code",
   "execution_count": 133,
   "id": "3b65549d",
   "metadata": {},
   "outputs": [
    {
     "name": "stdout",
     "output_type": "stream",
     "text": [
      "\u001b[1m18/18\u001b[0m \u001b[32m━━━━━━━━━━━━━━━━━━━━\u001b[0m\u001b[37m\u001b[0m \u001b[1m3s\u001b[0m 160ms/step - accuracy: 0.5978 - loss: 0.5997 - precision: 0.4871 - recall: 0.9966\n",
      "Test Accuracy: 0.66, Precision: 0.58, Recall: 1.00\n"
     ]
    }
   ],
   "source": [
    "# Evaluar con el conjunto de test\n",
    "test_loss, test_acc, test_prec, test_rec = model_2.evaluate(test_generator)\n",
    "print(f\"Test Accuracy: {test_acc:.2f}, Precision: {test_prec:.2f}, Recall: {test_rec:.2f}\")\n"
   ]
  },
  {
   "cell_type": "markdown",
   "id": "578cc4d3",
   "metadata": {},
   "source": [
    "Comporar CNN con modelos anteriores"
   ]
  },
  {
   "cell_type": "markdown",
   "id": "bc496ac9",
   "metadata": {},
   "source": [
    "Cada bloque contiene capas Conv2D con activación ReLU, BatchNormalization para estabilizar el entrenamiento, MaxPooling2D para reducir dimensiones espaciales y Dropout para prevenir sobreajuste (con tasas progresivas de 0.1 a 0.3). La red finaliza con una capa Flatten para aplanar los datos, seguida de dos capas Dense (512 neuronas con ReLU y 1 neurona con sigmoide para la salida binaria). El modelo se compila con el optimizador Adam (tasa de aprendizaje 0.0001), función de pérdida binary_crossentropy y métricas de accuracy, precisión y recall."
   ]
  },
  {
   "cell_type": "code",
   "execution_count": 127,
   "id": "9ba9e806",
   "metadata": {},
   "outputs": [
    {
     "name": "stdout",
     "output_type": "stream",
     "text": [
      "\n",
      "🔨 Entrenando modelos clásicos...\n",
      "SVM entrenado\n",
      "Random Forest entrenado\n",
      "KNN entrenado\n"
     ]
    }
   ],
   "source": [
    "def extract_features(generator):\n",
    "    features, labels = [], []\n",
    "    for i in range(len(generator)):\n",
    "        batch_x, batch_y = generator[i]\n",
    "        features.extend(batch_x)\n",
    "        labels.extend(batch_y)\n",
    "    return np.array(features), np.array(labels)\n",
    "\n",
    "# Extraer datos de train y test\n",
    "X_train, y_train = extract_features(train_generator)\n",
    "X_test, y_test = extract_features(test_generator)\n",
    "\n",
    "# Aplanar imágenes para modelos clásicos\n",
    "X_train_flat = X_train.reshape(X_train.shape[0], -1)\n",
    "X_test_flat = X_test.reshape(X_test.shape[0], -1)\n",
    "\n",
    "# Escalar datos\n",
    "scaler = StandardScaler()\n",
    "X_train_scaled = scaler.fit_transform(X_train_flat)\n",
    "X_test_scaled = scaler.transform(X_test_flat)\n",
    "\n",
    "# 5. Entrenar modelos clásicos\n",
    "models = {\n",
    "    \"SVM\": SVC(kernel='rbf', C=1.0, probability=True, random_state=42),\n",
    "    \"Random Forest\": RandomForestClassifier(n_estimators=150, max_depth=12, random_state=42),\n",
    "    \"KNN\": KNeighborsClassifier(n_neighbors=7, metric='minkowski')\n",
    "}\n",
    "\n",
    "print(\"\\n🔨 Entrenando modelos clásicos...\")\n",
    "for name, model in models.items():\n",
    "    model.fit(X_train_scaled, y_train)\n",
    "    print(f\"{name} entrenado\")\n",
    "\n",
    "# 6. Evaluar modelo_v2 CNN y modelos clásicos\n",
    "results = {}\n",
    "\n",
    "\n"
   ]
  },
  {
   "cell_type": "code",
   "execution_count": 131,
   "id": "879984ad",
   "metadata": {},
   "outputs": [
    {
     "ename": "OSError",
     "evalue": "[Errno 30] Read-only file system: '/comparacion_modelos_tumores.png'",
     "output_type": "error",
     "traceback": [
      "\u001b[0;31m---------------------------------------------------------------------------\u001b[0m",
      "\u001b[0;31mOSError\u001b[0m                                   Traceback (most recent call last)",
      "Cell \u001b[0;32mIn[131], line 47\u001b[0m\n\u001b[1;32m     40\u001b[0m         ax\u001b[38;5;241m.\u001b[39mtext(x[j] \u001b[38;5;241m+\u001b[39m i\u001b[38;5;241m*\u001b[39mwidth, height \u001b[38;5;241m+\u001b[39m \u001b[38;5;241m0.02\u001b[39m, \n\u001b[1;32m     41\u001b[0m                 \u001b[38;5;124mf\u001b[39m\u001b[38;5;124m'\u001b[39m\u001b[38;5;132;01m{\u001b[39;00mheight\u001b[38;5;132;01m:\u001b[39;00m\u001b[38;5;124m.2f\u001b[39m\u001b[38;5;132;01m}\u001b[39;00m\u001b[38;5;124m'\u001b[39m, \n\u001b[1;32m     42\u001b[0m                 ha\u001b[38;5;241m=\u001b[39m\u001b[38;5;124m'\u001b[39m\u001b[38;5;124mcenter\u001b[39m\u001b[38;5;124m'\u001b[39m, \n\u001b[1;32m     43\u001b[0m                 va\u001b[38;5;241m=\u001b[39m\u001b[38;5;124m'\u001b[39m\u001b[38;5;124mbottom\u001b[39m\u001b[38;5;124m'\u001b[39m,\n\u001b[1;32m     44\u001b[0m                 fontsize\u001b[38;5;241m=\u001b[39m\u001b[38;5;241m9\u001b[39m)\n\u001b[1;32m     46\u001b[0m plt\u001b[38;5;241m.\u001b[39mtight_layout()\n\u001b[0;32m---> 47\u001b[0m plt\u001b[38;5;241m.\u001b[39msavefig(\u001b[38;5;124m'\u001b[39m\u001b[38;5;124mcomparacion_modelos_tumores.png\u001b[39m\u001b[38;5;124m'\u001b[39m, dpi\u001b[38;5;241m=\u001b[39m\u001b[38;5;241m300\u001b[39m, bbox_inches\u001b[38;5;241m=\u001b[39m\u001b[38;5;124m'\u001b[39m\u001b[38;5;124mtight\u001b[39m\u001b[38;5;124m'\u001b[39m)\n\u001b[1;32m     48\u001b[0m plt\u001b[38;5;241m.\u001b[39mshow()\n",
      "File \u001b[0;32m/opt/anaconda3/lib/python3.12/site-packages/matplotlib/pyplot.py:1134\u001b[0m, in \u001b[0;36msavefig\u001b[0;34m(*args, **kwargs)\u001b[0m\n\u001b[1;32m   1131\u001b[0m fig \u001b[38;5;241m=\u001b[39m gcf()\n\u001b[1;32m   1132\u001b[0m \u001b[38;5;66;03m# savefig default implementation has no return, so mypy is unhappy\u001b[39;00m\n\u001b[1;32m   1133\u001b[0m \u001b[38;5;66;03m# presumably this is here because subclasses can return?\u001b[39;00m\n\u001b[0;32m-> 1134\u001b[0m res \u001b[38;5;241m=\u001b[39m fig\u001b[38;5;241m.\u001b[39msavefig(\u001b[38;5;241m*\u001b[39margs, \u001b[38;5;241m*\u001b[39m\u001b[38;5;241m*\u001b[39mkwargs)  \u001b[38;5;66;03m# type: ignore[func-returns-value]\u001b[39;00m\n\u001b[1;32m   1135\u001b[0m fig\u001b[38;5;241m.\u001b[39mcanvas\u001b[38;5;241m.\u001b[39mdraw_idle()  \u001b[38;5;66;03m# Need this if 'transparent=True', to reset colors.\u001b[39;00m\n\u001b[1;32m   1136\u001b[0m \u001b[38;5;28;01mreturn\u001b[39;00m res\n",
      "File \u001b[0;32m/opt/anaconda3/lib/python3.12/site-packages/matplotlib/figure.py:3390\u001b[0m, in \u001b[0;36mFigure.savefig\u001b[0;34m(self, fname, transparent, **kwargs)\u001b[0m\n\u001b[1;32m   3388\u001b[0m     \u001b[38;5;28;01mfor\u001b[39;00m ax \u001b[38;5;129;01min\u001b[39;00m \u001b[38;5;28mself\u001b[39m\u001b[38;5;241m.\u001b[39maxes:\n\u001b[1;32m   3389\u001b[0m         _recursively_make_axes_transparent(stack, ax)\n\u001b[0;32m-> 3390\u001b[0m \u001b[38;5;28mself\u001b[39m\u001b[38;5;241m.\u001b[39mcanvas\u001b[38;5;241m.\u001b[39mprint_figure(fname, \u001b[38;5;241m*\u001b[39m\u001b[38;5;241m*\u001b[39mkwargs)\n",
      "File \u001b[0;32m/opt/anaconda3/lib/python3.12/site-packages/matplotlib/backend_bases.py:2193\u001b[0m, in \u001b[0;36mFigureCanvasBase.print_figure\u001b[0;34m(self, filename, dpi, facecolor, edgecolor, orientation, format, bbox_inches, pad_inches, bbox_extra_artists, backend, **kwargs)\u001b[0m\n\u001b[1;32m   2189\u001b[0m \u001b[38;5;28;01mtry\u001b[39;00m:\n\u001b[1;32m   2190\u001b[0m     \u001b[38;5;66;03m# _get_renderer may change the figure dpi (as vector formats\u001b[39;00m\n\u001b[1;32m   2191\u001b[0m     \u001b[38;5;66;03m# force the figure dpi to 72), so we need to set it again here.\u001b[39;00m\n\u001b[1;32m   2192\u001b[0m     \u001b[38;5;28;01mwith\u001b[39;00m cbook\u001b[38;5;241m.\u001b[39m_setattr_cm(\u001b[38;5;28mself\u001b[39m\u001b[38;5;241m.\u001b[39mfigure, dpi\u001b[38;5;241m=\u001b[39mdpi):\n\u001b[0;32m-> 2193\u001b[0m         result \u001b[38;5;241m=\u001b[39m print_method(\n\u001b[1;32m   2194\u001b[0m             filename,\n\u001b[1;32m   2195\u001b[0m             facecolor\u001b[38;5;241m=\u001b[39mfacecolor,\n\u001b[1;32m   2196\u001b[0m             edgecolor\u001b[38;5;241m=\u001b[39medgecolor,\n\u001b[1;32m   2197\u001b[0m             orientation\u001b[38;5;241m=\u001b[39morientation,\n\u001b[1;32m   2198\u001b[0m             bbox_inches_restore\u001b[38;5;241m=\u001b[39m_bbox_inches_restore,\n\u001b[1;32m   2199\u001b[0m             \u001b[38;5;241m*\u001b[39m\u001b[38;5;241m*\u001b[39mkwargs)\n\u001b[1;32m   2200\u001b[0m \u001b[38;5;28;01mfinally\u001b[39;00m:\n\u001b[1;32m   2201\u001b[0m     \u001b[38;5;28;01mif\u001b[39;00m bbox_inches \u001b[38;5;129;01mand\u001b[39;00m restore_bbox:\n",
      "File \u001b[0;32m/opt/anaconda3/lib/python3.12/site-packages/matplotlib/backend_bases.py:2043\u001b[0m, in \u001b[0;36mFigureCanvasBase._switch_canvas_and_return_print_method.<locals>.<lambda>\u001b[0;34m(*args, **kwargs)\u001b[0m\n\u001b[1;32m   2039\u001b[0m     optional_kws \u001b[38;5;241m=\u001b[39m {  \u001b[38;5;66;03m# Passed by print_figure for other renderers.\u001b[39;00m\n\u001b[1;32m   2040\u001b[0m         \u001b[38;5;124m\"\u001b[39m\u001b[38;5;124mdpi\u001b[39m\u001b[38;5;124m\"\u001b[39m, \u001b[38;5;124m\"\u001b[39m\u001b[38;5;124mfacecolor\u001b[39m\u001b[38;5;124m\"\u001b[39m, \u001b[38;5;124m\"\u001b[39m\u001b[38;5;124medgecolor\u001b[39m\u001b[38;5;124m\"\u001b[39m, \u001b[38;5;124m\"\u001b[39m\u001b[38;5;124morientation\u001b[39m\u001b[38;5;124m\"\u001b[39m,\n\u001b[1;32m   2041\u001b[0m         \u001b[38;5;124m\"\u001b[39m\u001b[38;5;124mbbox_inches_restore\u001b[39m\u001b[38;5;124m\"\u001b[39m}\n\u001b[1;32m   2042\u001b[0m     skip \u001b[38;5;241m=\u001b[39m optional_kws \u001b[38;5;241m-\u001b[39m {\u001b[38;5;241m*\u001b[39minspect\u001b[38;5;241m.\u001b[39msignature(meth)\u001b[38;5;241m.\u001b[39mparameters}\n\u001b[0;32m-> 2043\u001b[0m     print_method \u001b[38;5;241m=\u001b[39m functools\u001b[38;5;241m.\u001b[39mwraps(meth)(\u001b[38;5;28;01mlambda\u001b[39;00m \u001b[38;5;241m*\u001b[39margs, \u001b[38;5;241m*\u001b[39m\u001b[38;5;241m*\u001b[39mkwargs: meth(\n\u001b[1;32m   2044\u001b[0m         \u001b[38;5;241m*\u001b[39margs, \u001b[38;5;241m*\u001b[39m\u001b[38;5;241m*\u001b[39m{k: v \u001b[38;5;28;01mfor\u001b[39;00m k, v \u001b[38;5;129;01min\u001b[39;00m kwargs\u001b[38;5;241m.\u001b[39mitems() \u001b[38;5;28;01mif\u001b[39;00m k \u001b[38;5;129;01mnot\u001b[39;00m \u001b[38;5;129;01min\u001b[39;00m skip}))\n\u001b[1;32m   2045\u001b[0m \u001b[38;5;28;01melse\u001b[39;00m:  \u001b[38;5;66;03m# Let third-parties do as they see fit.\u001b[39;00m\n\u001b[1;32m   2046\u001b[0m     print_method \u001b[38;5;241m=\u001b[39m meth\n",
      "File \u001b[0;32m/opt/anaconda3/lib/python3.12/site-packages/matplotlib/backends/backend_agg.py:497\u001b[0m, in \u001b[0;36mFigureCanvasAgg.print_png\u001b[0;34m(self, filename_or_obj, metadata, pil_kwargs)\u001b[0m\n\u001b[1;32m    450\u001b[0m \u001b[38;5;28;01mdef\u001b[39;00m \u001b[38;5;21mprint_png\u001b[39m(\u001b[38;5;28mself\u001b[39m, filename_or_obj, \u001b[38;5;241m*\u001b[39m, metadata\u001b[38;5;241m=\u001b[39m\u001b[38;5;28;01mNone\u001b[39;00m, pil_kwargs\u001b[38;5;241m=\u001b[39m\u001b[38;5;28;01mNone\u001b[39;00m):\n\u001b[1;32m    451\u001b[0m \u001b[38;5;250m    \u001b[39m\u001b[38;5;124;03m\"\"\"\u001b[39;00m\n\u001b[1;32m    452\u001b[0m \u001b[38;5;124;03m    Write the figure to a PNG file.\u001b[39;00m\n\u001b[1;32m    453\u001b[0m \n\u001b[0;32m   (...)\u001b[0m\n\u001b[1;32m    495\u001b[0m \u001b[38;5;124;03m        *metadata*, including the default 'Software' key.\u001b[39;00m\n\u001b[1;32m    496\u001b[0m \u001b[38;5;124;03m    \"\"\"\u001b[39;00m\n\u001b[0;32m--> 497\u001b[0m     \u001b[38;5;28mself\u001b[39m\u001b[38;5;241m.\u001b[39m_print_pil(filename_or_obj, \u001b[38;5;124m\"\u001b[39m\u001b[38;5;124mpng\u001b[39m\u001b[38;5;124m\"\u001b[39m, pil_kwargs, metadata)\n",
      "File \u001b[0;32m/opt/anaconda3/lib/python3.12/site-packages/matplotlib/backends/backend_agg.py:446\u001b[0m, in \u001b[0;36mFigureCanvasAgg._print_pil\u001b[0;34m(self, filename_or_obj, fmt, pil_kwargs, metadata)\u001b[0m\n\u001b[1;32m    441\u001b[0m \u001b[38;5;250m\u001b[39m\u001b[38;5;124;03m\"\"\"\u001b[39;00m\n\u001b[1;32m    442\u001b[0m \u001b[38;5;124;03mDraw the canvas, then save it using `.image.imsave` (to which\u001b[39;00m\n\u001b[1;32m    443\u001b[0m \u001b[38;5;124;03m*pil_kwargs* and *metadata* are forwarded).\u001b[39;00m\n\u001b[1;32m    444\u001b[0m \u001b[38;5;124;03m\"\"\"\u001b[39;00m\n\u001b[1;32m    445\u001b[0m FigureCanvasAgg\u001b[38;5;241m.\u001b[39mdraw(\u001b[38;5;28mself\u001b[39m)\n\u001b[0;32m--> 446\u001b[0m mpl\u001b[38;5;241m.\u001b[39mimage\u001b[38;5;241m.\u001b[39mimsave(\n\u001b[1;32m    447\u001b[0m     filename_or_obj, \u001b[38;5;28mself\u001b[39m\u001b[38;5;241m.\u001b[39mbuffer_rgba(), \u001b[38;5;28mformat\u001b[39m\u001b[38;5;241m=\u001b[39mfmt, origin\u001b[38;5;241m=\u001b[39m\u001b[38;5;124m\"\u001b[39m\u001b[38;5;124mupper\u001b[39m\u001b[38;5;124m\"\u001b[39m,\n\u001b[1;32m    448\u001b[0m     dpi\u001b[38;5;241m=\u001b[39m\u001b[38;5;28mself\u001b[39m\u001b[38;5;241m.\u001b[39mfigure\u001b[38;5;241m.\u001b[39mdpi, metadata\u001b[38;5;241m=\u001b[39mmetadata, pil_kwargs\u001b[38;5;241m=\u001b[39mpil_kwargs)\n",
      "File \u001b[0;32m/opt/anaconda3/lib/python3.12/site-packages/matplotlib/image.py:1656\u001b[0m, in \u001b[0;36mimsave\u001b[0;34m(fname, arr, vmin, vmax, cmap, format, origin, dpi, metadata, pil_kwargs)\u001b[0m\n\u001b[1;32m   1654\u001b[0m pil_kwargs\u001b[38;5;241m.\u001b[39msetdefault(\u001b[38;5;124m\"\u001b[39m\u001b[38;5;124mformat\u001b[39m\u001b[38;5;124m\"\u001b[39m, \u001b[38;5;28mformat\u001b[39m)\n\u001b[1;32m   1655\u001b[0m pil_kwargs\u001b[38;5;241m.\u001b[39msetdefault(\u001b[38;5;124m\"\u001b[39m\u001b[38;5;124mdpi\u001b[39m\u001b[38;5;124m\"\u001b[39m, (dpi, dpi))\n\u001b[0;32m-> 1656\u001b[0m image\u001b[38;5;241m.\u001b[39msave(fname, \u001b[38;5;241m*\u001b[39m\u001b[38;5;241m*\u001b[39mpil_kwargs)\n",
      "File \u001b[0;32m/opt/anaconda3/lib/python3.12/site-packages/PIL/Image.py:2456\u001b[0m, in \u001b[0;36mImage.save\u001b[0;34m(self, fp, format, **params)\u001b[0m\n\u001b[1;32m   2454\u001b[0m         fp \u001b[38;5;241m=\u001b[39m builtins\u001b[38;5;241m.\u001b[39mopen(filename, \u001b[38;5;124m\"\u001b[39m\u001b[38;5;124mr+b\u001b[39m\u001b[38;5;124m\"\u001b[39m)\n\u001b[1;32m   2455\u001b[0m     \u001b[38;5;28;01melse\u001b[39;00m:\n\u001b[0;32m-> 2456\u001b[0m         fp \u001b[38;5;241m=\u001b[39m builtins\u001b[38;5;241m.\u001b[39mopen(filename, \u001b[38;5;124m\"\u001b[39m\u001b[38;5;124mw+b\u001b[39m\u001b[38;5;124m\"\u001b[39m)\n\u001b[1;32m   2458\u001b[0m \u001b[38;5;28;01mtry\u001b[39;00m:\n\u001b[1;32m   2459\u001b[0m     save_handler(\u001b[38;5;28mself\u001b[39m, fp, filename)\n",
      "\u001b[0;31mOSError\u001b[0m: [Errno 30] Read-only file system: '/comparacion_modelos_tumores.png'"
     ]
    },
    {
     "data": {
      "text/plain": [
       "<Figure size 1400x700 with 0 Axes>"
      ]
     },
     "metadata": {},
     "output_type": "display_data"
    },
    {
     "data": {
      "image/png": "[encoded data removed]",
      "text/plain": [
       "<Figure size 640x480 with 1 Axes>"
      ]
     },
     "metadata": {},
     "output_type": "display_data"
    }
   ],
   "source": [
    "# Evaluar modelos clásicos\n",
    "for name, model in models.items():\n",
    "    y_pred = model.predict(X_test_scaled)\n",
    "    results[name] = {\n",
    "        \"Accuracy\": accuracy_score(y_test, y_pred),\n",
    "        \"Precision\": precision_score(y_test, y_pred),\n",
    "        \"Recall\": recall_score(y_test, y_pred),\n",
    "        \"F1\": f1_score(y_test, y_pred)\n",
    "    }\n",
    "\n",
    "# 7. Visualización mejorada\n",
    "plt.figure(figsize=(14, 7))\n",
    "metrics = ['Accuracy', 'Precision', 'Recall', 'F1']\n",
    "colors = ['#1f77b4', '#ff7f0e', '#2ca02c', '#d62728']\n",
    "x = np.arange(len(metrics))\n",
    "width = 0.18\n",
    "\n",
    "fig, ax = plt.subplots()\n",
    "for i, (model_name, _) in enumerate(results.items()):\n",
    "    ax.bar(x + i*width, \n",
    "           [results[model_name][m] for m in metrics],\n",
    "           width, \n",
    "           label=model_name,\n",
    "           color=colors[i])\n",
    "\n",
    "ax.set_xlabel('Métricas', fontsize=12)\n",
    "ax.set_ylabel('Score', fontsize=12)\n",
    "ax.set_title('Comparación de Modelos - Dataset de Tumores Cerebrales', \n",
    "             fontsize=14, pad=20)\n",
    "ax.set_xticks(x + width*1.5)\n",
    "ax.set_xticklabels(metrics)\n",
    "ax.set_ylim(0, 1.1)\n",
    "ax.legend(bbox_to_anchor=(1.05, 1), loc='upper left')\n",
    "plt.grid(axis='y', linestyle='--', alpha=0.7)\n",
    "\n",
    "# Añadir valores en las barras\n",
    "for i, (model_name, _) in enumerate(results.items()):\n",
    "    for j, metric in enumerate(metrics):\n",
    "        height = results[model_name][metric]\n",
    "        ax.text(x[j] + i*width, height + 0.02, \n",
    "                f'{height:.2f}', \n",
    "                ha='center', \n",
    "                va='bottom',\n",
    "                fontsize=9)\n",
    "\n",
    "plt.tight_layout()\n",
    "plt.savefig('comparacion_modelos_tumores.png', dpi=300, bbox_inches='tight')\n",
    "plt.show()"
   ]
  }
 ],
 "metadata": {
  "kernelspec": {
   "display_name": "base",
   "language": "python",
   "name": "python3"
  },
  "language_info": {
   "codemirror_mode": {
    "name": "ipython",
    "version": 3
   },
   "file_extension": ".py",
   "mimetype": "text/x-python",
   "name": "python",
   "nbconvert_exporter": "python",
   "pygments_lexer": "ipython3",
   "version": "3.12.4"
  }
 },
 "nbformat": 4,
 "nbformat_minor": 5
}
