{
 "cells": [
  {
   "cell_type": "markdown",
   "id": "c9a306ff",
   "metadata": {},
   "source": [
    "# 2do examen parcial"
   ]
  },
  {
   "cell_type": "markdown",
   "id": "b7191c29",
   "metadata": {},
   "source": [
    "https://www.kaggle.com/datasets/jakeshbohaju/brain-tumor"
   ]
  },
  {
   "cell_type": "markdown",
   "id": "f858a8f4",
   "metadata": {},
   "source": [
    "Usar los métodos de ML no supervisado en: (k-means, Gaussian mixture, cluster jerárquico)\n",
    "\n",
    "1. Dataset de Coactivation matrix\n",
    "    - Utilizar el método de codo para determinar el número de cluster óptimo (adecuado)\n",
    "    - Usando el número de clusters encontrado por el método del codo, usar k-means y gaussian mixture en este dataset\n",
    "\n",
    "1. Brain tumor\n",
    "    1. Utilizar el método de codo para determinar el número de cluster óptimo (adecuado)\n",
    "    1. Utilizar 2 cluster con cada método (k-means, gaussian clusters y cluster jerárquico) y calcular la matriz de confusión de cada método usando la columna 'Class' como groundthruth\n",
    "    1. ¿qué método recomendarías para este dataset?, ¿por qué?\n",
    "\n",
    "1. De su previa investigación:\n",
    "    - qué es precision?\n",
    "    - qué es accuracy?\n",
    "    - qué es recall?\n",
    "    - qué es f1-score?\n",
    "\n",
    "1. cómo se relacionan las definiciones anteriores a la matriz de confusión?\n",
    "\n",
    "1. a partir del resultado de 2.B, calcular precision, accuracy, recall y f1-score\n"
   ]
  },
  {
   "cell_type": "code",
   "execution_count": null,
   "id": "aaad390c",
   "metadata": {},
   "outputs": [],
   "source": []
  }
 ],
 "metadata": {
  "kernelspec": {
   "display_name": "Python 3 (ipykernel)",
   "language": "python",
   "name": "python3"
  },
  "language_info": {
   "codemirror_mode": {
    "name": "ipython",
    "version": 3
   },
   "file_extension": ".py",
   "mimetype": "text/x-python",
   "name": "python",
   "nbconvert_exporter": "python",
   "pygments_lexer": "ipython3",
   "version": "3.11.2"
  }
 },
 "nbformat": 4,
 "nbformat_minor": 5
}
