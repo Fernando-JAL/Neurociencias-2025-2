{
 "cells": [
  {
   "cell_type": "markdown",
   "id": "41993dc2",
   "metadata": {},
   "source": [
    "Accuracy \n",
    "The number of correct predictions a model makes across a dataset \n",
    "Works best when false positives and false negatives have similar costs \n",
    "Precision \n",
    "The accuracy of positive predictions\n",
    "The proportion of items labeled as positive that are actually positive\n",
    "Recall \n",
    "The ability of a model to find all positive instances\n",
    "The proportion of actual positives that are correctly identified\n",
    "F1 score\n",
    "A weighted average of precision and recall \n",
    "A harmonic mean that balances the importance of precision and recall \n",
    "Usually more useful than accuracy when there is an uneven class distribution "
   ]
  },
  {
   "cell_type": "code",
   "execution_count": null,
   "id": "6d1256fa",
   "metadata": {},
   "outputs": [],
   "source": []
  }
 ],
 "metadata": {
  "kernelspec": {
   "display_name": "Python 3 (ipykernel)",
   "language": "python",
   "name": "python3"
  },
  "language_info": {
   "codemirror_mode": {
    "name": "ipython",
    "version": 3
   },
   "file_extension": ".py",
   "mimetype": "text/x-python",
   "name": "python",
   "nbconvert_exporter": "python",
   "pygments_lexer": "ipython3",
   "version": "3.9.7"
  }
 },
 "nbformat": 4,
 "nbformat_minor": 5
}
