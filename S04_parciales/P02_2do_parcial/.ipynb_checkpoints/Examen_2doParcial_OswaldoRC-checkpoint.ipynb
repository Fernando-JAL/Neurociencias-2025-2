{
 "cells": [
  {
   "cell_type": "code",
   "execution_count": null,
   "id": "1709836d-5e8f-4bcd-bbd4-7d19828a1a07",
   "metadata": {},
   "outputs": [],
   "source": []
  }
 ],
 "metadata": {
  "kernelspec": {
   "display_name": "Python 3 (ipykernel)",
   "language": "python",
   "name": "python3"
  },
  "language_info": {
   "name": ""
  }
 },
 "nbformat": 4,
 "nbformat_minor": 5
}
