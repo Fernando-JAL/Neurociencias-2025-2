{
 "cells": [
  {
   "cell_type": "markdown",
   "id": "5c61bb57",
   "metadata": {},
   "source": [
    "# 1er Parcial"
   ]
  },
  {
   "cell_type": "markdown",
   "id": "ffb549ad",
   "metadata": {},
   "source": [
    "1. Reproducir el análisis de PCA aplicado al Iris dataset, utilizando 3 componentes\n",
    "    1. Indicar el porcentaje de la información utilizando los 3 componentes principales\n",
    "    1. Hacer el scatter 3D de los datos proyectados, con cualquiera de los 3 métodos\n",
    "    \n",
    "1. Realizar el análisis de PCA utilizando el dataset Brain_tumor, archivo Brain tumor.csv\n",
    "    0. ¿Qué notan de extraño con la columna \"Coarseness\" al normalizar el dataset?\n",
    "    1. Determinar el porcentaje de aporte de cada vector propio\n",
    "    1. Determinar cuántos componentes principales son necesarios para obtener al menos un 90% de datos\n",
    "    1. Realizar la proyección de la data original al espacio reducido mediante 2 métodos y comparar resultados\n",
    "    1. Hacer la comparsión de los pairplot con la data original y la data proyectada\n",
    "    \n",
    "Nota: En el dataset Iris, la variable \"Species\" era descartada; en el dataset Brain_tumor, descartar la variable 'Class'"
   ]
  },
  {
   "cell_type": "code",
   "execution_count": null,
   "id": "e9332242",
   "metadata": {},
   "outputs": [],
   "source": []
  }
 ],
 "metadata": {
  "kernelspec": {
   "display_name": "Python 3 (ipykernel)",
   "language": "python",
   "name": "python3"
  },
  "language_info": {
   "codemirror_mode": {
    "name": "ipython",
    "version": 3
   },
   "file_extension": ".py",
   "mimetype": "text/x-python",
   "name": "python",
   "nbconvert_exporter": "python",
   "pygments_lexer": "ipython3",
   "version": "3.9.7"
  }
 },
 "nbformat": 4,
 "nbformat_minor": 5
}
