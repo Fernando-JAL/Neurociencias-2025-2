{
 "cells": [
  {
   "attachments": {},
   "cell_type": "markdown",
   "id": "e5c4a18a-f531-487d-aab5-9d70aa21c19f",
   "metadata": {},
   "source": [
    "🪟 WINDOWS: Setup Python 3.10 Virtual Environment\n",
    "✅ Step 1: Install Python 3.10\n",
    "\t1. Download Python 3.10.13 from the official site:\n",
    "🔗 https://www.python.org/downloads/release/python-31013/\n",
    "\t2. During installation:\n",
    "\t\t○ ✅ Check \"Add Python to PATH\"\n",
    "\t\t○ ✅ Choose \"Customize installation\" → Enable pip\n",
    "\t\t○ ✅ Proceed with the installation\n",
    "\n",
    "\n",
    "✅ Step 2: Create Virtual Environment\n",
    "Open Command Prompt (CMD):\n",
    "\n",
    "python --version         # Should say Python 3.10.x\n",
    "\n",
    "python -m venv dl_env\n",
    "\n",
    "✅ Step 3: Activate the Virtual Environment\n",
    "\n",
    "dl_env\\Scripts\\activate\n",
    "\n",
    "✅ Step 4: Install Required Packages\n",
    "Make sure requirements.txt is in the same directory. Then run:\n",
    "\n",
    "pip install --upgrade pip\n",
    "\n",
    "pip install -r requirements.txt\n",
    "\n",
    "✅ Step 5: Add to Jupyter\n",
    "\n",
    "pip install ipykernel jupyter\n",
    "\n",
    "python -m ipykernel install --user --name=dl_env --display-name \"Python (dl_env)\"\n",
    "\n",
    "jupyter notebook"
   ]
  },
  {
   "cell_type": "code",
   "execution_count": null,
   "id": "3343e794-741d-4272-affe-a42b5e84c1a5",
   "metadata": {},
   "outputs": [],
   "source": []
  }
 ],
 "metadata": {
  "kernelspec": {
   "display_name": "Python 3 (ipykernel)",
   "language": "python",
   "name": "python3"
  },
  "language_info": {
   "codemirror_mode": {
    "name": "ipython",
    "version": 3
   },
   "file_extension": ".py",
   "mimetype": "text/x-python",
   "name": "python",
   "nbconvert_exporter": "python",
   "pygments_lexer": "ipython3",
   "version": "3.10.4"
  }
 },
 "nbformat": 4,
 "nbformat_minor": 5
}
